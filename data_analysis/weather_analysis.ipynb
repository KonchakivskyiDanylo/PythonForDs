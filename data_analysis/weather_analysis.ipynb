{
 "cells": [
  {
   "metadata": {},
   "cell_type": "markdown",
   "source": "Import necessary libraries",
   "id": "d909050e02a6a237"
  },
  {
   "cell_type": "code",
   "id": "initial_id",
   "metadata": {
    "collapsed": true,
    "ExecuteTime": {
     "end_time": "2025-04-09T11:43:14.322422Z",
     "start_time": "2025-04-09T11:43:14.316636Z"
    }
   },
   "source": [
    "import pandas as pd\n",
    "import matplotlib.pyplot as plt\n",
    "import seaborn as sns\n",
    "import numpy as np"
   ],
   "outputs": [],
   "execution_count": 1
  },
  {
   "metadata": {
    "ExecuteTime": {
     "end_time": "2025-04-09T11:45:12.995733Z",
     "start_time": "2025-04-09T11:45:07.172433Z"
    }
   },
   "cell_type": "code",
   "source": "weather = pd.read_csv(\"../data/weather.csv\")",
   "id": "65daef71e526f3f5",
   "outputs": [],
   "execution_count": 3
  },
  {
   "metadata": {
    "ExecuteTime": {
     "end_time": "2025-04-09T11:51:14.863496Z",
     "start_time": "2025-04-09T11:51:14.822138Z"
    }
   },
   "cell_type": "code",
   "source": "weather.head()",
   "id": "9d018f5f3403f370",
   "outputs": [
    {
     "data": {
      "text/plain": [
       "   city_latitude  city_longitude           city_resolvedAddress  \\\n",
       "0        50.7469         25.3263  Луцьк, Луцький район, Україна   \n",
       "1        50.7469         25.3263  Луцьк, Луцький район, Україна   \n",
       "2        50.7469         25.3263  Луцьк, Луцький район, Україна   \n",
       "3        50.7469         25.3263  Луцьк, Луцький район, Україна   \n",
       "4        50.7469         25.3263  Луцьк, Луцький район, Україна   \n",
       "\n",
       "    city_address city_timezone  city_tzoffset  day_datetimeEpoch  day_tempmax  \\\n",
       "0  Lutsk,Ukraine   Europe/Kiev            2.0         1645653600          4.9   \n",
       "1  Lutsk,Ukraine   Europe/Kiev            2.0         1645653600          4.9   \n",
       "2  Lutsk,Ukraine   Europe/Kiev            2.0         1645653600          4.9   \n",
       "3  Lutsk,Ukraine   Europe/Kiev            2.0         1645653600          4.9   \n",
       "4  Lutsk,Ukraine   Europe/Kiev            2.0         1645653600          4.9   \n",
       "\n",
       "   day_tempmin  day_temp  ...  hour_solarradiation  hour_solarenergy  \\\n",
       "0          0.7       2.6  ...                  0.0               NaN   \n",
       "1          0.7       2.6  ...                  0.0               NaN   \n",
       "2          0.7       2.6  ...                  NaN               NaN   \n",
       "3          0.7       2.6  ...                  0.0               NaN   \n",
       "4          0.7       2.6  ...                  0.0               NaN   \n",
       "\n",
       "   hour_uvindex   hour_conditions  hour_icon  hour_source  hour_stations  \\\n",
       "0           0.0          Overcast       snow          obs         remote   \n",
       "1           0.0  Partially cloudy        fog          obs         remote   \n",
       "2           NaN          Overcast     cloudy          obs    33177099999   \n",
       "3           0.0          Overcast        fog          obs         remote   \n",
       "4           0.0          Overcast     cloudy          obs         remote   \n",
       "\n",
       "             datetime    sunrise_datetime     sunset_datetime  \n",
       "0 2022-02-24 00:00:00 2022-02-24 07:13:36 2022-02-24 17:51:06  \n",
       "1 2022-02-24 01:00:00 2022-02-24 07:13:36 2022-02-24 17:51:06  \n",
       "2 2022-02-24 02:00:00 2022-02-24 07:13:36 2022-02-24 17:51:06  \n",
       "3 2022-02-24 03:00:00 2022-02-24 07:13:36 2022-02-24 17:51:06  \n",
       "4 2022-02-24 04:00:00 2022-02-24 07:13:36 2022-02-24 17:51:06  \n",
       "\n",
       "[5 rows x 64 columns]"
      ],
      "text/html": [
       "<div>\n",
       "<style scoped>\n",
       "    .dataframe tbody tr th:only-of-type {\n",
       "        vertical-align: middle;\n",
       "    }\n",
       "\n",
       "    .dataframe tbody tr th {\n",
       "        vertical-align: top;\n",
       "    }\n",
       "\n",
       "    .dataframe thead th {\n",
       "        text-align: right;\n",
       "    }\n",
       "</style>\n",
       "<table border=\"1\" class=\"dataframe\">\n",
       "  <thead>\n",
       "    <tr style=\"text-align: right;\">\n",
       "      <th></th>\n",
       "      <th>city_latitude</th>\n",
       "      <th>city_longitude</th>\n",
       "      <th>city_resolvedAddress</th>\n",
       "      <th>city_address</th>\n",
       "      <th>city_timezone</th>\n",
       "      <th>city_tzoffset</th>\n",
       "      <th>day_datetimeEpoch</th>\n",
       "      <th>day_tempmax</th>\n",
       "      <th>day_tempmin</th>\n",
       "      <th>day_temp</th>\n",
       "      <th>...</th>\n",
       "      <th>hour_solarradiation</th>\n",
       "      <th>hour_solarenergy</th>\n",
       "      <th>hour_uvindex</th>\n",
       "      <th>hour_conditions</th>\n",
       "      <th>hour_icon</th>\n",
       "      <th>hour_source</th>\n",
       "      <th>hour_stations</th>\n",
       "      <th>datetime</th>\n",
       "      <th>sunrise_datetime</th>\n",
       "      <th>sunset_datetime</th>\n",
       "    </tr>\n",
       "  </thead>\n",
       "  <tbody>\n",
       "    <tr>\n",
       "      <th>0</th>\n",
       "      <td>50.7469</td>\n",
       "      <td>25.3263</td>\n",
       "      <td>Луцьк, Луцький район, Україна</td>\n",
       "      <td>Lutsk,Ukraine</td>\n",
       "      <td>Europe/Kiev</td>\n",
       "      <td>2.0</td>\n",
       "      <td>1645653600</td>\n",
       "      <td>4.9</td>\n",
       "      <td>0.7</td>\n",
       "      <td>2.6</td>\n",
       "      <td>...</td>\n",
       "      <td>0.0</td>\n",
       "      <td>NaN</td>\n",
       "      <td>0.0</td>\n",
       "      <td>Overcast</td>\n",
       "      <td>snow</td>\n",
       "      <td>obs</td>\n",
       "      <td>remote</td>\n",
       "      <td>2022-02-24 00:00:00</td>\n",
       "      <td>2022-02-24 07:13:36</td>\n",
       "      <td>2022-02-24 17:51:06</td>\n",
       "    </tr>\n",
       "    <tr>\n",
       "      <th>1</th>\n",
       "      <td>50.7469</td>\n",
       "      <td>25.3263</td>\n",
       "      <td>Луцьк, Луцький район, Україна</td>\n",
       "      <td>Lutsk,Ukraine</td>\n",
       "      <td>Europe/Kiev</td>\n",
       "      <td>2.0</td>\n",
       "      <td>1645653600</td>\n",
       "      <td>4.9</td>\n",
       "      <td>0.7</td>\n",
       "      <td>2.6</td>\n",
       "      <td>...</td>\n",
       "      <td>0.0</td>\n",
       "      <td>NaN</td>\n",
       "      <td>0.0</td>\n",
       "      <td>Partially cloudy</td>\n",
       "      <td>fog</td>\n",
       "      <td>obs</td>\n",
       "      <td>remote</td>\n",
       "      <td>2022-02-24 01:00:00</td>\n",
       "      <td>2022-02-24 07:13:36</td>\n",
       "      <td>2022-02-24 17:51:06</td>\n",
       "    </tr>\n",
       "    <tr>\n",
       "      <th>2</th>\n",
       "      <td>50.7469</td>\n",
       "      <td>25.3263</td>\n",
       "      <td>Луцьк, Луцький район, Україна</td>\n",
       "      <td>Lutsk,Ukraine</td>\n",
       "      <td>Europe/Kiev</td>\n",
       "      <td>2.0</td>\n",
       "      <td>1645653600</td>\n",
       "      <td>4.9</td>\n",
       "      <td>0.7</td>\n",
       "      <td>2.6</td>\n",
       "      <td>...</td>\n",
       "      <td>NaN</td>\n",
       "      <td>NaN</td>\n",
       "      <td>NaN</td>\n",
       "      <td>Overcast</td>\n",
       "      <td>cloudy</td>\n",
       "      <td>obs</td>\n",
       "      <td>33177099999</td>\n",
       "      <td>2022-02-24 02:00:00</td>\n",
       "      <td>2022-02-24 07:13:36</td>\n",
       "      <td>2022-02-24 17:51:06</td>\n",
       "    </tr>\n",
       "    <tr>\n",
       "      <th>3</th>\n",
       "      <td>50.7469</td>\n",
       "      <td>25.3263</td>\n",
       "      <td>Луцьк, Луцький район, Україна</td>\n",
       "      <td>Lutsk,Ukraine</td>\n",
       "      <td>Europe/Kiev</td>\n",
       "      <td>2.0</td>\n",
       "      <td>1645653600</td>\n",
       "      <td>4.9</td>\n",
       "      <td>0.7</td>\n",
       "      <td>2.6</td>\n",
       "      <td>...</td>\n",
       "      <td>0.0</td>\n",
       "      <td>NaN</td>\n",
       "      <td>0.0</td>\n",
       "      <td>Overcast</td>\n",
       "      <td>fog</td>\n",
       "      <td>obs</td>\n",
       "      <td>remote</td>\n",
       "      <td>2022-02-24 03:00:00</td>\n",
       "      <td>2022-02-24 07:13:36</td>\n",
       "      <td>2022-02-24 17:51:06</td>\n",
       "    </tr>\n",
       "    <tr>\n",
       "      <th>4</th>\n",
       "      <td>50.7469</td>\n",
       "      <td>25.3263</td>\n",
       "      <td>Луцьк, Луцький район, Україна</td>\n",
       "      <td>Lutsk,Ukraine</td>\n",
       "      <td>Europe/Kiev</td>\n",
       "      <td>2.0</td>\n",
       "      <td>1645653600</td>\n",
       "      <td>4.9</td>\n",
       "      <td>0.7</td>\n",
       "      <td>2.6</td>\n",
       "      <td>...</td>\n",
       "      <td>0.0</td>\n",
       "      <td>NaN</td>\n",
       "      <td>0.0</td>\n",
       "      <td>Overcast</td>\n",
       "      <td>cloudy</td>\n",
       "      <td>obs</td>\n",
       "      <td>remote</td>\n",
       "      <td>2022-02-24 04:00:00</td>\n",
       "      <td>2022-02-24 07:13:36</td>\n",
       "      <td>2022-02-24 17:51:06</td>\n",
       "    </tr>\n",
       "  </tbody>\n",
       "</table>\n",
       "<p>5 rows × 64 columns</p>\n",
       "</div>"
      ]
     },
     "execution_count": 8,
     "metadata": {},
     "output_type": "execute_result"
    }
   ],
   "execution_count": 8
  },
  {
   "metadata": {},
   "cell_type": "markdown",
   "source": [
    "# Analyze Data\n",
    "\n",
    "## Weather Dataset"
   ],
   "id": "a18c695a3acbb714"
  },
  {
   "metadata": {},
   "cell_type": "markdown",
   "source": "### Weather Dataset Overview\n",
   "id": "968307c73e12213d"
  },
  {
   "metadata": {
    "ExecuteTime": {
     "end_time": "2025-04-09T11:45:15.718133Z",
     "start_time": "2025-04-09T11:45:15.127416Z"
    }
   },
   "cell_type": "code",
   "source": "weather.info()",
   "id": "bc80174dd8f337d7",
   "outputs": [
    {
     "name": "stdout",
     "output_type": "stream",
     "text": [
      "<class 'pandas.core.frame.DataFrame'>\n",
      "RangeIndex: 608304 entries, 0 to 608303\n",
      "Data columns (total 65 columns):\n",
      " #   Column                Non-Null Count   Dtype  \n",
      "---  ------                --------------   -----  \n",
      " 0   city_latitude         608304 non-null  float64\n",
      " 1   city_longitude        608304 non-null  float64\n",
      " 2   city_resolvedAddress  608304 non-null  object \n",
      " 3   city_address          608304 non-null  object \n",
      " 4   city_timezone         608304 non-null  object \n",
      " 5   city_tzoffset         608304 non-null  float64\n",
      " 6   day_datetime          608304 non-null  object \n",
      " 7   day_datetimeEpoch     608304 non-null  int64  \n",
      " 8   day_tempmax           608304 non-null  float64\n",
      " 9   day_tempmin           608304 non-null  float64\n",
      " 10  day_temp              608304 non-null  float64\n",
      " 11  day_feelslikemax      608304 non-null  float64\n",
      " 12  day_feelslikemin      608304 non-null  float64\n",
      " 13  day_feelslike         608304 non-null  float64\n",
      " 14  day_dew               608304 non-null  float64\n",
      " 15  day_humidity          608304 non-null  float64\n",
      " 16  day_precip            608304 non-null  float64\n",
      " 17  day_precipprob        608304 non-null  float64\n",
      " 18  day_precipcover       608304 non-null  float64\n",
      " 19  day_snow              608304 non-null  float64\n",
      " 20  day_snowdepth         608304 non-null  float64\n",
      " 21  day_windgust          608304 non-null  float64\n",
      " 22  day_windspeed         608304 non-null  float64\n",
      " 23  day_winddir           608304 non-null  float64\n",
      " 24  day_pressure          608304 non-null  float64\n",
      " 25  day_cloudcover        608304 non-null  float64\n",
      " 26  day_visibility        552952 non-null  float64\n",
      " 27  day_solarradiation    607752 non-null  float64\n",
      " 28  day_solarenergy       607752 non-null  float64\n",
      " 29  day_uvindex           607752 non-null  float64\n",
      " 30  day_sunrise           608304 non-null  object \n",
      " 31  day_sunriseEpoch      608304 non-null  int64  \n",
      " 32  day_sunset            608304 non-null  object \n",
      " 33  day_sunsetEpoch       608304 non-null  int64  \n",
      " 34  day_moonphase         608304 non-null  float64\n",
      " 35  day_conditions        608304 non-null  object \n",
      " 36  day_description       608304 non-null  object \n",
      " 37  day_icon              608304 non-null  object \n",
      " 38  day_source            608304 non-null  object \n",
      " 39  day_preciptype        342087 non-null  object \n",
      " 40  day_stations          608304 non-null  object \n",
      " 41  hour_datetime         608304 non-null  object \n",
      " 42  hour_datetimeEpoch    608304 non-null  int64  \n",
      " 43  hour_temp             608304 non-null  float64\n",
      " 44  hour_feelslike        608304 non-null  float64\n",
      " 45  hour_humidity         608304 non-null  float64\n",
      " 46  hour_dew              608304 non-null  float64\n",
      " 47  hour_precip           608202 non-null  float64\n",
      " 48  hour_precipprob       608304 non-null  float64\n",
      " 49  hour_snow             608304 non-null  float64\n",
      " 50  hour_snowdepth        608304 non-null  float64\n",
      " 51  hour_preciptype       64865 non-null   object \n",
      " 52  hour_windgust         608304 non-null  float64\n",
      " 53  hour_windspeed        608304 non-null  float64\n",
      " 54  hour_winddir          608304 non-null  float64\n",
      " 55  hour_pressure         608304 non-null  float64\n",
      " 56  hour_visibility       331846 non-null  float64\n",
      " 57  hour_cloudcover       608304 non-null  float64\n",
      " 58  hour_solarradiation   603968 non-null  float64\n",
      " 59  hour_solarenergy      521042 non-null  float64\n",
      " 60  hour_uvindex          603968 non-null  float64\n",
      " 61  hour_conditions       608304 non-null  object \n",
      " 62  hour_icon             608304 non-null  object \n",
      " 63  hour_source           608304 non-null  object \n",
      " 64  hour_stations         608304 non-null  object \n",
      "dtypes: float64(43), int64(4), object(18)\n",
      "memory usage: 301.7+ MB\n"
     ]
    }
   ],
   "execution_count": 4
  },
  {
   "metadata": {},
   "cell_type": "markdown",
   "source": [
    "\n",
    "The output of `weather.info()` reveals that this dataset contains a **significant number of missing values** across multiple columns.\n",
    "\n",
    "Because of this, each column should be **individually evaluated** to determine the appropriate handling strategy:\n",
    "- **Impute missing values**\n",
    "- **Keep as-is**\n",
    "- Or **drop the column entirely**\n",
    "\n",
    "In addition, both the `day_datetime` and `hour_datetime` columns are currently stored as `object` types.\n",
    "For proper time-based analysis, we will:\n",
    "- Convert them to `datetime` format,\n",
    "- And combine them into a single unified `datetime` column to simplify processing and ensure consistency.\n",
    "\n",
    "There are also time-related columns such as `day_sunrise` and `day_sunset`, which will also be converted to proper `datetime` format."
   ],
   "id": "f106d5b4c294ab97"
  },
  {
   "metadata": {
    "ExecuteTime": {
     "end_time": "2025-04-09T11:47:16.180735Z",
     "start_time": "2025-04-09T11:47:14.812741Z"
    }
   },
   "cell_type": "code",
   "source": [
    "weather['datetime'] = pd.to_datetime(\n",
    "    weather['day_datetime'].astype(str) + ' ' + weather['hour_datetime'].astype(str),\n",
    "    format='%Y-%m-%d %H:%M:%S'\n",
    ")\n",
    "\n",
    "weather['sunrise_datetime'] = pd.to_datetime(\n",
    "    weather['day_datetime'].astype(str) + ' ' + weather['day_sunrise'].astype(str),\n",
    "    format='%Y-%m-%d %H:%M:%S'\n",
    ")\n",
    "\n",
    "weather['sunset_datetime'] = pd.to_datetime(\n",
    "    weather['day_datetime'].astype(str) + ' ' + weather['day_sunset'].astype(str),\n",
    "    format='%Y-%m-%d %H:%M:%S'\n",
    ")\n",
    "weather.drop(['day_datetime', 'hour_datetime', \"day_sunset\", \"day_sunrise\"], axis=1, inplace=True)"
   ],
   "id": "89309f010ab102af",
   "outputs": [],
   "execution_count": 5
  },
  {
   "metadata": {},
   "cell_type": "markdown",
   "source": [
    "### Understanding the Method for Handling Missing Values\n",
    "\n",
    "Before applying any filling or deletion strategy, it's important to **fully understand the context and structure** of missing data in the dataset.\n",
    "\n",
    "Our approach consists of the following steps:\n",
    "\n",
    "1. **Explore each feature**:\n",
    "   Determine the percentage and pattern of missing values in each column.\n",
    "   Some columns may have isolated gaps (suitable for filling), while others may be mostly empty (better to drop).\n",
    "\n",
    "2. **Evaluate relevance**:\n",
    "   Assess whether the column is important for further analysis or modeling.\n",
    "   Columns with low importance or no correlation may be dropped regardless of missingness.\n",
    "\n",
    "3. **Check the duration and nature of gaps**:\n",
    "   For time-series data, long gaps might require different handling than short, isolated ones.\n",
    "   Short gaps are safely fillable with **`ffill`/`bfill`**.\n",
    "\n",
    "4. **Apply missing value treatment after reviewing all features**:\n",
    "   This ensures that the method is applied **consistently across the dataset**, avoiding unnecessary fragmentation or bias.\n",
    "\n",
    "Only after this full review, we will proceed with filling or removing missing values based on the nature of each column.\n"
   ],
   "id": "7d9e5477c84b4694"
  },
  {
   "metadata": {
    "ExecuteTime": {
     "end_time": "2025-04-09T11:48:48.557268Z",
     "start_time": "2025-04-09T11:48:48.550577Z"
    }
   },
   "cell_type": "code",
   "source": [
    "def find_longest_missing_gap(df, target_column: str):\n",
    "    \"\"\"\n",
    "    Finds and prints the longest continuous time gap where the values are missing (NaN)\n",
    "    in a specified column of a DataFrame.\n",
    "\n",
    "    Parameters:\n",
    "    - df (pd.DataFrame): The dataset containing the time and target columns.\n",
    "    - target_column (str): The name of the column to check for missing values.\n",
    "\n",
    "    Returns:\n",
    "    - None. Prints the start, end, and duration of the longest missing interval.\n",
    "    \"\"\"\n",
    "\n",
    "    df = df.copy()\n",
    "    df = df.sort_values(\"datetime\")\n",
    "    missing = df[target_column].isna()\n",
    "    group_id = missing.ne(missing.shift()).cumsum()\n",
    "\n",
    "    missing_groups = df[missing].groupby(group_id)\n",
    "\n",
    "    gap_info = missing_groups[\"datetime\"].agg(['first', 'last'])\n",
    "    gap_info['duration'] = gap_info['last'] - gap_info['first']\n",
    "\n",
    "    if not gap_info.empty:\n",
    "        longest = gap_info.loc[gap_info['duration'].idxmax()]\n",
    "        print(\"Longest period with missing values in column:\", target_column)\n",
    "        print(f\"– From: {longest['first']}\")\n",
    "        print(f\"– To  : {longest['last']}\")\n",
    "    else:\n",
    "        print(f\"No missing values found in column '{target_column}'.\")"
   ],
   "id": "ff5504bc3dae1541",
   "outputs": [],
   "execution_count": 6
  },
  {
   "metadata": {},
   "cell_type": "markdown",
   "source": "#### Checking for Missing Values",
   "id": "272092232c431f7a"
  },
  {
   "metadata": {},
   "cell_type": "markdown",
   "source": "1) **Visibility**\n",
   "id": "b39cef83b04b3b7f"
  },
  {
   "metadata": {
    "ExecuteTime": {
     "end_time": "2025-04-09T11:50:09.026862Z",
     "start_time": "2025-04-09T11:50:08.067089Z"
    }
   },
   "cell_type": "code",
   "source": "find_longest_missing_gap(weather, \"day_visibility\")",
   "id": "47509d942ee711a7",
   "outputs": [
    {
     "name": "stdout",
     "output_type": "stream",
     "text": [
      "Longest period with missing values in column: day_visibility\n",
      "– From: 2024-03-31 02:00:00\n",
      "– To  : 2024-03-31 04:00:00\n"
     ]
    }
   ],
   "execution_count": 7
  },
  {
   "metadata": {},
   "cell_type": "markdown",
   "source": [
    "We can see that the longest gap in this column is just **2 hours**,\n",
    "which makes it reasonable to apply either **forward fill (`ffill`)** or **backward fill (`bfill`)** as an effective way to handle the missing values without introducing significant distortion.\n",
    "\n",
    "Additionally, we have a corresponding feature, `hour_visibility`, so let's examine that as well."
   ],
   "id": "cf2351608ad42194"
  },
  {
   "metadata": {
    "ExecuteTime": {
     "end_time": "2025-04-09T11:53:31.449793Z",
     "start_time": "2025-04-09T11:53:30.346888Z"
    }
   },
   "cell_type": "code",
   "source": "find_longest_missing_gap(weather, \"hour_visibility\")",
   "id": "58316d6df6e3b86c",
   "outputs": [
    {
     "name": "stdout",
     "output_type": "stream",
     "text": [
      "Longest period with missing values in column: hour_visibility\n",
      "– From: 2023-03-26 02:00:00\n",
      "– To  : 2023-03-26 04:00:00\n"
     ]
    }
   ],
   "execution_count": 9
  },
  {
   "metadata": {},
   "cell_type": "markdown",
   "source": "We can see that the longest gap in both columns is just **2 hours**. Let’s now check how they interact with each other.",
   "id": "ca74baa70b377eac"
  },
  {
   "metadata": {
    "ExecuteTime": {
     "end_time": "2025-04-09T11:59:22.258512Z",
     "start_time": "2025-04-09T11:59:22.215264Z"
    }
   },
   "cell_type": "code",
   "source": "weather[['datetime', \"day_visibility\", \"hour_visibility\"]]",
   "id": "34cd19daaaf9bb90",
   "outputs": [
    {
     "data": {
      "text/plain": [
       "                  datetime  day_visibility  hour_visibility\n",
       "0      2022-02-24 00:00:00            12.2              0.0\n",
       "1      2022-02-24 01:00:00            12.2              0.2\n",
       "2      2022-02-24 02:00:00            12.2             10.0\n",
       "3      2022-02-24 03:00:00            12.2              0.1\n",
       "4      2022-02-24 04:00:00            12.2              0.0\n",
       "...                    ...             ...              ...\n",
       "608299 2025-03-01 19:00:00             7.0              NaN\n",
       "608300 2025-03-01 20:00:00             7.0             10.0\n",
       "608301 2025-03-01 21:00:00             7.0              NaN\n",
       "608302 2025-03-01 22:00:00             7.0              NaN\n",
       "608303 2025-03-01 23:00:00             7.0             10.0\n",
       "\n",
       "[608304 rows x 3 columns]"
      ],
      "text/html": [
       "<div>\n",
       "<style scoped>\n",
       "    .dataframe tbody tr th:only-of-type {\n",
       "        vertical-align: middle;\n",
       "    }\n",
       "\n",
       "    .dataframe tbody tr th {\n",
       "        vertical-align: top;\n",
       "    }\n",
       "\n",
       "    .dataframe thead th {\n",
       "        text-align: right;\n",
       "    }\n",
       "</style>\n",
       "<table border=\"1\" class=\"dataframe\">\n",
       "  <thead>\n",
       "    <tr style=\"text-align: right;\">\n",
       "      <th></th>\n",
       "      <th>datetime</th>\n",
       "      <th>day_visibility</th>\n",
       "      <th>hour_visibility</th>\n",
       "    </tr>\n",
       "  </thead>\n",
       "  <tbody>\n",
       "    <tr>\n",
       "      <th>0</th>\n",
       "      <td>2022-02-24 00:00:00</td>\n",
       "      <td>12.2</td>\n",
       "      <td>0.0</td>\n",
       "    </tr>\n",
       "    <tr>\n",
       "      <th>1</th>\n",
       "      <td>2022-02-24 01:00:00</td>\n",
       "      <td>12.2</td>\n",
       "      <td>0.2</td>\n",
       "    </tr>\n",
       "    <tr>\n",
       "      <th>2</th>\n",
       "      <td>2022-02-24 02:00:00</td>\n",
       "      <td>12.2</td>\n",
       "      <td>10.0</td>\n",
       "    </tr>\n",
       "    <tr>\n",
       "      <th>3</th>\n",
       "      <td>2022-02-24 03:00:00</td>\n",
       "      <td>12.2</td>\n",
       "      <td>0.1</td>\n",
       "    </tr>\n",
       "    <tr>\n",
       "      <th>4</th>\n",
       "      <td>2022-02-24 04:00:00</td>\n",
       "      <td>12.2</td>\n",
       "      <td>0.0</td>\n",
       "    </tr>\n",
       "    <tr>\n",
       "      <th>...</th>\n",
       "      <td>...</td>\n",
       "      <td>...</td>\n",
       "      <td>...</td>\n",
       "    </tr>\n",
       "    <tr>\n",
       "      <th>608299</th>\n",
       "      <td>2025-03-01 19:00:00</td>\n",
       "      <td>7.0</td>\n",
       "      <td>NaN</td>\n",
       "    </tr>\n",
       "    <tr>\n",
       "      <th>608300</th>\n",
       "      <td>2025-03-01 20:00:00</td>\n",
       "      <td>7.0</td>\n",
       "      <td>10.0</td>\n",
       "    </tr>\n",
       "    <tr>\n",
       "      <th>608301</th>\n",
       "      <td>2025-03-01 21:00:00</td>\n",
       "      <td>7.0</td>\n",
       "      <td>NaN</td>\n",
       "    </tr>\n",
       "    <tr>\n",
       "      <th>608302</th>\n",
       "      <td>2025-03-01 22:00:00</td>\n",
       "      <td>7.0</td>\n",
       "      <td>NaN</td>\n",
       "    </tr>\n",
       "    <tr>\n",
       "      <th>608303</th>\n",
       "      <td>2025-03-01 23:00:00</td>\n",
       "      <td>7.0</td>\n",
       "      <td>10.0</td>\n",
       "    </tr>\n",
       "  </tbody>\n",
       "</table>\n",
       "<p>608304 rows × 3 columns</p>\n",
       "</div>"
      ]
     },
     "execution_count": 11,
     "metadata": {},
     "output_type": "execute_result"
    }
   ],
   "execution_count": 11
  },
  {
   "metadata": {},
   "cell_type": "markdown",
   "source": "We can notice that `day_visibility` has the same value throughout the entire day. This might suggest that it represents a fixed value, possibly the mean of `hour_visibility`. Let’s check it now.",
   "id": "23dd89d6ae0919c1"
  },
  {
   "metadata": {
    "ExecuteTime": {
     "end_time": "2025-04-09T12:01:54.446801Z",
     "start_time": "2025-04-09T12:01:54.430587Z"
    }
   },
   "cell_type": "code",
   "source": "weather[\"hour_visibility\"].iloc[:24].mean()",
   "id": "f8e7d3cd097c5f21",
   "outputs": [
    {
     "data": {
      "text/plain": [
       "np.float64(12.154166666666667)"
      ]
     },
     "execution_count": 12,
     "metadata": {},
     "output_type": "execute_result"
    }
   ],
   "execution_count": 12
  },
  {
   "metadata": {},
   "cell_type": "markdown",
   "source": [
    "So, we were correct in assuming that `day_visibility` represents the mean of `hour_visibility`. Since we will be storing the data on an hourly basis, the `day_visibility` column is unnecessary for our model. Therefore, we will drop this column.\n",
    "\n",
    "Additionally, we noticed that the `hour_visibility` column has missing values, which we will address by applying the **forward fill (`ffill`)** method."
   ],
   "id": "ba7b9d5d8f7b4a3a"
  },
  {
   "metadata": {},
   "cell_type": "markdown",
   "source": "2) **Solarradiation, Solarenergy, UVindex**\n",
   "id": "ee9b2b8c625ae340"
  },
  {
   "metadata": {
    "ExecuteTime": {
     "end_time": "2025-04-09T12:10:14.866866Z",
     "start_time": "2025-04-09T12:10:14.010873Z"
    }
   },
   "cell_type": "code",
   "source": "find_longest_missing_gap(weather, \"day_solarradiation\")",
   "id": "3b197946a1b67c59",
   "outputs": [
    {
     "name": "stdout",
     "output_type": "stream",
     "text": [
      "Longest period with missing values in column: day_solarradiation\n",
      "– From: 2024-10-28 00:00:00\n",
      "– To  : 2024-10-28 23:00:00\n"
     ]
    }
   ],
   "execution_count": 13
  },
  {
   "metadata": {
    "ExecuteTime": {
     "end_time": "2025-04-09T12:11:03.011371Z",
     "start_time": "2025-04-09T12:11:02.241388Z"
    }
   },
   "cell_type": "code",
   "source": "find_longest_missing_gap(weather, \"day_solarenergy\")",
   "id": "dcbb0acaa77a3b21",
   "outputs": [
    {
     "name": "stdout",
     "output_type": "stream",
     "text": [
      "Longest period with missing values in column: day_solarenergy\n",
      "– From: 2024-10-28 00:00:00\n",
      "– To  : 2024-10-28 23:00:00\n"
     ]
    }
   ],
   "execution_count": 14
  },
  {
   "metadata": {
    "ExecuteTime": {
     "end_time": "2025-04-09T12:11:03.615311Z",
     "start_time": "2025-04-09T12:11:03.097739Z"
    }
   },
   "cell_type": "code",
   "source": "find_longest_missing_gap(weather, \"day_uvindex\")",
   "id": "69edbcd4584fdff0",
   "outputs": [
    {
     "name": "stdout",
     "output_type": "stream",
     "text": [
      "Longest period with missing values in column: day_uvindex\n",
      "– From: 2024-10-28 00:00:00\n",
      "– To  : 2024-10-28 23:00:00\n"
     ]
    }
   ],
   "execution_count": 15
  },
  {
   "metadata": {},
   "cell_type": "markdown",
   "source": [
    "These three columns share the same missing value pattern, including identical gap locations and durations.\n",
    "The longest missing stretch is around **1 day**, which is not a small gap — but also not too long to make reconstruction unreliable.\n",
    "\n",
    "Simple methods like `ffill` or `bfill` could work.\n",
    "\n",
    "Let's now examine corresponding features: `hour_solarradiation`,`hour_solarenergy` and `hour_uvindex`."
   ],
   "id": "58eeef92a7aa9c14"
  },
  {
   "metadata": {
    "ExecuteTime": {
     "end_time": "2025-04-09T12:20:12.892640Z",
     "start_time": "2025-04-09T12:20:12.233256Z"
    }
   },
   "cell_type": "code",
   "source": "find_longest_missing_gap(weather, \"hour_solarradiation\")",
   "id": "b431dbb803ef4f94",
   "outputs": [
    {
     "name": "stdout",
     "output_type": "stream",
     "text": [
      "Longest period with missing values in column: hour_solarradiation\n",
      "– From: 2024-10-28 00:00:00\n",
      "– To  : 2024-10-28 23:00:00\n"
     ]
    }
   ],
   "execution_count": 17
  },
  {
   "metadata": {
    "ExecuteTime": {
     "end_time": "2025-04-09T12:19:51.783273Z",
     "start_time": "2025-04-09T12:19:51.007302Z"
    }
   },
   "cell_type": "code",
   "source": "find_longest_missing_gap(weather, \"hour_solarenergy\")",
   "id": "3ad7c8dd2e6a9ea9",
   "outputs": [
    {
     "name": "stdout",
     "output_type": "stream",
     "text": [
      "Longest period with missing values in column: hour_solarenergy\n",
      "– From: 2024-10-28 00:00:00\n",
      "– To  : 2024-10-28 23:00:00\n"
     ]
    }
   ],
   "execution_count": 16
  },
  {
   "metadata": {
    "ExecuteTime": {
     "end_time": "2025-04-09T12:21:11.779718Z",
     "start_time": "2025-04-09T12:21:11.209284Z"
    }
   },
   "cell_type": "code",
   "source": "find_longest_missing_gap(weather, \"hour_uvindex\")",
   "id": "d113a6123e01163a",
   "outputs": [
    {
     "name": "stdout",
     "output_type": "stream",
     "text": [
      "Longest period with missing values in column: hour_uvindex\n",
      "– From: 2024-10-28 00:00:00\n",
      "– To  : 2024-10-28 23:00:00\n"
     ]
    }
   ],
   "execution_count": 18
  },
  {
   "metadata": {},
   "cell_type": "markdown",
   "source": "We can see that these features have the same largest gap. Let's check how they interact with each other.\n",
   "id": "f17e152470ad0083"
  },
  {
   "metadata": {
    "ExecuteTime": {
     "end_time": "2025-04-09T12:23:35.575296Z",
     "start_time": "2025-04-09T12:23:35.499225Z"
    }
   },
   "cell_type": "code",
   "source": [
    "weather[['datetime', \"day_solarradiation\", \"hour_solarradiation\", \"day_solarenergy\", \"hour_solarenergy\", \"day_uvindex\",\n",
    "         \"hour_uvindex\"]]"
   ],
   "id": "7fc4da1f913e9081",
   "outputs": [
    {
     "data": {
      "text/plain": [
       "                  datetime  day_solarradiation  hour_solarradiation  \\\n",
       "0      2022-02-24 00:00:00                36.9                  0.0   \n",
       "1      2022-02-24 01:00:00                36.9                  0.0   \n",
       "2      2022-02-24 02:00:00                36.9                  NaN   \n",
       "3      2022-02-24 03:00:00                36.9                  0.0   \n",
       "4      2022-02-24 04:00:00                36.9                  0.0   \n",
       "...                    ...                 ...                  ...   \n",
       "608299 2025-03-01 19:00:00               106.1                  0.0   \n",
       "608300 2025-03-01 20:00:00               106.1                  0.0   \n",
       "608301 2025-03-01 21:00:00               106.1                  0.0   \n",
       "608302 2025-03-01 22:00:00               106.1                  0.0   \n",
       "608303 2025-03-01 23:00:00               106.1                  0.0   \n",
       "\n",
       "        day_solarenergy  hour_solarenergy  day_uvindex  hour_uvindex  \n",
       "0                   2.8               NaN          1.0           0.0  \n",
       "1                   2.8               NaN          1.0           0.0  \n",
       "2                   2.8               NaN          1.0           NaN  \n",
       "3                   2.8               NaN          1.0           0.0  \n",
       "4                   2.8               NaN          1.0           0.0  \n",
       "...                 ...               ...          ...           ...  \n",
       "608299              9.2               0.0          4.0           0.0  \n",
       "608300              9.2               0.0          4.0           0.0  \n",
       "608301              9.2               0.0          4.0           0.0  \n",
       "608302              9.2               0.0          4.0           0.0  \n",
       "608303              9.2               0.0          4.0           0.0  \n",
       "\n",
       "[608304 rows x 7 columns]"
      ],
      "text/html": [
       "<div>\n",
       "<style scoped>\n",
       "    .dataframe tbody tr th:only-of-type {\n",
       "        vertical-align: middle;\n",
       "    }\n",
       "\n",
       "    .dataframe tbody tr th {\n",
       "        vertical-align: top;\n",
       "    }\n",
       "\n",
       "    .dataframe thead th {\n",
       "        text-align: right;\n",
       "    }\n",
       "</style>\n",
       "<table border=\"1\" class=\"dataframe\">\n",
       "  <thead>\n",
       "    <tr style=\"text-align: right;\">\n",
       "      <th></th>\n",
       "      <th>datetime</th>\n",
       "      <th>day_solarradiation</th>\n",
       "      <th>hour_solarradiation</th>\n",
       "      <th>day_solarenergy</th>\n",
       "      <th>hour_solarenergy</th>\n",
       "      <th>day_uvindex</th>\n",
       "      <th>hour_uvindex</th>\n",
       "    </tr>\n",
       "  </thead>\n",
       "  <tbody>\n",
       "    <tr>\n",
       "      <th>0</th>\n",
       "      <td>2022-02-24 00:00:00</td>\n",
       "      <td>36.9</td>\n",
       "      <td>0.0</td>\n",
       "      <td>2.8</td>\n",
       "      <td>NaN</td>\n",
       "      <td>1.0</td>\n",
       "      <td>0.0</td>\n",
       "    </tr>\n",
       "    <tr>\n",
       "      <th>1</th>\n",
       "      <td>2022-02-24 01:00:00</td>\n",
       "      <td>36.9</td>\n",
       "      <td>0.0</td>\n",
       "      <td>2.8</td>\n",
       "      <td>NaN</td>\n",
       "      <td>1.0</td>\n",
       "      <td>0.0</td>\n",
       "    </tr>\n",
       "    <tr>\n",
       "      <th>2</th>\n",
       "      <td>2022-02-24 02:00:00</td>\n",
       "      <td>36.9</td>\n",
       "      <td>NaN</td>\n",
       "      <td>2.8</td>\n",
       "      <td>NaN</td>\n",
       "      <td>1.0</td>\n",
       "      <td>NaN</td>\n",
       "    </tr>\n",
       "    <tr>\n",
       "      <th>3</th>\n",
       "      <td>2022-02-24 03:00:00</td>\n",
       "      <td>36.9</td>\n",
       "      <td>0.0</td>\n",
       "      <td>2.8</td>\n",
       "      <td>NaN</td>\n",
       "      <td>1.0</td>\n",
       "      <td>0.0</td>\n",
       "    </tr>\n",
       "    <tr>\n",
       "      <th>4</th>\n",
       "      <td>2022-02-24 04:00:00</td>\n",
       "      <td>36.9</td>\n",
       "      <td>0.0</td>\n",
       "      <td>2.8</td>\n",
       "      <td>NaN</td>\n",
       "      <td>1.0</td>\n",
       "      <td>0.0</td>\n",
       "    </tr>\n",
       "    <tr>\n",
       "      <th>...</th>\n",
       "      <td>...</td>\n",
       "      <td>...</td>\n",
       "      <td>...</td>\n",
       "      <td>...</td>\n",
       "      <td>...</td>\n",
       "      <td>...</td>\n",
       "      <td>...</td>\n",
       "    </tr>\n",
       "    <tr>\n",
       "      <th>608299</th>\n",
       "      <td>2025-03-01 19:00:00</td>\n",
       "      <td>106.1</td>\n",
       "      <td>0.0</td>\n",
       "      <td>9.2</td>\n",
       "      <td>0.0</td>\n",
       "      <td>4.0</td>\n",
       "      <td>0.0</td>\n",
       "    </tr>\n",
       "    <tr>\n",
       "      <th>608300</th>\n",
       "      <td>2025-03-01 20:00:00</td>\n",
       "      <td>106.1</td>\n",
       "      <td>0.0</td>\n",
       "      <td>9.2</td>\n",
       "      <td>0.0</td>\n",
       "      <td>4.0</td>\n",
       "      <td>0.0</td>\n",
       "    </tr>\n",
       "    <tr>\n",
       "      <th>608301</th>\n",
       "      <td>2025-03-01 21:00:00</td>\n",
       "      <td>106.1</td>\n",
       "      <td>0.0</td>\n",
       "      <td>9.2</td>\n",
       "      <td>0.0</td>\n",
       "      <td>4.0</td>\n",
       "      <td>0.0</td>\n",
       "    </tr>\n",
       "    <tr>\n",
       "      <th>608302</th>\n",
       "      <td>2025-03-01 22:00:00</td>\n",
       "      <td>106.1</td>\n",
       "      <td>0.0</td>\n",
       "      <td>9.2</td>\n",
       "      <td>0.0</td>\n",
       "      <td>4.0</td>\n",
       "      <td>0.0</td>\n",
       "    </tr>\n",
       "    <tr>\n",
       "      <th>608303</th>\n",
       "      <td>2025-03-01 23:00:00</td>\n",
       "      <td>106.1</td>\n",
       "      <td>0.0</td>\n",
       "      <td>9.2</td>\n",
       "      <td>0.0</td>\n",
       "      <td>4.0</td>\n",
       "      <td>0.0</td>\n",
       "    </tr>\n",
       "  </tbody>\n",
       "</table>\n",
       "<p>608304 rows × 7 columns</p>\n",
       "</div>"
      ]
     },
     "execution_count": 19,
     "metadata": {},
     "output_type": "execute_result"
    }
   ],
   "execution_count": 19
  },
  {
   "metadata": {
    "ExecuteTime": {
     "end_time": "2025-04-09T12:24:21.890692Z",
     "start_time": "2025-04-09T12:24:21.882841Z"
    }
   },
   "cell_type": "code",
   "source": "weather[\"hour_solarradiation\"].iloc[:24].mean()",
   "id": "40ac7a4570b96e9d",
   "outputs": [
    {
     "data": {
      "text/plain": [
       "np.float64(36.9)"
      ]
     },
     "execution_count": 20,
     "metadata": {},
     "output_type": "execute_result"
    }
   ],
   "execution_count": 20
  },
  {
   "metadata": {
    "ExecuteTime": {
     "end_time": "2025-04-09T12:24:44.527411Z",
     "start_time": "2025-04-09T12:24:44.509505Z"
    }
   },
   "cell_type": "code",
   "source": "weather[\"hour_solarenergy\"].iloc[:24].sum()",
   "id": "c3643597836dfbfb",
   "outputs": [
    {
     "data": {
      "text/plain": [
       "np.float64(2.8)"
      ]
     },
     "execution_count": 22,
     "metadata": {},
     "output_type": "execute_result"
    }
   ],
   "execution_count": 22
  },
  {
   "metadata": {
    "ExecuteTime": {
     "end_time": "2025-04-09T12:25:34.837911Z",
     "start_time": "2025-04-09T12:25:34.827669Z"
    }
   },
   "cell_type": "code",
   "source": "weather[\"hour_uvindex\"].iloc[:24].max()",
   "id": "ce38f3f73ba009d4",
   "outputs": [
    {
     "data": {
      "text/plain": [
       "np.float64(1.0)"
      ]
     },
     "execution_count": 24,
     "metadata": {},
     "output_type": "execute_result"
    }
   ],
   "execution_count": 24
  },
  {
   "metadata": {},
   "cell_type": "markdown",
   "source": "From the basic analysis, we can see that `day_solarradiation` is the mean of `hour_solarradiation` for the given day, `day_solarenergy` is the sum of `hour_solarenergy`, and `day_uvindex` is the maximum of `hour_uvindex`. Following the same logic as with the previous features, the `day_` attributes are redundant and unnecessary for our model.",
   "id": "5538d5b040eb1e5f"
  },
  {
   "metadata": {},
   "cell_type": "markdown",
   "source": "3) **Preciptype**\n",
   "id": "9f7b9019d0610f25"
  },
  {
   "metadata": {
    "ExecuteTime": {
     "end_time": "2025-04-09T12:44:03.230980Z",
     "start_time": "2025-04-09T12:44:02.414880Z"
    }
   },
   "cell_type": "code",
   "source": "find_longest_missing_gap(weather, \"day_preciptype\")",
   "id": "5aa75474330cae33",
   "outputs": [
    {
     "name": "stdout",
     "output_type": "stream",
     "text": [
      "Longest period with missing values in column: day_preciptype\n",
      "– From: 2024-04-29 23:00:00\n",
      "– To  : 2024-05-05 00:00:00\n"
     ]
    }
   ],
   "execution_count": 25
  },
  {
   "metadata": {
    "ExecuteTime": {
     "end_time": "2025-04-09T12:45:03.823Z",
     "start_time": "2025-04-09T12:45:03.711416Z"
    }
   },
   "cell_type": "code",
   "source": "weather[\"day_preciptype\"].value_counts()",
   "id": "b9f3a55fe779c58c",
   "outputs": [
    {
     "data": {
      "text/plain": [
       "day_preciptype\n",
       "rain                      244492\n",
       "rain;snow                  77389\n",
       "snow                       18790\n",
       "rain;freezingrain;snow      1104\n",
       "freezingrain;snow            168\n",
       "rain;freezingrain             72\n",
       "ice                           24\n",
       "freezingrain;snow;ice         24\n",
       "rain;snow;ice                 24\n",
       "Name: count, dtype: int64"
      ]
     },
     "execution_count": 26,
     "metadata": {},
     "output_type": "execute_result"
    }
   ],
   "execution_count": 26
  },
  {
   "metadata": {},
   "cell_type": "markdown",
   "source": [
    "The `day_preciptype` column contains meaningful categorical information about types of precipitation, including multiple combined values (e.g., \"rain;snow\").\n",
    "\n",
    "Although ~44% of the values are missing, it's reasonable to assume they indicate **no precipitation**.\n",
    "\n",
    "Therefore, instead of dropping or ignoring the column, we will keep it and **fill missing values with `\"none\"`** to preserve clarity and make the data ready for modeling or analysis.\n"
   ],
   "id": "28aa6b3a694fac99"
  },
  {
   "metadata": {
    "ExecuteTime": {
     "end_time": "2025-04-09T12:46:01.515828Z",
     "start_time": "2025-04-09T12:46:01.485208Z"
    }
   },
   "cell_type": "code",
   "source": "weather[\"hour_preciptype\"].value_counts()",
   "id": "7ff9cbf3b9960a00",
   "outputs": [
    {
     "data": {
      "text/plain": [
       "hour_preciptype\n",
       "['rain']            43309\n",
       "['rain', 'snow']    12162\n",
       "['snow']             9268\n",
       "['freezingrain']      122\n",
       "['ice']                 4\n",
       "Name: count, dtype: int64"
      ]
     },
     "execution_count": 27,
     "metadata": {},
     "output_type": "execute_result"
    }
   ],
   "execution_count": 27
  },
  {
   "metadata": {
    "ExecuteTime": {
     "end_time": "2025-04-09T12:46:41.636370Z",
     "start_time": "2025-04-09T12:46:41.566834Z"
    }
   },
   "cell_type": "code",
   "source": "weather[['datetime', \"day_preciptype\", \"hour_preciptype\"]]",
   "id": "99f78f768f142c1a",
   "outputs": [
    {
     "data": {
      "text/plain": [
       "                  datetime day_preciptype hour_preciptype\n",
       "0      2022-02-24 00:00:00           snow        ['snow']\n",
       "1      2022-02-24 01:00:00           snow        ['snow']\n",
       "2      2022-02-24 02:00:00           snow        ['snow']\n",
       "3      2022-02-24 03:00:00           snow        ['snow']\n",
       "4      2022-02-24 04:00:00           snow        ['snow']\n",
       "...                    ...            ...             ...\n",
       "608299 2025-03-01 19:00:00            NaN             NaN\n",
       "608300 2025-03-01 20:00:00            NaN             NaN\n",
       "608301 2025-03-01 21:00:00            NaN             NaN\n",
       "608302 2025-03-01 22:00:00            NaN             NaN\n",
       "608303 2025-03-01 23:00:00            NaN             NaN\n",
       "\n",
       "[608304 rows x 3 columns]"
      ],
      "text/html": [
       "<div>\n",
       "<style scoped>\n",
       "    .dataframe tbody tr th:only-of-type {\n",
       "        vertical-align: middle;\n",
       "    }\n",
       "\n",
       "    .dataframe tbody tr th {\n",
       "        vertical-align: top;\n",
       "    }\n",
       "\n",
       "    .dataframe thead th {\n",
       "        text-align: right;\n",
       "    }\n",
       "</style>\n",
       "<table border=\"1\" class=\"dataframe\">\n",
       "  <thead>\n",
       "    <tr style=\"text-align: right;\">\n",
       "      <th></th>\n",
       "      <th>datetime</th>\n",
       "      <th>day_preciptype</th>\n",
       "      <th>hour_preciptype</th>\n",
       "    </tr>\n",
       "  </thead>\n",
       "  <tbody>\n",
       "    <tr>\n",
       "      <th>0</th>\n",
       "      <td>2022-02-24 00:00:00</td>\n",
       "      <td>snow</td>\n",
       "      <td>['snow']</td>\n",
       "    </tr>\n",
       "    <tr>\n",
       "      <th>1</th>\n",
       "      <td>2022-02-24 01:00:00</td>\n",
       "      <td>snow</td>\n",
       "      <td>['snow']</td>\n",
       "    </tr>\n",
       "    <tr>\n",
       "      <th>2</th>\n",
       "      <td>2022-02-24 02:00:00</td>\n",
       "      <td>snow</td>\n",
       "      <td>['snow']</td>\n",
       "    </tr>\n",
       "    <tr>\n",
       "      <th>3</th>\n",
       "      <td>2022-02-24 03:00:00</td>\n",
       "      <td>snow</td>\n",
       "      <td>['snow']</td>\n",
       "    </tr>\n",
       "    <tr>\n",
       "      <th>4</th>\n",
       "      <td>2022-02-24 04:00:00</td>\n",
       "      <td>snow</td>\n",
       "      <td>['snow']</td>\n",
       "    </tr>\n",
       "    <tr>\n",
       "      <th>...</th>\n",
       "      <td>...</td>\n",
       "      <td>...</td>\n",
       "      <td>...</td>\n",
       "    </tr>\n",
       "    <tr>\n",
       "      <th>608299</th>\n",
       "      <td>2025-03-01 19:00:00</td>\n",
       "      <td>NaN</td>\n",
       "      <td>NaN</td>\n",
       "    </tr>\n",
       "    <tr>\n",
       "      <th>608300</th>\n",
       "      <td>2025-03-01 20:00:00</td>\n",
       "      <td>NaN</td>\n",
       "      <td>NaN</td>\n",
       "    </tr>\n",
       "    <tr>\n",
       "      <th>608301</th>\n",
       "      <td>2025-03-01 21:00:00</td>\n",
       "      <td>NaN</td>\n",
       "      <td>NaN</td>\n",
       "    </tr>\n",
       "    <tr>\n",
       "      <th>608302</th>\n",
       "      <td>2025-03-01 22:00:00</td>\n",
       "      <td>NaN</td>\n",
       "      <td>NaN</td>\n",
       "    </tr>\n",
       "    <tr>\n",
       "      <th>608303</th>\n",
       "      <td>2025-03-01 23:00:00</td>\n",
       "      <td>NaN</td>\n",
       "      <td>NaN</td>\n",
       "    </tr>\n",
       "  </tbody>\n",
       "</table>\n",
       "<p>608304 rows × 3 columns</p>\n",
       "</div>"
      ]
     },
     "execution_count": 28,
     "metadata": {},
     "output_type": "execute_result"
    }
   ],
   "execution_count": 28
  },
  {
   "metadata": {},
   "cell_type": "markdown",
   "source": "As with the previous features, the `day_` attributes are linked to their corresponding hourly values, so we will drop the `day_preciptype` column. Additionally, we observe that `hour_preciptype` stores data in a list format, so it’s better to convert it to a string and process it later.",
   "id": "cbf7fabc681b1cd"
  },
  {
   "metadata": {
    "ExecuteTime": {
     "end_time": "2025-04-09T12:57:29.248853Z",
     "start_time": "2025-04-09T12:57:28.810637Z"
    }
   },
   "cell_type": "code",
   "source": "find_longest_missing_gap(weather, \"hour_precip\")",
   "id": "d2c1fdd04ba937c6",
   "outputs": [
    {
     "name": "stdout",
     "output_type": "stream",
     "text": [
      "Longest period with missing values in column: hour_precip\n",
      "– From: 2022-03-01 02:00:00\n",
      "– To  : 2022-03-01 02:00:00\n"
     ]
    }
   ],
   "execution_count": 29
  },
  {
   "metadata": {
    "ExecuteTime": {
     "end_time": "2025-04-09T12:57:37.308276Z",
     "start_time": "2025-04-09T12:57:37.149953Z"
    }
   },
   "cell_type": "code",
   "source": "weather[weather[\"hour_precip\"] == 0].head()",
   "id": "a69f2ecd429f82c2",
   "outputs": [
    {
     "data": {
      "text/plain": [
       "   city_latitude  city_longitude           city_resolvedAddress  \\\n",
       "0        50.7469         25.3263  Луцьк, Луцький район, Україна   \n",
       "1        50.7469         25.3263  Луцьк, Луцький район, Україна   \n",
       "2        50.7469         25.3263  Луцьк, Луцький район, Україна   \n",
       "3        50.7469         25.3263  Луцьк, Луцький район, Україна   \n",
       "4        50.7469         25.3263  Луцьк, Луцький район, Україна   \n",
       "\n",
       "    city_address city_timezone  city_tzoffset  day_datetimeEpoch  day_tempmax  \\\n",
       "0  Lutsk,Ukraine   Europe/Kiev            2.0         1645653600          4.9   \n",
       "1  Lutsk,Ukraine   Europe/Kiev            2.0         1645653600          4.9   \n",
       "2  Lutsk,Ukraine   Europe/Kiev            2.0         1645653600          4.9   \n",
       "3  Lutsk,Ukraine   Europe/Kiev            2.0         1645653600          4.9   \n",
       "4  Lutsk,Ukraine   Europe/Kiev            2.0         1645653600          4.9   \n",
       "\n",
       "   day_tempmin  day_temp  ...  hour_solarradiation  hour_solarenergy  \\\n",
       "0          0.7       2.6  ...                  0.0               NaN   \n",
       "1          0.7       2.6  ...                  0.0               NaN   \n",
       "2          0.7       2.6  ...                  NaN               NaN   \n",
       "3          0.7       2.6  ...                  0.0               NaN   \n",
       "4          0.7       2.6  ...                  0.0               NaN   \n",
       "\n",
       "   hour_uvindex   hour_conditions  hour_icon  hour_source  hour_stations  \\\n",
       "0           0.0          Overcast       snow          obs         remote   \n",
       "1           0.0  Partially cloudy        fog          obs         remote   \n",
       "2           NaN          Overcast     cloudy          obs    33177099999   \n",
       "3           0.0          Overcast        fog          obs         remote   \n",
       "4           0.0          Overcast     cloudy          obs         remote   \n",
       "\n",
       "             datetime    sunrise_datetime     sunset_datetime  \n",
       "0 2022-02-24 00:00:00 2022-02-24 07:13:36 2022-02-24 17:51:06  \n",
       "1 2022-02-24 01:00:00 2022-02-24 07:13:36 2022-02-24 17:51:06  \n",
       "2 2022-02-24 02:00:00 2022-02-24 07:13:36 2022-02-24 17:51:06  \n",
       "3 2022-02-24 03:00:00 2022-02-24 07:13:36 2022-02-24 17:51:06  \n",
       "4 2022-02-24 04:00:00 2022-02-24 07:13:36 2022-02-24 17:51:06  \n",
       "\n",
       "[5 rows x 64 columns]"
      ],
      "text/html": [
       "<div>\n",
       "<style scoped>\n",
       "    .dataframe tbody tr th:only-of-type {\n",
       "        vertical-align: middle;\n",
       "    }\n",
       "\n",
       "    .dataframe tbody tr th {\n",
       "        vertical-align: top;\n",
       "    }\n",
       "\n",
       "    .dataframe thead th {\n",
       "        text-align: right;\n",
       "    }\n",
       "</style>\n",
       "<table border=\"1\" class=\"dataframe\">\n",
       "  <thead>\n",
       "    <tr style=\"text-align: right;\">\n",
       "      <th></th>\n",
       "      <th>city_latitude</th>\n",
       "      <th>city_longitude</th>\n",
       "      <th>city_resolvedAddress</th>\n",
       "      <th>city_address</th>\n",
       "      <th>city_timezone</th>\n",
       "      <th>city_tzoffset</th>\n",
       "      <th>day_datetimeEpoch</th>\n",
       "      <th>day_tempmax</th>\n",
       "      <th>day_tempmin</th>\n",
       "      <th>day_temp</th>\n",
       "      <th>...</th>\n",
       "      <th>hour_solarradiation</th>\n",
       "      <th>hour_solarenergy</th>\n",
       "      <th>hour_uvindex</th>\n",
       "      <th>hour_conditions</th>\n",
       "      <th>hour_icon</th>\n",
       "      <th>hour_source</th>\n",
       "      <th>hour_stations</th>\n",
       "      <th>datetime</th>\n",
       "      <th>sunrise_datetime</th>\n",
       "      <th>sunset_datetime</th>\n",
       "    </tr>\n",
       "  </thead>\n",
       "  <tbody>\n",
       "    <tr>\n",
       "      <th>0</th>\n",
       "      <td>50.7469</td>\n",
       "      <td>25.3263</td>\n",
       "      <td>Луцьк, Луцький район, Україна</td>\n",
       "      <td>Lutsk,Ukraine</td>\n",
       "      <td>Europe/Kiev</td>\n",
       "      <td>2.0</td>\n",
       "      <td>1645653600</td>\n",
       "      <td>4.9</td>\n",
       "      <td>0.7</td>\n",
       "      <td>2.6</td>\n",
       "      <td>...</td>\n",
       "      <td>0.0</td>\n",
       "      <td>NaN</td>\n",
       "      <td>0.0</td>\n",
       "      <td>Overcast</td>\n",
       "      <td>snow</td>\n",
       "      <td>obs</td>\n",
       "      <td>remote</td>\n",
       "      <td>2022-02-24 00:00:00</td>\n",
       "      <td>2022-02-24 07:13:36</td>\n",
       "      <td>2022-02-24 17:51:06</td>\n",
       "    </tr>\n",
       "    <tr>\n",
       "      <th>1</th>\n",
       "      <td>50.7469</td>\n",
       "      <td>25.3263</td>\n",
       "      <td>Луцьк, Луцький район, Україна</td>\n",
       "      <td>Lutsk,Ukraine</td>\n",
       "      <td>Europe/Kiev</td>\n",
       "      <td>2.0</td>\n",
       "      <td>1645653600</td>\n",
       "      <td>4.9</td>\n",
       "      <td>0.7</td>\n",
       "      <td>2.6</td>\n",
       "      <td>...</td>\n",
       "      <td>0.0</td>\n",
       "      <td>NaN</td>\n",
       "      <td>0.0</td>\n",
       "      <td>Partially cloudy</td>\n",
       "      <td>fog</td>\n",
       "      <td>obs</td>\n",
       "      <td>remote</td>\n",
       "      <td>2022-02-24 01:00:00</td>\n",
       "      <td>2022-02-24 07:13:36</td>\n",
       "      <td>2022-02-24 17:51:06</td>\n",
       "    </tr>\n",
       "    <tr>\n",
       "      <th>2</th>\n",
       "      <td>50.7469</td>\n",
       "      <td>25.3263</td>\n",
       "      <td>Луцьк, Луцький район, Україна</td>\n",
       "      <td>Lutsk,Ukraine</td>\n",
       "      <td>Europe/Kiev</td>\n",
       "      <td>2.0</td>\n",
       "      <td>1645653600</td>\n",
       "      <td>4.9</td>\n",
       "      <td>0.7</td>\n",
       "      <td>2.6</td>\n",
       "      <td>...</td>\n",
       "      <td>NaN</td>\n",
       "      <td>NaN</td>\n",
       "      <td>NaN</td>\n",
       "      <td>Overcast</td>\n",
       "      <td>cloudy</td>\n",
       "      <td>obs</td>\n",
       "      <td>33177099999</td>\n",
       "      <td>2022-02-24 02:00:00</td>\n",
       "      <td>2022-02-24 07:13:36</td>\n",
       "      <td>2022-02-24 17:51:06</td>\n",
       "    </tr>\n",
       "    <tr>\n",
       "      <th>3</th>\n",
       "      <td>50.7469</td>\n",
       "      <td>25.3263</td>\n",
       "      <td>Луцьк, Луцький район, Україна</td>\n",
       "      <td>Lutsk,Ukraine</td>\n",
       "      <td>Europe/Kiev</td>\n",
       "      <td>2.0</td>\n",
       "      <td>1645653600</td>\n",
       "      <td>4.9</td>\n",
       "      <td>0.7</td>\n",
       "      <td>2.6</td>\n",
       "      <td>...</td>\n",
       "      <td>0.0</td>\n",
       "      <td>NaN</td>\n",
       "      <td>0.0</td>\n",
       "      <td>Overcast</td>\n",
       "      <td>fog</td>\n",
       "      <td>obs</td>\n",
       "      <td>remote</td>\n",
       "      <td>2022-02-24 03:00:00</td>\n",
       "      <td>2022-02-24 07:13:36</td>\n",
       "      <td>2022-02-24 17:51:06</td>\n",
       "    </tr>\n",
       "    <tr>\n",
       "      <th>4</th>\n",
       "      <td>50.7469</td>\n",
       "      <td>25.3263</td>\n",
       "      <td>Луцьк, Луцький район, Україна</td>\n",
       "      <td>Lutsk,Ukraine</td>\n",
       "      <td>Europe/Kiev</td>\n",
       "      <td>2.0</td>\n",
       "      <td>1645653600</td>\n",
       "      <td>4.9</td>\n",
       "      <td>0.7</td>\n",
       "      <td>2.6</td>\n",
       "      <td>...</td>\n",
       "      <td>0.0</td>\n",
       "      <td>NaN</td>\n",
       "      <td>0.0</td>\n",
       "      <td>Overcast</td>\n",
       "      <td>cloudy</td>\n",
       "      <td>obs</td>\n",
       "      <td>remote</td>\n",
       "      <td>2022-02-24 04:00:00</td>\n",
       "      <td>2022-02-24 07:13:36</td>\n",
       "      <td>2022-02-24 17:51:06</td>\n",
       "    </tr>\n",
       "  </tbody>\n",
       "</table>\n",
       "<p>5 rows × 64 columns</p>\n",
       "</div>"
      ]
     },
     "execution_count": 30,
     "metadata": {},
     "output_type": "execute_result"
    }
   ],
   "execution_count": 30
  },
  {
   "metadata": {},
   "cell_type": "markdown",
   "source": [
    "Since some values in this column are already equal to `0`, and the total amount of missing data is small,\n",
    "with the longest missing gap being just **1 hour**, we will use **forward fill (`ffill`)** as a suitable method to handle the missing values.\n",
    "\n",
    "Let's also compare it with `day_precip`."
   ],
   "id": "2ce5949df7d0a6e0"
  },
  {
   "metadata": {
    "ExecuteTime": {
     "end_time": "2025-04-09T12:58:48.934417Z",
     "start_time": "2025-04-09T12:58:48.920817Z"
    }
   },
   "cell_type": "code",
   "source": "weather[[\"datetime\", \"hour_precip\", \"day_precip\"]]",
   "id": "7538f8386a6773a2",
   "outputs": [
    {
     "data": {
      "text/plain": [
       "                  datetime  hour_precip  day_precip\n",
       "0      2022-02-24 00:00:00          0.0       0.118\n",
       "1      2022-02-24 01:00:00          0.0       0.118\n",
       "2      2022-02-24 02:00:00          0.0       0.118\n",
       "3      2022-02-24 03:00:00          0.0       0.118\n",
       "4      2022-02-24 04:00:00          0.0       0.118\n",
       "...                    ...          ...         ...\n",
       "608299 2025-03-01 19:00:00          0.0       0.000\n",
       "608300 2025-03-01 20:00:00          0.0       0.000\n",
       "608301 2025-03-01 21:00:00          0.0       0.000\n",
       "608302 2025-03-01 22:00:00          0.0       0.000\n",
       "608303 2025-03-01 23:00:00          0.0       0.000\n",
       "\n",
       "[608304 rows x 3 columns]"
      ],
      "text/html": [
       "<div>\n",
       "<style scoped>\n",
       "    .dataframe tbody tr th:only-of-type {\n",
       "        vertical-align: middle;\n",
       "    }\n",
       "\n",
       "    .dataframe tbody tr th {\n",
       "        vertical-align: top;\n",
       "    }\n",
       "\n",
       "    .dataframe thead th {\n",
       "        text-align: right;\n",
       "    }\n",
       "</style>\n",
       "<table border=\"1\" class=\"dataframe\">\n",
       "  <thead>\n",
       "    <tr style=\"text-align: right;\">\n",
       "      <th></th>\n",
       "      <th>datetime</th>\n",
       "      <th>hour_precip</th>\n",
       "      <th>day_precip</th>\n",
       "    </tr>\n",
       "  </thead>\n",
       "  <tbody>\n",
       "    <tr>\n",
       "      <th>0</th>\n",
       "      <td>2022-02-24 00:00:00</td>\n",
       "      <td>0.0</td>\n",
       "      <td>0.118</td>\n",
       "    </tr>\n",
       "    <tr>\n",
       "      <th>1</th>\n",
       "      <td>2022-02-24 01:00:00</td>\n",
       "      <td>0.0</td>\n",
       "      <td>0.118</td>\n",
       "    </tr>\n",
       "    <tr>\n",
       "      <th>2</th>\n",
       "      <td>2022-02-24 02:00:00</td>\n",
       "      <td>0.0</td>\n",
       "      <td>0.118</td>\n",
       "    </tr>\n",
       "    <tr>\n",
       "      <th>3</th>\n",
       "      <td>2022-02-24 03:00:00</td>\n",
       "      <td>0.0</td>\n",
       "      <td>0.118</td>\n",
       "    </tr>\n",
       "    <tr>\n",
       "      <th>4</th>\n",
       "      <td>2022-02-24 04:00:00</td>\n",
       "      <td>0.0</td>\n",
       "      <td>0.118</td>\n",
       "    </tr>\n",
       "    <tr>\n",
       "      <th>...</th>\n",
       "      <td>...</td>\n",
       "      <td>...</td>\n",
       "      <td>...</td>\n",
       "    </tr>\n",
       "    <tr>\n",
       "      <th>608299</th>\n",
       "      <td>2025-03-01 19:00:00</td>\n",
       "      <td>0.0</td>\n",
       "      <td>0.000</td>\n",
       "    </tr>\n",
       "    <tr>\n",
       "      <th>608300</th>\n",
       "      <td>2025-03-01 20:00:00</td>\n",
       "      <td>0.0</td>\n",
       "      <td>0.000</td>\n",
       "    </tr>\n",
       "    <tr>\n",
       "      <th>608301</th>\n",
       "      <td>2025-03-01 21:00:00</td>\n",
       "      <td>0.0</td>\n",
       "      <td>0.000</td>\n",
       "    </tr>\n",
       "    <tr>\n",
       "      <th>608302</th>\n",
       "      <td>2025-03-01 22:00:00</td>\n",
       "      <td>0.0</td>\n",
       "      <td>0.000</td>\n",
       "    </tr>\n",
       "    <tr>\n",
       "      <th>608303</th>\n",
       "      <td>2025-03-01 23:00:00</td>\n",
       "      <td>0.0</td>\n",
       "      <td>0.000</td>\n",
       "    </tr>\n",
       "  </tbody>\n",
       "</table>\n",
       "<p>608304 rows × 3 columns</p>\n",
       "</div>"
      ]
     },
     "execution_count": 31,
     "metadata": {},
     "output_type": "execute_result"
    }
   ],
   "execution_count": 31
  },
  {
   "metadata": {},
   "cell_type": "markdown",
   "source": "We can see that `day_precip` is simply the sum of `hour_precip`. Following the same logic as with the previous features, we will drop the `day_precip` column.",
   "id": "98e509fefda7337d"
  },
  {
   "metadata": {},
   "cell_type": "markdown",
   "source": "### Filling Missing Data",
   "id": "5b5cca62c6ca58ce"
  },
  {
   "metadata": {
    "ExecuteTime": {
     "end_time": "2025-04-09T13:28:50.057147Z",
     "start_time": "2025-04-09T13:28:49.914425Z"
    }
   },
   "cell_type": "code",
   "source": [
    "# 1. Categorical columns: fill with 'none'\n",
    "weather[\"hour_preciptype\"] = weather[\"hour_preciptype\"].fillna(\"none\")\n",
    "\n",
    "# 2. Columns to forward fill\n",
    "ffill_columns = [\"hour_precip\", \"hour_visibility\",\n",
    "                 \"hour_solarradiation\", \"hour_solarenergy\", \"hour_uvindex\"\n",
    "                 ]\n",
    "weather[ffill_columns] = weather.groupby(\"city_address\")[ffill_columns].ffill()"
   ],
   "id": "bcd1ff8babb06fea",
   "outputs": [],
   "execution_count": 32
  },
  {
   "metadata": {
    "ExecuteTime": {
     "end_time": "2025-04-09T13:29:01.231418Z",
     "start_time": "2025-04-09T13:29:00.792987Z"
    }
   },
   "cell_type": "code",
   "source": "weather.info()",
   "id": "f7c3e5c6f823fe7f",
   "outputs": [
    {
     "name": "stdout",
     "output_type": "stream",
     "text": [
      "<class 'pandas.core.frame.DataFrame'>\n",
      "RangeIndex: 608304 entries, 0 to 608303\n",
      "Data columns (total 64 columns):\n",
      " #   Column                Non-Null Count   Dtype         \n",
      "---  ------                --------------   -----         \n",
      " 0   city_latitude         608304 non-null  float64       \n",
      " 1   city_longitude        608304 non-null  float64       \n",
      " 2   city_resolvedAddress  608304 non-null  object        \n",
      " 3   city_address          608304 non-null  object        \n",
      " 4   city_timezone         608304 non-null  object        \n",
      " 5   city_tzoffset         608304 non-null  float64       \n",
      " 6   day_datetimeEpoch     608304 non-null  int64         \n",
      " 7   day_tempmax           608304 non-null  float64       \n",
      " 8   day_tempmin           608304 non-null  float64       \n",
      " 9   day_temp              608304 non-null  float64       \n",
      " 10  day_feelslikemax      608304 non-null  float64       \n",
      " 11  day_feelslikemin      608304 non-null  float64       \n",
      " 12  day_feelslike         608304 non-null  float64       \n",
      " 13  day_dew               608304 non-null  float64       \n",
      " 14  day_humidity          608304 non-null  float64       \n",
      " 15  day_precip            608304 non-null  float64       \n",
      " 16  day_precipprob        608304 non-null  float64       \n",
      " 17  day_precipcover       608304 non-null  float64       \n",
      " 18  day_snow              608304 non-null  float64       \n",
      " 19  day_snowdepth         608304 non-null  float64       \n",
      " 20  day_windgust          608304 non-null  float64       \n",
      " 21  day_windspeed         608304 non-null  float64       \n",
      " 22  day_winddir           608304 non-null  float64       \n",
      " 23  day_pressure          608304 non-null  float64       \n",
      " 24  day_cloudcover        608304 non-null  float64       \n",
      " 25  day_visibility        552952 non-null  float64       \n",
      " 26  day_solarradiation    607752 non-null  float64       \n",
      " 27  day_solarenergy       607752 non-null  float64       \n",
      " 28  day_uvindex           607752 non-null  float64       \n",
      " 29  day_sunriseEpoch      608304 non-null  int64         \n",
      " 30  day_sunsetEpoch       608304 non-null  int64         \n",
      " 31  day_moonphase         608304 non-null  float64       \n",
      " 32  day_conditions        608304 non-null  object        \n",
      " 33  day_description       608304 non-null  object        \n",
      " 34  day_icon              608304 non-null  object        \n",
      " 35  day_source            608304 non-null  object        \n",
      " 36  day_preciptype        342087 non-null  object        \n",
      " 37  day_stations          608304 non-null  object        \n",
      " 38  hour_datetimeEpoch    608304 non-null  int64         \n",
      " 39  hour_temp             608304 non-null  float64       \n",
      " 40  hour_feelslike        608304 non-null  float64       \n",
      " 41  hour_humidity         608304 non-null  float64       \n",
      " 42  hour_dew              608304 non-null  float64       \n",
      " 43  hour_precip           608304 non-null  float64       \n",
      " 44  hour_precipprob       608304 non-null  float64       \n",
      " 45  hour_snow             608304 non-null  float64       \n",
      " 46  hour_snowdepth        608304 non-null  float64       \n",
      " 47  hour_preciptype       608304 non-null  object        \n",
      " 48  hour_windgust         608304 non-null  float64       \n",
      " 49  hour_windspeed        608304 non-null  float64       \n",
      " 50  hour_winddir          608304 non-null  float64       \n",
      " 51  hour_pressure         608304 non-null  float64       \n",
      " 52  hour_visibility       608304 non-null  float64       \n",
      " 53  hour_cloudcover       608304 non-null  float64       \n",
      " 54  hour_solarradiation   608304 non-null  float64       \n",
      " 55  hour_solarenergy      608147 non-null  float64       \n",
      " 56  hour_uvindex          608304 non-null  float64       \n",
      " 57  hour_conditions       608304 non-null  object        \n",
      " 58  hour_icon             608304 non-null  object        \n",
      " 59  hour_source           608304 non-null  object        \n",
      " 60  hour_stations         608304 non-null  object        \n",
      " 61  datetime              608304 non-null  datetime64[ns]\n",
      " 62  sunrise_datetime      608304 non-null  datetime64[ns]\n",
      " 63  sunset_datetime       608304 non-null  datetime64[ns]\n",
      "dtypes: datetime64[ns](3), float64(43), int64(4), object(14)\n",
      "memory usage: 297.0+ MB\n"
     ]
    }
   ],
   "execution_count": 33
  },
  {
   "metadata": {},
   "cell_type": "markdown",
   "source": [
    "Currently, only one column still contains missing values and won't be dropped,\n",
    "so we will apply the **backfill (`bfill`)** method specifically to that column to handle the remaining gaps."
   ],
   "id": "17fb0ae84e276ebe"
  },
  {
   "metadata": {
    "ExecuteTime": {
     "end_time": "2025-04-09T13:30:16.013089Z",
     "start_time": "2025-04-09T13:30:15.944292Z"
    }
   },
   "cell_type": "code",
   "source": "weather[\"hour_solarenergy\"] = weather.groupby(\"city_address\")[\"hour_solarenergy\"].bfill()",
   "id": "830becfd1d682abc",
   "outputs": [],
   "execution_count": 34
  },
  {
   "metadata": {
    "ExecuteTime": {
     "end_time": "2025-04-09T13:30:22.372001Z",
     "start_time": "2025-04-09T13:30:22.061814Z"
    }
   },
   "cell_type": "code",
   "source": "weather.info()",
   "id": "15b1e24473dd9cee",
   "outputs": [
    {
     "name": "stdout",
     "output_type": "stream",
     "text": [
      "<class 'pandas.core.frame.DataFrame'>\n",
      "RangeIndex: 608304 entries, 0 to 608303\n",
      "Data columns (total 64 columns):\n",
      " #   Column                Non-Null Count   Dtype         \n",
      "---  ------                --------------   -----         \n",
      " 0   city_latitude         608304 non-null  float64       \n",
      " 1   city_longitude        608304 non-null  float64       \n",
      " 2   city_resolvedAddress  608304 non-null  object        \n",
      " 3   city_address          608304 non-null  object        \n",
      " 4   city_timezone         608304 non-null  object        \n",
      " 5   city_tzoffset         608304 non-null  float64       \n",
      " 6   day_datetimeEpoch     608304 non-null  int64         \n",
      " 7   day_tempmax           608304 non-null  float64       \n",
      " 8   day_tempmin           608304 non-null  float64       \n",
      " 9   day_temp              608304 non-null  float64       \n",
      " 10  day_feelslikemax      608304 non-null  float64       \n",
      " 11  day_feelslikemin      608304 non-null  float64       \n",
      " 12  day_feelslike         608304 non-null  float64       \n",
      " 13  day_dew               608304 non-null  float64       \n",
      " 14  day_humidity          608304 non-null  float64       \n",
      " 15  day_precip            608304 non-null  float64       \n",
      " 16  day_precipprob        608304 non-null  float64       \n",
      " 17  day_precipcover       608304 non-null  float64       \n",
      " 18  day_snow              608304 non-null  float64       \n",
      " 19  day_snowdepth         608304 non-null  float64       \n",
      " 20  day_windgust          608304 non-null  float64       \n",
      " 21  day_windspeed         608304 non-null  float64       \n",
      " 22  day_winddir           608304 non-null  float64       \n",
      " 23  day_pressure          608304 non-null  float64       \n",
      " 24  day_cloudcover        608304 non-null  float64       \n",
      " 25  day_visibility        552952 non-null  float64       \n",
      " 26  day_solarradiation    607752 non-null  float64       \n",
      " 27  day_solarenergy       607752 non-null  float64       \n",
      " 28  day_uvindex           607752 non-null  float64       \n",
      " 29  day_sunriseEpoch      608304 non-null  int64         \n",
      " 30  day_sunsetEpoch       608304 non-null  int64         \n",
      " 31  day_moonphase         608304 non-null  float64       \n",
      " 32  day_conditions        608304 non-null  object        \n",
      " 33  day_description       608304 non-null  object        \n",
      " 34  day_icon              608304 non-null  object        \n",
      " 35  day_source            608304 non-null  object        \n",
      " 36  day_preciptype        342087 non-null  object        \n",
      " 37  day_stations          608304 non-null  object        \n",
      " 38  hour_datetimeEpoch    608304 non-null  int64         \n",
      " 39  hour_temp             608304 non-null  float64       \n",
      " 40  hour_feelslike        608304 non-null  float64       \n",
      " 41  hour_humidity         608304 non-null  float64       \n",
      " 42  hour_dew              608304 non-null  float64       \n",
      " 43  hour_precip           608304 non-null  float64       \n",
      " 44  hour_precipprob       608304 non-null  float64       \n",
      " 45  hour_snow             608304 non-null  float64       \n",
      " 46  hour_snowdepth        608304 non-null  float64       \n",
      " 47  hour_preciptype       608304 non-null  object        \n",
      " 48  hour_windgust         608304 non-null  float64       \n",
      " 49  hour_windspeed        608304 non-null  float64       \n",
      " 50  hour_winddir          608304 non-null  float64       \n",
      " 51  hour_pressure         608304 non-null  float64       \n",
      " 52  hour_visibility       608304 non-null  float64       \n",
      " 53  hour_cloudcover       608304 non-null  float64       \n",
      " 54  hour_solarradiation   608304 non-null  float64       \n",
      " 55  hour_solarenergy      608304 non-null  float64       \n",
      " 56  hour_uvindex          608304 non-null  float64       \n",
      " 57  hour_conditions       608304 non-null  object        \n",
      " 58  hour_icon             608304 non-null  object        \n",
      " 59  hour_source           608304 non-null  object        \n",
      " 60  hour_stations         608304 non-null  object        \n",
      " 61  datetime              608304 non-null  datetime64[ns]\n",
      " 62  sunrise_datetime      608304 non-null  datetime64[ns]\n",
      " 63  sunset_datetime       608304 non-null  datetime64[ns]\n",
      "dtypes: datetime64[ns](3), float64(43), int64(4), object(14)\n",
      "memory usage: 297.0+ MB\n"
     ]
    }
   ],
   "execution_count": 35
  },
  {
   "metadata": {},
   "cell_type": "markdown",
   "source": [
    "With this, our missing value handling is complete.\n",
    "While it's possible that some information was lost during the process, this is often an acceptable trade-off for achieving a clean and consistent dataset suitable for further analysis and modeling."
   ],
   "id": "cd8704b55eae6aac"
  },
  {
   "metadata": {},
   "cell_type": "markdown",
   "source": "## Feature Analysis",
   "id": "a7ae289e555934ec"
  },
  {
   "metadata": {},
   "cell_type": "markdown",
   "source": "### Analysis of Day_ Features",
   "id": "b1c41de1bbc3c799"
  },
  {
   "metadata": {},
   "cell_type": "markdown",
   "source": "As we observed earlier, the `day_` features are closely related to the `hour_` features. Since we store data on an hourly basis, these `day_` features are not necessary for our analysis. Let's now examine the other `day_` features to determine if they are required for our future analysis.\n",
   "id": "a5a2f3465d4ad03a"
  },
  {
   "metadata": {},
   "cell_type": "markdown",
   "source": "1) **Temperature** (`tempmax`, `tempmin`, `temp`, `feelslike`, `feelslikemax`, `feelslikemin`)\n",
   "id": "5018faaf423387d0"
  },
  {
   "metadata": {},
   "cell_type": "markdown",
   "source": "These features are self-explanatory based on their names. Temperature-related attributes, such as `tempmax`, `tempmin`, `temp`, are valuable for our analysis. However, the `feelslike` attributes (including `hour_feelslike`) are less relevant, as they represent subjective perceptions of temperature, whereas we are interested in objective data (factual values).",
   "id": "d180b9ab4f563282"
  },
  {
   "metadata": {},
   "cell_type": "markdown",
   "source": "2) **Dew, Humidity**",
   "id": "8251546ccef9ab83"
  },
  {
   "metadata": {
    "ExecuteTime": {
     "end_time": "2025-04-09T13:48:10.653425Z",
     "start_time": "2025-04-09T13:48:10.633132Z"
    }
   },
   "cell_type": "code",
   "source": "weather[[\"datetime\", \"day_dew\", \"hour_dew\", \"day_humidity\", \"hour_humidity\"]]",
   "id": "1c90b3f6bff90979",
   "outputs": [
    {
     "data": {
      "text/plain": [
       "                  datetime  day_dew  hour_dew  day_humidity  hour_humidity\n",
       "0      2022-02-24 00:00:00      0.0       0.8          83.7          89.18\n",
       "1      2022-02-24 01:00:00      0.0       0.6          83.7          87.90\n",
       "2      2022-02-24 02:00:00      0.0       1.2          83.7          88.58\n",
       "3      2022-02-24 03:00:00      0.0       0.3          83.7          86.63\n",
       "4      2022-02-24 04:00:00      0.0       0.1          83.7          87.85\n",
       "...                    ...      ...       ...           ...            ...\n",
       "608299 2025-03-01 19:00:00     -5.9      -5.5          81.2          73.09\n",
       "608300 2025-03-01 20:00:00     -5.9      -4.6          81.2          81.17\n",
       "608301 2025-03-01 21:00:00     -5.9      -6.1          81.2          68.31\n",
       "608302 2025-03-01 22:00:00     -5.9      -6.2          81.2          71.36\n",
       "608303 2025-03-01 23:00:00     -5.9      -4.3          81.2          84.88\n",
       "\n",
       "[608304 rows x 5 columns]"
      ],
      "text/html": [
       "<div>\n",
       "<style scoped>\n",
       "    .dataframe tbody tr th:only-of-type {\n",
       "        vertical-align: middle;\n",
       "    }\n",
       "\n",
       "    .dataframe tbody tr th {\n",
       "        vertical-align: top;\n",
       "    }\n",
       "\n",
       "    .dataframe thead th {\n",
       "        text-align: right;\n",
       "    }\n",
       "</style>\n",
       "<table border=\"1\" class=\"dataframe\">\n",
       "  <thead>\n",
       "    <tr style=\"text-align: right;\">\n",
       "      <th></th>\n",
       "      <th>datetime</th>\n",
       "      <th>day_dew</th>\n",
       "      <th>hour_dew</th>\n",
       "      <th>day_humidity</th>\n",
       "      <th>hour_humidity</th>\n",
       "    </tr>\n",
       "  </thead>\n",
       "  <tbody>\n",
       "    <tr>\n",
       "      <th>0</th>\n",
       "      <td>2022-02-24 00:00:00</td>\n",
       "      <td>0.0</td>\n",
       "      <td>0.8</td>\n",
       "      <td>83.7</td>\n",
       "      <td>89.18</td>\n",
       "    </tr>\n",
       "    <tr>\n",
       "      <th>1</th>\n",
       "      <td>2022-02-24 01:00:00</td>\n",
       "      <td>0.0</td>\n",
       "      <td>0.6</td>\n",
       "      <td>83.7</td>\n",
       "      <td>87.90</td>\n",
       "    </tr>\n",
       "    <tr>\n",
       "      <th>2</th>\n",
       "      <td>2022-02-24 02:00:00</td>\n",
       "      <td>0.0</td>\n",
       "      <td>1.2</td>\n",
       "      <td>83.7</td>\n",
       "      <td>88.58</td>\n",
       "    </tr>\n",
       "    <tr>\n",
       "      <th>3</th>\n",
       "      <td>2022-02-24 03:00:00</td>\n",
       "      <td>0.0</td>\n",
       "      <td>0.3</td>\n",
       "      <td>83.7</td>\n",
       "      <td>86.63</td>\n",
       "    </tr>\n",
       "    <tr>\n",
       "      <th>4</th>\n",
       "      <td>2022-02-24 04:00:00</td>\n",
       "      <td>0.0</td>\n",
       "      <td>0.1</td>\n",
       "      <td>83.7</td>\n",
       "      <td>87.85</td>\n",
       "    </tr>\n",
       "    <tr>\n",
       "      <th>...</th>\n",
       "      <td>...</td>\n",
       "      <td>...</td>\n",
       "      <td>...</td>\n",
       "      <td>...</td>\n",
       "      <td>...</td>\n",
       "    </tr>\n",
       "    <tr>\n",
       "      <th>608299</th>\n",
       "      <td>2025-03-01 19:00:00</td>\n",
       "      <td>-5.9</td>\n",
       "      <td>-5.5</td>\n",
       "      <td>81.2</td>\n",
       "      <td>73.09</td>\n",
       "    </tr>\n",
       "    <tr>\n",
       "      <th>608300</th>\n",
       "      <td>2025-03-01 20:00:00</td>\n",
       "      <td>-5.9</td>\n",
       "      <td>-4.6</td>\n",
       "      <td>81.2</td>\n",
       "      <td>81.17</td>\n",
       "    </tr>\n",
       "    <tr>\n",
       "      <th>608301</th>\n",
       "      <td>2025-03-01 21:00:00</td>\n",
       "      <td>-5.9</td>\n",
       "      <td>-6.1</td>\n",
       "      <td>81.2</td>\n",
       "      <td>68.31</td>\n",
       "    </tr>\n",
       "    <tr>\n",
       "      <th>608302</th>\n",
       "      <td>2025-03-01 22:00:00</td>\n",
       "      <td>-5.9</td>\n",
       "      <td>-6.2</td>\n",
       "      <td>81.2</td>\n",
       "      <td>71.36</td>\n",
       "    </tr>\n",
       "    <tr>\n",
       "      <th>608303</th>\n",
       "      <td>2025-03-01 23:00:00</td>\n",
       "      <td>-5.9</td>\n",
       "      <td>-4.3</td>\n",
       "      <td>81.2</td>\n",
       "      <td>84.88</td>\n",
       "    </tr>\n",
       "  </tbody>\n",
       "</table>\n",
       "<p>608304 rows × 5 columns</p>\n",
       "</div>"
      ]
     },
     "execution_count": 36,
     "metadata": {},
     "output_type": "execute_result"
    }
   ],
   "execution_count": 36
  },
  {
   "metadata": {
    "ExecuteTime": {
     "end_time": "2025-04-09T13:49:26.336522Z",
     "start_time": "2025-04-09T13:49:26.331060Z"
    }
   },
   "cell_type": "code",
   "source": "weather[\"hour_dew\"].iloc[:24].mean()",
   "id": "a6a1af9178e7ee1b",
   "outputs": [
    {
     "data": {
      "text/plain": [
       "np.float64(0.04583333333333339)"
      ]
     },
     "execution_count": 39,
     "metadata": {},
     "output_type": "execute_result"
    }
   ],
   "execution_count": 39
  },
  {
   "metadata": {
    "ExecuteTime": {
     "end_time": "2025-04-09T13:49:33.029979Z",
     "start_time": "2025-04-09T13:49:33.024550Z"
    }
   },
   "cell_type": "code",
   "source": "weather[\"hour_humidity\"].iloc[:24].mean()",
   "id": "23555a8a4086793c",
   "outputs": [
    {
     "data": {
      "text/plain": [
       "np.float64(83.66458333333333)"
      ]
     },
     "execution_count": 40,
     "metadata": {},
     "output_type": "execute_result"
    }
   ],
   "execution_count": 40
  },
  {
   "metadata": {},
   "cell_type": "markdown",
   "source": "Since `day_dew` and `day_humidity` simply represent the mean of the corresponding hourly values, they can be easily dropped.",
   "id": "669dbce8a30d133a"
  },
  {
   "metadata": {},
   "cell_type": "code",
   "outputs": [],
   "execution_count": null,
   "source": [
    "weather.drop([\"day_visibility\", \"day_solarenergy\", \"day_solarradiation\", \"day_uvindex\", \"day_preciptype\", \"day_precip\",\n",
    "              \"hour_feelslike\", \"day_feelslikemax\", \"day_feelslikemin\", \"day_feelslike\", \"day_dew\", \"day_humidity\"],\n",
    "             axis=1,\n",
    "             inplace=True)"
   ],
   "id": "af0ce08ad46e0095"
  }
 ],
 "metadata": {
  "kernelspec": {
   "display_name": "Python 3",
   "language": "python",
   "name": "python3"
  },
  "language_info": {
   "codemirror_mode": {
    "name": "ipython",
    "version": 2
   },
   "file_extension": ".py",
   "mimetype": "text/x-python",
   "name": "python",
   "nbconvert_exporter": "python",
   "pygments_lexer": "ipython2",
   "version": "2.7.6"
  }
 },
 "nbformat": 4,
 "nbformat_minor": 5
}
