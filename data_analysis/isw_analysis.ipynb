{
 "cells": [
  {
   "cell_type": "markdown",
   "source": "Import necessary libraries",
   "metadata": {
    "collapsed": false
   },
   "id": "86abd652ce43d44d"
  },
  {
   "cell_type": "code",
   "id": "initial_id",
   "metadata": {
    "collapsed": true,
    "ExecuteTime": {
     "end_time": "2025-04-12T18:32:14.364516Z",
     "start_time": "2025-04-12T18:32:12.891908Z"
    }
   },
   "source": [
    "from pymongo import MongoClient\n",
    "import pandas as pd\n",
    "import matplotlib.pyplot as plt\n",
    "from sklearn.feature_extraction.text import TfidfVectorizer\n",
    "import seaborn as sns\n",
    "import nltk\n",
    "from nltk.corpus import stopwords\n",
    "from nltk.stem import WordNetLemmatizer, PorterStemmer\n",
    "from nltk.tokenize import word_tokenize\n",
    "import re\n",
    "import datetime"
   ],
   "outputs": [],
   "execution_count": 1
  },
  {
   "cell_type": "markdown",
   "source": "Connect to MongoDB",
   "metadata": {
    "collapsed": false
   },
   "id": "dd7a664aeb4de37b"
  },
  {
   "cell_type": "code",
   "source": [
    "client = MongoClient(\"mongodb://localhost:27017/\")\n",
    "db = client[\"PythonForDs\"]\n",
    "collection = db[\"isw_report\"]\n",
    "cursor = collection.find()\n",
    "isw = pd.DataFrame(list(cursor))"
   ],
   "metadata": {
    "collapsed": false,
    "ExecuteTime": {
     "end_time": "2025-04-12T18:32:14.563743Z",
     "start_time": "2025-04-12T18:32:14.368566Z"
    }
   },
   "id": "bba38d2612a3a9a2",
   "outputs": [],
   "execution_count": 2
  },
  {
   "cell_type": "markdown",
   "source": "### Dataset analysis",
   "metadata": {
    "collapsed": false
   },
   "id": "acf6d353e86f6f4c"
  },
  {
   "metadata": {
    "ExecuteTime": {
     "end_time": "2025-04-12T18:32:14.872378Z",
     "start_time": "2025-04-12T18:32:14.861296Z"
    }
   },
   "cell_type": "code",
   "source": "isw.head()",
   "id": "eaefe7e70d3e703e",
   "outputs": [
    {
     "data": {
      "text/plain": [
       "                        _id       date  \\\n",
       "0  67f550bac09cc2ad19d56069 2022-02-25   \n",
       "1  67f550bac09cc2ad19d5606a 2022-02-26   \n",
       "2  67f550bac09cc2ad19d5606b 2022-02-27   \n",
       "3  67f550bac09cc2ad19d5606c 2022-02-28   \n",
       "4  67f550bac09cc2ad19d5606d 2022-03-01   \n",
       "\n",
       "                                      extracted_text  \n",
       "0  Russian forces entered major Ukrainian cities—...  \n",
       "1  Russian forces’ main axes of advance in the la...  \n",
       "2  The Russian military has likely recognized tha...  \n",
       "3  The Russian military is reorganizing its milit...  \n",
       "4  Russian forces are completing the reinforcemen...  "
      ],
      "text/html": [
       "<div>\n",
       "<style scoped>\n",
       "    .dataframe tbody tr th:only-of-type {\n",
       "        vertical-align: middle;\n",
       "    }\n",
       "\n",
       "    .dataframe tbody tr th {\n",
       "        vertical-align: top;\n",
       "    }\n",
       "\n",
       "    .dataframe thead th {\n",
       "        text-align: right;\n",
       "    }\n",
       "</style>\n",
       "<table border=\"1\" class=\"dataframe\">\n",
       "  <thead>\n",
       "    <tr style=\"text-align: right;\">\n",
       "      <th></th>\n",
       "      <th>_id</th>\n",
       "      <th>date</th>\n",
       "      <th>extracted_text</th>\n",
       "    </tr>\n",
       "  </thead>\n",
       "  <tbody>\n",
       "    <tr>\n",
       "      <th>0</th>\n",
       "      <td>67f550bac09cc2ad19d56069</td>\n",
       "      <td>2022-02-25</td>\n",
       "      <td>Russian forces entered major Ukrainian cities—...</td>\n",
       "    </tr>\n",
       "    <tr>\n",
       "      <th>1</th>\n",
       "      <td>67f550bac09cc2ad19d5606a</td>\n",
       "      <td>2022-02-26</td>\n",
       "      <td>Russian forces’ main axes of advance in the la...</td>\n",
       "    </tr>\n",
       "    <tr>\n",
       "      <th>2</th>\n",
       "      <td>67f550bac09cc2ad19d5606b</td>\n",
       "      <td>2022-02-27</td>\n",
       "      <td>The Russian military has likely recognized tha...</td>\n",
       "    </tr>\n",
       "    <tr>\n",
       "      <th>3</th>\n",
       "      <td>67f550bac09cc2ad19d5606c</td>\n",
       "      <td>2022-02-28</td>\n",
       "      <td>The Russian military is reorganizing its milit...</td>\n",
       "    </tr>\n",
       "    <tr>\n",
       "      <th>4</th>\n",
       "      <td>67f550bac09cc2ad19d5606d</td>\n",
       "      <td>2022-03-01</td>\n",
       "      <td>Russian forces are completing the reinforcemen...</td>\n",
       "    </tr>\n",
       "  </tbody>\n",
       "</table>\n",
       "</div>"
      ]
     },
     "execution_count": 3,
     "metadata": {},
     "output_type": "execute_result"
    }
   ],
   "execution_count": 3
  },
  {
   "metadata": {},
   "cell_type": "markdown",
   "source": [
    "### Text Cleaning Process\n",
    "\n",
    "We clean the text by applying the following steps:\n",
    "\n",
    "- **Remove unknown symbols**: Remove any characters that are not letters or spaces.\n",
    "- **Convert to lowercase**: Change all characters to lowercase for uniformity.\n",
    "- **Remove small words**: Eliminate short words (1-2 characters) that do not add significant meaning.\n",
    "- **Remove digits**: Remove any numerical values.\n",
    "- **Eliminate punctuation**: Remove punctuation marks and keep only words and spaces.\n",
    "- **Strip extra spaces**: Eliminate any extra spaces, reducing them to a single space and removing leading/trailing spaces."
   ],
   "id": "ffed96ed40bc0e1e"
  },
  {
   "metadata": {
    "ExecuteTime": {
     "end_time": "2025-04-12T18:32:17.474716Z",
     "start_time": "2025-04-12T18:32:14.909003Z"
    }
   },
   "cell_type": "code",
   "source": [
    "def clean_text(text):\n",
    "    text = re.sub(r\"[^a-zA-Z\\s]\", \"\", text)\n",
    "    text = text.lower()\n",
    "    text = re.sub(r\"\\d+\", \"\", text)\n",
    "    text = re.sub(r\"\\b\\w{1,2}\\b\", \"\", text)\n",
    "    text = re.sub(r\"[^\\w\\s]\", \" \", text)\n",
    "    text = re.sub(r\"\\s+\", \" \", text).strip()\n",
    "    return text\n",
    "\n",
    "\n",
    "isw[\"cleaned_text\"] = isw[\"extracted_text\"].apply(clean_text)"
   ],
   "id": "1f33e5fdbf1aa806",
   "outputs": [],
   "execution_count": 4
  },
  {
   "metadata": {},
   "cell_type": "markdown",
   "source": "Download necessary NLTK models",
   "id": "3545b3ad8612b893"
  },
  {
   "metadata": {
    "ExecuteTime": {
     "end_time": "2025-04-12T18:32:17.508514Z",
     "start_time": "2025-04-12T18:32:17.503676Z"
    }
   },
   "cell_type": "code",
   "source": [
    "# nltk.download(\"punkt_tab\")\n",
    "# nltk.download(\"stopwords\")\n",
    "# nltk.download(\"wordnet\")"
   ],
   "id": "1e133de72a8e84d",
   "outputs": [],
   "execution_count": 5
  },
  {
   "metadata": {},
   "cell_type": "markdown",
   "source": "> Uncomment this line when you run this for the first time.",
   "id": "a691c29d5108b06"
  },
  {
   "cell_type": "markdown",
   "source": "**Tokenize** the words from the cleaned text",
   "metadata": {
    "collapsed": false
   },
   "id": "3565e3adb6d5a77e"
  },
  {
   "metadata": {
    "ExecuteTime": {
     "end_time": "2025-04-12T18:32:25.412812Z",
     "start_time": "2025-04-12T18:32:17.524731Z"
    }
   },
   "cell_type": "code",
   "source": "isw[\"tokens\"] = isw[\"cleaned_text\"].apply(word_tokenize)",
   "id": "dd64199ae41cb6a3",
   "outputs": [],
   "execution_count": 6
  },
  {
   "cell_type": "markdown",
   "source": "Remove **stopwords** (like \"the\", \"and\", \"is\", etc.) from the tokenized words.",
   "metadata": {
    "collapsed": false
   },
   "id": "a53e9362bcc981b3"
  },
  {
   "metadata": {
    "ExecuteTime": {
     "end_time": "2025-04-12T18:32:25.697545Z",
     "start_time": "2025-04-12T18:32:25.423159Z"
    }
   },
   "cell_type": "code",
   "source": [
    "stop_words = set(stopwords.words(\"english\"))\n",
    "months = {\n",
    "    \"january\", \"february\", \"march\", \"april\", \"may\", \"june\",\n",
    "    \"july\", \"august\", \"september\", \"october\", \"november\", \"december\"\n",
    "}\n",
    "\n",
    "isw[\"no_stopwords\"] = isw[\"tokens\"].apply(\n",
    "    lambda words: [word for word in words if word not in stop_words and word not in months]\n",
    ")"
   ],
   "id": "3e445e6f304edddf",
   "outputs": [],
   "execution_count": 7
  },
  {
   "cell_type": "markdown",
   "source": "Perform **lemmatization** on the words",
   "metadata": {
    "collapsed": false
   },
   "id": "db3e84d7b37b0e5b"
  },
  {
   "metadata": {
    "ExecuteTime": {
     "end_time": "2025-04-12T18:32:33.244996Z",
     "start_time": "2025-04-12T18:32:25.709677Z"
    }
   },
   "cell_type": "code",
   "source": [
    "lemmatizer = WordNetLemmatizer()\n",
    "isw[\"lemmatized\"] = isw[\"no_stopwords\"].apply(\n",
    "    lambda words: [lemmatizer.lemmatize(word) for word in words]\n",
    ")"
   ],
   "id": "42f11d11433059e3",
   "outputs": [],
   "execution_count": 8
  },
  {
   "metadata": {},
   "cell_type": "markdown",
   "source": "Apply **stemming** to the words",
   "id": "ebe3d834cf930d70"
  },
  {
   "metadata": {
    "ExecuteTime": {
     "end_time": "2025-04-12T18:32:54.907796Z",
     "start_time": "2025-04-12T18:32:33.257706Z"
    }
   },
   "cell_type": "code",
   "source": [
    "stemmer = PorterStemmer()\n",
    "isw[\"stemmed\"] = isw[\"no_stopwords\"].apply(\n",
    "    lambda words: [stemmer.stem(word) for word in words]\n",
    ")"
   ],
   "id": "7297d3d4ab7d0f81",
   "outputs": [],
   "execution_count": 9
  },
  {
   "cell_type": "markdown",
   "source": "Convert the tokens back into text",
   "metadata": {
    "collapsed": false
   },
   "id": "fbb02bcbb49c581d"
  },
  {
   "metadata": {
    "ExecuteTime": {
     "end_time": "2025-04-12T18:32:55.023231Z",
     "start_time": "2025-04-12T18:32:54.921539Z"
    }
   },
   "cell_type": "code",
   "source": [
    "isw[\"lemmatized_text\"] = isw[\"lemmatized\"].apply(lambda x: \" \".join(x))\n",
    "isw[\"stemmed_text\"] = isw[\"stemmed\"].apply(lambda x: \" \".join(x))"
   ],
   "id": "b2813f05debb0cec",
   "outputs": [],
   "execution_count": 10
  },
  {
   "metadata": {
    "ExecuteTime": {
     "end_time": "2025-04-12T18:32:55.056080Z",
     "start_time": "2025-04-12T18:32:55.038422Z"
    }
   },
   "cell_type": "code",
   "source": "isw.head()",
   "id": "39ab79b1ebdd8037",
   "outputs": [
    {
     "data": {
      "text/plain": [
       "                        _id       date  \\\n",
       "0  67f550bac09cc2ad19d56069 2022-02-25   \n",
       "1  67f550bac09cc2ad19d5606a 2022-02-26   \n",
       "2  67f550bac09cc2ad19d5606b 2022-02-27   \n",
       "3  67f550bac09cc2ad19d5606c 2022-02-28   \n",
       "4  67f550bac09cc2ad19d5606d 2022-03-01   \n",
       "\n",
       "                                      extracted_text  \\\n",
       "0  Russian forces entered major Ukrainian cities—...   \n",
       "1  Russian forces’ main axes of advance in the la...   \n",
       "2  The Russian military has likely recognized tha...   \n",
       "3  The Russian military is reorganizing its milit...   \n",
       "4  Russian forces are completing the reinforcemen...   \n",
       "\n",
       "                                        cleaned_text  \\\n",
       "0  russian forces entered major ukrainian citiesi...   \n",
       "1  russian forces main axes advance the last hour...   \n",
       "2  the russian military has likely recognized tha...   \n",
       "3  the russian military reorganizing its military...   \n",
       "4  russian forces are completing the reinforcemen...   \n",
       "\n",
       "                                              tokens  \\\n",
       "0  [russian, forces, entered, major, ukrainian, c...   \n",
       "1  [russian, forces, main, axes, advance, the, la...   \n",
       "2  [the, russian, military, has, likely, recogniz...   \n",
       "3  [the, russian, military, reorganizing, its, mi...   \n",
       "4  [russian, forces, are, completing, the, reinfo...   \n",
       "\n",
       "                                        no_stopwords  \\\n",
       "0  [russian, forces, entered, major, ukrainian, c...   \n",
       "1  [russian, forces, main, axes, advance, last, h...   \n",
       "2  [russian, military, likely, recognized, initia...   \n",
       "3  [russian, military, reorganizing, military, ef...   \n",
       "4  [russian, forces, completing, reinforcement, r...   \n",
       "\n",
       "                                          lemmatized  \\\n",
       "0  [russian, force, entered, major, ukrainian, ci...   \n",
       "1  [russian, force, main, ax, advance, last, hour...   \n",
       "2  [russian, military, likely, recognized, initia...   \n",
       "3  [russian, military, reorganizing, military, ef...   \n",
       "4  [russian, force, completing, reinforcement, re...   \n",
       "\n",
       "                                             stemmed  \\\n",
       "0  [russian, forc, enter, major, ukrainian, citie...   \n",
       "1  [russian, forc, main, axe, advanc, last, hour,...   \n",
       "2  [russian, militari, like, recogn, initi, expec...   \n",
       "3  [russian, militari, reorgan, militari, effort,...   \n",
       "4  [russian, forc, complet, reinforc, resuppli, t...   \n",
       "\n",
       "                                     lemmatized_text  \\\n",
       "0  russian force entered major ukrainian citiesin...   \n",
       "1  russian force main ax advance last hour focuse...   \n",
       "2  russian military likely recognized initial exp...   \n",
       "3  russian military reorganizing military effort ...   \n",
       "4  russian force completing reinforcement resuppl...   \n",
       "\n",
       "                                        stemmed_text  \n",
       "0  russian forc enter major ukrainian citiesinclu...  \n",
       "1  russian forc main axe advanc last hour focus k...  \n",
       "2  russian militari like recogn initi expect limi...  \n",
       "3  russian militari reorgan militari effort attem...  \n",
       "4  russian forc complet reinforc resuppli troop n...  "
      ],
      "text/html": [
       "<div>\n",
       "<style scoped>\n",
       "    .dataframe tbody tr th:only-of-type {\n",
       "        vertical-align: middle;\n",
       "    }\n",
       "\n",
       "    .dataframe tbody tr th {\n",
       "        vertical-align: top;\n",
       "    }\n",
       "\n",
       "    .dataframe thead th {\n",
       "        text-align: right;\n",
       "    }\n",
       "</style>\n",
       "<table border=\"1\" class=\"dataframe\">\n",
       "  <thead>\n",
       "    <tr style=\"text-align: right;\">\n",
       "      <th></th>\n",
       "      <th>_id</th>\n",
       "      <th>date</th>\n",
       "      <th>extracted_text</th>\n",
       "      <th>cleaned_text</th>\n",
       "      <th>tokens</th>\n",
       "      <th>no_stopwords</th>\n",
       "      <th>lemmatized</th>\n",
       "      <th>stemmed</th>\n",
       "      <th>lemmatized_text</th>\n",
       "      <th>stemmed_text</th>\n",
       "    </tr>\n",
       "  </thead>\n",
       "  <tbody>\n",
       "    <tr>\n",
       "      <th>0</th>\n",
       "      <td>67f550bac09cc2ad19d56069</td>\n",
       "      <td>2022-02-25</td>\n",
       "      <td>Russian forces entered major Ukrainian cities—...</td>\n",
       "      <td>russian forces entered major ukrainian citiesi...</td>\n",
       "      <td>[russian, forces, entered, major, ukrainian, c...</td>\n",
       "      <td>[russian, forces, entered, major, ukrainian, c...</td>\n",
       "      <td>[russian, force, entered, major, ukrainian, ci...</td>\n",
       "      <td>[russian, forc, enter, major, ukrainian, citie...</td>\n",
       "      <td>russian force entered major ukrainian citiesin...</td>\n",
       "      <td>russian forc enter major ukrainian citiesinclu...</td>\n",
       "    </tr>\n",
       "    <tr>\n",
       "      <th>1</th>\n",
       "      <td>67f550bac09cc2ad19d5606a</td>\n",
       "      <td>2022-02-26</td>\n",
       "      <td>Russian forces’ main axes of advance in the la...</td>\n",
       "      <td>russian forces main axes advance the last hour...</td>\n",
       "      <td>[russian, forces, main, axes, advance, the, la...</td>\n",
       "      <td>[russian, forces, main, axes, advance, last, h...</td>\n",
       "      <td>[russian, force, main, ax, advance, last, hour...</td>\n",
       "      <td>[russian, forc, main, axe, advanc, last, hour,...</td>\n",
       "      <td>russian force main ax advance last hour focuse...</td>\n",
       "      <td>russian forc main axe advanc last hour focus k...</td>\n",
       "    </tr>\n",
       "    <tr>\n",
       "      <th>2</th>\n",
       "      <td>67f550bac09cc2ad19d5606b</td>\n",
       "      <td>2022-02-27</td>\n",
       "      <td>The Russian military has likely recognized tha...</td>\n",
       "      <td>the russian military has likely recognized tha...</td>\n",
       "      <td>[the, russian, military, has, likely, recogniz...</td>\n",
       "      <td>[russian, military, likely, recognized, initia...</td>\n",
       "      <td>[russian, military, likely, recognized, initia...</td>\n",
       "      <td>[russian, militari, like, recogn, initi, expec...</td>\n",
       "      <td>russian military likely recognized initial exp...</td>\n",
       "      <td>russian militari like recogn initi expect limi...</td>\n",
       "    </tr>\n",
       "    <tr>\n",
       "      <th>3</th>\n",
       "      <td>67f550bac09cc2ad19d5606c</td>\n",
       "      <td>2022-02-28</td>\n",
       "      <td>The Russian military is reorganizing its milit...</td>\n",
       "      <td>the russian military reorganizing its military...</td>\n",
       "      <td>[the, russian, military, reorganizing, its, mi...</td>\n",
       "      <td>[russian, military, reorganizing, military, ef...</td>\n",
       "      <td>[russian, military, reorganizing, military, ef...</td>\n",
       "      <td>[russian, militari, reorgan, militari, effort,...</td>\n",
       "      <td>russian military reorganizing military effort ...</td>\n",
       "      <td>russian militari reorgan militari effort attem...</td>\n",
       "    </tr>\n",
       "    <tr>\n",
       "      <th>4</th>\n",
       "      <td>67f550bac09cc2ad19d5606d</td>\n",
       "      <td>2022-03-01</td>\n",
       "      <td>Russian forces are completing the reinforcemen...</td>\n",
       "      <td>russian forces are completing the reinforcemen...</td>\n",
       "      <td>[russian, forces, are, completing, the, reinfo...</td>\n",
       "      <td>[russian, forces, completing, reinforcement, r...</td>\n",
       "      <td>[russian, force, completing, reinforcement, re...</td>\n",
       "      <td>[russian, forc, complet, reinforc, resuppli, t...</td>\n",
       "      <td>russian force completing reinforcement resuppl...</td>\n",
       "      <td>russian forc complet reinforc resuppli troop n...</td>\n",
       "    </tr>\n",
       "  </tbody>\n",
       "</table>\n",
       "</div>"
      ]
     },
     "execution_count": 11,
     "metadata": {},
     "output_type": "execute_result"
    }
   ],
   "execution_count": 11
  },
  {
   "cell_type": "markdown",
   "source": [
    "Dropping useless columns"
   ],
   "metadata": {
    "collapsed": false
   },
   "id": "a75e52fe21e488a7"
  },
  {
   "metadata": {
    "ExecuteTime": {
     "end_time": "2025-04-12T18:32:55.148111Z",
     "start_time": "2025-04-12T18:32:55.143358Z"
    }
   },
   "cell_type": "code",
   "source": "isw.drop([\"extracted_text\", \"cleaned_text\", \"tokens\", \"no_stopwords\", \"lemmatized\", \"stemmed\"], axis=1, inplace=True)",
   "id": "d2a5e36f7ca7ee27",
   "outputs": [],
   "execution_count": 12
  },
  {
   "cell_type": "markdown",
   "source": "## Visual Exploration of the ISW Data",
   "metadata": {
    "collapsed": false
   },
   "id": "a11e208506145cbc"
  },
  {
   "metadata": {},
   "cell_type": "markdown",
   "source": "Before plotting, we create a **copy** of the original dataset",
   "id": "f2d96020c3260a53"
  },
  {
   "metadata": {
    "ExecuteTime": {
     "end_time": "2025-04-12T18:32:55.207781Z",
     "start_time": "2025-04-12T18:32:55.202738Z"
    }
   },
   "cell_type": "code",
   "source": "isw_copy = isw.copy()",
   "id": "666b11193f96b7e2",
   "outputs": [],
   "execution_count": 13
  },
  {
   "metadata": {},
   "cell_type": "markdown",
   "source": [
    "### Distribution of text length in ISW Reports\n",
    "This plot shows the distribution of text lengths (in characters) in the ISW reports. The x-axis represents the text length, while the y-axis shows the count of occurrences for each text length. The histogram is plotted with 50 bins and a kernel density estimate (KDE) to visualize the distribution smoothly.\n",
    "\n",
    "Two vertical lines are included:\n",
    "- A red dashed line indicates the mean text length.\n",
    "- A green dashed line marks the median text length."
   ],
   "id": "ffbe2eb9807ba0a3"
  },
  {
   "cell_type": "code",
   "source": [
    "isw_copy[\"text_length\"] = isw_copy[\"lemmatized_text\"].apply(len)\n",
    "plt.figure(figsize=(12, 8))\n",
    "sns.histplot(isw_copy[\"text_length\"], bins=50, kde=True, color=\"teal\")\n",
    "plt.title(\"Distribution of Text Length in ISW Reports\", fontsize=16, fontweight=\"bold\")\n",
    "plt.xlabel(\"Text Length (characters)\", fontsize=12, fontweight=\"bold\")\n",
    "plt.ylabel(\"Count\", fontsize=12, fontweight=\"bold\")\n",
    "plt.axvline(isw_copy[\"text_length\"].mean(), color=\"red\", linestyle=\"--\",\n",
    "            label=f\"Mean: {isw_copy[\"text_length\"].mean():.2f}\")\n",
    "plt.axvline(isw_copy[\"text_length\"].median(), color=\"green\", linestyle=\"--\",\n",
    "            label=f\"Median: {isw_copy[\"text_length\"].median():.2f}\")\n",
    "plt.legend();"
   ],
   "metadata": {
    "collapsed": false,
    "ExecuteTime": {
     "end_time": "2025-04-12T18:32:55.613126Z",
     "start_time": "2025-04-12T18:32:55.274255Z"
    }
   },
   "id": "901811effdf8be0b",
   "outputs": [
    {
     "data": {
      "text/plain": [
       "<Figure size 1200x800 with 1 Axes>"
      ],
      "image/png": "[encoded data removed]"
     },
     "metadata": {},
     "output_type": "display_data"
    }
   ],
   "execution_count": 14
  },
  {
   "metadata": {},
   "cell_type": "markdown",
   "source": [
    "The **histogram** above shows the distribution of text lengths in ISW reports, where most reports range between **15,000** and **25,000 characters**. The **peak** around **18,000 characters** indicates that this is the **most common length** for the reports. The slight **right skew** in the distribution, with the **mean** (**17776.96**) being slightly higher than the **median** (**18084.00**), suggests that a few **longer reports** are influencing the mean, making it appear higher than the median.\n",
    "\n",
    "The **kernel density estimate (KDE)** curve reinforces this observation by showing that the majority of reports are concentrated around **20,000 characters**. While most reports fall within this range, a small number of reports extend beyond it, indicating that they may be **outliers** or **exceptional cases**. The **right tail** of the histogram highlights these **longer reports**. Although the KDE curve is approximately **bell-shaped**, it is not perfectly **normal**, which indicates some **variability** in the report lengths."
   ],
   "id": "c25ba43d36625581"
  },
  {
   "cell_type": "markdown",
   "source": [
    "### Distribution of Word Count in ISW Reports\n",
    "\n",
    "This plot shows the distribution of **word counts** in ISW reports. Similar to the previous plot for text length, this histogram visualizes how the word counts are distributed across all reports, with a **kernel density estimate (KDE)** overlaying the distribution.\n",
    "\n",
    "The **mean** (red dashed line) and **median** (blue dashed line) indicate the central tendency of the word count."
   ],
   "metadata": {
    "collapsed": false
   },
   "id": "81cfc48b2fba92f8"
  },
  {
   "cell_type": "code",
   "source": [
    "isw_copy[\"word_count\"] = isw_copy[\"lemmatized_text\"].apply(lambda x: len(str(x).split()))\n",
    "plt.figure(figsize=(12, 8))\n",
    "sns.histplot(isw_copy[\"word_count\"], bins=50, kde=True, color=\"darkgreen\")\n",
    "plt.title(\"Distribution of Word Count in ISW Reports\", fontsize=16, fontweight=\"bold\")\n",
    "plt.xlabel(\"Word Count\", fontsize=12, fontweight=\"bold\")\n",
    "plt.ylabel(\"Frequency\", fontsize=12, fontweight=\"bold\")\n",
    "plt.axvline(isw_copy[\"word_count\"].mean(), color=\"red\", linestyle=\"--\",\n",
    "            label=f\"Mean: {isw_copy[\"word_count\"].mean():.2f}\")\n",
    "plt.axvline(isw_copy[\"word_count\"].median(), color=\"blue\", linestyle=\"--\",\n",
    "            label=f\"Median: {isw_copy[\"word_count\"].median():.2f}\")\n",
    "plt.legend();"
   ],
   "metadata": {
    "collapsed": false,
    "ExecuteTime": {
     "end_time": "2025-04-12T18:32:55.973900Z",
     "start_time": "2025-04-12T18:32:55.619604Z"
    }
   },
   "id": "202ec1c976ee59e7",
   "outputs": [
    {
     "data": {
      "text/plain": [
       "<Figure size 1200x800 with 1 Axes>"
      ],
      "image/png": "[encoded data removed]"
     },
     "metadata": {},
     "output_type": "display_data"
    }
   ],
   "execution_count": 15
  },
  {
   "metadata": {},
   "cell_type": "markdown",
   "source": [
    "The histogram above displays the **distribution of word counts** in ISW reports, with a **kernel density estimate (KDE)** curve overlaid to highlight the central tendency and spread of the data.\n",
    "\n",
    "- **Mean and Median:** The **mean** (red dashed line) is **2165.63 words**, while the **median** (blue dashed line) is **2202.00 words**. The mean is slightly higher than the median, suggesting a slight **right skew** in the data. This indicates that there are a few reports with exceptionally high word counts that influence the mean, but the majority of reports tend to be closer to the median.\n",
    "\n",
    "- **Distribution:** The histogram reveals a **normal-like distribution**, with the majority of reports falling between **1500** and **3000 words**. The peak of the histogram occurs near the median, around **2300 words**, showing that this is the most frequent word count range in the dataset."
   ],
   "id": "9dcc53e729b4a180"
  },
  {
   "metadata": {},
   "cell_type": "markdown",
   "source": [
    "### Average Text Length Over Time\n",
    "\n",
    "The plot visualizes the **average text length** in ISW reports over time, with the **x-axis representing the date** and the **y-axis showing the average text length** (in characters).\n",
    "\n",
    "This plot highlights the variations in report lengths over time and provides insight into how report length fluctuates on different days."
   ],
   "id": "2aedbb57e8ec09d3"
  },
  {
   "cell_type": "code",
   "source": [
    "plt.figure(figsize=(12, 8))\n",
    "text_length_by_date = isw_copy.groupby(isw_copy[\"date\"].dt.date)[\"text_length\"].mean()\n",
    "text_length_by_date.plot(color=\"purple\", linewidth=2)\n",
    "plt.title(\"Average Text Length Over Time\", fontsize=16, fontweight=\"bold\")\n",
    "plt.xlabel(\"Date\", fontsize=12, fontweight=\"bold\")\n",
    "plt.ylabel(\"Average Text Length (characters)\", fontsize=12, fontweight=\"bold\");"
   ],
   "metadata": {
    "collapsed": false,
    "ExecuteTime": {
     "end_time": "2025-04-12T18:32:56.222704Z",
     "start_time": "2025-04-12T18:32:55.986037Z"
    }
   },
   "id": "55de1ec861f4bde3",
   "outputs": [
    {
     "data": {
      "text/plain": [
       "<Figure size 1200x800 with 1 Axes>"
      ],
      "image/png": "[encoded data removed]"
     },
     "metadata": {},
     "output_type": "display_data"
    }
   ],
   "execution_count": 16
  },
  {
   "cell_type": "markdown",
   "source": [
    "From the plot above we can clearly see that the **number of reports** was significantly lower during the **first few months** of the dataset.\n",
    "\n",
    "This observation led us to two key conclusions:\n",
    "- The initial **ISW scraping script** was missing some reports from the early months.\n",
    "- Reports written at the beginning of the war were generally **shorter** and less detailed compared to later reports.\n",
    "\n",
    "To address these issues, we updated and **re-ran the ISW scraper** to improve coverage, ensuring that early months were better represented in our dataset."
   ],
   "metadata": {
    "collapsed": false
   },
   "id": "ef26b737328d3243"
  },
  {
   "cell_type": "markdown",
   "source": [
    "### Vectorizing Text Data\n",
    "\n",
    "Next, we apply the **TF-IDF (Term Frequency-Inverse Document Frequency)** method to convert the text data into numerical features. The **TfidfVectorizer** transforms the text documents into a matrix of TF-IDF features, capturing the importance of words relative to the entire dataset. This transformation allows us to represent the text in a numerical form that is suitable for further analysis and machine learning models.\n",
    "\n",
    "Below are the key parameters used in the vectorizer:\n",
    "- **`max_features`**: Limits the number of features to the most important words based on their TF-IDF scores.\n",
    "- **`min_df`**: Excludes words that appear in fewer than a specified number of documents, as these are considered too rare to be useful.\n",
    "- **`max_df`**: Excludes words that appear in more than a specified proportion of documents, as these are considered too common to provide useful distinguishing information."
   ],
   "metadata": {
    "collapsed": false
   },
   "id": "3dccb1ae39085dec"
  },
  {
   "metadata": {
    "ExecuteTime": {
     "end_time": "2025-04-12T18:32:56.239206Z",
     "start_time": "2025-04-12T18:32:56.235854Z"
    }
   },
   "cell_type": "code",
   "source": [
    "vectorizer = TfidfVectorizer(\n",
    "    max_features=50,\n",
    "    min_df=10,\n",
    "    max_df=0.9\n",
    ")"
   ],
   "id": "3e7c2e4c96c69e21",
   "outputs": [],
   "execution_count": 17
  },
  {
   "metadata": {
    "ExecuteTime": {
     "end_time": "2025-04-12T18:32:57.509926Z",
     "start_time": "2025-04-12T18:32:56.252091Z"
    }
   },
   "cell_type": "code",
   "source": "tfidf = vectorizer.fit_transform(isw[\"lemmatized_text\"])",
   "id": "60e00fe2e2a21c82",
   "outputs": [],
   "execution_count": 18
  },
  {
   "metadata": {
    "ExecuteTime": {
     "end_time": "2025-04-12T18:32:57.526287Z",
     "start_time": "2025-04-12T18:32:57.521472Z"
    }
   },
   "cell_type": "code",
   "source": [
    "isw_tfidf = pd.DataFrame(tfidf.toarray(), columns=vectorizer.get_feature_names_out())\n",
    "isw_tfidf[\"date\"] = isw[\"date\"].values"
   ],
   "id": "370600001350edf4",
   "outputs": [],
   "execution_count": 19
  },
  {
   "cell_type": "markdown",
   "source": "Now, we have a structured and cleaned dataset with numerical values. This dataset is prepared for further analysis and is ready for future tasks such as merging with other datasets and training machine learning models.",
   "metadata": {
    "collapsed": false
   },
   "id": "dca2c5a7a5df53f1"
  },
  {
   "cell_type": "code",
   "source": "isw_tfidf.head()",
   "metadata": {
    "collapsed": false,
    "ExecuteTime": {
     "end_time": "2025-04-12T18:32:57.565267Z",
     "start_time": "2025-04-12T18:32:57.545799Z"
    }
   },
   "id": "413226620e82eaf7",
   "outputs": [
    {
     "data": {
      "text/plain": [
       "   advanced       air     army  artillery  authority  avdiivka  bakhmut  \\\n",
       "0    0.0000  0.337648  0.00000   0.000000        0.0       0.0      0.0   \n",
       "1    0.1572  0.577055  0.00000   0.141321        0.0       0.0      0.0   \n",
       "2    0.0000  0.383228  0.00000   0.187705        0.0       0.0      0.0   \n",
       "3    0.0000  0.728687  0.00000   0.356910        0.0       0.0      0.0   \n",
       "4    0.0000  0.355161  0.11691   0.463887        0.0       0.0      0.0   \n",
       "\n",
       "    belarus    border   brigade  ...  significant  southeast  southwest  \\\n",
       "0  0.558990  0.333137  0.000000  ...     0.000000        0.0        0.0   \n",
       "1  0.477669  0.142337  0.000000  ...     0.141828        0.0        0.0   \n",
       "2  0.422966  0.000000  0.000000  ...     0.188378        0.0        0.0   \n",
       "3  0.301593  0.000000  0.098086  ...     0.089548        0.0        0.0   \n",
       "4  0.130663  0.000000  0.127485  ...     0.000000        0.0        0.0   \n",
       "\n",
       "      state      unit  unspecified  wagner    within     would       date  \n",
       "0  0.000000  0.000000     0.000000     0.0  0.000000  0.000000 2022-02-25  \n",
       "1  0.000000  0.000000     0.283655     0.0  0.147675  0.152417 2022-02-26  \n",
       "2  0.000000  0.000000     0.000000     0.0  0.000000  0.404887 2022-02-27  \n",
       "3  0.094339  0.000000     0.000000     0.0  0.093240  0.192468 2022-02-28  \n",
       "4  0.000000  0.119993     0.000000     0.0  0.484746  0.000000 2022-03-01  \n",
       "\n",
       "[5 rows x 51 columns]"
      ],
      "text/html": [
       "<div>\n",
       "<style scoped>\n",
       "    .dataframe tbody tr th:only-of-type {\n",
       "        vertical-align: middle;\n",
       "    }\n",
       "\n",
       "    .dataframe tbody tr th {\n",
       "        vertical-align: top;\n",
       "    }\n",
       "\n",
       "    .dataframe thead th {\n",
       "        text-align: right;\n",
       "    }\n",
       "</style>\n",
       "<table border=\"1\" class=\"dataframe\">\n",
       "  <thead>\n",
       "    <tr style=\"text-align: right;\">\n",
       "      <th></th>\n",
       "      <th>advanced</th>\n",
       "      <th>air</th>\n",
       "      <th>army</th>\n",
       "      <th>artillery</th>\n",
       "      <th>authority</th>\n",
       "      <th>avdiivka</th>\n",
       "      <th>bakhmut</th>\n",
       "      <th>belarus</th>\n",
       "      <th>border</th>\n",
       "      <th>brigade</th>\n",
       "      <th>...</th>\n",
       "      <th>significant</th>\n",
       "      <th>southeast</th>\n",
       "      <th>southwest</th>\n",
       "      <th>state</th>\n",
       "      <th>unit</th>\n",
       "      <th>unspecified</th>\n",
       "      <th>wagner</th>\n",
       "      <th>within</th>\n",
       "      <th>would</th>\n",
       "      <th>date</th>\n",
       "    </tr>\n",
       "  </thead>\n",
       "  <tbody>\n",
       "    <tr>\n",
       "      <th>0</th>\n",
       "      <td>0.0000</td>\n",
       "      <td>0.337648</td>\n",
       "      <td>0.00000</td>\n",
       "      <td>0.000000</td>\n",
       "      <td>0.0</td>\n",
       "      <td>0.0</td>\n",
       "      <td>0.0</td>\n",
       "      <td>0.558990</td>\n",
       "      <td>0.333137</td>\n",
       "      <td>0.000000</td>\n",
       "      <td>...</td>\n",
       "      <td>0.000000</td>\n",
       "      <td>0.0</td>\n",
       "      <td>0.0</td>\n",
       "      <td>0.000000</td>\n",
       "      <td>0.000000</td>\n",
       "      <td>0.000000</td>\n",
       "      <td>0.0</td>\n",
       "      <td>0.000000</td>\n",
       "      <td>0.000000</td>\n",
       "      <td>2022-02-25</td>\n",
       "    </tr>\n",
       "    <tr>\n",
       "      <th>1</th>\n",
       "      <td>0.1572</td>\n",
       "      <td>0.577055</td>\n",
       "      <td>0.00000</td>\n",
       "      <td>0.141321</td>\n",
       "      <td>0.0</td>\n",
       "      <td>0.0</td>\n",
       "      <td>0.0</td>\n",
       "      <td>0.477669</td>\n",
       "      <td>0.142337</td>\n",
       "      <td>0.000000</td>\n",
       "      <td>...</td>\n",
       "      <td>0.141828</td>\n",
       "      <td>0.0</td>\n",
       "      <td>0.0</td>\n",
       "      <td>0.000000</td>\n",
       "      <td>0.000000</td>\n",
       "      <td>0.283655</td>\n",
       "      <td>0.0</td>\n",
       "      <td>0.147675</td>\n",
       "      <td>0.152417</td>\n",
       "      <td>2022-02-26</td>\n",
       "    </tr>\n",
       "    <tr>\n",
       "      <th>2</th>\n",
       "      <td>0.0000</td>\n",
       "      <td>0.383228</td>\n",
       "      <td>0.00000</td>\n",
       "      <td>0.187705</td>\n",
       "      <td>0.0</td>\n",
       "      <td>0.0</td>\n",
       "      <td>0.0</td>\n",
       "      <td>0.422966</td>\n",
       "      <td>0.000000</td>\n",
       "      <td>0.000000</td>\n",
       "      <td>...</td>\n",
       "      <td>0.188378</td>\n",
       "      <td>0.0</td>\n",
       "      <td>0.0</td>\n",
       "      <td>0.000000</td>\n",
       "      <td>0.000000</td>\n",
       "      <td>0.000000</td>\n",
       "      <td>0.0</td>\n",
       "      <td>0.000000</td>\n",
       "      <td>0.404887</td>\n",
       "      <td>2022-02-27</td>\n",
       "    </tr>\n",
       "    <tr>\n",
       "      <th>3</th>\n",
       "      <td>0.0000</td>\n",
       "      <td>0.728687</td>\n",
       "      <td>0.00000</td>\n",
       "      <td>0.356910</td>\n",
       "      <td>0.0</td>\n",
       "      <td>0.0</td>\n",
       "      <td>0.0</td>\n",
       "      <td>0.301593</td>\n",
       "      <td>0.000000</td>\n",
       "      <td>0.098086</td>\n",
       "      <td>...</td>\n",
       "      <td>0.089548</td>\n",
       "      <td>0.0</td>\n",
       "      <td>0.0</td>\n",
       "      <td>0.094339</td>\n",
       "      <td>0.000000</td>\n",
       "      <td>0.000000</td>\n",
       "      <td>0.0</td>\n",
       "      <td>0.093240</td>\n",
       "      <td>0.192468</td>\n",
       "      <td>2022-02-28</td>\n",
       "    </tr>\n",
       "    <tr>\n",
       "      <th>4</th>\n",
       "      <td>0.0000</td>\n",
       "      <td>0.355161</td>\n",
       "      <td>0.11691</td>\n",
       "      <td>0.463887</td>\n",
       "      <td>0.0</td>\n",
       "      <td>0.0</td>\n",
       "      <td>0.0</td>\n",
       "      <td>0.130663</td>\n",
       "      <td>0.000000</td>\n",
       "      <td>0.127485</td>\n",
       "      <td>...</td>\n",
       "      <td>0.000000</td>\n",
       "      <td>0.0</td>\n",
       "      <td>0.0</td>\n",
       "      <td>0.000000</td>\n",
       "      <td>0.119993</td>\n",
       "      <td>0.000000</td>\n",
       "      <td>0.0</td>\n",
       "      <td>0.484746</td>\n",
       "      <td>0.000000</td>\n",
       "      <td>2022-03-01</td>\n",
       "    </tr>\n",
       "  </tbody>\n",
       "</table>\n",
       "<p>5 rows × 51 columns</p>\n",
       "</div>"
      ]
     },
     "execution_count": 20,
     "metadata": {},
     "output_type": "execute_result"
    }
   ],
   "execution_count": 20
  },
  {
   "cell_type": "markdown",
   "source": [
    "### Evaluating the Sparsity of the TF-IDF Matrix\n",
    "\n",
    "We now evaluate the sparsity of the TF-IDF matrix to understand the proportion of zero values. This is important because TF-IDF representations are typically sparse, particularly in large text.\n",
    "\n",
    "The calculation is based on:\n",
    "- **`nonzero`**: The total number of non-zero entries in the matrix.\n",
    "- **`total`**: The total number of elements in the matrix.\n",
    "- **`sparsity`**: The proportion of zero elements in the matrix.\n",
    "\n",
    "A high sparsity value (close to 1) indicates that most of the TF-IDF matrix consists of zeros. This is common in text data and provides insights for future decisions regarding dimensionality reduction or model selection."
   ],
   "metadata": {
    "collapsed": false
   },
   "id": "acec00d5c3526c44"
  },
  {
   "cell_type": "code",
   "source": [
    "nonzero = tfidf.nnz\n",
    "total = tfidf.shape[0] * tfidf.shape[1]\n",
    "sparsity = 1 - (nonzero / total)\n",
    "print(f\"Sparsity: {sparsity:.4f}\")"
   ],
   "metadata": {
    "collapsed": false,
    "ExecuteTime": {
     "end_time": "2025-04-12T18:32:57.628068Z",
     "start_time": "2025-04-12T18:32:57.623492Z"
    }
   },
   "id": "de19f2610a67940b",
   "outputs": [
    {
     "name": "stdout",
     "output_type": "stream",
     "text": [
      "Sparsity: 0.1859\n"
     ]
    }
   ],
   "execution_count": 21
  },
  {
   "metadata": {},
   "cell_type": "markdown",
   "source": [
    "A sparsity value of this magnitude suggests that the TF-IDF representation is sparse, with most of the matrix consisting of zero values. This is expected in text data due to the large vocabulary size and the fact that most words do not appear in every document.\n",
    "\n",
    "Given this sparsity, it may be beneficial to consider dimensionality reduction techniques, such as **Principal Component Analysis (PCA)** for model optimization or improving computational efficiency."
   ],
   "id": "441d12c055e145fe"
  },
  {
   "cell_type": "markdown",
   "source": [
    "### Top 20 Words Based on TF-IDF Sum\n",
    "\n",
    "Here, we calculate the total TF-IDF sum for each word across all documents and sort them in descending order to identify the most important words."
   ],
   "metadata": {
    "collapsed": false
   },
   "id": "ae05eff5e0813370"
  },
  {
   "cell_type": "code",
   "source": [
    "word_sums = isw_tfidf.drop(\"date\", axis=1).sum(axis=0)\n",
    "words = isw_tfidf.drop(\"date\", axis=1).columns\n",
    "\n",
    "word_df = pd.DataFrame({\n",
    "    \"word\": words,\n",
    "    \"tfidf_sum\": word_sums\n",
    "})\n",
    "\n",
    "word_df = word_df.sort_values(by=\"tfidf_sum\", ascending=False).reset_index(drop=True)\n",
    "\n",
    "word_df.head(20)"
   ],
   "metadata": {
    "collapsed": false,
    "ExecuteTime": {
     "end_time": "2025-04-12T18:32:57.690238Z",
     "start_time": "2025-04-12T18:32:57.678208Z"
    }
   },
   "id": "93cf5c41baa8cc9f",
   "outputs": [
    {
     "data": {
      "text/plain": [
       "           word   tfidf_sum\n",
       "0       bakhmut  216.149210\n",
       "1         drone  183.269185\n",
       "2    milblogger  174.242457\n",
       "3         putin  166.177895\n",
       "4       element  158.374284\n",
       "5      advanced  157.812756\n",
       "6       kremlin  146.238425\n",
       "7      avdiivka  144.035917\n",
       "8     southwest  141.299580\n",
       "9       missile  133.767957\n",
       "10          mod  132.364636\n",
       "11  milbloggers  130.922924\n",
       "12      brigade  126.228272\n",
       "13        rifle  123.994196\n",
       "14   occupation  123.700968\n",
       "15       wagner  122.998488\n",
       "16    motorized  121.271090\n",
       "17    authority  120.696724\n",
       "18    operating  118.681911\n",
       "19      footage  111.715545"
      ],
      "text/html": [
       "<div>\n",
       "<style scoped>\n",
       "    .dataframe tbody tr th:only-of-type {\n",
       "        vertical-align: middle;\n",
       "    }\n",
       "\n",
       "    .dataframe tbody tr th {\n",
       "        vertical-align: top;\n",
       "    }\n",
       "\n",
       "    .dataframe thead th {\n",
       "        text-align: right;\n",
       "    }\n",
       "</style>\n",
       "<table border=\"1\" class=\"dataframe\">\n",
       "  <thead>\n",
       "    <tr style=\"text-align: right;\">\n",
       "      <th></th>\n",
       "      <th>word</th>\n",
       "      <th>tfidf_sum</th>\n",
       "    </tr>\n",
       "  </thead>\n",
       "  <tbody>\n",
       "    <tr>\n",
       "      <th>0</th>\n",
       "      <td>bakhmut</td>\n",
       "      <td>216.149210</td>\n",
       "    </tr>\n",
       "    <tr>\n",
       "      <th>1</th>\n",
       "      <td>drone</td>\n",
       "      <td>183.269185</td>\n",
       "    </tr>\n",
       "    <tr>\n",
       "      <th>2</th>\n",
       "      <td>milblogger</td>\n",
       "      <td>174.242457</td>\n",
       "    </tr>\n",
       "    <tr>\n",
       "      <th>3</th>\n",
       "      <td>putin</td>\n",
       "      <td>166.177895</td>\n",
       "    </tr>\n",
       "    <tr>\n",
       "      <th>4</th>\n",
       "      <td>element</td>\n",
       "      <td>158.374284</td>\n",
       "    </tr>\n",
       "    <tr>\n",
       "      <th>5</th>\n",
       "      <td>advanced</td>\n",
       "      <td>157.812756</td>\n",
       "    </tr>\n",
       "    <tr>\n",
       "      <th>6</th>\n",
       "      <td>kremlin</td>\n",
       "      <td>146.238425</td>\n",
       "    </tr>\n",
       "    <tr>\n",
       "      <th>7</th>\n",
       "      <td>avdiivka</td>\n",
       "      <td>144.035917</td>\n",
       "    </tr>\n",
       "    <tr>\n",
       "      <th>8</th>\n",
       "      <td>southwest</td>\n",
       "      <td>141.299580</td>\n",
       "    </tr>\n",
       "    <tr>\n",
       "      <th>9</th>\n",
       "      <td>missile</td>\n",
       "      <td>133.767957</td>\n",
       "    </tr>\n",
       "    <tr>\n",
       "      <th>10</th>\n",
       "      <td>mod</td>\n",
       "      <td>132.364636</td>\n",
       "    </tr>\n",
       "    <tr>\n",
       "      <th>11</th>\n",
       "      <td>milbloggers</td>\n",
       "      <td>130.922924</td>\n",
       "    </tr>\n",
       "    <tr>\n",
       "      <th>12</th>\n",
       "      <td>brigade</td>\n",
       "      <td>126.228272</td>\n",
       "    </tr>\n",
       "    <tr>\n",
       "      <th>13</th>\n",
       "      <td>rifle</td>\n",
       "      <td>123.994196</td>\n",
       "    </tr>\n",
       "    <tr>\n",
       "      <th>14</th>\n",
       "      <td>occupation</td>\n",
       "      <td>123.700968</td>\n",
       "    </tr>\n",
       "    <tr>\n",
       "      <th>15</th>\n",
       "      <td>wagner</td>\n",
       "      <td>122.998488</td>\n",
       "    </tr>\n",
       "    <tr>\n",
       "      <th>16</th>\n",
       "      <td>motorized</td>\n",
       "      <td>121.271090</td>\n",
       "    </tr>\n",
       "    <tr>\n",
       "      <th>17</th>\n",
       "      <td>authority</td>\n",
       "      <td>120.696724</td>\n",
       "    </tr>\n",
       "    <tr>\n",
       "      <th>18</th>\n",
       "      <td>operating</td>\n",
       "      <td>118.681911</td>\n",
       "    </tr>\n",
       "    <tr>\n",
       "      <th>19</th>\n",
       "      <td>footage</td>\n",
       "      <td>111.715545</td>\n",
       "    </tr>\n",
       "  </tbody>\n",
       "</table>\n",
       "</div>"
      ]
     },
     "execution_count": 22,
     "metadata": {},
     "output_type": "execute_result"
    }
   ],
   "execution_count": 22
  },
  {
   "metadata": {
    "ExecuteTime": {
     "end_time": "2025-04-12T18:32:57.876427Z",
     "start_time": "2025-04-12T18:32:57.859450Z"
    }
   },
   "cell_type": "code",
   "source": "isw_tfidf.head()",
   "id": "14fab752a6804c74",
   "outputs": [
    {
     "data": {
      "text/plain": [
       "   advanced       air     army  artillery  authority  avdiivka  bakhmut  \\\n",
       "0    0.0000  0.337648  0.00000   0.000000        0.0       0.0      0.0   \n",
       "1    0.1572  0.577055  0.00000   0.141321        0.0       0.0      0.0   \n",
       "2    0.0000  0.383228  0.00000   0.187705        0.0       0.0      0.0   \n",
       "3    0.0000  0.728687  0.00000   0.356910        0.0       0.0      0.0   \n",
       "4    0.0000  0.355161  0.11691   0.463887        0.0       0.0      0.0   \n",
       "\n",
       "    belarus    border   brigade  ...  significant  southeast  southwest  \\\n",
       "0  0.558990  0.333137  0.000000  ...     0.000000        0.0        0.0   \n",
       "1  0.477669  0.142337  0.000000  ...     0.141828        0.0        0.0   \n",
       "2  0.422966  0.000000  0.000000  ...     0.188378        0.0        0.0   \n",
       "3  0.301593  0.000000  0.098086  ...     0.089548        0.0        0.0   \n",
       "4  0.130663  0.000000  0.127485  ...     0.000000        0.0        0.0   \n",
       "\n",
       "      state      unit  unspecified  wagner    within     would       date  \n",
       "0  0.000000  0.000000     0.000000     0.0  0.000000  0.000000 2022-02-25  \n",
       "1  0.000000  0.000000     0.283655     0.0  0.147675  0.152417 2022-02-26  \n",
       "2  0.000000  0.000000     0.000000     0.0  0.000000  0.404887 2022-02-27  \n",
       "3  0.094339  0.000000     0.000000     0.0  0.093240  0.192468 2022-02-28  \n",
       "4  0.000000  0.119993     0.000000     0.0  0.484746  0.000000 2022-03-01  \n",
       "\n",
       "[5 rows x 51 columns]"
      ],
      "text/html": [
       "<div>\n",
       "<style scoped>\n",
       "    .dataframe tbody tr th:only-of-type {\n",
       "        vertical-align: middle;\n",
       "    }\n",
       "\n",
       "    .dataframe tbody tr th {\n",
       "        vertical-align: top;\n",
       "    }\n",
       "\n",
       "    .dataframe thead th {\n",
       "        text-align: right;\n",
       "    }\n",
       "</style>\n",
       "<table border=\"1\" class=\"dataframe\">\n",
       "  <thead>\n",
       "    <tr style=\"text-align: right;\">\n",
       "      <th></th>\n",
       "      <th>advanced</th>\n",
       "      <th>air</th>\n",
       "      <th>army</th>\n",
       "      <th>artillery</th>\n",
       "      <th>authority</th>\n",
       "      <th>avdiivka</th>\n",
       "      <th>bakhmut</th>\n",
       "      <th>belarus</th>\n",
       "      <th>border</th>\n",
       "      <th>brigade</th>\n",
       "      <th>...</th>\n",
       "      <th>significant</th>\n",
       "      <th>southeast</th>\n",
       "      <th>southwest</th>\n",
       "      <th>state</th>\n",
       "      <th>unit</th>\n",
       "      <th>unspecified</th>\n",
       "      <th>wagner</th>\n",
       "      <th>within</th>\n",
       "      <th>would</th>\n",
       "      <th>date</th>\n",
       "    </tr>\n",
       "  </thead>\n",
       "  <tbody>\n",
       "    <tr>\n",
       "      <th>0</th>\n",
       "      <td>0.0000</td>\n",
       "      <td>0.337648</td>\n",
       "      <td>0.00000</td>\n",
       "      <td>0.000000</td>\n",
       "      <td>0.0</td>\n",
       "      <td>0.0</td>\n",
       "      <td>0.0</td>\n",
       "      <td>0.558990</td>\n",
       "      <td>0.333137</td>\n",
       "      <td>0.000000</td>\n",
       "      <td>...</td>\n",
       "      <td>0.000000</td>\n",
       "      <td>0.0</td>\n",
       "      <td>0.0</td>\n",
       "      <td>0.000000</td>\n",
       "      <td>0.000000</td>\n",
       "      <td>0.000000</td>\n",
       "      <td>0.0</td>\n",
       "      <td>0.000000</td>\n",
       "      <td>0.000000</td>\n",
       "      <td>2022-02-25</td>\n",
       "    </tr>\n",
       "    <tr>\n",
       "      <th>1</th>\n",
       "      <td>0.1572</td>\n",
       "      <td>0.577055</td>\n",
       "      <td>0.00000</td>\n",
       "      <td>0.141321</td>\n",
       "      <td>0.0</td>\n",
       "      <td>0.0</td>\n",
       "      <td>0.0</td>\n",
       "      <td>0.477669</td>\n",
       "      <td>0.142337</td>\n",
       "      <td>0.000000</td>\n",
       "      <td>...</td>\n",
       "      <td>0.141828</td>\n",
       "      <td>0.0</td>\n",
       "      <td>0.0</td>\n",
       "      <td>0.000000</td>\n",
       "      <td>0.000000</td>\n",
       "      <td>0.283655</td>\n",
       "      <td>0.0</td>\n",
       "      <td>0.147675</td>\n",
       "      <td>0.152417</td>\n",
       "      <td>2022-02-26</td>\n",
       "    </tr>\n",
       "    <tr>\n",
       "      <th>2</th>\n",
       "      <td>0.0000</td>\n",
       "      <td>0.383228</td>\n",
       "      <td>0.00000</td>\n",
       "      <td>0.187705</td>\n",
       "      <td>0.0</td>\n",
       "      <td>0.0</td>\n",
       "      <td>0.0</td>\n",
       "      <td>0.422966</td>\n",
       "      <td>0.000000</td>\n",
       "      <td>0.000000</td>\n",
       "      <td>...</td>\n",
       "      <td>0.188378</td>\n",
       "      <td>0.0</td>\n",
       "      <td>0.0</td>\n",
       "      <td>0.000000</td>\n",
       "      <td>0.000000</td>\n",
       "      <td>0.000000</td>\n",
       "      <td>0.0</td>\n",
       "      <td>0.000000</td>\n",
       "      <td>0.404887</td>\n",
       "      <td>2022-02-27</td>\n",
       "    </tr>\n",
       "    <tr>\n",
       "      <th>3</th>\n",
       "      <td>0.0000</td>\n",
       "      <td>0.728687</td>\n",
       "      <td>0.00000</td>\n",
       "      <td>0.356910</td>\n",
       "      <td>0.0</td>\n",
       "      <td>0.0</td>\n",
       "      <td>0.0</td>\n",
       "      <td>0.301593</td>\n",
       "      <td>0.000000</td>\n",
       "      <td>0.098086</td>\n",
       "      <td>...</td>\n",
       "      <td>0.089548</td>\n",
       "      <td>0.0</td>\n",
       "      <td>0.0</td>\n",
       "      <td>0.094339</td>\n",
       "      <td>0.000000</td>\n",
       "      <td>0.000000</td>\n",
       "      <td>0.0</td>\n",
       "      <td>0.093240</td>\n",
       "      <td>0.192468</td>\n",
       "      <td>2022-02-28</td>\n",
       "    </tr>\n",
       "    <tr>\n",
       "      <th>4</th>\n",
       "      <td>0.0000</td>\n",
       "      <td>0.355161</td>\n",
       "      <td>0.11691</td>\n",
       "      <td>0.463887</td>\n",
       "      <td>0.0</td>\n",
       "      <td>0.0</td>\n",
       "      <td>0.0</td>\n",
       "      <td>0.130663</td>\n",
       "      <td>0.000000</td>\n",
       "      <td>0.127485</td>\n",
       "      <td>...</td>\n",
       "      <td>0.000000</td>\n",
       "      <td>0.0</td>\n",
       "      <td>0.0</td>\n",
       "      <td>0.000000</td>\n",
       "      <td>0.119993</td>\n",
       "      <td>0.000000</td>\n",
       "      <td>0.0</td>\n",
       "      <td>0.484746</td>\n",
       "      <td>0.000000</td>\n",
       "      <td>2022-03-01</td>\n",
       "    </tr>\n",
       "  </tbody>\n",
       "</table>\n",
       "<p>5 rows × 51 columns</p>\n",
       "</div>"
      ]
     },
     "execution_count": 23,
     "metadata": {},
     "output_type": "execute_result"
    }
   ],
   "execution_count": 23
  },
  {
   "cell_type": "markdown",
   "source": [
    "### Creating Hourly Entries from Daily ISW Reports\n",
    "\n",
    "In this step, we expand the original ISW dataset by creating hourly entries for each report.\n",
    "\n",
    "For each day, we generate a sequence of hourly timestamps between `start_date` and `end_date`, with a frequency of 1 hour.\n",
    "\n",
    "Finally, the list of hourly records is converted into a **DataFrame (`isw_hourly_df`)** and sorted in descending order based on `hour_time`.\n",
    "\n",
    "This process allows us to work with **hourly granular data** for the ISW reports, enabling merging with other datasets.\n"
   ],
   "metadata": {
    "collapsed": false
   },
   "id": "939be1b83d1346f8"
  },
  {
   "metadata": {
    "ExecuteTime": {
     "end_time": "2025-04-12T18:32:57.979251Z",
     "start_time": "2025-04-12T18:32:57.949992Z"
    }
   },
   "cell_type": "code",
   "source": [
    "isw_tfidf[\"tommorrow\"] = isw_tfidf[\"date\"].apply(lambda x: x + datetime.timedelta(days=1))\n",
    "isw_dict = isw_tfidf.to_dict(\"records\")\n",
    "isw_dict[0]"
   ],
   "id": "b239961610aa192b",
   "outputs": [
    {
     "data": {
      "text/plain": [
       "{'advanced': 0.0,\n",
       " 'air': 0.3376476427497531,\n",
       " 'army': 0.0,\n",
       " 'artillery': 0.0,\n",
       " 'authority': 0.0,\n",
       " 'avdiivka': 0.0,\n",
       " 'bakhmut': 0.0,\n",
       " 'belarus': 0.5589897453387814,\n",
       " 'border': 0.33313709878281333,\n",
       " 'brigade': 0.0,\n",
       " 'command': 0.0,\n",
       " 'confirmed': 0.0,\n",
       " 'district': 0.35511964873253354,\n",
       " 'division': 0.18943031305809327,\n",
       " 'drone': 0.0,\n",
       " 'element': 0.33403374295135124,\n",
       " 'footage': 0.0,\n",
       " 'frontline': 0.0,\n",
       " 'geolocated': 0.0,\n",
       " 'head': 0.0,\n",
       " 'information': 0.0,\n",
       " 'kreminna': 0.0,\n",
       " 'kremlin': 0.0,\n",
       " 'kupyansk': 0.0,\n",
       " 'milblogger': 0.0,\n",
       " 'milbloggers': 0.0,\n",
       " 'missile': 0.34438956865283865,\n",
       " 'mod': 0.0,\n",
       " 'motorized': 0.0,\n",
       " 'northeast': 0.0,\n",
       " 'noted': 0.0,\n",
       " 'observed': 0.19030315047747862,\n",
       " 'occupation': 0.0,\n",
       " 'operating': 0.0,\n",
       " 'personnel': 0.0,\n",
       " 'president': 0.0,\n",
       " 'published': 0.0,\n",
       " 'putin': 0.18480366185861397,\n",
       " 'recently': 0.0,\n",
       " 'regiment': 0.0,\n",
       " 'rifle': 0.0,\n",
       " 'significant': 0.0,\n",
       " 'southeast': 0.0,\n",
       " 'southwest': 0.0,\n",
       " 'state': 0.0,\n",
       " 'unit': 0.0,\n",
       " 'unspecified': 0.0,\n",
       " 'wagner': 0.0,\n",
       " 'within': 0.0,\n",
       " 'would': 0.0,\n",
       " 'date': Timestamp('2022-02-25 00:00:00'),\n",
       " 'tommorrow': Timestamp('2022-02-26 00:00:00')}"
      ]
     },
     "execution_count": 24,
     "metadata": {},
     "output_type": "execute_result"
    }
   ],
   "execution_count": 24
  },
  {
   "metadata": {
    "ExecuteTime": {
     "end_time": "2025-04-12T18:32:58.588258Z",
     "start_time": "2025-04-12T18:32:58.111722Z"
    }
   },
   "cell_type": "code",
   "source": [
    "isw_by_hour = []\n",
    "\n",
    "for isw in isw_dict:\n",
    "    start_date = pd.Timestamp(isw[\"date\"]).normalize()\n",
    "    end_date = pd.Timestamp(isw[\"tommorrow\"]).normalize()\n",
    "\n",
    "    for hour in pd.date_range(start=start_date, end=end_date, freq=\"1h\", inclusive=\"left\"):\n",
    "        hourly_record = isw.copy()\n",
    "        hourly_record[\"hour_time\"] = hour\n",
    "        isw_by_hour.append(hourly_record)\n",
    "\n",
    "isw_hourly_df = pd.DataFrame(isw_by_hour)\n",
    "isw_hourly_df.sort_values(by=\"hour_time\", ascending=False, inplace=True)"
   ],
   "id": "7942252a8007389e",
   "outputs": [],
   "execution_count": 25
  },
  {
   "metadata": {
    "ExecuteTime": {
     "end_time": "2025-04-12T18:32:58.630827Z",
     "start_time": "2025-04-12T18:32:58.624623Z"
    }
   },
   "cell_type": "code",
   "source": [
    "isw_hourly_df.shape"
   ],
   "id": "103415d05acfe210",
   "outputs": [
    {
     "data": {
      "text/plain": [
       "(26952, 53)"
      ]
     },
     "execution_count": 26,
     "metadata": {},
     "output_type": "execute_result"
    }
   ],
   "execution_count": 26
  },
  {
   "metadata": {
    "ExecuteTime": {
     "end_time": "2025-04-12T18:32:58.767615Z",
     "start_time": "2025-04-12T18:32:58.745207Z"
    }
   },
   "cell_type": "code",
   "source": [
    "isw_hourly_df.drop([\"date\", \"tommorrow\"], axis=1, inplace=True)\n",
    "isw_hourly_df.head()"
   ],
   "id": "9fb8bc71e5c6fedf",
   "outputs": [
    {
     "data": {
      "text/plain": [
       "      advanced  air      army  artillery  authority  avdiivka  bakhmut  \\\n",
       "1031       0.0  0.0  0.300437   0.198684   0.306977       0.0      0.0   \n",
       "1030       0.0  0.0  0.300437   0.198684   0.306977       0.0      0.0   \n",
       "1029       0.0  0.0  0.300437   0.198684   0.306977       0.0      0.0   \n",
       "1028       0.0  0.0  0.300437   0.198684   0.306977       0.0      0.0   \n",
       "1027       0.0  0.0  0.300437   0.198684   0.306977       0.0      0.0   \n",
       "\n",
       "      belarus    border  brigade  ...  significant  southeast  southwest  \\\n",
       "1031      0.0  0.100056      0.0  ...          0.0   0.103715   0.197974   \n",
       "1030      0.0  0.100056      0.0  ...          0.0   0.103715   0.197974   \n",
       "1029      0.0  0.100056      0.0  ...          0.0   0.103715   0.197974   \n",
       "1028      0.0  0.100056      0.0  ...          0.0   0.103715   0.197974   \n",
       "1027      0.0  0.100056      0.0  ...          0.0   0.103715   0.197974   \n",
       "\n",
       "      state      unit  unspecified  wagner  within  would           hour_time  \n",
       "1031    0.0  0.513932     0.099698     0.0     0.0    0.0 2025-04-08 23:00:00  \n",
       "1030    0.0  0.513932     0.099698     0.0     0.0    0.0 2025-04-08 22:00:00  \n",
       "1029    0.0  0.513932     0.099698     0.0     0.0    0.0 2025-04-08 21:00:00  \n",
       "1028    0.0  0.513932     0.099698     0.0     0.0    0.0 2025-04-08 20:00:00  \n",
       "1027    0.0  0.513932     0.099698     0.0     0.0    0.0 2025-04-08 19:00:00  \n",
       "\n",
       "[5 rows x 51 columns]"
      ],
      "text/html": [
       "<div>\n",
       "<style scoped>\n",
       "    .dataframe tbody tr th:only-of-type {\n",
       "        vertical-align: middle;\n",
       "    }\n",
       "\n",
       "    .dataframe tbody tr th {\n",
       "        vertical-align: top;\n",
       "    }\n",
       "\n",
       "    .dataframe thead th {\n",
       "        text-align: right;\n",
       "    }\n",
       "</style>\n",
       "<table border=\"1\" class=\"dataframe\">\n",
       "  <thead>\n",
       "    <tr style=\"text-align: right;\">\n",
       "      <th></th>\n",
       "      <th>advanced</th>\n",
       "      <th>air</th>\n",
       "      <th>army</th>\n",
       "      <th>artillery</th>\n",
       "      <th>authority</th>\n",
       "      <th>avdiivka</th>\n",
       "      <th>bakhmut</th>\n",
       "      <th>belarus</th>\n",
       "      <th>border</th>\n",
       "      <th>brigade</th>\n",
       "      <th>...</th>\n",
       "      <th>significant</th>\n",
       "      <th>southeast</th>\n",
       "      <th>southwest</th>\n",
       "      <th>state</th>\n",
       "      <th>unit</th>\n",
       "      <th>unspecified</th>\n",
       "      <th>wagner</th>\n",
       "      <th>within</th>\n",
       "      <th>would</th>\n",
       "      <th>hour_time</th>\n",
       "    </tr>\n",
       "  </thead>\n",
       "  <tbody>\n",
       "    <tr>\n",
       "      <th>1031</th>\n",
       "      <td>0.0</td>\n",
       "      <td>0.0</td>\n",
       "      <td>0.300437</td>\n",
       "      <td>0.198684</td>\n",
       "      <td>0.306977</td>\n",
       "      <td>0.0</td>\n",
       "      <td>0.0</td>\n",
       "      <td>0.0</td>\n",
       "      <td>0.100056</td>\n",
       "      <td>0.0</td>\n",
       "      <td>...</td>\n",
       "      <td>0.0</td>\n",
       "      <td>0.103715</td>\n",
       "      <td>0.197974</td>\n",
       "      <td>0.0</td>\n",
       "      <td>0.513932</td>\n",
       "      <td>0.099698</td>\n",
       "      <td>0.0</td>\n",
       "      <td>0.0</td>\n",
       "      <td>0.0</td>\n",
       "      <td>2025-04-08 23:00:00</td>\n",
       "    </tr>\n",
       "    <tr>\n",
       "      <th>1030</th>\n",
       "      <td>0.0</td>\n",
       "      <td>0.0</td>\n",
       "      <td>0.300437</td>\n",
       "      <td>0.198684</td>\n",
       "      <td>0.306977</td>\n",
       "      <td>0.0</td>\n",
       "      <td>0.0</td>\n",
       "      <td>0.0</td>\n",
       "      <td>0.100056</td>\n",
       "      <td>0.0</td>\n",
       "      <td>...</td>\n",
       "      <td>0.0</td>\n",
       "      <td>0.103715</td>\n",
       "      <td>0.197974</td>\n",
       "      <td>0.0</td>\n",
       "      <td>0.513932</td>\n",
       "      <td>0.099698</td>\n",
       "      <td>0.0</td>\n",
       "      <td>0.0</td>\n",
       "      <td>0.0</td>\n",
       "      <td>2025-04-08 22:00:00</td>\n",
       "    </tr>\n",
       "    <tr>\n",
       "      <th>1029</th>\n",
       "      <td>0.0</td>\n",
       "      <td>0.0</td>\n",
       "      <td>0.300437</td>\n",
       "      <td>0.198684</td>\n",
       "      <td>0.306977</td>\n",
       "      <td>0.0</td>\n",
       "      <td>0.0</td>\n",
       "      <td>0.0</td>\n",
       "      <td>0.100056</td>\n",
       "      <td>0.0</td>\n",
       "      <td>...</td>\n",
       "      <td>0.0</td>\n",
       "      <td>0.103715</td>\n",
       "      <td>0.197974</td>\n",
       "      <td>0.0</td>\n",
       "      <td>0.513932</td>\n",
       "      <td>0.099698</td>\n",
       "      <td>0.0</td>\n",
       "      <td>0.0</td>\n",
       "      <td>0.0</td>\n",
       "      <td>2025-04-08 21:00:00</td>\n",
       "    </tr>\n",
       "    <tr>\n",
       "      <th>1028</th>\n",
       "      <td>0.0</td>\n",
       "      <td>0.0</td>\n",
       "      <td>0.300437</td>\n",
       "      <td>0.198684</td>\n",
       "      <td>0.306977</td>\n",
       "      <td>0.0</td>\n",
       "      <td>0.0</td>\n",
       "      <td>0.0</td>\n",
       "      <td>0.100056</td>\n",
       "      <td>0.0</td>\n",
       "      <td>...</td>\n",
       "      <td>0.0</td>\n",
       "      <td>0.103715</td>\n",
       "      <td>0.197974</td>\n",
       "      <td>0.0</td>\n",
       "      <td>0.513932</td>\n",
       "      <td>0.099698</td>\n",
       "      <td>0.0</td>\n",
       "      <td>0.0</td>\n",
       "      <td>0.0</td>\n",
       "      <td>2025-04-08 20:00:00</td>\n",
       "    </tr>\n",
       "    <tr>\n",
       "      <th>1027</th>\n",
       "      <td>0.0</td>\n",
       "      <td>0.0</td>\n",
       "      <td>0.300437</td>\n",
       "      <td>0.198684</td>\n",
       "      <td>0.306977</td>\n",
       "      <td>0.0</td>\n",
       "      <td>0.0</td>\n",
       "      <td>0.0</td>\n",
       "      <td>0.100056</td>\n",
       "      <td>0.0</td>\n",
       "      <td>...</td>\n",
       "      <td>0.0</td>\n",
       "      <td>0.103715</td>\n",
       "      <td>0.197974</td>\n",
       "      <td>0.0</td>\n",
       "      <td>0.513932</td>\n",
       "      <td>0.099698</td>\n",
       "      <td>0.0</td>\n",
       "      <td>0.0</td>\n",
       "      <td>0.0</td>\n",
       "      <td>2025-04-08 19:00:00</td>\n",
       "    </tr>\n",
       "  </tbody>\n",
       "</table>\n",
       "<p>5 rows × 51 columns</p>\n",
       "</div>"
      ]
     },
     "execution_count": 27,
     "metadata": {},
     "output_type": "execute_result"
    }
   ],
   "execution_count": 27
  },
  {
   "cell_type": "markdown",
   "source": "### Saving final file for merging",
   "metadata": {
    "collapsed": false
   },
   "id": "a8d477b901a6c292"
  },
  {
   "cell_type": "code",
   "source": "isw_hourly_df.to_csv(\"../prepared_data/isw_prepared.csv\", index=False)",
   "metadata": {
    "collapsed": false,
    "ExecuteTime": {
     "end_time": "2025-04-12T18:33:00.930580Z",
     "start_time": "2025-04-12T18:32:59.172486Z"
    }
   },
   "id": "3755e2a47e26f206",
   "outputs": [],
   "execution_count": 28
  }
 ],
 "metadata": {
  "kernelspec": {
   "display_name": "Python 3",
   "language": "python",
   "name": "python3"
  },
  "language_info": {
   "codemirror_mode": {
    "name": "ipython",
    "version": 2
   },
   "file_extension": ".py",
   "mimetype": "text/x-python",
   "name": "python",
   "nbconvert_exporter": "python",
   "pygments_lexer": "ipython2",
   "version": "2.7.6"
  }
 },
 "nbformat": 4,
 "nbformat_minor": 5
}
