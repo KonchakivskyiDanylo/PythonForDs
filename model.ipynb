{
 "cells": [
  {
   "metadata": {},
   "cell_type": "markdown",
   "source": "Import and load dataset",
   "id": "5decf49bbb026e95"
  },
  {
   "cell_type": "code",
   "id": "initial_id",
   "metadata": {
    "collapsed": true,
    "ExecuteTime": {
     "end_time": "2025-04-13T18:05:29.709606Z",
     "start_time": "2025-04-13T18:05:21.633200Z"
    }
   },
   "source": [
    "import pandas as pd\n",
    "\n",
    "df = pd.read_csv(\"prepared_data/final_dataset.csv\")"
   ],
   "outputs": [],
   "execution_count": 1
  },
  {
   "metadata": {
    "ExecuteTime": {
     "end_time": "2025-04-13T18:05:29.757743Z",
     "start_time": "2025-04-13T18:05:29.722941Z"
    }
   },
   "cell_type": "code",
   "source": "df.head()",
   "id": "513e8f7e79a13fc2",
   "outputs": [
    {
     "data": {
      "text/plain": [
       "   city_latitude  city_longitude  day_tempmax  day_tempmin  day_temp  \\\n",
       "0        50.7469         25.3263          4.9          0.7       2.6   \n",
       "1        49.2336         28.4486          5.0          0.7       2.8   \n",
       "2        48.5085         32.2656          6.2         -1.3       2.2   \n",
       "3        49.4168         26.9743          4.7          0.2       2.3   \n",
       "4        47.8289         35.1626          8.0         -2.0       3.3   \n",
       "\n",
       "   day_precipcover  day_moonphase  hour_datetimeEpoch  hour_temp  \\\n",
       "0             4.17           0.77          1645653600        2.4   \n",
       "1             4.17           0.77          1645653600        2.1   \n",
       "2             0.00           0.77          1645653600        0.0   \n",
       "3             8.33           0.77          1645653600        2.2   \n",
       "4             0.00           0.77          1645653600        1.0   \n",
       "\n",
       "   hour_humidity  ...  rifle  significant  southeast  southwest  state unit  \\\n",
       "0          89.18  ...    0.0          0.0        0.0        0.0    0.0  0.0   \n",
       "1          91.76  ...    0.0          0.0        0.0        0.0    0.0  0.0   \n",
       "2          82.64  ...    0.0          0.0        0.0        0.0    0.0  0.0   \n",
       "3          88.52  ...    0.0          0.0        0.0        0.0    0.0  0.0   \n",
       "4          80.38  ...    0.0          0.0        0.0        0.0    0.0  0.0   \n",
       "\n",
       "   unspecified  wagner  within  would  \n",
       "0          0.0     0.0     0.0    0.0  \n",
       "1          0.0     0.0     0.0    0.0  \n",
       "2          0.0     0.0     0.0    0.0  \n",
       "3          0.0     0.0     0.0    0.0  \n",
       "4          0.0     0.0     0.0    0.0  \n",
       "\n",
       "[5 rows x 80 columns]"
      ],
      "text/html": [
       "<div>\n",
       "<style scoped>\n",
       "    .dataframe tbody tr th:only-of-type {\n",
       "        vertical-align: middle;\n",
       "    }\n",
       "\n",
       "    .dataframe tbody tr th {\n",
       "        vertical-align: top;\n",
       "    }\n",
       "\n",
       "    .dataframe thead th {\n",
       "        text-align: right;\n",
       "    }\n",
       "</style>\n",
       "<table border=\"1\" class=\"dataframe\">\n",
       "  <thead>\n",
       "    <tr style=\"text-align: right;\">\n",
       "      <th></th>\n",
       "      <th>city_latitude</th>\n",
       "      <th>city_longitude</th>\n",
       "      <th>day_tempmax</th>\n",
       "      <th>day_tempmin</th>\n",
       "      <th>day_temp</th>\n",
       "      <th>day_precipcover</th>\n",
       "      <th>day_moonphase</th>\n",
       "      <th>hour_datetimeEpoch</th>\n",
       "      <th>hour_temp</th>\n",
       "      <th>hour_humidity</th>\n",
       "      <th>...</th>\n",
       "      <th>rifle</th>\n",
       "      <th>significant</th>\n",
       "      <th>southeast</th>\n",
       "      <th>southwest</th>\n",
       "      <th>state</th>\n",
       "      <th>unit</th>\n",
       "      <th>unspecified</th>\n",
       "      <th>wagner</th>\n",
       "      <th>within</th>\n",
       "      <th>would</th>\n",
       "    </tr>\n",
       "  </thead>\n",
       "  <tbody>\n",
       "    <tr>\n",
       "      <th>0</th>\n",
       "      <td>50.7469</td>\n",
       "      <td>25.3263</td>\n",
       "      <td>4.9</td>\n",
       "      <td>0.7</td>\n",
       "      <td>2.6</td>\n",
       "      <td>4.17</td>\n",
       "      <td>0.77</td>\n",
       "      <td>1645653600</td>\n",
       "      <td>2.4</td>\n",
       "      <td>89.18</td>\n",
       "      <td>...</td>\n",
       "      <td>0.0</td>\n",
       "      <td>0.0</td>\n",
       "      <td>0.0</td>\n",
       "      <td>0.0</td>\n",
       "      <td>0.0</td>\n",
       "      <td>0.0</td>\n",
       "      <td>0.0</td>\n",
       "      <td>0.0</td>\n",
       "      <td>0.0</td>\n",
       "      <td>0.0</td>\n",
       "    </tr>\n",
       "    <tr>\n",
       "      <th>1</th>\n",
       "      <td>49.2336</td>\n",
       "      <td>28.4486</td>\n",
       "      <td>5.0</td>\n",
       "      <td>0.7</td>\n",
       "      <td>2.8</td>\n",
       "      <td>4.17</td>\n",
       "      <td>0.77</td>\n",
       "      <td>1645653600</td>\n",
       "      <td>2.1</td>\n",
       "      <td>91.76</td>\n",
       "      <td>...</td>\n",
       "      <td>0.0</td>\n",
       "      <td>0.0</td>\n",
       "      <td>0.0</td>\n",
       "      <td>0.0</td>\n",
       "      <td>0.0</td>\n",
       "      <td>0.0</td>\n",
       "      <td>0.0</td>\n",
       "      <td>0.0</td>\n",
       "      <td>0.0</td>\n",
       "      <td>0.0</td>\n",
       "    </tr>\n",
       "    <tr>\n",
       "      <th>2</th>\n",
       "      <td>48.5085</td>\n",
       "      <td>32.2656</td>\n",
       "      <td>6.2</td>\n",
       "      <td>-1.3</td>\n",
       "      <td>2.2</td>\n",
       "      <td>0.00</td>\n",
       "      <td>0.77</td>\n",
       "      <td>1645653600</td>\n",
       "      <td>0.0</td>\n",
       "      <td>82.64</td>\n",
       "      <td>...</td>\n",
       "      <td>0.0</td>\n",
       "      <td>0.0</td>\n",
       "      <td>0.0</td>\n",
       "      <td>0.0</td>\n",
       "      <td>0.0</td>\n",
       "      <td>0.0</td>\n",
       "      <td>0.0</td>\n",
       "      <td>0.0</td>\n",
       "      <td>0.0</td>\n",
       "      <td>0.0</td>\n",
       "    </tr>\n",
       "    <tr>\n",
       "      <th>3</th>\n",
       "      <td>49.4168</td>\n",
       "      <td>26.9743</td>\n",
       "      <td>4.7</td>\n",
       "      <td>0.2</td>\n",
       "      <td>2.3</td>\n",
       "      <td>8.33</td>\n",
       "      <td>0.77</td>\n",
       "      <td>1645653600</td>\n",
       "      <td>2.2</td>\n",
       "      <td>88.52</td>\n",
       "      <td>...</td>\n",
       "      <td>0.0</td>\n",
       "      <td>0.0</td>\n",
       "      <td>0.0</td>\n",
       "      <td>0.0</td>\n",
       "      <td>0.0</td>\n",
       "      <td>0.0</td>\n",
       "      <td>0.0</td>\n",
       "      <td>0.0</td>\n",
       "      <td>0.0</td>\n",
       "      <td>0.0</td>\n",
       "    </tr>\n",
       "    <tr>\n",
       "      <th>4</th>\n",
       "      <td>47.8289</td>\n",
       "      <td>35.1626</td>\n",
       "      <td>8.0</td>\n",
       "      <td>-2.0</td>\n",
       "      <td>3.3</td>\n",
       "      <td>0.00</td>\n",
       "      <td>0.77</td>\n",
       "      <td>1645653600</td>\n",
       "      <td>1.0</td>\n",
       "      <td>80.38</td>\n",
       "      <td>...</td>\n",
       "      <td>0.0</td>\n",
       "      <td>0.0</td>\n",
       "      <td>0.0</td>\n",
       "      <td>0.0</td>\n",
       "      <td>0.0</td>\n",
       "      <td>0.0</td>\n",
       "      <td>0.0</td>\n",
       "      <td>0.0</td>\n",
       "      <td>0.0</td>\n",
       "      <td>0.0</td>\n",
       "    </tr>\n",
       "  </tbody>\n",
       "</table>\n",
       "<p>5 rows × 80 columns</p>\n",
       "</div>"
      ]
     },
     "execution_count": 2,
     "metadata": {},
     "output_type": "execute_result"
    }
   ],
   "execution_count": 2
  },
  {
   "metadata": {},
   "cell_type": "markdown",
   "source": "Importing essential libraries for machine learning",
   "id": "c25f15bdeffad852"
  },
  {
   "metadata": {
    "ExecuteTime": {
     "end_time": "2025-04-13T18:14:36.566466Z",
     "start_time": "2025-04-13T18:14:36.561766Z"
    }
   },
   "cell_type": "code",
   "source": [
    "from sklearn.linear_model import LinearRegression, LogisticRegression\n",
    "from sklearn.model_selection import TimeSeriesSplit, GridSearchCV\n",
    "from sklearn.metrics import root_mean_squared_error, mean_absolute_error, r2_score, accuracy_score, precision_score, \\\n",
    "    recall_score, f1_score, confusion_matrix, \\\n",
    "    classification_report, roc_auc_score, precision_recall_curve, average_precision_score\n",
    "from sklearn.preprocessing import StandardScaler, OneHotEncoder\n",
    "from sklearn.pipeline import Pipeline\n",
    "from sklearn.compose import ColumnTransformer\n",
    "from sklearn.decomposition import PCA\n",
    "import numpy as np"
   ],
   "id": "9492f526048843ce",
   "outputs": [],
   "execution_count": 8
  },
  {
   "metadata": {},
   "cell_type": "markdown",
   "source": "Dividing the dataset into features (X) and target (y)",
   "id": "c1352d16241b73b7"
  },
  {
   "metadata": {
    "ExecuteTime": {
     "end_time": "2025-04-13T20:35:47.055293Z",
     "start_time": "2025-04-13T20:35:45.832503Z"
    }
   },
   "cell_type": "code",
   "source": [
    "X_regression = df.drop([\"alarms_start_epoch\", \"alarms_end_epoch\", \"is_alarm\"], axis=1)\n",
    "y_regression = df[\"alarms_start_epoch\"]\n",
    "\n",
    "X_classification = df.drop([\"alarms_start_epoch\", \"alarms_end_epoch\", \"is_alarm\"], axis=1)\n",
    "y_classification = df[\"is_alarm\"]"
   ],
   "id": "f3730f197cddfad6",
   "outputs": [],
   "execution_count": 50
  },
  {
   "metadata": {},
   "cell_type": "markdown",
   "source": [
    "### Creating Pipelines for Regression and Classification\n",
    "\n",
    "For our tasks, both regression and classification can benefit from a similar pipeline structure, which involves preprocessing steps followed by model application. However, we handle certain steps differently depending on whether we are working on regression or classification.\n",
    "\n",
    "1. **Feature Scaling**: We standardize numerical attributes using `StandardScaler` to ensure that the scale of the data does not influence the model's performance.\n",
    "\n",
    "2. **Handling Categorical Features**: We use `OneHotEncoder` to encode categorical attributes. This transformation turns categorical variables into a format that can be used by machine learning models, ensuring that no important information is lost during the encoding process.\n",
    "\n",
    "3. **ColumnTransformer**: We apply different transformations to numerical and categorical features separately. Numerical features are standardized with `StandardScaler`, and categorical features are encoded with `OneHotEncoder`. This step ensures that each type of feature is properly prepared for modeling.\n",
    "\n",
    "4. **Dimensionality Reduction**: For regression tasks, we intentionally avoid applying Principal Component Analysis (PCA). We have found that PCA can negatively impact our model's performance by removing valuable information. In contrast, for classification tasks, we apply PCA to reduce the dimensionality of the feature space, capturing the most important features and improving model performance by focusing on the most relevant components."
   ],
   "id": "ef2ec4aeff561b4a"
  },
  {
   "metadata": {
    "ExecuteTime": {
     "end_time": "2025-04-13T18:14:12.309144Z",
     "start_time": "2025-04-13T18:14:12.305763Z"
    }
   },
   "cell_type": "code",
   "source": [
    "num_attribs = X_regression.select_dtypes(include=\"number\").columns.tolist()\n",
    "cat_attribs = [\"hour_conditions\", \"region\", \"hour_preciptype\"]\n",
    "\n",
    "num_regression_pipeline = Pipeline([\n",
    "    (\"std_scaler\", StandardScaler()),\n",
    "])\n",
    "\n",
    "full_regression_pipeline = ColumnTransformer([\n",
    "    (\"num\", num_regression_pipeline, num_attribs),\n",
    "    (\"cat\", OneHotEncoder(handle_unknown=\"ignore\"), cat_attribs)\n",
    "])\n",
    "regression_pipeline = Pipeline([\n",
    "    (\"preprocessor\", full_regression_pipeline),\n",
    "    (\"model\", LinearRegression())\n",
    "])"
   ],
   "id": "1358d2f762e9a1ad",
   "outputs": [],
   "execution_count": 6
  },
  {
   "metadata": {
    "ExecuteTime": {
     "end_time": "2025-04-13T18:14:12.964854Z",
     "start_time": "2025-04-13T18:14:12.960993Z"
    }
   },
   "cell_type": "code",
   "source": [
    "num_classification_pipeline = Pipeline([\n",
    "    (\"std_scaler\", StandardScaler()),\n",
    "    (\"pca\", PCA())\n",
    "])\n",
    "\n",
    "full_classification_pipeline = ColumnTransformer([\n",
    "    (\"num\", num_classification_pipeline, num_attribs),\n",
    "    (\"cat\", OneHotEncoder(handle_unknown=\"ignore\"), cat_attribs),\n",
    "])\n",
    "classification_pipeline = Pipeline([\n",
    "    (\"preprocessor\", full_classification_pipeline),\n",
    "    (\"model\", LogisticRegression())\n",
    "])"
   ],
   "id": "3d7f439e4c1d08ff",
   "outputs": [],
   "execution_count": 7
  },
  {
   "metadata": {},
   "cell_type": "markdown",
   "source": [
    "## Linear Regression\n",
    "\n",
    "As we are working with **time series data**, it is essential to properly train and test the model. Therefore, we use `TimeSeriesSplit` to ensure an appropriate split."
   ],
   "id": "431f4e1d7d8c17ab"
  },
  {
   "metadata": {
    "ExecuteTime": {
     "end_time": "2025-04-13T18:28:18.991753Z",
     "start_time": "2025-04-13T18:27:57.712353Z"
    }
   },
   "cell_type": "code",
   "source": [
    "tscv = TimeSeriesSplit(n_splits=5)\n",
    "rmse_scores = []\n",
    "mae_scores = []\n",
    "r2_scores = []\n",
    "for train_index, test_index in tscv.split(X_regression):\n",
    "    X_train, X_test = X_regression.iloc[train_index], X_regression.iloc[test_index]\n",
    "    y_train, y_test = y_regression.iloc[train_index], y_regression.iloc[test_index]\n",
    "\n",
    "    regression_pipeline.fit(X_train, y_train)\n",
    "    y_pred = regression_pipeline.predict(X_test)\n",
    "\n",
    "    rmse_scores.append(root_mean_squared_error(y_test, y_pred) / 3600)\n",
    "    mae_scores.append(mean_absolute_error(y_test, y_pred) / 3600)\n",
    "    r2_scores.append(r2_score(y_test, y_pred))"
   ],
   "id": "b92e2a18a2bf3fa5",
   "outputs": [],
   "execution_count": 9
  },
  {
   "metadata": {},
   "cell_type": "markdown",
   "source": [
    "### 1. RMSE (Root Mean Squared Error)\n",
    "\n",
    "Since we're predicting the epoch start time of alarms, the **RMSE** we get is in seconds. To make it easier to interpret, we divide the result by 3600 to convert it into hours.\n",
    "\n",
    "**RMSE** tells us how far off our predictions are on average. It works by taking the difference between the predicted values and the actual values, squaring those differences, averaging them, and then taking the square root.\n",
    "\n",
    "The lower the **RMSE**, the better, because it means our model is predicting the start times more accurately. If the **RMSE** is higher, it means the predictions are more off."
   ],
   "id": "e32ede61161b4326"
  },
  {
   "metadata": {
    "ExecuteTime": {
     "end_time": "2025-04-13T18:32:24.408917Z",
     "start_time": "2025-04-13T18:32:24.402408Z"
    }
   },
   "cell_type": "code",
   "source": [
    "print(f\"RMSE scores: {rmse_scores}\")\n",
    "print(f\"Mean RMSE: {np.mean(rmse_scores):.4f} hours\")"
   ],
   "id": "4f941a019a2b9b6f",
   "outputs": [
    {
     "name": "stdout",
     "output_type": "stream",
     "text": [
      "RMSE scores: [3.213696958751725, 1.9695439708580424, 1.9855408959602718, 3.2314709893520353, 2.7752980585605167]\n",
      "Mean RMSE: 2.6351 hours\n"
     ]
    }
   ],
   "execution_count": 10
  },
  {
   "metadata": {},
   "cell_type": "markdown",
   "source": "Looking at the **RMSE** values, we can see that the average error is around **2.6 hours**, which means the model's predictions are, on average, off by about **2 to 3 hours**. This is fairly reasonable, but let's also consider other evaluation metrics to get a more complete view of the model's performance.",
   "id": "ff5735861a166c17"
  },
  {
   "metadata": {},
   "cell_type": "markdown",
   "source": [
    "### 2. MAE (Mean Absolute Error)\n",
    "\n",
    "**MAE** is another metric we use to measure how far off our predictions are, similar to **RMSE**. However, instead of squaring the differences between predicted and actual values like **RMSE** does, **MAE** calculates the average of the absolute differences.\n",
    "\n",
    "Both **MAE and RMSE** provide similar insights, but **MAE** is less sensitive to large errors, as it doesn’t square the differences. This makes it useful for understanding the typical error size without being too influenced by outliers."
   ],
   "id": "68385591f3f0c5fe"
  },
  {
   "metadata": {
    "ExecuteTime": {
     "end_time": "2025-04-13T18:41:10.046311Z",
     "start_time": "2025-04-13T18:41:10.037987Z"
    }
   },
   "cell_type": "code",
   "source": [
    "print(f\"\\nMAE scores: {mae_scores}\")\n",
    "print(f\"Mean MAE: {np.mean(mae_scores):.4f} hours\")"
   ],
   "id": "c2946202674bec52",
   "outputs": [
    {
     "name": "stdout",
     "output_type": "stream",
     "text": [
      "\n",
      "MAE scores: [2.3805569410481935, 1.478012955541068, 1.4692968342121968, 1.793105453287529, 1.9443164315701456]\n",
      "Mean MAE: 1.8131 hours\n"
     ]
    }
   ],
   "execution_count": 11
  },
  {
   "metadata": {},
   "cell_type": "markdown",
   "source": "Looking at the MAE values, we can see that the average error is around **1.8 hours**. This is fairly reasonable, and the results suggest that the model is performing well, with the error not being overly large.",
   "id": "4f1e38dd419a6bcf"
  },
  {
   "metadata": {},
   "cell_type": "markdown",
   "source": [
    "### 3. R² (R-squared)\n",
    "\n",
    "**R²** measures how well the model's predictions match the actual data by calculating the proportion of variance in the target variable that is explained by the model.\n",
    "\n",
    "  - An **R² value of 1** means the model explains **100% of the variance** in the target variable, i.e., it perfectly predicts the outcome.\n",
    "  - An **R² value of 0** means the model explains **0% of the variance**, indicating that the model does no better than simply predicting the mean of the target variable.\n",
    "  - Negative **R² values** can occur when the model performs worse than a horizontal line predicting the mean.\n",
    "\n",
    "**R² (R-squared)** is calculated as:\n",
    "\n",
    "  R² = 1 - (SS_residual / SS_total)\n",
    "\n",
    "  Where:\n",
    "  - **SS_residual** is the sum of squared residuals, which is the sum of the squared differences between the predicted and actual values.\n",
    "  - **SS_total** is the total sum of squares, which is the sum of the squared differences between the actual values and the mean of the target variable."
   ],
   "id": "cdae4fca14502efe"
  },
  {
   "metadata": {
    "ExecuteTime": {
     "end_time": "2025-04-13T18:56:30.375615Z",
     "start_time": "2025-04-13T18:56:30.368860Z"
    }
   },
   "cell_type": "code",
   "source": [
    "print(f\"\\nR² scores: {r2_scores}\")\n",
    "print(f\"Mean R²: {np.mean(r2_scores):.4f}\")"
   ],
   "id": "a5fd397da949ecd3",
   "outputs": [
    {
     "name": "stdout",
     "output_type": "stream",
     "text": [
      "\n",
      "R² scores: [0.9999938494867541, 0.9999976502004608, 0.9999975732881771, 0.9999933014356215, 0.9999951959123544]\n",
      "Mean R²: 1.0000\n"
     ]
    }
   ],
   "execution_count": 12
  },
  {
   "metadata": {},
   "cell_type": "markdown",
   "source": [
    "While the R² scores look excellent, there is a key factor that may be skewing these results — the nature of the **epoch time data**. Epoch time represents the number of seconds since January 1, 1970, which results in very large numeric values. The differences between two consecutive epoch times are typically small (just a few seconds), but since the numbers themselves are so large, even small prediction errors become relatively insignificant in comparison.\n",
    "\n",
    "Although the high R² values suggest excellent model performance, we cannot solely rely on R² when working with epoch time data. The scale of the numbers can artificially inflate the R² score, making the model appear more accurate than it might be in practice."
   ],
   "id": "9abe6f9dbf70c1c5"
  },
  {
   "metadata": {},
   "cell_type": "markdown",
   "source": [
    "### Identifying the Best Model\n",
    "\n",
    "**Linear regression** generally has few hyperparameters, and tuning them doesn't often lead to significant improvements in model performance. For this reason, the default hyperparameters are commonly used. However, we will explore some options for tuning in this case.\n",
    "\n",
    "- **model__fit_intercept**: Specifies whether the model should calculate an intercept.\n",
    "  - `True` includes an intercept in the model.\n",
    "  - `False` forces the model to pass through the origin, with no intercept.\n",
    "\n",
    "- **model__copy_X**: Determines whether the input data `X` should be copied before fitting.\n",
    "  - `True` copies the data to avoid modifying the original dataset.\n",
    "  - `False` modifies the data in place, saving memory.\n",
    "\n",
    "- **model__positive**: Ensures that the model’s coefficients are constrained to be positive.\n",
    "  - `True` restricts all coefficients to non-negative values.\n",
    "  - `False` allows coefficients to take any real value, including negative ones."
   ],
   "id": "e7873e7e09e1ca39"
  },
  {
   "metadata": {
    "ExecuteTime": {
     "end_time": "2025-04-13T19:09:32.233538Z",
     "start_time": "2025-04-13T19:09:32.218121Z"
    }
   },
   "cell_type": "code",
   "source": [
    "param_regression_grid = {\n",
    "    \"model__fit_intercept\": [True, False],\n",
    "    \"model__copy_X\": [True, False],\n",
    "    \"model__positive\": [False, True]\n",
    "}"
   ],
   "id": "2ff55cde71f997b9",
   "outputs": [],
   "execution_count": 13
  },
  {
   "metadata": {},
   "cell_type": "markdown",
   "source": [
    "We use **`GridSearchCV`** since there are a limited number of hyperparameters to tune. This method evaluates all possible combinations of the specified hyperparameters and helps us identify the best model.\n",
    "\n",
    "Another option is **`RandomizedSearchCV`**, which we will use in the case of classification. Unlike `GridSearchCV`, `RandomizedSearchCV` randomly samples from a range of hyperparameters, making it more efficient for models with a larger number of hyperparameters or when the search space is very large."
   ],
   "id": "e2d037feacb90290"
  },
  {
   "metadata": {
    "ExecuteTime": {
     "end_time": "2025-04-13T19:26:55.714878Z",
     "start_time": "2025-04-13T19:24:57.713618Z"
    }
   },
   "cell_type": "code",
   "source": [
    "grid_search = GridSearchCV(\n",
    "    regression_pipeline,\n",
    "    param_regression_grid,\n",
    "    cv=tscv,\n",
    "    scoring=\"neg_root_mean_squared_error\",\n",
    "    n_jobs=-1\n",
    ")\n",
    "\n",
    "grid_search.fit(X_regression, y_regression)\n",
    "best_regression_model = grid_search.best_estimator_\n",
    "best_regression_model"
   ],
   "id": "91578672be3b6589",
   "outputs": [
    {
     "data": {
      "text/plain": [
       "Pipeline(steps=[('preprocessor',\n",
       "                 ColumnTransformer(transformers=[('num',\n",
       "                                                  Pipeline(steps=[('std_scaler',\n",
       "                                                                   StandardScaler())]),\n",
       "                                                  ['city_latitude',\n",
       "                                                   'city_longitude',\n",
       "                                                   'day_tempmax', 'day_tempmin',\n",
       "                                                   'day_temp',\n",
       "                                                   'day_precipcover',\n",
       "                                                   'day_moonphase',\n",
       "                                                   'hour_datetimeEpoch',\n",
       "                                                   'hour_temp', 'hour_humidity',\n",
       "                                                   'hour_dew', 'hour_precip',\n",
       "                                                   'hour_precipprob',\n",
       "                                                   'hour_snow',\n",
       "                                                   'hour_snowdepth',\n",
       "                                                   'hour_windgust',\n",
       "                                                   'hour_windspeed',\n",
       "                                                   'hour_winddir',\n",
       "                                                   'hour_pressure',\n",
       "                                                   'hour_visibility',\n",
       "                                                   'hour_cloudcover',\n",
       "                                                   'hour_solarradiation',\n",
       "                                                   'hour_solarenergy',\n",
       "                                                   'hour_uvindex', 'advanced',\n",
       "                                                   'air', 'army', 'artillery',\n",
       "                                                   'authority', 'avdiivka', ...]),\n",
       "                                                 ('cat',\n",
       "                                                  OneHotEncoder(handle_unknown='ignore'),\n",
       "                                                  ['hour_conditions', 'region',\n",
       "                                                   'hour_preciptype'])])),\n",
       "                ('model', LinearRegression())])"
      ],
      "text/html": [
       "<style>#sk-container-id-3 {\n",
       "  /* Definition of color scheme common for light and dark mode */\n",
       "  --sklearn-color-text: #000;\n",
       "  --sklearn-color-text-muted: #666;\n",
       "  --sklearn-color-line: gray;\n",
       "  /* Definition of color scheme for unfitted estimators */\n",
       "  --sklearn-color-unfitted-level-0: #fff5e6;\n",
       "  --sklearn-color-unfitted-level-1: #f6e4d2;\n",
       "  --sklearn-color-unfitted-level-2: #ffe0b3;\n",
       "  --sklearn-color-unfitted-level-3: chocolate;\n",
       "  /* Definition of color scheme for fitted estimators */\n",
       "  --sklearn-color-fitted-level-0: #f0f8ff;\n",
       "  --sklearn-color-fitted-level-1: #d4ebff;\n",
       "  --sklearn-color-fitted-level-2: #b3dbfd;\n",
       "  --sklearn-color-fitted-level-3: cornflowerblue;\n",
       "\n",
       "  /* Specific color for light theme */\n",
       "  --sklearn-color-text-on-default-background: var(--sg-text-color, var(--theme-code-foreground, var(--jp-content-font-color1, black)));\n",
       "  --sklearn-color-background: var(--sg-background-color, var(--theme-background, var(--jp-layout-color0, white)));\n",
       "  --sklearn-color-border-box: var(--sg-text-color, var(--theme-code-foreground, var(--jp-content-font-color1, black)));\n",
       "  --sklearn-color-icon: #696969;\n",
       "\n",
       "  @media (prefers-color-scheme: dark) {\n",
       "    /* Redefinition of color scheme for dark theme */\n",
       "    --sklearn-color-text-on-default-background: var(--sg-text-color, var(--theme-code-foreground, var(--jp-content-font-color1, white)));\n",
       "    --sklearn-color-background: var(--sg-background-color, var(--theme-background, var(--jp-layout-color0, #111)));\n",
       "    --sklearn-color-border-box: var(--sg-text-color, var(--theme-code-foreground, var(--jp-content-font-color1, white)));\n",
       "    --sklearn-color-icon: #878787;\n",
       "  }\n",
       "}\n",
       "\n",
       "#sk-container-id-3 {\n",
       "  color: var(--sklearn-color-text);\n",
       "}\n",
       "\n",
       "#sk-container-id-3 pre {\n",
       "  padding: 0;\n",
       "}\n",
       "\n",
       "#sk-container-id-3 input.sk-hidden--visually {\n",
       "  border: 0;\n",
       "  clip: rect(1px 1px 1px 1px);\n",
       "  clip: rect(1px, 1px, 1px, 1px);\n",
       "  height: 1px;\n",
       "  margin: -1px;\n",
       "  overflow: hidden;\n",
       "  padding: 0;\n",
       "  position: absolute;\n",
       "  width: 1px;\n",
       "}\n",
       "\n",
       "#sk-container-id-3 div.sk-dashed-wrapped {\n",
       "  border: 1px dashed var(--sklearn-color-line);\n",
       "  margin: 0 0.4em 0.5em 0.4em;\n",
       "  box-sizing: border-box;\n",
       "  padding-bottom: 0.4em;\n",
       "  background-color: var(--sklearn-color-background);\n",
       "}\n",
       "\n",
       "#sk-container-id-3 div.sk-container {\n",
       "  /* jupyter's `normalize.less` sets `[hidden] { display: none; }`\n",
       "     but bootstrap.min.css set `[hidden] { display: none !important; }`\n",
       "     so we also need the `!important` here to be able to override the\n",
       "     default hidden behavior on the sphinx rendered scikit-learn.org.\n",
       "     See: https://github.com/scikit-learn/scikit-learn/issues/21755 */\n",
       "  display: inline-block !important;\n",
       "  position: relative;\n",
       "}\n",
       "\n",
       "#sk-container-id-3 div.sk-text-repr-fallback {\n",
       "  display: none;\n",
       "}\n",
       "\n",
       "div.sk-parallel-item,\n",
       "div.sk-serial,\n",
       "div.sk-item {\n",
       "  /* draw centered vertical line to link estimators */\n",
       "  background-image: linear-gradient(var(--sklearn-color-text-on-default-background), var(--sklearn-color-text-on-default-background));\n",
       "  background-size: 2px 100%;\n",
       "  background-repeat: no-repeat;\n",
       "  background-position: center center;\n",
       "}\n",
       "\n",
       "/* Parallel-specific style estimator block */\n",
       "\n",
       "#sk-container-id-3 div.sk-parallel-item::after {\n",
       "  content: \"\";\n",
       "  width: 100%;\n",
       "  border-bottom: 2px solid var(--sklearn-color-text-on-default-background);\n",
       "  flex-grow: 1;\n",
       "}\n",
       "\n",
       "#sk-container-id-3 div.sk-parallel {\n",
       "  display: flex;\n",
       "  align-items: stretch;\n",
       "  justify-content: center;\n",
       "  background-color: var(--sklearn-color-background);\n",
       "  position: relative;\n",
       "}\n",
       "\n",
       "#sk-container-id-3 div.sk-parallel-item {\n",
       "  display: flex;\n",
       "  flex-direction: column;\n",
       "}\n",
       "\n",
       "#sk-container-id-3 div.sk-parallel-item:first-child::after {\n",
       "  align-self: flex-end;\n",
       "  width: 50%;\n",
       "}\n",
       "\n",
       "#sk-container-id-3 div.sk-parallel-item:last-child::after {\n",
       "  align-self: flex-start;\n",
       "  width: 50%;\n",
       "}\n",
       "\n",
       "#sk-container-id-3 div.sk-parallel-item:only-child::after {\n",
       "  width: 0;\n",
       "}\n",
       "\n",
       "/* Serial-specific style estimator block */\n",
       "\n",
       "#sk-container-id-3 div.sk-serial {\n",
       "  display: flex;\n",
       "  flex-direction: column;\n",
       "  align-items: center;\n",
       "  background-color: var(--sklearn-color-background);\n",
       "  padding-right: 1em;\n",
       "  padding-left: 1em;\n",
       "}\n",
       "\n",
       "\n",
       "/* Toggleable style: style used for estimator/Pipeline/ColumnTransformer box that is\n",
       "clickable and can be expanded/collapsed.\n",
       "- Pipeline and ColumnTransformer use this feature and define the default style\n",
       "- Estimators will overwrite some part of the style using the `sk-estimator` class\n",
       "*/\n",
       "\n",
       "/* Pipeline and ColumnTransformer style (default) */\n",
       "\n",
       "#sk-container-id-3 div.sk-toggleable {\n",
       "  /* Default theme specific background. It is overwritten whether we have a\n",
       "  specific estimator or a Pipeline/ColumnTransformer */\n",
       "  background-color: var(--sklearn-color-background);\n",
       "}\n",
       "\n",
       "/* Toggleable label */\n",
       "#sk-container-id-3 label.sk-toggleable__label {\n",
       "  cursor: pointer;\n",
       "  display: flex;\n",
       "  width: 100%;\n",
       "  margin-bottom: 0;\n",
       "  padding: 0.5em;\n",
       "  box-sizing: border-box;\n",
       "  text-align: center;\n",
       "  align-items: start;\n",
       "  justify-content: space-between;\n",
       "  gap: 0.5em;\n",
       "}\n",
       "\n",
       "#sk-container-id-3 label.sk-toggleable__label .caption {\n",
       "  font-size: 0.6rem;\n",
       "  font-weight: lighter;\n",
       "  color: var(--sklearn-color-text-muted);\n",
       "}\n",
       "\n",
       "#sk-container-id-3 label.sk-toggleable__label-arrow:before {\n",
       "  /* Arrow on the left of the label */\n",
       "  content: \"▸\";\n",
       "  float: left;\n",
       "  margin-right: 0.25em;\n",
       "  color: var(--sklearn-color-icon);\n",
       "}\n",
       "\n",
       "#sk-container-id-3 label.sk-toggleable__label-arrow:hover:before {\n",
       "  color: var(--sklearn-color-text);\n",
       "}\n",
       "\n",
       "/* Toggleable content - dropdown */\n",
       "\n",
       "#sk-container-id-3 div.sk-toggleable__content {\n",
       "  max-height: 0;\n",
       "  max-width: 0;\n",
       "  overflow: hidden;\n",
       "  text-align: left;\n",
       "  /* unfitted */\n",
       "  background-color: var(--sklearn-color-unfitted-level-0);\n",
       "}\n",
       "\n",
       "#sk-container-id-3 div.sk-toggleable__content.fitted {\n",
       "  /* fitted */\n",
       "  background-color: var(--sklearn-color-fitted-level-0);\n",
       "}\n",
       "\n",
       "#sk-container-id-3 div.sk-toggleable__content pre {\n",
       "  margin: 0.2em;\n",
       "  border-radius: 0.25em;\n",
       "  color: var(--sklearn-color-text);\n",
       "  /* unfitted */\n",
       "  background-color: var(--sklearn-color-unfitted-level-0);\n",
       "}\n",
       "\n",
       "#sk-container-id-3 div.sk-toggleable__content.fitted pre {\n",
       "  /* unfitted */\n",
       "  background-color: var(--sklearn-color-fitted-level-0);\n",
       "}\n",
       "\n",
       "#sk-container-id-3 input.sk-toggleable__control:checked~div.sk-toggleable__content {\n",
       "  /* Expand drop-down */\n",
       "  max-height: 200px;\n",
       "  max-width: 100%;\n",
       "  overflow: auto;\n",
       "}\n",
       "\n",
       "#sk-container-id-3 input.sk-toggleable__control:checked~label.sk-toggleable__label-arrow:before {\n",
       "  content: \"▾\";\n",
       "}\n",
       "\n",
       "/* Pipeline/ColumnTransformer-specific style */\n",
       "\n",
       "#sk-container-id-3 div.sk-label input.sk-toggleable__control:checked~label.sk-toggleable__label {\n",
       "  color: var(--sklearn-color-text);\n",
       "  background-color: var(--sklearn-color-unfitted-level-2);\n",
       "}\n",
       "\n",
       "#sk-container-id-3 div.sk-label.fitted input.sk-toggleable__control:checked~label.sk-toggleable__label {\n",
       "  background-color: var(--sklearn-color-fitted-level-2);\n",
       "}\n",
       "\n",
       "/* Estimator-specific style */\n",
       "\n",
       "/* Colorize estimator box */\n",
       "#sk-container-id-3 div.sk-estimator input.sk-toggleable__control:checked~label.sk-toggleable__label {\n",
       "  /* unfitted */\n",
       "  background-color: var(--sklearn-color-unfitted-level-2);\n",
       "}\n",
       "\n",
       "#sk-container-id-3 div.sk-estimator.fitted input.sk-toggleable__control:checked~label.sk-toggleable__label {\n",
       "  /* fitted */\n",
       "  background-color: var(--sklearn-color-fitted-level-2);\n",
       "}\n",
       "\n",
       "#sk-container-id-3 div.sk-label label.sk-toggleable__label,\n",
       "#sk-container-id-3 div.sk-label label {\n",
       "  /* The background is the default theme color */\n",
       "  color: var(--sklearn-color-text-on-default-background);\n",
       "}\n",
       "\n",
       "/* On hover, darken the color of the background */\n",
       "#sk-container-id-3 div.sk-label:hover label.sk-toggleable__label {\n",
       "  color: var(--sklearn-color-text);\n",
       "  background-color: var(--sklearn-color-unfitted-level-2);\n",
       "}\n",
       "\n",
       "/* Label box, darken color on hover, fitted */\n",
       "#sk-container-id-3 div.sk-label.fitted:hover label.sk-toggleable__label.fitted {\n",
       "  color: var(--sklearn-color-text);\n",
       "  background-color: var(--sklearn-color-fitted-level-2);\n",
       "}\n",
       "\n",
       "/* Estimator label */\n",
       "\n",
       "#sk-container-id-3 div.sk-label label {\n",
       "  font-family: monospace;\n",
       "  font-weight: bold;\n",
       "  display: inline-block;\n",
       "  line-height: 1.2em;\n",
       "}\n",
       "\n",
       "#sk-container-id-3 div.sk-label-container {\n",
       "  text-align: center;\n",
       "}\n",
       "\n",
       "/* Estimator-specific */\n",
       "#sk-container-id-3 div.sk-estimator {\n",
       "  font-family: monospace;\n",
       "  border: 1px dotted var(--sklearn-color-border-box);\n",
       "  border-radius: 0.25em;\n",
       "  box-sizing: border-box;\n",
       "  margin-bottom: 0.5em;\n",
       "  /* unfitted */\n",
       "  background-color: var(--sklearn-color-unfitted-level-0);\n",
       "}\n",
       "\n",
       "#sk-container-id-3 div.sk-estimator.fitted {\n",
       "  /* fitted */\n",
       "  background-color: var(--sklearn-color-fitted-level-0);\n",
       "}\n",
       "\n",
       "/* on hover */\n",
       "#sk-container-id-3 div.sk-estimator:hover {\n",
       "  /* unfitted */\n",
       "  background-color: var(--sklearn-color-unfitted-level-2);\n",
       "}\n",
       "\n",
       "#sk-container-id-3 div.sk-estimator.fitted:hover {\n",
       "  /* fitted */\n",
       "  background-color: var(--sklearn-color-fitted-level-2);\n",
       "}\n",
       "\n",
       "/* Specification for estimator info (e.g. \"i\" and \"?\") */\n",
       "\n",
       "/* Common style for \"i\" and \"?\" */\n",
       "\n",
       ".sk-estimator-doc-link,\n",
       "a:link.sk-estimator-doc-link,\n",
       "a:visited.sk-estimator-doc-link {\n",
       "  float: right;\n",
       "  font-size: smaller;\n",
       "  line-height: 1em;\n",
       "  font-family: monospace;\n",
       "  background-color: var(--sklearn-color-background);\n",
       "  border-radius: 1em;\n",
       "  height: 1em;\n",
       "  width: 1em;\n",
       "  text-decoration: none !important;\n",
       "  margin-left: 0.5em;\n",
       "  text-align: center;\n",
       "  /* unfitted */\n",
       "  border: var(--sklearn-color-unfitted-level-1) 1pt solid;\n",
       "  color: var(--sklearn-color-unfitted-level-1);\n",
       "}\n",
       "\n",
       ".sk-estimator-doc-link.fitted,\n",
       "a:link.sk-estimator-doc-link.fitted,\n",
       "a:visited.sk-estimator-doc-link.fitted {\n",
       "  /* fitted */\n",
       "  border: var(--sklearn-color-fitted-level-1) 1pt solid;\n",
       "  color: var(--sklearn-color-fitted-level-1);\n",
       "}\n",
       "\n",
       "/* On hover */\n",
       "div.sk-estimator:hover .sk-estimator-doc-link:hover,\n",
       ".sk-estimator-doc-link:hover,\n",
       "div.sk-label-container:hover .sk-estimator-doc-link:hover,\n",
       ".sk-estimator-doc-link:hover {\n",
       "  /* unfitted */\n",
       "  background-color: var(--sklearn-color-unfitted-level-3);\n",
       "  color: var(--sklearn-color-background);\n",
       "  text-decoration: none;\n",
       "}\n",
       "\n",
       "div.sk-estimator.fitted:hover .sk-estimator-doc-link.fitted:hover,\n",
       ".sk-estimator-doc-link.fitted:hover,\n",
       "div.sk-label-container:hover .sk-estimator-doc-link.fitted:hover,\n",
       ".sk-estimator-doc-link.fitted:hover {\n",
       "  /* fitted */\n",
       "  background-color: var(--sklearn-color-fitted-level-3);\n",
       "  color: var(--sklearn-color-background);\n",
       "  text-decoration: none;\n",
       "}\n",
       "\n",
       "/* Span, style for the box shown on hovering the info icon */\n",
       ".sk-estimator-doc-link span {\n",
       "  display: none;\n",
       "  z-index: 9999;\n",
       "  position: relative;\n",
       "  font-weight: normal;\n",
       "  right: .2ex;\n",
       "  padding: .5ex;\n",
       "  margin: .5ex;\n",
       "  width: min-content;\n",
       "  min-width: 20ex;\n",
       "  max-width: 50ex;\n",
       "  color: var(--sklearn-color-text);\n",
       "  box-shadow: 2pt 2pt 4pt #999;\n",
       "  /* unfitted */\n",
       "  background: var(--sklearn-color-unfitted-level-0);\n",
       "  border: .5pt solid var(--sklearn-color-unfitted-level-3);\n",
       "}\n",
       "\n",
       ".sk-estimator-doc-link.fitted span {\n",
       "  /* fitted */\n",
       "  background: var(--sklearn-color-fitted-level-0);\n",
       "  border: var(--sklearn-color-fitted-level-3);\n",
       "}\n",
       "\n",
       ".sk-estimator-doc-link:hover span {\n",
       "  display: block;\n",
       "}\n",
       "\n",
       "/* \"?\"-specific style due to the `<a>` HTML tag */\n",
       "\n",
       "#sk-container-id-3 a.estimator_doc_link {\n",
       "  float: right;\n",
       "  font-size: 1rem;\n",
       "  line-height: 1em;\n",
       "  font-family: monospace;\n",
       "  background-color: var(--sklearn-color-background);\n",
       "  border-radius: 1rem;\n",
       "  height: 1rem;\n",
       "  width: 1rem;\n",
       "  text-decoration: none;\n",
       "  /* unfitted */\n",
       "  color: var(--sklearn-color-unfitted-level-1);\n",
       "  border: var(--sklearn-color-unfitted-level-1) 1pt solid;\n",
       "}\n",
       "\n",
       "#sk-container-id-3 a.estimator_doc_link.fitted {\n",
       "  /* fitted */\n",
       "  border: var(--sklearn-color-fitted-level-1) 1pt solid;\n",
       "  color: var(--sklearn-color-fitted-level-1);\n",
       "}\n",
       "\n",
       "/* On hover */\n",
       "#sk-container-id-3 a.estimator_doc_link:hover {\n",
       "  /* unfitted */\n",
       "  background-color: var(--sklearn-color-unfitted-level-3);\n",
       "  color: var(--sklearn-color-background);\n",
       "  text-decoration: none;\n",
       "}\n",
       "\n",
       "#sk-container-id-3 a.estimator_doc_link.fitted:hover {\n",
       "  /* fitted */\n",
       "  background-color: var(--sklearn-color-fitted-level-3);\n",
       "}\n",
       "</style><div id=\"sk-container-id-3\" class=\"sk-top-container\"><div class=\"sk-text-repr-fallback\"><pre>Pipeline(steps=[(&#x27;preprocessor&#x27;,\n",
       "                 ColumnTransformer(transformers=[(&#x27;num&#x27;,\n",
       "                                                  Pipeline(steps=[(&#x27;std_scaler&#x27;,\n",
       "                                                                   StandardScaler())]),\n",
       "                                                  [&#x27;city_latitude&#x27;,\n",
       "                                                   &#x27;city_longitude&#x27;,\n",
       "                                                   &#x27;day_tempmax&#x27;, &#x27;day_tempmin&#x27;,\n",
       "                                                   &#x27;day_temp&#x27;,\n",
       "                                                   &#x27;day_precipcover&#x27;,\n",
       "                                                   &#x27;day_moonphase&#x27;,\n",
       "                                                   &#x27;hour_datetimeEpoch&#x27;,\n",
       "                                                   &#x27;hour_temp&#x27;, &#x27;hour_humidity&#x27;,\n",
       "                                                   &#x27;hour_dew&#x27;, &#x27;hour_precip&#x27;,\n",
       "                                                   &#x27;hour_precipprob&#x27;,\n",
       "                                                   &#x27;hour_snow&#x27;,\n",
       "                                                   &#x27;hour_snowdepth&#x27;,\n",
       "                                                   &#x27;hour_windgust&#x27;,\n",
       "                                                   &#x27;hour_windspeed&#x27;,\n",
       "                                                   &#x27;hour_winddir&#x27;,\n",
       "                                                   &#x27;hour_pressure&#x27;,\n",
       "                                                   &#x27;hour_visibility&#x27;,\n",
       "                                                   &#x27;hour_cloudcover&#x27;,\n",
       "                                                   &#x27;hour_solarradiation&#x27;,\n",
       "                                                   &#x27;hour_solarenergy&#x27;,\n",
       "                                                   &#x27;hour_uvindex&#x27;, &#x27;advanced&#x27;,\n",
       "                                                   &#x27;air&#x27;, &#x27;army&#x27;, &#x27;artillery&#x27;,\n",
       "                                                   &#x27;authority&#x27;, &#x27;avdiivka&#x27;, ...]),\n",
       "                                                 (&#x27;cat&#x27;,\n",
       "                                                  OneHotEncoder(handle_unknown=&#x27;ignore&#x27;),\n",
       "                                                  [&#x27;hour_conditions&#x27;, &#x27;region&#x27;,\n",
       "                                                   &#x27;hour_preciptype&#x27;])])),\n",
       "                (&#x27;model&#x27;, LinearRegression())])</pre><b>In a Jupyter environment, please rerun this cell to show the HTML representation or trust the notebook. <br />On GitHub, the HTML representation is unable to render, please try loading this page with nbviewer.org.</b></div><div class=\"sk-container\" hidden><div class=\"sk-item sk-dashed-wrapped\"><div class=\"sk-label-container\"><div class=\"sk-label fitted sk-toggleable\"><input class=\"sk-toggleable__control sk-hidden--visually\" id=\"sk-estimator-id-16\" type=\"checkbox\" ><label for=\"sk-estimator-id-16\" class=\"sk-toggleable__label fitted sk-toggleable__label-arrow\"><div><div>Pipeline</div></div><div><a class=\"sk-estimator-doc-link fitted\" rel=\"noreferrer\" target=\"_blank\" href=\"https://scikit-learn.org/1.6/modules/generated/sklearn.pipeline.Pipeline.html\">?<span>Documentation for Pipeline</span></a><span class=\"sk-estimator-doc-link fitted\">i<span>Fitted</span></span></div></label><div class=\"sk-toggleable__content fitted\"><pre>Pipeline(steps=[(&#x27;preprocessor&#x27;,\n",
       "                 ColumnTransformer(transformers=[(&#x27;num&#x27;,\n",
       "                                                  Pipeline(steps=[(&#x27;std_scaler&#x27;,\n",
       "                                                                   StandardScaler())]),\n",
       "                                                  [&#x27;city_latitude&#x27;,\n",
       "                                                   &#x27;city_longitude&#x27;,\n",
       "                                                   &#x27;day_tempmax&#x27;, &#x27;day_tempmin&#x27;,\n",
       "                                                   &#x27;day_temp&#x27;,\n",
       "                                                   &#x27;day_precipcover&#x27;,\n",
       "                                                   &#x27;day_moonphase&#x27;,\n",
       "                                                   &#x27;hour_datetimeEpoch&#x27;,\n",
       "                                                   &#x27;hour_temp&#x27;, &#x27;hour_humidity&#x27;,\n",
       "                                                   &#x27;hour_dew&#x27;, &#x27;hour_precip&#x27;,\n",
       "                                                   &#x27;hour_precipprob&#x27;,\n",
       "                                                   &#x27;hour_snow&#x27;,\n",
       "                                                   &#x27;hour_snowdepth&#x27;,\n",
       "                                                   &#x27;hour_windgust&#x27;,\n",
       "                                                   &#x27;hour_windspeed&#x27;,\n",
       "                                                   &#x27;hour_winddir&#x27;,\n",
       "                                                   &#x27;hour_pressure&#x27;,\n",
       "                                                   &#x27;hour_visibility&#x27;,\n",
       "                                                   &#x27;hour_cloudcover&#x27;,\n",
       "                                                   &#x27;hour_solarradiation&#x27;,\n",
       "                                                   &#x27;hour_solarenergy&#x27;,\n",
       "                                                   &#x27;hour_uvindex&#x27;, &#x27;advanced&#x27;,\n",
       "                                                   &#x27;air&#x27;, &#x27;army&#x27;, &#x27;artillery&#x27;,\n",
       "                                                   &#x27;authority&#x27;, &#x27;avdiivka&#x27;, ...]),\n",
       "                                                 (&#x27;cat&#x27;,\n",
       "                                                  OneHotEncoder(handle_unknown=&#x27;ignore&#x27;),\n",
       "                                                  [&#x27;hour_conditions&#x27;, &#x27;region&#x27;,\n",
       "                                                   &#x27;hour_preciptype&#x27;])])),\n",
       "                (&#x27;model&#x27;, LinearRegression())])</pre></div> </div></div><div class=\"sk-serial\"><div class=\"sk-item sk-dashed-wrapped\"><div class=\"sk-label-container\"><div class=\"sk-label fitted sk-toggleable\"><input class=\"sk-toggleable__control sk-hidden--visually\" id=\"sk-estimator-id-17\" type=\"checkbox\" ><label for=\"sk-estimator-id-17\" class=\"sk-toggleable__label fitted sk-toggleable__label-arrow\"><div><div>preprocessor: ColumnTransformer</div></div><div><a class=\"sk-estimator-doc-link fitted\" rel=\"noreferrer\" target=\"_blank\" href=\"https://scikit-learn.org/1.6/modules/generated/sklearn.compose.ColumnTransformer.html\">?<span>Documentation for preprocessor: ColumnTransformer</span></a></div></label><div class=\"sk-toggleable__content fitted\"><pre>ColumnTransformer(transformers=[(&#x27;num&#x27;,\n",
       "                                 Pipeline(steps=[(&#x27;std_scaler&#x27;,\n",
       "                                                  StandardScaler())]),\n",
       "                                 [&#x27;city_latitude&#x27;, &#x27;city_longitude&#x27;,\n",
       "                                  &#x27;day_tempmax&#x27;, &#x27;day_tempmin&#x27;, &#x27;day_temp&#x27;,\n",
       "                                  &#x27;day_precipcover&#x27;, &#x27;day_moonphase&#x27;,\n",
       "                                  &#x27;hour_datetimeEpoch&#x27;, &#x27;hour_temp&#x27;,\n",
       "                                  &#x27;hour_humidity&#x27;, &#x27;hour_dew&#x27;, &#x27;hour_precip&#x27;,\n",
       "                                  &#x27;hour_precipprob&#x27;, &#x27;hour_snow&#x27;,\n",
       "                                  &#x27;hour_snowdepth&#x27;, &#x27;hour_windgust&#x27;,\n",
       "                                  &#x27;hour_windspeed&#x27;, &#x27;hour_winddir&#x27;,\n",
       "                                  &#x27;hour_pressure&#x27;, &#x27;hour_visibility&#x27;,\n",
       "                                  &#x27;hour_cloudcover&#x27;, &#x27;hour_solarradiation&#x27;,\n",
       "                                  &#x27;hour_solarenergy&#x27;, &#x27;hour_uvindex&#x27;,\n",
       "                                  &#x27;advanced&#x27;, &#x27;air&#x27;, &#x27;army&#x27;, &#x27;artillery&#x27;,\n",
       "                                  &#x27;authority&#x27;, &#x27;avdiivka&#x27;, ...]),\n",
       "                                (&#x27;cat&#x27;, OneHotEncoder(handle_unknown=&#x27;ignore&#x27;),\n",
       "                                 [&#x27;hour_conditions&#x27;, &#x27;region&#x27;,\n",
       "                                  &#x27;hour_preciptype&#x27;])])</pre></div> </div></div><div class=\"sk-parallel\"><div class=\"sk-parallel-item\"><div class=\"sk-item\"><div class=\"sk-label-container\"><div class=\"sk-label fitted sk-toggleable\"><input class=\"sk-toggleable__control sk-hidden--visually\" id=\"sk-estimator-id-18\" type=\"checkbox\" ><label for=\"sk-estimator-id-18\" class=\"sk-toggleable__label fitted sk-toggleable__label-arrow\"><div><div>num</div></div></label><div class=\"sk-toggleable__content fitted\"><pre>[&#x27;city_latitude&#x27;, &#x27;city_longitude&#x27;, &#x27;day_tempmax&#x27;, &#x27;day_tempmin&#x27;, &#x27;day_temp&#x27;, &#x27;day_precipcover&#x27;, &#x27;day_moonphase&#x27;, &#x27;hour_datetimeEpoch&#x27;, &#x27;hour_temp&#x27;, &#x27;hour_humidity&#x27;, &#x27;hour_dew&#x27;, &#x27;hour_precip&#x27;, &#x27;hour_precipprob&#x27;, &#x27;hour_snow&#x27;, &#x27;hour_snowdepth&#x27;, &#x27;hour_windgust&#x27;, &#x27;hour_windspeed&#x27;, &#x27;hour_winddir&#x27;, &#x27;hour_pressure&#x27;, &#x27;hour_visibility&#x27;, &#x27;hour_cloudcover&#x27;, &#x27;hour_solarradiation&#x27;, &#x27;hour_solarenergy&#x27;, &#x27;hour_uvindex&#x27;, &#x27;advanced&#x27;, &#x27;air&#x27;, &#x27;army&#x27;, &#x27;artillery&#x27;, &#x27;authority&#x27;, &#x27;avdiivka&#x27;, &#x27;bakhmut&#x27;, &#x27;belarus&#x27;, &#x27;border&#x27;, &#x27;brigade&#x27;, &#x27;command&#x27;, &#x27;confirmed&#x27;, &#x27;district&#x27;, &#x27;division&#x27;, &#x27;drone&#x27;, &#x27;element&#x27;, &#x27;footage&#x27;, &#x27;frontline&#x27;, &#x27;geolocated&#x27;, &#x27;head&#x27;, &#x27;information&#x27;, &#x27;kreminna&#x27;, &#x27;kremlin&#x27;, &#x27;kupyansk&#x27;, &#x27;milblogger&#x27;, &#x27;milbloggers&#x27;, &#x27;missile&#x27;, &#x27;mod&#x27;, &#x27;motorized&#x27;, &#x27;northeast&#x27;, &#x27;noted&#x27;, &#x27;observed&#x27;, &#x27;occupation&#x27;, &#x27;operating&#x27;, &#x27;personnel&#x27;, &#x27;president&#x27;, &#x27;published&#x27;, &#x27;putin&#x27;, &#x27;recently&#x27;, &#x27;regiment&#x27;, &#x27;rifle&#x27;, &#x27;significant&#x27;, &#x27;southeast&#x27;, &#x27;southwest&#x27;, &#x27;state&#x27;, &#x27;unit&#x27;, &#x27;unspecified&#x27;, &#x27;wagner&#x27;, &#x27;within&#x27;, &#x27;would&#x27;]</pre></div> </div></div><div class=\"sk-serial\"><div class=\"sk-item\"><div class=\"sk-serial\"><div class=\"sk-item\"><div class=\"sk-estimator fitted sk-toggleable\"><input class=\"sk-toggleable__control sk-hidden--visually\" id=\"sk-estimator-id-19\" type=\"checkbox\" ><label for=\"sk-estimator-id-19\" class=\"sk-toggleable__label fitted sk-toggleable__label-arrow\"><div><div>StandardScaler</div></div><div><a class=\"sk-estimator-doc-link fitted\" rel=\"noreferrer\" target=\"_blank\" href=\"https://scikit-learn.org/1.6/modules/generated/sklearn.preprocessing.StandardScaler.html\">?<span>Documentation for StandardScaler</span></a></div></label><div class=\"sk-toggleable__content fitted\"><pre>StandardScaler()</pre></div> </div></div></div></div></div></div></div><div class=\"sk-parallel-item\"><div class=\"sk-item\"><div class=\"sk-label-container\"><div class=\"sk-label fitted sk-toggleable\"><input class=\"sk-toggleable__control sk-hidden--visually\" id=\"sk-estimator-id-20\" type=\"checkbox\" ><label for=\"sk-estimator-id-20\" class=\"sk-toggleable__label fitted sk-toggleable__label-arrow\"><div><div>cat</div></div></label><div class=\"sk-toggleable__content fitted\"><pre>[&#x27;hour_conditions&#x27;, &#x27;region&#x27;, &#x27;hour_preciptype&#x27;]</pre></div> </div></div><div class=\"sk-serial\"><div class=\"sk-item\"><div class=\"sk-estimator fitted sk-toggleable\"><input class=\"sk-toggleable__control sk-hidden--visually\" id=\"sk-estimator-id-21\" type=\"checkbox\" ><label for=\"sk-estimator-id-21\" class=\"sk-toggleable__label fitted sk-toggleable__label-arrow\"><div><div>OneHotEncoder</div></div><div><a class=\"sk-estimator-doc-link fitted\" rel=\"noreferrer\" target=\"_blank\" href=\"https://scikit-learn.org/1.6/modules/generated/sklearn.preprocessing.OneHotEncoder.html\">?<span>Documentation for OneHotEncoder</span></a></div></label><div class=\"sk-toggleable__content fitted\"><pre>OneHotEncoder(handle_unknown=&#x27;ignore&#x27;)</pre></div> </div></div></div></div></div></div></div><div class=\"sk-item\"><div class=\"sk-estimator fitted sk-toggleable\"><input class=\"sk-toggleable__control sk-hidden--visually\" id=\"sk-estimator-id-22\" type=\"checkbox\" ><label for=\"sk-estimator-id-22\" class=\"sk-toggleable__label fitted sk-toggleable__label-arrow\"><div><div>LinearRegression</div></div><div><a class=\"sk-estimator-doc-link fitted\" rel=\"noreferrer\" target=\"_blank\" href=\"https://scikit-learn.org/1.6/modules/generated/sklearn.linear_model.LinearRegression.html\">?<span>Documentation for LinearRegression</span></a></div></label><div class=\"sk-toggleable__content fitted\"><pre>LinearRegression()</pre></div> </div></div></div></div></div></div>"
      ]
     },
     "execution_count": 19,
     "metadata": {},
     "output_type": "execute_result"
    }
   ],
   "execution_count": 19
  },
  {
   "metadata": {
    "ExecuteTime": {
     "end_time": "2025-04-13T19:27:15.226692Z",
     "start_time": "2025-04-13T19:27:15.207675Z"
    }
   },
   "cell_type": "code",
   "source": "grid_search.best_params_",
   "id": "74aa4a13f4efb3b",
   "outputs": [
    {
     "data": {
      "text/plain": [
       "{'model__copy_X': True, 'model__fit_intercept': True, 'model__positive': False}"
      ]
     },
     "execution_count": 20,
     "metadata": {},
     "output_type": "execute_result"
    }
   ],
   "execution_count": 20
  },
  {
   "metadata": {},
   "cell_type": "markdown",
   "source": "As we can see, these are essentially the default parameters, so the results remain identical.",
   "id": "c6838b5155c1343c"
  },
  {
   "metadata": {
    "ExecuteTime": {
     "end_time": "2025-04-13T19:39:12.764336Z",
     "start_time": "2025-04-13T19:39:12.751314Z"
    }
   },
   "cell_type": "code",
   "source": "print(f\"Best RMSE: {-grid_search.best_score_ / 3600:.4f} hours\")",
   "id": "fc3db8d9110d21cb",
   "outputs": [
    {
     "name": "stdout",
     "output_type": "stream",
     "text": [
      "Best RMSE: 2.6351 hours\n"
     ]
    }
   ],
   "execution_count": 22
  },
  {
   "metadata": {
    "ExecuteTime": {
     "end_time": "2025-04-13T19:40:08.176079Z",
     "start_time": "2025-04-13T19:40:08.161892Z"
    }
   },
   "cell_type": "code",
   "source": [
    "cvres = grid_search.cv_results_\n",
    "for mean_score, params in zip(cvres[\"mean_test_score\"], cvres[\"params\"]):\n",
    "    print(np.sqrt(-mean_score), params)"
   ],
   "id": "23f2634e1a53c222",
   "outputs": [
    {
     "name": "stdout",
     "output_type": "stream",
     "text": [
      "97.39813462730208 {'model__copy_X': True, 'model__fit_intercept': True, 'model__positive': False}\n",
      "nan {'model__copy_X': True, 'model__fit_intercept': True, 'model__positive': True}\n",
      "1838.0781661747349 {'model__copy_X': True, 'model__fit_intercept': False, 'model__positive': False}\n",
      "nan {'model__copy_X': True, 'model__fit_intercept': False, 'model__positive': True}\n",
      "97.39813462730208 {'model__copy_X': False, 'model__fit_intercept': True, 'model__positive': False}\n",
      "nan {'model__copy_X': False, 'model__fit_intercept': True, 'model__positive': True}\n",
      "1838.0781661747349 {'model__copy_X': False, 'model__fit_intercept': False, 'model__positive': False}\n",
      "nan {'model__copy_X': False, 'model__fit_intercept': False, 'model__positive': True}\n"
     ]
    }
   ],
   "execution_count": 23
  },
  {
   "metadata": {},
   "cell_type": "markdown",
   "source": "We can observe that when `model__positive` is set to `True`, the model produces a `nan` score.",
   "id": "1b46c7b4237d6345"
  },
  {
   "metadata": {},
   "cell_type": "markdown",
   "source": "### Top Features for the Regression Task",
   "id": "7fb80c8bdfbc99ca"
  },
  {
   "metadata": {
    "ExecuteTime": {
     "end_time": "2025-04-13T20:14:43.178726Z",
     "start_time": "2025-04-13T20:14:40.851334Z"
    }
   },
   "cell_type": "code",
   "source": [
    "import matplotlib.pyplot as plt\n",
    "import seaborn as sns"
   ],
   "id": "39b38d973ac8a40d",
   "outputs": [],
   "execution_count": 35
  },
  {
   "metadata": {
    "ExecuteTime": {
     "end_time": "2025-04-13T20:24:04.692633Z",
     "start_time": "2025-04-13T20:24:04.676719Z"
    }
   },
   "cell_type": "code",
   "source": [
    "feature_importance = list(zip(X_regression.columns, abs(grid_search.best_estimator_[\"model\"].coef_)))\n",
    "importance_df = pd.DataFrame(feature_importance, columns=[\"Feature\", \"Importance\"])\n",
    "importance_df = importance_df.sort_values(\"Importance\", ascending=False)\n",
    "top_20 = importance_df.head(20)"
   ],
   "id": "2ed3a692f0af93c8",
   "outputs": [],
   "execution_count": 44
  },
  {
   "metadata": {},
   "cell_type": "markdown",
   "source": "This bar plot visualizes the top 20 features of the linear regression model based on their **absolute coefficient values**, which represent the importance of each feature.",
   "id": "7e587c046efae76a"
  },
  {
   "metadata": {
    "ExecuteTime": {
     "end_time": "2025-04-13T20:16:39.134465Z",
     "start_time": "2025-04-13T20:16:38.552835Z"
    }
   },
   "cell_type": "code",
   "source": [
    "plt.figure(figsize=(12, 8))\n",
    "sns.barplot(x=\"Importance\", y=\"Feature\", data=top_20, palette=\"viridis\")\n",
    "plt.title(\"Top 20 Features by Importance\", fontsize=16, fontweight=\"bold\")\n",
    "plt.xlabel(\"Absolute Coefficient Value\", fontsize=12, fontweight=\"bold\")\n",
    "plt.ylabel(\"Features\", fontsize=12, fontweight=\"bold\");"
   ],
   "id": "238f82986083b3",
   "outputs": [
    {
     "data": {
      "text/plain": [
       "<Figure size 1200x800 with 1 Axes>"
      ],
      "image/png": "[encoded data removed]"
     },
     "metadata": {},
     "output_type": "display_data"
    }
   ],
   "execution_count": 37
  },
  {
   "metadata": {},
   "cell_type": "markdown",
   "source": "We can observe a strong dependence on features like `city_longitude`, `hour_datetimeEpoch`, and `city_latitude`, which dominate the model. These features have significantly higher coefficients compared to the others. To better understand the influence of other features, let's plot the feature importance again, excluding these three, and identify the remaining important features.",
   "id": "241acc7a46bb24dc"
  },
  {
   "metadata": {
    "ExecuteTime": {
     "end_time": "2025-04-13T20:24:08.232927Z",
     "start_time": "2025-04-13T20:24:07.720807Z"
    }
   },
   "cell_type": "code",
   "source": [
    "top_20 = top_20.iloc[3:]\n",
    "plt.figure(figsize=(12, 8))\n",
    "sns.barplot(x=\"Importance\", y=\"Feature\", data=top_20, palette=\"viridis\")\n",
    "plt.title(\"Top 20 Features by Importance\", fontsize=16, fontweight=\"bold\")\n",
    "plt.xlabel(\"Absolute Coefficient Value\", fontsize=12, fontweight=\"bold\")\n",
    "plt.ylabel(\"Features\", fontsize=12, fontweight=\"bold\");"
   ],
   "id": "a47095b7b61ad3b6",
   "outputs": [
    {
     "data": {
      "text/plain": [
       "<Figure size 1200x800 with 1 Axes>"
      ],
      "image/png": "[encoded data removed]"
     },
     "metadata": {},
     "output_type": "display_data"
    }
   ],
   "execution_count": 45
  },
  {
   "metadata": {},
   "cell_type": "markdown",
   "source": [
    "- The feature **`would`** stands out as the most important, with a significantly higher coefficient compared to the other features. This indicates it has a strong influence on the model’s predictions.\n",
    "- **`hour_temp`**, **`hour_solarradiation`**, and **`hour_cloudcover`** are also highly influential features."
   ],
   "id": "7a6b1068224ca52d"
  },
  {
   "metadata": {},
   "cell_type": "markdown",
   "source": [
    "### Conclusion on the Regression Part\n",
    "\n",
    "1. The overall result is quite good. An MAE of 1.8 hours for predicting the next alarm is a strong outcome, but there is still room for improvement.\n",
    "2. A significant dependence on features like `city_latitude` and `city_longitude` is observed. We should consider testing the model without these features to evaluate their true impact. The `hour_datetimeEpoch` column, however, remains valuable as it provides temporal information, making it easier to predict the correct time.\n",
    "3. The weather data appears to be much more valuable in predicting the target than the **ISW reports**, indicating that weather-related features play a more substantial role."
   ],
   "id": "eba94d008a4bbef3"
  },
  {
   "metadata": {},
   "cell_type": "markdown",
   "source": "Check the Model Without the Mentioned Columns",
   "id": "edeb4a47439f0afa"
  },
  {
   "metadata": {
    "ExecuteTime": {
     "end_time": "2025-04-13T20:36:02.525122Z",
     "start_time": "2025-04-13T20:36:01.946218Z"
    }
   },
   "cell_type": "code",
   "source": [
    "X_regression.drop([\"city_longitude\", \"city_latitude\"], axis=1, inplace=True)\n",
    "num_attribs = X_regression.select_dtypes(include=\"number\").columns.tolist()\n",
    "cat_attribs = [\"hour_conditions\", \"region\", \"hour_preciptype\"]\n",
    "\n",
    "num_regression_pipeline = Pipeline([\n",
    "    (\"std_scaler\", StandardScaler()),\n",
    "])\n",
    "\n",
    "full_regression_pipeline = ColumnTransformer([\n",
    "    (\"num\", num_regression_pipeline, num_attribs),\n",
    "    (\"cat\", OneHotEncoder(handle_unknown=\"ignore\"), cat_attribs)\n",
    "])\n",
    "regression_pipeline = Pipeline([\n",
    "    (\"preprocessor\", full_regression_pipeline),\n",
    "    (\"model\", LinearRegression())\n",
    "])"
   ],
   "id": "8dd7bc5326215756",
   "outputs": [],
   "execution_count": 51
  },
  {
   "metadata": {
    "ExecuteTime": {
     "end_time": "2025-04-13T20:36:34.095152Z",
     "start_time": "2025-04-13T20:36:06.230779Z"
    }
   },
   "cell_type": "code",
   "source": [
    "tscv = TimeSeriesSplit(n_splits=5)\n",
    "rmse_scores = []\n",
    "mae_scores = []\n",
    "r2_scores = []\n",
    "for train_index, test_index in tscv.split(X_regression):\n",
    "    X_train, X_test = X_regression.iloc[train_index], X_regression.iloc[test_index]\n",
    "    y_train, y_test = y_regression.iloc[train_index], y_regression.iloc[test_index]\n",
    "\n",
    "    regression_pipeline.fit(X_train, y_train)\n",
    "    y_pred = regression_pipeline.predict(X_test)\n",
    "\n",
    "    rmse_scores.append(root_mean_squared_error(y_test, y_pred) / 3600)\n",
    "    mae_scores.append(mean_absolute_error(y_test, y_pred) / 3600)\n",
    "    r2_scores.append(r2_score(y_test, y_pred))\n",
    "print(f\"RMSE scores: {rmse_scores}\")\n",
    "print(f\"Mean RMSE: {np.mean(rmse_scores):.4f} hours\")\n",
    "print(f\"\\nMAE scores: {mae_scores}\")\n",
    "print(f\"Mean MAE: {np.mean(mae_scores):.4f} hours\")"
   ],
   "id": "33b005f751ab2365",
   "outputs": [
    {
     "name": "stdout",
     "output_type": "stream",
     "text": [
      "RMSE scores: [3.2136969564302547, 1.966689577226994, 1.983196086078611, 3.2315260013332443, 2.775012777213613]\n",
      "Mean RMSE: 2.6340 hours\n",
      "\n",
      "MAE scores: [2.3805569382436427, 1.4767773556882438, 1.4663877813559871, 1.7943548786700707, 1.9449388075046001]\n",
      "Mean MAE: 1.8126 hours\n"
     ]
    }
   ],
   "execution_count": 52
  },
  {
   "metadata": {},
   "cell_type": "markdown",
   "source": "We can see that the results have slightly improved, but the difference is less than 3 seconds. This indicates that the model’s performance doesn’t heavily depend on the `city_latitude` and `city_longitude` columns.",
   "id": "d60efd54b6b494fc"
  },
  {
   "metadata": {},
   "cell_type": "markdown",
   "source": "## Classification",
   "id": "1d0c8b32de3707c0"
  },
  {
   "metadata": {
    "ExecuteTime": {
     "end_time": "2025-04-13T11:38:54.298784Z",
     "start_time": "2025-04-13T11:38:18.376129Z"
    }
   },
   "cell_type": "code",
   "source": [
    "accuracy_scores = []\n",
    "precision_scores = []\n",
    "recall_scores = []\n",
    "f1_scores = []\n",
    "roc_auc_scores = []\n",
    "avg_precision_scores = []\n",
    "confusion_matrices = []\n",
    "tscv = TimeSeriesSplit(n_splits=5)\n",
    "\n",
    "for train_index, test_index in tscv.split(X_classification):\n",
    "    X_train, X_test = X_classification.iloc[train_index], X_classification.iloc[test_index]\n",
    "    y_train, y_test = y_classification.iloc[train_index], y_classification.iloc[test_index]\n",
    "\n",
    "    classification_pipeline.fit(X_train, y_train)\n",
    "    y_pred = classification_pipeline.predict(X_test)\n",
    "\n",
    "    y_pred_proba = classification_pipeline.predict_proba(X_test)[:, 1]\n",
    "\n",
    "    accuracy_scores.append(accuracy_score(y_test, y_pred))\n",
    "    precision_scores.append(precision_score(y_test, y_pred, average=\"binary\", zero_division=0))\n",
    "    recall_scores.append(recall_score(y_test, y_pred, average=\"binary\", zero_division=0))\n",
    "    f1_scores.append(f1_score(y_test, y_pred, average=\"binary\", zero_division=0))\n",
    "    roc_auc_scores.append(roc_auc_score(y_test, y_pred_proba))\n",
    "    avg_precision_scores.append(average_precision_score(y_test, y_pred_proba))\n",
    "    confusion_matrices.append(confusion_matrix(y_test, y_pred))\n",
    "\n",
    "print(f\"Accuracy scores: {accuracy_scores}\")\n",
    "print(f\"Mean accuracy: {np.mean(accuracy_scores):.4f}\")\n",
    "\n",
    "print(f\"\\nPrecision scores: {precision_scores}\")\n",
    "print(f\"Mean precision: {np.mean(precision_scores):.4f}\")\n",
    "\n",
    "print(f\"\\nRecall scores: {recall_scores}\")\n",
    "print(f\"Mean recall: {np.mean(recall_scores):.4f}\")\n",
    "\n",
    "print(f\"\\nF1 scores: {f1_scores}\")\n",
    "print(f\"Mean F1: {np.mean(f1_scores):.4f}\")\n",
    "\n",
    "print(f\"\\nROC AUC scores: {roc_auc_scores}\")\n",
    "print(f\"Mean ROC AUC: {np.mean(roc_auc_scores):.4f}\")\n",
    "\n",
    "print(f\"\\nAverage Precision scores: {avg_precision_scores}\")\n",
    "print(f\"Mean Average Precision: {np.mean(avg_precision_scores):.4f}\")\n",
    "\n",
    "print(f\"\\n Confusion Matrices scores: {confusion_matrices}\")"
   ],
   "id": "e2971cd8a5692ae1",
   "outputs": [
    {
     "name": "stderr",
     "output_type": "stream",
     "text": [
      "C:\\Users\\misha\\AppData\\Local\\Programs\\Python\\Python313\\Lib\\site-packages\\sklearn\\linear_model\\_logistic.py:465: ConvergenceWarning: lbfgs failed to converge (status=1):\n",
      "STOP: TOTAL NO. of ITERATIONS REACHED LIMIT.\n",
      "\n",
      "Increase the number of iterations (max_iter) or scale the data as shown in:\n",
      "    https://scikit-learn.org/stable/modules/preprocessing.html\n",
      "Please also refer to the documentation for alternative solver options:\n",
      "    https://scikit-learn.org/stable/modules/linear_model.html#logistic-regression\n",
      "  n_iter_i = _check_optimize_result(\n"
     ]
    },
    {
     "name": "stdout",
     "output_type": "stream",
     "text": [
      "Accuracy scores: [0.795848078269591, 0.7879378536419204, 0.7735556270461555, 0.7438828227012092, 0.7178812709346555]\n",
      "Mean accuracy: 0.7638\n",
      "\n",
      "Precision scores: [0.48840688107703817, 0.5855068566819037, 0.7204404021062709, 0.7489844903988183, 0.6600912651359995]\n",
      "Mean precision: 0.6407\n",
      "\n",
      "Recall scores: [0.12176020883833676, 0.3490142651065876, 0.26369274976346496, 0.4286242603550296, 0.47437188524801815]\n",
      "Mean recall: 0.3275\n",
      "\n",
      "F1 scores: [0.19492537313432837, 0.43733681462140994, 0.3860756246472731, 0.545228494623656, 0.5520298085879984]\n",
      "Mean F1: 0.4231\n",
      "\n",
      "ROC AUC scores: [np.float64(0.6697427455967151), np.float64(0.7438357809757561), np.float64(0.7698602757683233), np.float64(0.8014714870688231), np.float64(0.7899040420977347)]\n",
      "Mean ROC AUC: 0.7550\n",
      "\n",
      "Average Precision scores: [np.float64(0.3700435133894332), np.float64(0.5022898570873144), np.float64(0.5867259359997006), np.float64(0.6961145579826867), np.float64(0.6758824406531853)]\n",
      "Mean Average Precision: 0.5662\n",
      "\n",
      " Confusion Matrices scores: [array([[81498,  2736],\n",
      "       [18840,  2612]]), array([[74564,  6166],\n",
      "       [16246,  8710]]), array([[74229,  2920],\n",
      "       [21012,  7525]]), array([[62392,  5438],\n",
      "       [21630, 16226]]), array([[57499,  9460],\n",
      "       [20356, 18371]])]\n"
     ]
    }
   ],
   "execution_count": 37
  },
  {
   "metadata": {
    "ExecuteTime": {
     "end_time": "2025-04-13T11:42:16.380302Z",
     "start_time": "2025-04-13T11:42:16.365555Z"
    }
   },
   "cell_type": "code",
   "source": "confusion_matrices[0]",
   "id": "a35345232a746d19",
   "outputs": [
    {
     "data": {
      "text/plain": [
       "array([[81498,  2736],\n",
       "       [18840,  2612]])"
      ]
     },
     "execution_count": 38,
     "metadata": {},
     "output_type": "execute_result"
    }
   ],
   "execution_count": 38
  },
  {
   "metadata": {
    "ExecuteTime": {
     "end_time": "2025-04-13T11:45:24.847954Z",
     "start_time": "2025-04-13T11:45:24.840760Z"
    }
   },
   "cell_type": "code",
   "source": "df.shape",
   "id": "55c5a49623d9acb1",
   "outputs": [
    {
     "data": {
      "text/plain": [
       "(634121, 80)"
      ]
     },
     "execution_count": 40,
     "metadata": {},
     "output_type": "execute_result"
    }
   ],
   "execution_count": 40
  },
  {
   "metadata": {
    "ExecuteTime": {
     "end_time": "2025-04-13T11:47:54.849352Z",
     "start_time": "2025-04-13T11:47:54.833988Z"
    }
   },
   "cell_type": "code",
   "source": "df.shape[0] / 6",
   "id": "1a1ec01bde53711e",
   "outputs": [
    {
     "data": {
      "text/plain": [
       "105686.83333333333"
      ]
     },
     "execution_count": 46,
     "metadata": {},
     "output_type": "execute_result"
    }
   ],
   "execution_count": 46
  },
  {
   "metadata": {
    "ExecuteTime": {
     "end_time": "2025-04-13T11:49:59.810195Z",
     "start_time": "2025-04-13T11:49:59.789908Z"
    }
   },
   "cell_type": "code",
   "source": "df[int(df.shape[0] / 6) * 5:int(df.shape[0] / 6) * 6:][\"is_alarm\"].value_counts()",
   "id": "4d57cb881b933532",
   "outputs": [
    {
     "data": {
      "text/plain": [
       "is_alarm\n",
       "0    66962\n",
       "1    38724\n",
       "Name: count, dtype: int64"
      ]
     },
     "execution_count": 50,
     "metadata": {},
     "output_type": "execute_result"
    }
   ],
   "execution_count": 50
  },
  {
   "metadata": {
    "ExecuteTime": {
     "end_time": "2025-04-13T11:09:57.837568Z",
     "start_time": "2025-04-13T11:09:57.834147Z"
    }
   },
   "cell_type": "code",
   "source": [
    "param_grid = {\n",
    "    \"preprocessor__num__pca__n_components\": [0.5, 0.2, 0.01, 0.95, 0.9, 0.8, 1, 5, 10, 25, 50, 70]\n",
    "}"
   ],
   "id": "c62bfd533db6cb25",
   "outputs": [],
   "execution_count": 15
  },
  {
   "metadata": {
    "ExecuteTime": {
     "end_time": "2025-04-13T11:12:04.586839Z",
     "start_time": "2025-04-13T11:09:59.037105Z"
    }
   },
   "cell_type": "code",
   "source": [
    "grid_search = GridSearchCV(\n",
    "    classification_pipeline,\n",
    "    param_grid,\n",
    "    cv=tscv,\n",
    "    scoring=\"accuracy\",\n",
    "    n_jobs=-1,\n",
    "    verbose=1\n",
    ")\n",
    "\n",
    "grid_search.fit(X_classification, y_classification)\n",
    "\n",
    "print(f\"Best parameters: {grid_search.best_params_}\")\n",
    "print(f\"Best accuracy: {grid_search.best_score_:.4f}\")\n",
    "\n",
    "best_classification_model = grid_search.best_estimator_"
   ],
   "id": "c23132ab8483d02b",
   "outputs": [
    {
     "name": "stdout",
     "output_type": "stream",
     "text": [
      "Fitting 5 folds for each of 12 candidates, totalling 60 fits\n",
      "Best parameters: {'preprocessor__num__pca__n_components': 70}\n",
      "Best accuracy: 0.7645\n"
     ]
    },
    {
     "name": "stderr",
     "output_type": "stream",
     "text": [
      "C:\\Users\\misha\\AppData\\Local\\Programs\\Python\\Python313\\Lib\\site-packages\\sklearn\\linear_model\\_logistic.py:465: ConvergenceWarning: lbfgs failed to converge (status=1):\n",
      "STOP: TOTAL NO. of ITERATIONS REACHED LIMIT.\n",
      "\n",
      "Increase the number of iterations (max_iter) or scale the data as shown in:\n",
      "    https://scikit-learn.org/stable/modules/preprocessing.html\n",
      "Please also refer to the documentation for alternative solver options:\n",
      "    https://scikit-learn.org/stable/modules/linear_model.html#logistic-regression\n",
      "  n_iter_i = _check_optimize_result(\n"
     ]
    }
   ],
   "execution_count": 16
  }
 ],
 "metadata": {
  "kernelspec": {
   "display_name": "Python 3",
   "language": "python",
   "name": "python3"
  },
  "language_info": {
   "codemirror_mode": {
    "name": "ipython",
    "version": 2
   },
   "file_extension": ".py",
   "mimetype": "text/x-python",
   "name": "python",
   "nbconvert_exporter": "python",
   "pygments_lexer": "ipython2",
   "version": "2.7.6"
  }
 },
 "nbformat": 4,
 "nbformat_minor": 5
}
