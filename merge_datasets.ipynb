{
 "cells": [
  {
   "cell_type": "code",
   "id": "initial_id",
   "metadata": {
    "collapsed": true,
    "ExecuteTime": {
     "end_time": "2025-04-09T12:40:29.780009600Z",
     "start_time": "2025-04-09T12:40:27.541881200Z"
    }
   },
   "source": [
    "import datetime\n",
    "import numpy as np\n",
    "import pandas as pd\n",
    "\n",
    "import pickle"
   ],
   "outputs": [],
   "execution_count": 4
  },
  {
   "metadata": {
    "ExecuteTime": {
     "end_time": "2025-04-09T12:40:29.796964900Z",
     "start_time": "2025-04-09T12:40:27.547858100Z"
    }
   },
   "cell_type": "code",
   "source": [
    "regions = pd.read_csv(\"data/regions.csv\")\n",
    "regions.head()"
   ],
   "id": "217ab631cb1040e6",
   "outputs": [
    {
     "data": {
      "text/plain": "             region center_city_ua center_city_en        region_alt  region_id\n0           АР Крим    Сімферополь     Simferopol              Крим          1\n1         Вінницька        Вінниця      Vinnytsia        Вінниччина          2\n2         Волинська          Луцьк          Lutsk            Волинь          3\n3  Дніпропетровська         Дніпро         Dnipro  Дніпропетровщина          4\n4          Донецька        Донецьк        Donetsk         Донеччина          5",
      "text/html": "<div>\n<style scoped>\n    .dataframe tbody tr th:only-of-type {\n        vertical-align: middle;\n    }\n\n    .dataframe tbody tr th {\n        vertical-align: top;\n    }\n\n    .dataframe thead th {\n        text-align: right;\n    }\n</style>\n<table border=\"1\" class=\"dataframe\">\n  <thead>\n    <tr style=\"text-align: right;\">\n      <th></th>\n      <th>region</th>\n      <th>center_city_ua</th>\n      <th>center_city_en</th>\n      <th>region_alt</th>\n      <th>region_id</th>\n    </tr>\n  </thead>\n  <tbody>\n    <tr>\n      <th>0</th>\n      <td>АР Крим</td>\n      <td>Сімферополь</td>\n      <td>Simferopol</td>\n      <td>Крим</td>\n      <td>1</td>\n    </tr>\n    <tr>\n      <th>1</th>\n      <td>Вінницька</td>\n      <td>Вінниця</td>\n      <td>Vinnytsia</td>\n      <td>Вінниччина</td>\n      <td>2</td>\n    </tr>\n    <tr>\n      <th>2</th>\n      <td>Волинська</td>\n      <td>Луцьк</td>\n      <td>Lutsk</td>\n      <td>Волинь</td>\n      <td>3</td>\n    </tr>\n    <tr>\n      <th>3</th>\n      <td>Дніпропетровська</td>\n      <td>Дніпро</td>\n      <td>Dnipro</td>\n      <td>Дніпропетровщина</td>\n      <td>4</td>\n    </tr>\n    <tr>\n      <th>4</th>\n      <td>Донецька</td>\n      <td>Донецьк</td>\n      <td>Donetsk</td>\n      <td>Донеччина</td>\n      <td>5</td>\n    </tr>\n  </tbody>\n</table>\n</div>"
     },
     "execution_count": 5,
     "metadata": {},
     "output_type": "execute_result"
    }
   ],
   "execution_count": 5
  },
  {
   "metadata": {
    "ExecuteTime": {
     "end_time": "2025-04-09T12:40:34.655714100Z",
     "start_time": "2025-04-09T12:40:27.577977800Z"
    }
   },
   "cell_type": "code",
   "source": [
    "alarms = pd.read_csv(\"data/alarms.csv\", sep=';')\n",
    "weather = pd.read_csv(\"data/all_weather_by_hour_2023-2025_v1.csv\")"
   ],
   "id": "e76de7ba76502663",
   "outputs": [],
   "execution_count": 6
  },
  {
   "metadata": {
    "ExecuteTime": {
     "end_time": "2025-04-09T12:40:34.687631400Z",
     "start_time": "2025-04-09T12:40:34.656712300Z"
    }
   },
   "cell_type": "code",
   "source": [
    "alarms.head()"
   ],
   "id": "be0bec038bdca71",
   "outputs": [
    {
     "data": {
      "text/plain": "      id  region_id         region_city  all_region                start  \\\n0  52432         12      Львівська обл.           1  2022-02-24 07:43:17   \n1  53292         23   Чернігівська обл.           1  2022-02-24 14:00:43   \n2  52080          3      Вінницька обл.           1  2022-02-24 15:40:42   \n3  52857         19     Харківська обл.           1  2022-02-24 20:11:47   \n4  52700         18  Тернопільська обл.           1  2022-02-25 01:59:36   \n\n                   end  \n0  2022-02-24 09:52:28  \n1  2022-02-24 17:11:43  \n2  2022-02-24 16:10:42  \n3  2022-02-24 20:59:47  \n4  2022-02-25 09:00:19  ",
      "text/html": "<div>\n<style scoped>\n    .dataframe tbody tr th:only-of-type {\n        vertical-align: middle;\n    }\n\n    .dataframe tbody tr th {\n        vertical-align: top;\n    }\n\n    .dataframe thead th {\n        text-align: right;\n    }\n</style>\n<table border=\"1\" class=\"dataframe\">\n  <thead>\n    <tr style=\"text-align: right;\">\n      <th></th>\n      <th>id</th>\n      <th>region_id</th>\n      <th>region_city</th>\n      <th>all_region</th>\n      <th>start</th>\n      <th>end</th>\n    </tr>\n  </thead>\n  <tbody>\n    <tr>\n      <th>0</th>\n      <td>52432</td>\n      <td>12</td>\n      <td>Львівська обл.</td>\n      <td>1</td>\n      <td>2022-02-24 07:43:17</td>\n      <td>2022-02-24 09:52:28</td>\n    </tr>\n    <tr>\n      <th>1</th>\n      <td>53292</td>\n      <td>23</td>\n      <td>Чернігівська обл.</td>\n      <td>1</td>\n      <td>2022-02-24 14:00:43</td>\n      <td>2022-02-24 17:11:43</td>\n    </tr>\n    <tr>\n      <th>2</th>\n      <td>52080</td>\n      <td>3</td>\n      <td>Вінницька обл.</td>\n      <td>1</td>\n      <td>2022-02-24 15:40:42</td>\n      <td>2022-02-24 16:10:42</td>\n    </tr>\n    <tr>\n      <th>3</th>\n      <td>52857</td>\n      <td>19</td>\n      <td>Харківська обл.</td>\n      <td>1</td>\n      <td>2022-02-24 20:11:47</td>\n      <td>2022-02-24 20:59:47</td>\n    </tr>\n    <tr>\n      <th>4</th>\n      <td>52700</td>\n      <td>18</td>\n      <td>Тернопільська обл.</td>\n      <td>1</td>\n      <td>2022-02-25 01:59:36</td>\n      <td>2022-02-25 09:00:19</td>\n    </tr>\n  </tbody>\n</table>\n</div>"
     },
     "execution_count": 7,
     "metadata": {},
     "output_type": "execute_result"
    }
   ],
   "execution_count": 7
  },
  {
   "metadata": {
    "ExecuteTime": {
     "end_time": "2025-04-09T12:40:34.816284600Z",
     "start_time": "2025-04-09T12:40:34.673669300Z"
    }
   },
   "cell_type": "code",
   "source": [
    "weather.head()"
   ],
   "id": "24284710e8591919",
   "outputs": [
    {
     "data": {
      "text/plain": "   city_latitude  city_longitude           city_resolvedAddress  \\\n0        50.7469         25.3263  Луцьк, Луцький район, Україна   \n1        50.7469         25.3263  Луцьк, Луцький район, Україна   \n2        50.7469         25.3263  Луцьк, Луцький район, Україна   \n3        50.7469         25.3263  Луцьк, Луцький район, Україна   \n4        50.7469         25.3263  Луцьк, Луцький район, Україна   \n\n    city_address city_timezone  city_tzoffset day_datetime  day_datetimeEpoch  \\\n0  Lutsk,Ukraine   Europe/Kiev            2.0   2022-02-24         1645653600   \n1  Lutsk,Ukraine   Europe/Kiev            2.0   2022-02-24         1645653600   \n2  Lutsk,Ukraine   Europe/Kiev            2.0   2022-02-24         1645653600   \n3  Lutsk,Ukraine   Europe/Kiev            2.0   2022-02-24         1645653600   \n4  Lutsk,Ukraine   Europe/Kiev            2.0   2022-02-24         1645653600   \n\n   day_tempmax  day_tempmin  ...  hour_pressure  hour_visibility  \\\n0          4.9          0.7  ...         1020.0              0.0   \n1          4.9          0.7  ...         1021.0              0.2   \n2          4.9          0.7  ...         1022.0             10.0   \n3          4.9          0.7  ...         1021.0              0.1   \n4          4.9          0.7  ...         1021.0              0.0   \n\n   hour_cloudcover  hour_solarradiation  hour_solarenergy  hour_uvindex  \\\n0             91.5                  0.0               NaN           0.0   \n1             88.2                  0.0               NaN           0.0   \n2            100.0                  NaN               NaN           NaN   \n3             92.0                  0.0               NaN           0.0   \n4             93.8                  0.0               NaN           0.0   \n\n    hour_conditions  hour_icon  hour_source  hour_stations  \n0          Overcast       snow          obs         remote  \n1  Partially cloudy        fog          obs         remote  \n2          Overcast     cloudy          obs    33177099999  \n3          Overcast        fog          obs         remote  \n4          Overcast     cloudy          obs         remote  \n\n[5 rows x 65 columns]",
      "text/html": "<div>\n<style scoped>\n    .dataframe tbody tr th:only-of-type {\n        vertical-align: middle;\n    }\n\n    .dataframe tbody tr th {\n        vertical-align: top;\n    }\n\n    .dataframe thead th {\n        text-align: right;\n    }\n</style>\n<table border=\"1\" class=\"dataframe\">\n  <thead>\n    <tr style=\"text-align: right;\">\n      <th></th>\n      <th>city_latitude</th>\n      <th>city_longitude</th>\n      <th>city_resolvedAddress</th>\n      <th>city_address</th>\n      <th>city_timezone</th>\n      <th>city_tzoffset</th>\n      <th>day_datetime</th>\n      <th>day_datetimeEpoch</th>\n      <th>day_tempmax</th>\n      <th>day_tempmin</th>\n      <th>...</th>\n      <th>hour_pressure</th>\n      <th>hour_visibility</th>\n      <th>hour_cloudcover</th>\n      <th>hour_solarradiation</th>\n      <th>hour_solarenergy</th>\n      <th>hour_uvindex</th>\n      <th>hour_conditions</th>\n      <th>hour_icon</th>\n      <th>hour_source</th>\n      <th>hour_stations</th>\n    </tr>\n  </thead>\n  <tbody>\n    <tr>\n      <th>0</th>\n      <td>50.7469</td>\n      <td>25.3263</td>\n      <td>Луцьк, Луцький район, Україна</td>\n      <td>Lutsk,Ukraine</td>\n      <td>Europe/Kiev</td>\n      <td>2.0</td>\n      <td>2022-02-24</td>\n      <td>1645653600</td>\n      <td>4.9</td>\n      <td>0.7</td>\n      <td>...</td>\n      <td>1020.0</td>\n      <td>0.0</td>\n      <td>91.5</td>\n      <td>0.0</td>\n      <td>NaN</td>\n      <td>0.0</td>\n      <td>Overcast</td>\n      <td>snow</td>\n      <td>obs</td>\n      <td>remote</td>\n    </tr>\n    <tr>\n      <th>1</th>\n      <td>50.7469</td>\n      <td>25.3263</td>\n      <td>Луцьк, Луцький район, Україна</td>\n      <td>Lutsk,Ukraine</td>\n      <td>Europe/Kiev</td>\n      <td>2.0</td>\n      <td>2022-02-24</td>\n      <td>1645653600</td>\n      <td>4.9</td>\n      <td>0.7</td>\n      <td>...</td>\n      <td>1021.0</td>\n      <td>0.2</td>\n      <td>88.2</td>\n      <td>0.0</td>\n      <td>NaN</td>\n      <td>0.0</td>\n      <td>Partially cloudy</td>\n      <td>fog</td>\n      <td>obs</td>\n      <td>remote</td>\n    </tr>\n    <tr>\n      <th>2</th>\n      <td>50.7469</td>\n      <td>25.3263</td>\n      <td>Луцьк, Луцький район, Україна</td>\n      <td>Lutsk,Ukraine</td>\n      <td>Europe/Kiev</td>\n      <td>2.0</td>\n      <td>2022-02-24</td>\n      <td>1645653600</td>\n      <td>4.9</td>\n      <td>0.7</td>\n      <td>...</td>\n      <td>1022.0</td>\n      <td>10.0</td>\n      <td>100.0</td>\n      <td>NaN</td>\n      <td>NaN</td>\n      <td>NaN</td>\n      <td>Overcast</td>\n      <td>cloudy</td>\n      <td>obs</td>\n      <td>33177099999</td>\n    </tr>\n    <tr>\n      <th>3</th>\n      <td>50.7469</td>\n      <td>25.3263</td>\n      <td>Луцьк, Луцький район, Україна</td>\n      <td>Lutsk,Ukraine</td>\n      <td>Europe/Kiev</td>\n      <td>2.0</td>\n      <td>2022-02-24</td>\n      <td>1645653600</td>\n      <td>4.9</td>\n      <td>0.7</td>\n      <td>...</td>\n      <td>1021.0</td>\n      <td>0.1</td>\n      <td>92.0</td>\n      <td>0.0</td>\n      <td>NaN</td>\n      <td>0.0</td>\n      <td>Overcast</td>\n      <td>fog</td>\n      <td>obs</td>\n      <td>remote</td>\n    </tr>\n    <tr>\n      <th>4</th>\n      <td>50.7469</td>\n      <td>25.3263</td>\n      <td>Луцьк, Луцький район, Україна</td>\n      <td>Lutsk,Ukraine</td>\n      <td>Europe/Kiev</td>\n      <td>2.0</td>\n      <td>2022-02-24</td>\n      <td>1645653600</td>\n      <td>4.9</td>\n      <td>0.7</td>\n      <td>...</td>\n      <td>1021.0</td>\n      <td>0.0</td>\n      <td>93.8</td>\n      <td>0.0</td>\n      <td>NaN</td>\n      <td>0.0</td>\n      <td>Overcast</td>\n      <td>cloudy</td>\n      <td>obs</td>\n      <td>remote</td>\n    </tr>\n  </tbody>\n</table>\n<p>5 rows × 65 columns</p>\n</div>"
     },
     "execution_count": 8,
     "metadata": {},
     "output_type": "execute_result"
    }
   ],
   "execution_count": 8
  },
  {
   "metadata": {
    "ExecuteTime": {
     "end_time": "2025-04-09T12:40:35.239210400Z",
     "start_time": "2025-04-09T12:40:34.705581Z"
    }
   },
   "cell_type": "code",
   "source": [
    "isw = pd.read_csv(\"data/isw_prepared.csv\")"
   ],
   "id": "93a1d81f3c926c3a",
   "outputs": [],
   "execution_count": 9
  },
  {
   "metadata": {
    "ExecuteTime": {
     "end_time": "2025-04-09T12:40:35.315832300Z",
     "start_time": "2025-04-09T12:40:35.240208800Z"
    }
   },
   "cell_type": "code",
   "source": [
    "isw.head()"
   ],
   "id": "58c1ba34b26469c4",
   "outputs": [
    {
     "data": {
      "text/plain": "                        _id        date  \\\n0  67f568f9dcd7a5c401c30a6b  2022-02-25   \n1  67f568f9dcd7a5c401c30a6c  2022-02-26   \n2  67f568f9dcd7a5c401c30a6d  2022-02-27   \n3  67f568f9dcd7a5c401c30a6e  2022-02-28   \n4  67f568f9dcd7a5c401c30a6f  2022-03-01   \n\n                                     lemmatized_text  \\\n0  russian force entered major ukrainian city inc...   \n1  russian force main ax advance last hour focuse...   \n2  russian military likely recognized initial exp...   \n3  russian military reorganizing military effort ...   \n4  russian force completing reinforcement resuppl...   \n\n                                        stemmed_text  \n0  russian forc enter major ukrainian citi includ...  \n1  russian forc main axe advanc last hour focus k...  \n2  russian militari like recogn initi expect limi...  \n3  russian militari reorgan militari effort attem...  \n4  russian forc complet reinforc resuppli troop n...  ",
      "text/html": "<div>\n<style scoped>\n    .dataframe tbody tr th:only-of-type {\n        vertical-align: middle;\n    }\n\n    .dataframe tbody tr th {\n        vertical-align: top;\n    }\n\n    .dataframe thead th {\n        text-align: right;\n    }\n</style>\n<table border=\"1\" class=\"dataframe\">\n  <thead>\n    <tr style=\"text-align: right;\">\n      <th></th>\n      <th>_id</th>\n      <th>date</th>\n      <th>lemmatized_text</th>\n      <th>stemmed_text</th>\n    </tr>\n  </thead>\n  <tbody>\n    <tr>\n      <th>0</th>\n      <td>67f568f9dcd7a5c401c30a6b</td>\n      <td>2022-02-25</td>\n      <td>russian force entered major ukrainian city inc...</td>\n      <td>russian forc enter major ukrainian citi includ...</td>\n    </tr>\n    <tr>\n      <th>1</th>\n      <td>67f568f9dcd7a5c401c30a6c</td>\n      <td>2022-02-26</td>\n      <td>russian force main ax advance last hour focuse...</td>\n      <td>russian forc main axe advanc last hour focus k...</td>\n    </tr>\n    <tr>\n      <th>2</th>\n      <td>67f568f9dcd7a5c401c30a6d</td>\n      <td>2022-02-27</td>\n      <td>russian military likely recognized initial exp...</td>\n      <td>russian militari like recogn initi expect limi...</td>\n    </tr>\n    <tr>\n      <th>3</th>\n      <td>67f568f9dcd7a5c401c30a6e</td>\n      <td>2022-02-28</td>\n      <td>russian military reorganizing military effort ...</td>\n      <td>russian militari reorgan militari effort attem...</td>\n    </tr>\n    <tr>\n      <th>4</th>\n      <td>67f568f9dcd7a5c401c30a6f</td>\n      <td>2022-03-01</td>\n      <td>russian force completing reinforcement resuppl...</td>\n      <td>russian forc complet reinforc resuppli troop n...</td>\n    </tr>\n  </tbody>\n</table>\n</div>"
     },
     "execution_count": 10,
     "metadata": {},
     "output_type": "execute_result"
    }
   ],
   "execution_count": 10
  },
  {
   "metadata": {
    "ExecuteTime": {
     "end_time": "2025-04-09T12:40:35.343304500Z",
     "start_time": "2025-04-09T12:40:35.255277Z"
    }
   },
   "cell_type": "code",
   "source": [
    "isw.info()"
   ],
   "id": "d6fbdfe097e5ddf",
   "outputs": [
    {
     "name": "stdout",
     "output_type": "stream",
     "text": [
      "<class 'pandas.core.frame.DataFrame'>\n",
      "RangeIndex: 1123 entries, 0 to 1122\n",
      "Data columns (total 4 columns):\n",
      " #   Column           Non-Null Count  Dtype \n",
      "---  ------           --------------  ----- \n",
      " 0   _id              1123 non-null   object\n",
      " 1   date             1123 non-null   object\n",
      " 2   lemmatized_text  1123 non-null   object\n",
      " 3   stemmed_text     1123 non-null   object\n",
      "dtypes: object(4)\n",
      "memory usage: 35.2+ KB\n"
     ]
    }
   ],
   "execution_count": 11
  },
  {
   "metadata": {
    "ExecuteTime": {
     "end_time": "2025-04-09T12:40:35.343304500Z",
     "start_time": "2025-04-09T12:40:35.288727300Z"
    }
   },
   "cell_type": "code",
   "source": [
    "isw[\"date\"] = pd.to_datetime(isw[\"date\"])"
   ],
   "id": "34357a0b207bd6d9",
   "outputs": [],
   "execution_count": 12
  },
  {
   "metadata": {
    "ExecuteTime": {
     "end_time": "2025-04-09T12:40:35.438578600Z",
     "start_time": "2025-04-09T12:40:35.318865300Z"
    }
   },
   "cell_type": "code",
   "source": [
    "isw.info()"
   ],
   "id": "c7dbff94428583a",
   "outputs": [
    {
     "name": "stdout",
     "output_type": "stream",
     "text": [
      "<class 'pandas.core.frame.DataFrame'>\n",
      "RangeIndex: 1123 entries, 0 to 1122\n",
      "Data columns (total 4 columns):\n",
      " #   Column           Non-Null Count  Dtype         \n",
      "---  ------           --------------  -----         \n",
      " 0   _id              1123 non-null   object        \n",
      " 1   date             1123 non-null   datetime64[ns]\n",
      " 2   lemmatized_text  1123 non-null   object        \n",
      " 3   stemmed_text     1123 non-null   object        \n",
      "dtypes: datetime64[ns](1), object(3)\n",
      "memory usage: 35.2+ KB\n"
     ]
    }
   ],
   "execution_count": 13
  },
  {
   "metadata": {
    "ExecuteTime": {
     "end_time": "2025-04-09T12:40:35.540362900Z",
     "start_time": "2025-04-09T12:40:35.334264900Z"
    }
   },
   "cell_type": "code",
   "source": [
    "alarms.head()"
   ],
   "id": "adaf8117bae01a62",
   "outputs": [
    {
     "data": {
      "text/plain": "      id  region_id         region_city  all_region                start  \\\n0  52432         12      Львівська обл.           1  2022-02-24 07:43:17   \n1  53292         23   Чернігівська обл.           1  2022-02-24 14:00:43   \n2  52080          3      Вінницька обл.           1  2022-02-24 15:40:42   \n3  52857         19     Харківська обл.           1  2022-02-24 20:11:47   \n4  52700         18  Тернопільська обл.           1  2022-02-25 01:59:36   \n\n                   end  \n0  2022-02-24 09:52:28  \n1  2022-02-24 17:11:43  \n2  2022-02-24 16:10:42  \n3  2022-02-24 20:59:47  \n4  2022-02-25 09:00:19  ",
      "text/html": "<div>\n<style scoped>\n    .dataframe tbody tr th:only-of-type {\n        vertical-align: middle;\n    }\n\n    .dataframe tbody tr th {\n        vertical-align: top;\n    }\n\n    .dataframe thead th {\n        text-align: right;\n    }\n</style>\n<table border=\"1\" class=\"dataframe\">\n  <thead>\n    <tr style=\"text-align: right;\">\n      <th></th>\n      <th>id</th>\n      <th>region_id</th>\n      <th>region_city</th>\n      <th>all_region</th>\n      <th>start</th>\n      <th>end</th>\n    </tr>\n  </thead>\n  <tbody>\n    <tr>\n      <th>0</th>\n      <td>52432</td>\n      <td>12</td>\n      <td>Львівська обл.</td>\n      <td>1</td>\n      <td>2022-02-24 07:43:17</td>\n      <td>2022-02-24 09:52:28</td>\n    </tr>\n    <tr>\n      <th>1</th>\n      <td>53292</td>\n      <td>23</td>\n      <td>Чернігівська обл.</td>\n      <td>1</td>\n      <td>2022-02-24 14:00:43</td>\n      <td>2022-02-24 17:11:43</td>\n    </tr>\n    <tr>\n      <th>2</th>\n      <td>52080</td>\n      <td>3</td>\n      <td>Вінницька обл.</td>\n      <td>1</td>\n      <td>2022-02-24 15:40:42</td>\n      <td>2022-02-24 16:10:42</td>\n    </tr>\n    <tr>\n      <th>3</th>\n      <td>52857</td>\n      <td>19</td>\n      <td>Харківська обл.</td>\n      <td>1</td>\n      <td>2022-02-24 20:11:47</td>\n      <td>2022-02-24 20:59:47</td>\n    </tr>\n    <tr>\n      <th>4</th>\n      <td>52700</td>\n      <td>18</td>\n      <td>Тернопільська обл.</td>\n      <td>1</td>\n      <td>2022-02-25 01:59:36</td>\n      <td>2022-02-25 09:00:19</td>\n    </tr>\n  </tbody>\n</table>\n</div>"
     },
     "execution_count": 14,
     "metadata": {},
     "output_type": "execute_result"
    }
   ],
   "execution_count": 14
  },
  {
   "metadata": {
    "ExecuteTime": {
     "end_time": "2025-04-09T12:40:35.627610800Z",
     "start_time": "2025-04-09T12:40:35.363848400Z"
    }
   },
   "cell_type": "code",
   "source": [
    "alarms = alarms.drop([\"id\", \"region_id\"], axis=1)"
   ],
   "id": "ac08e2ea96ee5fd8",
   "outputs": [],
   "execution_count": 15
  },
  {
   "metadata": {
    "ExecuteTime": {
     "end_time": "2025-04-09T12:40:35.628608Z",
     "start_time": "2025-04-09T12:40:35.379995100Z"
    }
   },
   "cell_type": "code",
   "source": [
    "alarms.head()"
   ],
   "id": "af8e9053d4d10f8a",
   "outputs": [
    {
     "data": {
      "text/plain": "          region_city  all_region                start                  end\n0      Львівська обл.           1  2022-02-24 07:43:17  2022-02-24 09:52:28\n1   Чернігівська обл.           1  2022-02-24 14:00:43  2022-02-24 17:11:43\n2      Вінницька обл.           1  2022-02-24 15:40:42  2022-02-24 16:10:42\n3     Харківська обл.           1  2022-02-24 20:11:47  2022-02-24 20:59:47\n4  Тернопільська обл.           1  2022-02-25 01:59:36  2022-02-25 09:00:19",
      "text/html": "<div>\n<style scoped>\n    .dataframe tbody tr th:only-of-type {\n        vertical-align: middle;\n    }\n\n    .dataframe tbody tr th {\n        vertical-align: top;\n    }\n\n    .dataframe thead th {\n        text-align: right;\n    }\n</style>\n<table border=\"1\" class=\"dataframe\">\n  <thead>\n    <tr style=\"text-align: right;\">\n      <th></th>\n      <th>region_city</th>\n      <th>all_region</th>\n      <th>start</th>\n      <th>end</th>\n    </tr>\n  </thead>\n  <tbody>\n    <tr>\n      <th>0</th>\n      <td>Львівська обл.</td>\n      <td>1</td>\n      <td>2022-02-24 07:43:17</td>\n      <td>2022-02-24 09:52:28</td>\n    </tr>\n    <tr>\n      <th>1</th>\n      <td>Чернігівська обл.</td>\n      <td>1</td>\n      <td>2022-02-24 14:00:43</td>\n      <td>2022-02-24 17:11:43</td>\n    </tr>\n    <tr>\n      <th>2</th>\n      <td>Вінницька обл.</td>\n      <td>1</td>\n      <td>2022-02-24 15:40:42</td>\n      <td>2022-02-24 16:10:42</td>\n    </tr>\n    <tr>\n      <th>3</th>\n      <td>Харківська обл.</td>\n      <td>1</td>\n      <td>2022-02-24 20:11:47</td>\n      <td>2022-02-24 20:59:47</td>\n    </tr>\n    <tr>\n      <th>4</th>\n      <td>Тернопільська обл.</td>\n      <td>1</td>\n      <td>2022-02-25 01:59:36</td>\n      <td>2022-02-25 09:00:19</td>\n    </tr>\n  </tbody>\n</table>\n</div>"
     },
     "execution_count": 16,
     "metadata": {},
     "output_type": "execute_result"
    }
   ],
   "execution_count": 16
  },
  {
   "metadata": {
    "ExecuteTime": {
     "end_time": "2025-04-09T12:40:35.654304300Z",
     "start_time": "2025-04-09T12:40:35.397451100Z"
    }
   },
   "cell_type": "code",
   "source": [
    "alarms.info()"
   ],
   "id": "3f908d918741ff5f",
   "outputs": [
    {
     "name": "stdout",
     "output_type": "stream",
     "text": [
      "<class 'pandas.core.frame.DataFrame'>\n",
      "RangeIndex: 55788 entries, 0 to 55787\n",
      "Data columns (total 4 columns):\n",
      " #   Column       Non-Null Count  Dtype \n",
      "---  ------       --------------  ----- \n",
      " 0   region_city  55788 non-null  object\n",
      " 1   all_region   55788 non-null  int64 \n",
      " 2   start        55788 non-null  object\n",
      " 3   end          55788 non-null  object\n",
      "dtypes: int64(1), object(3)\n",
      "memory usage: 1.7+ MB\n"
     ]
    }
   ],
   "execution_count": 17
  },
  {
   "metadata": {
    "ExecuteTime": {
     "end_time": "2025-04-09T12:40:35.764051900Z",
     "start_time": "2025-04-09T12:40:35.425381600Z"
    }
   },
   "cell_type": "code",
   "source": [
    "alarms[\"start\"] = pd.to_datetime(alarms[\"start\"])\n",
    "alarms[\"end\"] = pd.to_datetime(alarms[\"end\"])"
   ],
   "id": "fcac355fbdab7edc",
   "outputs": [],
   "execution_count": 18
  },
  {
   "metadata": {
    "ExecuteTime": {
     "end_time": "2025-04-09T12:40:35.793973400Z",
     "start_time": "2025-04-09T12:40:35.550597700Z"
    }
   },
   "cell_type": "code",
   "source": [
    "alarms[\"start_hour\"] = alarms['start'].dt.floor('h')\n",
    "alarms[\"end_hour\"] = alarms['end'].dt.ceil('h')"
   ],
   "id": "cd56b8fda1ea90b6",
   "outputs": [],
   "execution_count": 19
  },
  {
   "metadata": {
    "ExecuteTime": {
     "end_time": "2025-04-09T12:40:35.795097900Z",
     "start_time": "2025-04-09T12:40:35.581296700Z"
    }
   },
   "cell_type": "code",
   "source": [
    "alarms.head()"
   ],
   "id": "5bb8d3d7995f4dd1",
   "outputs": [
    {
     "data": {
      "text/plain": "          region_city  all_region               start                 end  \\\n0      Львівська обл.           1 2022-02-24 07:43:17 2022-02-24 09:52:28   \n1   Чернігівська обл.           1 2022-02-24 14:00:43 2022-02-24 17:11:43   \n2      Вінницька обл.           1 2022-02-24 15:40:42 2022-02-24 16:10:42   \n3     Харківська обл.           1 2022-02-24 20:11:47 2022-02-24 20:59:47   \n4  Тернопільська обл.           1 2022-02-25 01:59:36 2022-02-25 09:00:19   \n\n           start_hour            end_hour  \n0 2022-02-24 07:00:00 2022-02-24 10:00:00  \n1 2022-02-24 14:00:00 2022-02-24 18:00:00  \n2 2022-02-24 15:00:00 2022-02-24 17:00:00  \n3 2022-02-24 20:00:00 2022-02-24 21:00:00  \n4 2022-02-25 01:00:00 2022-02-25 10:00:00  ",
      "text/html": "<div>\n<style scoped>\n    .dataframe tbody tr th:only-of-type {\n        vertical-align: middle;\n    }\n\n    .dataframe tbody tr th {\n        vertical-align: top;\n    }\n\n    .dataframe thead th {\n        text-align: right;\n    }\n</style>\n<table border=\"1\" class=\"dataframe\">\n  <thead>\n    <tr style=\"text-align: right;\">\n      <th></th>\n      <th>region_city</th>\n      <th>all_region</th>\n      <th>start</th>\n      <th>end</th>\n      <th>start_hour</th>\n      <th>end_hour</th>\n    </tr>\n  </thead>\n  <tbody>\n    <tr>\n      <th>0</th>\n      <td>Львівська обл.</td>\n      <td>1</td>\n      <td>2022-02-24 07:43:17</td>\n      <td>2022-02-24 09:52:28</td>\n      <td>2022-02-24 07:00:00</td>\n      <td>2022-02-24 10:00:00</td>\n    </tr>\n    <tr>\n      <th>1</th>\n      <td>Чернігівська обл.</td>\n      <td>1</td>\n      <td>2022-02-24 14:00:43</td>\n      <td>2022-02-24 17:11:43</td>\n      <td>2022-02-24 14:00:00</td>\n      <td>2022-02-24 18:00:00</td>\n    </tr>\n    <tr>\n      <th>2</th>\n      <td>Вінницька обл.</td>\n      <td>1</td>\n      <td>2022-02-24 15:40:42</td>\n      <td>2022-02-24 16:10:42</td>\n      <td>2022-02-24 15:00:00</td>\n      <td>2022-02-24 17:00:00</td>\n    </tr>\n    <tr>\n      <th>3</th>\n      <td>Харківська обл.</td>\n      <td>1</td>\n      <td>2022-02-24 20:11:47</td>\n      <td>2022-02-24 20:59:47</td>\n      <td>2022-02-24 20:00:00</td>\n      <td>2022-02-24 21:00:00</td>\n    </tr>\n    <tr>\n      <th>4</th>\n      <td>Тернопільська обл.</td>\n      <td>1</td>\n      <td>2022-02-25 01:59:36</td>\n      <td>2022-02-25 09:00:19</td>\n      <td>2022-02-25 01:00:00</td>\n      <td>2022-02-25 10:00:00</td>\n    </tr>\n  </tbody>\n</table>\n</div>"
     },
     "execution_count": 20,
     "metadata": {},
     "output_type": "execute_result"
    }
   ],
   "execution_count": 20
  },
  {
   "metadata": {
    "ExecuteTime": {
     "end_time": "2025-04-09T12:40:35.796106300Z",
     "start_time": "2025-04-09T12:40:35.612519100Z"
    }
   },
   "cell_type": "code",
   "source": [
    "alarms[\"date\"] = alarms[\"start\"].dt.date"
   ],
   "id": "30b275608c8904dc",
   "outputs": [],
   "execution_count": 21
  },
  {
   "metadata": {
    "ExecuteTime": {
     "end_time": "2025-04-09T12:40:36.243342500Z",
     "start_time": "2025-04-09T12:40:35.630102500Z"
    }
   },
   "cell_type": "code",
   "source": [
    "alarms[\"startepoch\"] = alarms[\"start_hour\"].apply(lambda x: int(x.timestamp()))\n",
    "alarms[\"endepoch\"] = alarms[\"end_hour\"].apply(lambda x: int(x.timestamp()))"
   ],
   "id": "5e714fb0d21b1781",
   "outputs": [],
   "execution_count": 22
  },
  {
   "metadata": {
    "ExecuteTime": {
     "end_time": "2025-04-09T12:40:36.252064100Z",
     "start_time": "2025-04-09T12:40:36.075681200Z"
    }
   },
   "cell_type": "code",
   "source": [
    "alarms.head()"
   ],
   "id": "bc00100f8f2786fe",
   "outputs": [
    {
     "data": {
      "text/plain": "          region_city  all_region               start                 end  \\\n0      Львівська обл.           1 2022-02-24 07:43:17 2022-02-24 09:52:28   \n1   Чернігівська обл.           1 2022-02-24 14:00:43 2022-02-24 17:11:43   \n2      Вінницька обл.           1 2022-02-24 15:40:42 2022-02-24 16:10:42   \n3     Харківська обл.           1 2022-02-24 20:11:47 2022-02-24 20:59:47   \n4  Тернопільська обл.           1 2022-02-25 01:59:36 2022-02-25 09:00:19   \n\n           start_hour            end_hour        date  startepoch    endepoch  \n0 2022-02-24 07:00:00 2022-02-24 10:00:00  2022-02-24  1645686000  1645696800  \n1 2022-02-24 14:00:00 2022-02-24 18:00:00  2022-02-24  1645711200  1645725600  \n2 2022-02-24 15:00:00 2022-02-24 17:00:00  2022-02-24  1645714800  1645722000  \n3 2022-02-24 20:00:00 2022-02-24 21:00:00  2022-02-24  1645732800  1645736400  \n4 2022-02-25 01:00:00 2022-02-25 10:00:00  2022-02-25  1645750800  1645783200  ",
      "text/html": "<div>\n<style scoped>\n    .dataframe tbody tr th:only-of-type {\n        vertical-align: middle;\n    }\n\n    .dataframe tbody tr th {\n        vertical-align: top;\n    }\n\n    .dataframe thead th {\n        text-align: right;\n    }\n</style>\n<table border=\"1\" class=\"dataframe\">\n  <thead>\n    <tr style=\"text-align: right;\">\n      <th></th>\n      <th>region_city</th>\n      <th>all_region</th>\n      <th>start</th>\n      <th>end</th>\n      <th>start_hour</th>\n      <th>end_hour</th>\n      <th>date</th>\n      <th>startepoch</th>\n      <th>endepoch</th>\n    </tr>\n  </thead>\n  <tbody>\n    <tr>\n      <th>0</th>\n      <td>Львівська обл.</td>\n      <td>1</td>\n      <td>2022-02-24 07:43:17</td>\n      <td>2022-02-24 09:52:28</td>\n      <td>2022-02-24 07:00:00</td>\n      <td>2022-02-24 10:00:00</td>\n      <td>2022-02-24</td>\n      <td>1645686000</td>\n      <td>1645696800</td>\n    </tr>\n    <tr>\n      <th>1</th>\n      <td>Чернігівська обл.</td>\n      <td>1</td>\n      <td>2022-02-24 14:00:43</td>\n      <td>2022-02-24 17:11:43</td>\n      <td>2022-02-24 14:00:00</td>\n      <td>2022-02-24 18:00:00</td>\n      <td>2022-02-24</td>\n      <td>1645711200</td>\n      <td>1645725600</td>\n    </tr>\n    <tr>\n      <th>2</th>\n      <td>Вінницька обл.</td>\n      <td>1</td>\n      <td>2022-02-24 15:40:42</td>\n      <td>2022-02-24 16:10:42</td>\n      <td>2022-02-24 15:00:00</td>\n      <td>2022-02-24 17:00:00</td>\n      <td>2022-02-24</td>\n      <td>1645714800</td>\n      <td>1645722000</td>\n    </tr>\n    <tr>\n      <th>3</th>\n      <td>Харківська обл.</td>\n      <td>1</td>\n      <td>2022-02-24 20:11:47</td>\n      <td>2022-02-24 20:59:47</td>\n      <td>2022-02-24 20:00:00</td>\n      <td>2022-02-24 21:00:00</td>\n      <td>2022-02-24</td>\n      <td>1645732800</td>\n      <td>1645736400</td>\n    </tr>\n    <tr>\n      <th>4</th>\n      <td>Тернопільська обл.</td>\n      <td>1</td>\n      <td>2022-02-25 01:59:36</td>\n      <td>2022-02-25 09:00:19</td>\n      <td>2022-02-25 01:00:00</td>\n      <td>2022-02-25 10:00:00</td>\n      <td>2022-02-25</td>\n      <td>1645750800</td>\n      <td>1645783200</td>\n    </tr>\n  </tbody>\n</table>\n</div>"
     },
     "execution_count": 23,
     "metadata": {},
     "output_type": "execute_result"
    }
   ],
   "execution_count": 23
  },
  {
   "metadata": {
    "ExecuteTime": {
     "end_time": "2025-04-09T12:40:36.267706300Z",
     "start_time": "2025-04-09T12:40:36.109589700Z"
    }
   },
   "cell_type": "code",
   "source": [
    "alarms.shape"
   ],
   "id": "93a39bb9b3a2552b",
   "outputs": [
    {
     "data": {
      "text/plain": "(55788, 9)"
     },
     "execution_count": 24,
     "metadata": {},
     "output_type": "execute_result"
    }
   ],
   "execution_count": 24
  },
  {
   "metadata": {
    "ExecuteTime": {
     "end_time": "2025-04-09T12:40:36.370854800Z",
     "start_time": "2025-04-09T12:40:36.124549800Z"
    }
   },
   "cell_type": "code",
   "source": [
    "weather.head()"
   ],
   "id": "2fa23777d94da063",
   "outputs": [
    {
     "data": {
      "text/plain": "   city_latitude  city_longitude           city_resolvedAddress  \\\n0        50.7469         25.3263  Луцьк, Луцький район, Україна   \n1        50.7469         25.3263  Луцьк, Луцький район, Україна   \n2        50.7469         25.3263  Луцьк, Луцький район, Україна   \n3        50.7469         25.3263  Луцьк, Луцький район, Україна   \n4        50.7469         25.3263  Луцьк, Луцький район, Україна   \n\n    city_address city_timezone  city_tzoffset day_datetime  day_datetimeEpoch  \\\n0  Lutsk,Ukraine   Europe/Kiev            2.0   2022-02-24         1645653600   \n1  Lutsk,Ukraine   Europe/Kiev            2.0   2022-02-24         1645653600   \n2  Lutsk,Ukraine   Europe/Kiev            2.0   2022-02-24         1645653600   \n3  Lutsk,Ukraine   Europe/Kiev            2.0   2022-02-24         1645653600   \n4  Lutsk,Ukraine   Europe/Kiev            2.0   2022-02-24         1645653600   \n\n   day_tempmax  day_tempmin  ...  hour_pressure  hour_visibility  \\\n0          4.9          0.7  ...         1020.0              0.0   \n1          4.9          0.7  ...         1021.0              0.2   \n2          4.9          0.7  ...         1022.0             10.0   \n3          4.9          0.7  ...         1021.0              0.1   \n4          4.9          0.7  ...         1021.0              0.0   \n\n   hour_cloudcover  hour_solarradiation  hour_solarenergy  hour_uvindex  \\\n0             91.5                  0.0               NaN           0.0   \n1             88.2                  0.0               NaN           0.0   \n2            100.0                  NaN               NaN           NaN   \n3             92.0                  0.0               NaN           0.0   \n4             93.8                  0.0               NaN           0.0   \n\n    hour_conditions  hour_icon  hour_source  hour_stations  \n0          Overcast       snow          obs         remote  \n1  Partially cloudy        fog          obs         remote  \n2          Overcast     cloudy          obs    33177099999  \n3          Overcast        fog          obs         remote  \n4          Overcast     cloudy          obs         remote  \n\n[5 rows x 65 columns]",
      "text/html": "<div>\n<style scoped>\n    .dataframe tbody tr th:only-of-type {\n        vertical-align: middle;\n    }\n\n    .dataframe tbody tr th {\n        vertical-align: top;\n    }\n\n    .dataframe thead th {\n        text-align: right;\n    }\n</style>\n<table border=\"1\" class=\"dataframe\">\n  <thead>\n    <tr style=\"text-align: right;\">\n      <th></th>\n      <th>city_latitude</th>\n      <th>city_longitude</th>\n      <th>city_resolvedAddress</th>\n      <th>city_address</th>\n      <th>city_timezone</th>\n      <th>city_tzoffset</th>\n      <th>day_datetime</th>\n      <th>day_datetimeEpoch</th>\n      <th>day_tempmax</th>\n      <th>day_tempmin</th>\n      <th>...</th>\n      <th>hour_pressure</th>\n      <th>hour_visibility</th>\n      <th>hour_cloudcover</th>\n      <th>hour_solarradiation</th>\n      <th>hour_solarenergy</th>\n      <th>hour_uvindex</th>\n      <th>hour_conditions</th>\n      <th>hour_icon</th>\n      <th>hour_source</th>\n      <th>hour_stations</th>\n    </tr>\n  </thead>\n  <tbody>\n    <tr>\n      <th>0</th>\n      <td>50.7469</td>\n      <td>25.3263</td>\n      <td>Луцьк, Луцький район, Україна</td>\n      <td>Lutsk,Ukraine</td>\n      <td>Europe/Kiev</td>\n      <td>2.0</td>\n      <td>2022-02-24</td>\n      <td>1645653600</td>\n      <td>4.9</td>\n      <td>0.7</td>\n      <td>...</td>\n      <td>1020.0</td>\n      <td>0.0</td>\n      <td>91.5</td>\n      <td>0.0</td>\n      <td>NaN</td>\n      <td>0.0</td>\n      <td>Overcast</td>\n      <td>snow</td>\n      <td>obs</td>\n      <td>remote</td>\n    </tr>\n    <tr>\n      <th>1</th>\n      <td>50.7469</td>\n      <td>25.3263</td>\n      <td>Луцьк, Луцький район, Україна</td>\n      <td>Lutsk,Ukraine</td>\n      <td>Europe/Kiev</td>\n      <td>2.0</td>\n      <td>2022-02-24</td>\n      <td>1645653600</td>\n      <td>4.9</td>\n      <td>0.7</td>\n      <td>...</td>\n      <td>1021.0</td>\n      <td>0.2</td>\n      <td>88.2</td>\n      <td>0.0</td>\n      <td>NaN</td>\n      <td>0.0</td>\n      <td>Partially cloudy</td>\n      <td>fog</td>\n      <td>obs</td>\n      <td>remote</td>\n    </tr>\n    <tr>\n      <th>2</th>\n      <td>50.7469</td>\n      <td>25.3263</td>\n      <td>Луцьк, Луцький район, Україна</td>\n      <td>Lutsk,Ukraine</td>\n      <td>Europe/Kiev</td>\n      <td>2.0</td>\n      <td>2022-02-24</td>\n      <td>1645653600</td>\n      <td>4.9</td>\n      <td>0.7</td>\n      <td>...</td>\n      <td>1022.0</td>\n      <td>10.0</td>\n      <td>100.0</td>\n      <td>NaN</td>\n      <td>NaN</td>\n      <td>NaN</td>\n      <td>Overcast</td>\n      <td>cloudy</td>\n      <td>obs</td>\n      <td>33177099999</td>\n    </tr>\n    <tr>\n      <th>3</th>\n      <td>50.7469</td>\n      <td>25.3263</td>\n      <td>Луцьк, Луцький район, Україна</td>\n      <td>Lutsk,Ukraine</td>\n      <td>Europe/Kiev</td>\n      <td>2.0</td>\n      <td>2022-02-24</td>\n      <td>1645653600</td>\n      <td>4.9</td>\n      <td>0.7</td>\n      <td>...</td>\n      <td>1021.0</td>\n      <td>0.1</td>\n      <td>92.0</td>\n      <td>0.0</td>\n      <td>NaN</td>\n      <td>0.0</td>\n      <td>Overcast</td>\n      <td>fog</td>\n      <td>obs</td>\n      <td>remote</td>\n    </tr>\n    <tr>\n      <th>4</th>\n      <td>50.7469</td>\n      <td>25.3263</td>\n      <td>Луцьк, Луцький район, Україна</td>\n      <td>Lutsk,Ukraine</td>\n      <td>Europe/Kiev</td>\n      <td>2.0</td>\n      <td>2022-02-24</td>\n      <td>1645653600</td>\n      <td>4.9</td>\n      <td>0.7</td>\n      <td>...</td>\n      <td>1021.0</td>\n      <td>0.0</td>\n      <td>93.8</td>\n      <td>0.0</td>\n      <td>NaN</td>\n      <td>0.0</td>\n      <td>Overcast</td>\n      <td>cloudy</td>\n      <td>obs</td>\n      <td>remote</td>\n    </tr>\n  </tbody>\n</table>\n<p>5 rows × 65 columns</p>\n</div>"
     },
     "execution_count": 25,
     "metadata": {},
     "output_type": "execute_result"
    }
   ],
   "execution_count": 25
  },
  {
   "metadata": {
    "ExecuteTime": {
     "end_time": "2025-04-09T12:40:36.772868600Z",
     "start_time": "2025-04-09T12:40:36.169761Z"
    }
   },
   "cell_type": "code",
   "source": [
    "weather.info()"
   ],
   "id": "d6b963caf3eec148",
   "outputs": [
    {
     "name": "stdout",
     "output_type": "stream",
     "text": [
      "<class 'pandas.core.frame.DataFrame'>\n",
      "RangeIndex: 608304 entries, 0 to 608303\n",
      "Data columns (total 65 columns):\n",
      " #   Column                Non-Null Count   Dtype  \n",
      "---  ------                --------------   -----  \n",
      " 0   city_latitude         608304 non-null  float64\n",
      " 1   city_longitude        608304 non-null  float64\n",
      " 2   city_resolvedAddress  608304 non-null  object \n",
      " 3   city_address          608304 non-null  object \n",
      " 4   city_timezone         608304 non-null  object \n",
      " 5   city_tzoffset         608304 non-null  float64\n",
      " 6   day_datetime          608304 non-null  object \n",
      " 7   day_datetimeEpoch     608304 non-null  int64  \n",
      " 8   day_tempmax           608304 non-null  float64\n",
      " 9   day_tempmin           608304 non-null  float64\n",
      " 10  day_temp              608304 non-null  float64\n",
      " 11  day_feelslikemax      608304 non-null  float64\n",
      " 12  day_feelslikemin      608304 non-null  float64\n",
      " 13  day_feelslike         608304 non-null  float64\n",
      " 14  day_dew               608304 non-null  float64\n",
      " 15  day_humidity          608304 non-null  float64\n",
      " 16  day_precip            608304 non-null  float64\n",
      " 17  day_precipprob        608304 non-null  float64\n",
      " 18  day_precipcover       608304 non-null  float64\n",
      " 19  day_snow              608304 non-null  float64\n",
      " 20  day_snowdepth         608304 non-null  float64\n",
      " 21  day_windgust          608304 non-null  float64\n",
      " 22  day_windspeed         608304 non-null  float64\n",
      " 23  day_winddir           608304 non-null  float64\n",
      " 24  day_pressure          608304 non-null  float64\n",
      " 25  day_cloudcover        608304 non-null  float64\n",
      " 26  day_visibility        552952 non-null  float64\n",
      " 27  day_solarradiation    607752 non-null  float64\n",
      " 28  day_solarenergy       607752 non-null  float64\n",
      " 29  day_uvindex           607752 non-null  float64\n",
      " 30  day_sunrise           608304 non-null  object \n",
      " 31  day_sunriseEpoch      608304 non-null  int64  \n",
      " 32  day_sunset            608304 non-null  object \n",
      " 33  day_sunsetEpoch       608304 non-null  int64  \n",
      " 34  day_moonphase         608304 non-null  float64\n",
      " 35  day_conditions        608304 non-null  object \n",
      " 36  day_description       608304 non-null  object \n",
      " 37  day_icon              608304 non-null  object \n",
      " 38  day_source            608304 non-null  object \n",
      " 39  day_preciptype        342087 non-null  object \n",
      " 40  day_stations          608304 non-null  object \n",
      " 41  hour_datetime         608304 non-null  object \n",
      " 42  hour_datetimeEpoch    608304 non-null  int64  \n",
      " 43  hour_temp             608304 non-null  float64\n",
      " 44  hour_feelslike        608304 non-null  float64\n",
      " 45  hour_humidity         608304 non-null  float64\n",
      " 46  hour_dew              608304 non-null  float64\n",
      " 47  hour_precip           608202 non-null  float64\n",
      " 48  hour_precipprob       608304 non-null  float64\n",
      " 49  hour_snow             608304 non-null  float64\n",
      " 50  hour_snowdepth        608304 non-null  float64\n",
      " 51  hour_preciptype       64865 non-null   object \n",
      " 52  hour_windgust         608304 non-null  float64\n",
      " 53  hour_windspeed        608304 non-null  float64\n",
      " 54  hour_winddir          608304 non-null  float64\n",
      " 55  hour_pressure         608304 non-null  float64\n",
      " 56  hour_visibility       331846 non-null  float64\n",
      " 57  hour_cloudcover       608304 non-null  float64\n",
      " 58  hour_solarradiation   603968 non-null  float64\n",
      " 59  hour_solarenergy      521042 non-null  float64\n",
      " 60  hour_uvindex          603968 non-null  float64\n",
      " 61  hour_conditions       608304 non-null  object \n",
      " 62  hour_icon             608304 non-null  object \n",
      " 63  hour_source           608304 non-null  object \n",
      " 64  hour_stations         608304 non-null  object \n",
      "dtypes: float64(43), int64(4), object(18)\n",
      "memory usage: 301.7+ MB\n"
     ]
    }
   ],
   "execution_count": 26
  },
  {
   "metadata": {
    "ExecuteTime": {
     "end_time": "2025-04-09T12:40:36.963354Z",
     "start_time": "2025-04-09T12:40:36.718551900Z"
    }
   },
   "cell_type": "code",
   "source": [
    "weather[\"day_datetime\"] = pd.to_datetime(weather[\"day_datetime\"])"
   ],
   "id": "4a36c294e7efe728",
   "outputs": [],
   "execution_count": 27
  },
  {
   "metadata": {
    "ExecuteTime": {
     "end_time": "2025-04-09T12:40:36.990036Z",
     "start_time": "2025-04-09T12:40:36.847647600Z"
    }
   },
   "cell_type": "code",
   "source": [
    "weather.shape"
   ],
   "id": "f275e75150bc0e08",
   "outputs": [
    {
     "data": {
      "text/plain": "(608304, 65)"
     },
     "execution_count": 28,
     "metadata": {},
     "output_type": "execute_result"
    }
   ],
   "execution_count": 28
  },
  {
   "metadata": {
    "ExecuteTime": {
     "end_time": "2025-04-09T12:40:36.990036Z",
     "start_time": "2025-04-09T12:40:36.859932600Z"
    }
   },
   "cell_type": "code",
   "source": [
    "weather_exclude = [\n",
    "    \"day_feelslikemax\",\n",
    "    \"day_feelslikemin\",\n",
    "    \"day_sunriseEpoch\",\n",
    "    \"day_sunsetEpoch\",\n",
    "    \"day_description\",\n",
    "    \"city_latitude\",\n",
    "    \"city_longitude\",\n",
    "    \"city_address\",\n",
    "    \"city_timezone\",\n",
    "    \"city_tzoffset\",\n",
    "    \"day_feelslike\",\n",
    "    \"day_precipprob\",\n",
    "    \"day_snow\",\n",
    "    \"day_snowdepth\",\n",
    "    \"day_windgust\",\n",
    "    \"day_windspeed\",\n",
    "    \"day_winddir\",\n",
    "    \"day_pressure\",\n",
    "    \"day_cloudcover\",\n",
    "    \"day_visibility\",\n",
    "    \"day_severerisk\",\n",
    "    \"day_conditions\",\n",
    "    \"day_icon\",\n",
    "    \"day_source\",\n",
    "    \"day_preciptype\",\n",
    "    \"day_stations\",\n",
    "    \"hour_icon\",\n",
    "    \"hour_source\",\n",
    "    \"hour_stations\",\n",
    "    \"hour_feelslike\"\n",
    "]"
   ],
   "id": "e989b3e0730deebd",
   "outputs": [],
   "execution_count": 29
  },
  {
   "metadata": {
    "ExecuteTime": {
     "end_time": "2025-04-09T12:40:37.030647400Z",
     "start_time": "2025-04-09T12:40:36.874213100Z"
    }
   },
   "cell_type": "code",
   "source": [
    "weather = weather.drop(weather_exclude, axis=1, errors=\"ignore\")"
   ],
   "id": "8a421df970dfa468",
   "outputs": [],
   "execution_count": 30
  },
  {
   "metadata": {
    "ExecuteTime": {
     "end_time": "2025-04-09T12:40:37.451677Z",
     "start_time": "2025-04-09T12:40:36.983688200Z"
    }
   },
   "cell_type": "code",
   "source": [
    "weather[\"city\"] = weather[\"city_resolvedAddress\"].apply(lambda x: x.split(\",\")[0])\n",
    "weather[\"city\"] = weather[\"city\"].replace('Хмельницька область', \"Хмельницький\")"
   ],
   "id": "d368f3e309b1af99",
   "outputs": [],
   "execution_count": 31
  },
  {
   "metadata": {
    "ExecuteTime": {
     "end_time": "2025-04-09T12:40:37.797512100Z",
     "start_time": "2025-04-09T12:40:37.453080900Z"
    }
   },
   "cell_type": "code",
   "source": [
    "weather"
   ],
   "id": "9ef42c504dc1432e",
   "outputs": [
    {
     "data": {
      "text/plain": "                 city_resolvedAddress day_datetime  day_datetimeEpoch  \\\n0       Луцьк, Луцький район, Україна   2022-02-24         1645653600   \n1       Луцьк, Луцький район, Україна   2022-02-24         1645653600   \n2       Луцьк, Луцький район, Україна   2022-02-24         1645653600   \n3       Луцьк, Луцький район, Україна   2022-02-24         1645653600   \n4       Луцьк, Луцький район, Україна   2022-02-24         1645653600   \n...                               ...          ...                ...   \n608299               Полтава, Україна   2025-03-01         1740780000   \n608300               Полтава, Україна   2025-03-01         1740780000   \n608301               Полтава, Україна   2025-03-01         1740780000   \n608302               Полтава, Україна   2025-03-01         1740780000   \n608303               Полтава, Україна   2025-03-01         1740780000   \n\n        day_tempmax  day_tempmin  day_temp  day_dew  day_humidity  day_precip  \\\n0               4.9          0.7       2.6      0.0          83.7       0.118   \n1               4.9          0.7       2.6      0.0          83.7       0.118   \n2               4.9          0.7       2.6      0.0          83.7       0.118   \n3               4.9          0.7       2.6      0.0          83.7       0.118   \n4               4.9          0.7       2.6      0.0          83.7       0.118   \n...             ...          ...       ...      ...           ...         ...   \n608299          0.3         -6.9      -3.0     -5.9          81.2       0.000   \n608300          0.3         -6.9      -3.0     -5.9          81.2       0.000   \n608301          0.3         -6.9      -3.0     -5.9          81.2       0.000   \n608302          0.3         -6.9      -3.0     -5.9          81.2       0.000   \n608303          0.3         -6.9      -3.0     -5.9          81.2       0.000   \n\n        day_precipcover  ...  hour_windspeed  hour_winddir  hour_pressure  \\\n0                  4.17  ...            15.5         275.6         1020.0   \n1                  4.17  ...            14.8         280.3         1021.0   \n2                  4.17  ...            14.4         310.0         1022.0   \n3                  4.17  ...            13.3         295.1         1021.0   \n4                  4.17  ...            13.3         305.8         1021.0   \n...                 ...  ...             ...           ...            ...   \n608299             0.00  ...             5.8         174.9         1030.0   \n608300             0.00  ...             0.0         170.5         1029.6   \n608301             0.00  ...             6.8         168.7         1029.0   \n608302             0.00  ...             7.2         173.4         1029.0   \n608303             0.00  ...             0.0         182.0         1028.6   \n\n       hour_visibility hour_cloudcover  hour_solarradiation hour_solarenergy  \\\n0                  0.0            91.5                  0.0              NaN   \n1                  0.2            88.2                  0.0              NaN   \n2                 10.0           100.0                  NaN              NaN   \n3                  0.1            92.0                  0.0              NaN   \n4                  0.0            93.8                  0.0              NaN   \n...                ...             ...                  ...              ...   \n608299             NaN           100.0                  0.0              0.0   \n608300            10.0           100.0                  0.0              0.0   \n608301             NaN            99.6                  0.0              0.0   \n608302             NaN            98.2                  0.0              0.0   \n608303            10.0           100.0                  0.0              0.0   \n\n        hour_uvindex   hour_conditions     city  \n0                0.0          Overcast    Луцьк  \n1                0.0  Partially cloudy    Луцьк  \n2                NaN          Overcast    Луцьк  \n3                0.0          Overcast    Луцьк  \n4                0.0          Overcast    Луцьк  \n...              ...               ...      ...  \n608299           0.0          Overcast  Полтава  \n608300           0.0          Overcast  Полтава  \n608301           0.0          Overcast  Полтава  \n608302           0.0          Overcast  Полтава  \n608303           0.0          Overcast  Полтава  \n\n[608304 rows x 37 columns]",
      "text/html": "<div>\n<style scoped>\n    .dataframe tbody tr th:only-of-type {\n        vertical-align: middle;\n    }\n\n    .dataframe tbody tr th {\n        vertical-align: top;\n    }\n\n    .dataframe thead th {\n        text-align: right;\n    }\n</style>\n<table border=\"1\" class=\"dataframe\">\n  <thead>\n    <tr style=\"text-align: right;\">\n      <th></th>\n      <th>city_resolvedAddress</th>\n      <th>day_datetime</th>\n      <th>day_datetimeEpoch</th>\n      <th>day_tempmax</th>\n      <th>day_tempmin</th>\n      <th>day_temp</th>\n      <th>day_dew</th>\n      <th>day_humidity</th>\n      <th>day_precip</th>\n      <th>day_precipcover</th>\n      <th>...</th>\n      <th>hour_windspeed</th>\n      <th>hour_winddir</th>\n      <th>hour_pressure</th>\n      <th>hour_visibility</th>\n      <th>hour_cloudcover</th>\n      <th>hour_solarradiation</th>\n      <th>hour_solarenergy</th>\n      <th>hour_uvindex</th>\n      <th>hour_conditions</th>\n      <th>city</th>\n    </tr>\n  </thead>\n  <tbody>\n    <tr>\n      <th>0</th>\n      <td>Луцьк, Луцький район, Україна</td>\n      <td>2022-02-24</td>\n      <td>1645653600</td>\n      <td>4.9</td>\n      <td>0.7</td>\n      <td>2.6</td>\n      <td>0.0</td>\n      <td>83.7</td>\n      <td>0.118</td>\n      <td>4.17</td>\n      <td>...</td>\n      <td>15.5</td>\n      <td>275.6</td>\n      <td>1020.0</td>\n      <td>0.0</td>\n      <td>91.5</td>\n      <td>0.0</td>\n      <td>NaN</td>\n      <td>0.0</td>\n      <td>Overcast</td>\n      <td>Луцьк</td>\n    </tr>\n    <tr>\n      <th>1</th>\n      <td>Луцьк, Луцький район, Україна</td>\n      <td>2022-02-24</td>\n      <td>1645653600</td>\n      <td>4.9</td>\n      <td>0.7</td>\n      <td>2.6</td>\n      <td>0.0</td>\n      <td>83.7</td>\n      <td>0.118</td>\n      <td>4.17</td>\n      <td>...</td>\n      <td>14.8</td>\n      <td>280.3</td>\n      <td>1021.0</td>\n      <td>0.2</td>\n      <td>88.2</td>\n      <td>0.0</td>\n      <td>NaN</td>\n      <td>0.0</td>\n      <td>Partially cloudy</td>\n      <td>Луцьк</td>\n    </tr>\n    <tr>\n      <th>2</th>\n      <td>Луцьк, Луцький район, Україна</td>\n      <td>2022-02-24</td>\n      <td>1645653600</td>\n      <td>4.9</td>\n      <td>0.7</td>\n      <td>2.6</td>\n      <td>0.0</td>\n      <td>83.7</td>\n      <td>0.118</td>\n      <td>4.17</td>\n      <td>...</td>\n      <td>14.4</td>\n      <td>310.0</td>\n      <td>1022.0</td>\n      <td>10.0</td>\n      <td>100.0</td>\n      <td>NaN</td>\n      <td>NaN</td>\n      <td>NaN</td>\n      <td>Overcast</td>\n      <td>Луцьк</td>\n    </tr>\n    <tr>\n      <th>3</th>\n      <td>Луцьк, Луцький район, Україна</td>\n      <td>2022-02-24</td>\n      <td>1645653600</td>\n      <td>4.9</td>\n      <td>0.7</td>\n      <td>2.6</td>\n      <td>0.0</td>\n      <td>83.7</td>\n      <td>0.118</td>\n      <td>4.17</td>\n      <td>...</td>\n      <td>13.3</td>\n      <td>295.1</td>\n      <td>1021.0</td>\n      <td>0.1</td>\n      <td>92.0</td>\n      <td>0.0</td>\n      <td>NaN</td>\n      <td>0.0</td>\n      <td>Overcast</td>\n      <td>Луцьк</td>\n    </tr>\n    <tr>\n      <th>4</th>\n      <td>Луцьк, Луцький район, Україна</td>\n      <td>2022-02-24</td>\n      <td>1645653600</td>\n      <td>4.9</td>\n      <td>0.7</td>\n      <td>2.6</td>\n      <td>0.0</td>\n      <td>83.7</td>\n      <td>0.118</td>\n      <td>4.17</td>\n      <td>...</td>\n      <td>13.3</td>\n      <td>305.8</td>\n      <td>1021.0</td>\n      <td>0.0</td>\n      <td>93.8</td>\n      <td>0.0</td>\n      <td>NaN</td>\n      <td>0.0</td>\n      <td>Overcast</td>\n      <td>Луцьк</td>\n    </tr>\n    <tr>\n      <th>...</th>\n      <td>...</td>\n      <td>...</td>\n      <td>...</td>\n      <td>...</td>\n      <td>...</td>\n      <td>...</td>\n      <td>...</td>\n      <td>...</td>\n      <td>...</td>\n      <td>...</td>\n      <td>...</td>\n      <td>...</td>\n      <td>...</td>\n      <td>...</td>\n      <td>...</td>\n      <td>...</td>\n      <td>...</td>\n      <td>...</td>\n      <td>...</td>\n      <td>...</td>\n      <td>...</td>\n    </tr>\n    <tr>\n      <th>608299</th>\n      <td>Полтава, Україна</td>\n      <td>2025-03-01</td>\n      <td>1740780000</td>\n      <td>0.3</td>\n      <td>-6.9</td>\n      <td>-3.0</td>\n      <td>-5.9</td>\n      <td>81.2</td>\n      <td>0.000</td>\n      <td>0.00</td>\n      <td>...</td>\n      <td>5.8</td>\n      <td>174.9</td>\n      <td>1030.0</td>\n      <td>NaN</td>\n      <td>100.0</td>\n      <td>0.0</td>\n      <td>0.0</td>\n      <td>0.0</td>\n      <td>Overcast</td>\n      <td>Полтава</td>\n    </tr>\n    <tr>\n      <th>608300</th>\n      <td>Полтава, Україна</td>\n      <td>2025-03-01</td>\n      <td>1740780000</td>\n      <td>0.3</td>\n      <td>-6.9</td>\n      <td>-3.0</td>\n      <td>-5.9</td>\n      <td>81.2</td>\n      <td>0.000</td>\n      <td>0.00</td>\n      <td>...</td>\n      <td>0.0</td>\n      <td>170.5</td>\n      <td>1029.6</td>\n      <td>10.0</td>\n      <td>100.0</td>\n      <td>0.0</td>\n      <td>0.0</td>\n      <td>0.0</td>\n      <td>Overcast</td>\n      <td>Полтава</td>\n    </tr>\n    <tr>\n      <th>608301</th>\n      <td>Полтава, Україна</td>\n      <td>2025-03-01</td>\n      <td>1740780000</td>\n      <td>0.3</td>\n      <td>-6.9</td>\n      <td>-3.0</td>\n      <td>-5.9</td>\n      <td>81.2</td>\n      <td>0.000</td>\n      <td>0.00</td>\n      <td>...</td>\n      <td>6.8</td>\n      <td>168.7</td>\n      <td>1029.0</td>\n      <td>NaN</td>\n      <td>99.6</td>\n      <td>0.0</td>\n      <td>0.0</td>\n      <td>0.0</td>\n      <td>Overcast</td>\n      <td>Полтава</td>\n    </tr>\n    <tr>\n      <th>608302</th>\n      <td>Полтава, Україна</td>\n      <td>2025-03-01</td>\n      <td>1740780000</td>\n      <td>0.3</td>\n      <td>-6.9</td>\n      <td>-3.0</td>\n      <td>-5.9</td>\n      <td>81.2</td>\n      <td>0.000</td>\n      <td>0.00</td>\n      <td>...</td>\n      <td>7.2</td>\n      <td>173.4</td>\n      <td>1029.0</td>\n      <td>NaN</td>\n      <td>98.2</td>\n      <td>0.0</td>\n      <td>0.0</td>\n      <td>0.0</td>\n      <td>Overcast</td>\n      <td>Полтава</td>\n    </tr>\n    <tr>\n      <th>608303</th>\n      <td>Полтава, Україна</td>\n      <td>2025-03-01</td>\n      <td>1740780000</td>\n      <td>0.3</td>\n      <td>-6.9</td>\n      <td>-3.0</td>\n      <td>-5.9</td>\n      <td>81.2</td>\n      <td>0.000</td>\n      <td>0.00</td>\n      <td>...</td>\n      <td>0.0</td>\n      <td>182.0</td>\n      <td>1028.6</td>\n      <td>10.0</td>\n      <td>100.0</td>\n      <td>0.0</td>\n      <td>0.0</td>\n      <td>0.0</td>\n      <td>Overcast</td>\n      <td>Полтава</td>\n    </tr>\n  </tbody>\n</table>\n<p>608304 rows × 37 columns</p>\n</div>"
     },
     "execution_count": 32,
     "metadata": {},
     "output_type": "execute_result"
    }
   ],
   "execution_count": 32
  },
  {
   "metadata": {
    "ExecuteTime": {
     "end_time": "2025-04-09T12:40:37.833311800Z",
     "start_time": "2025-04-09T12:40:37.794964Z"
    }
   },
   "cell_type": "code",
   "source": [
    "weather.shape"
   ],
   "id": "1e215f64732f7542",
   "outputs": [
    {
     "data": {
      "text/plain": "(608304, 37)"
     },
     "execution_count": 33,
     "metadata": {},
     "output_type": "execute_result"
    }
   ],
   "execution_count": 33
  },
  {
   "metadata": {
    "ExecuteTime": {
     "end_time": "2025-04-09T12:40:37.862109Z",
     "start_time": "2025-04-09T12:40:37.818031800Z"
    }
   },
   "cell_type": "code",
   "source": [
    "regions"
   ],
   "id": "fadfc717a0640d13",
   "outputs": [
    {
     "data": {
      "text/plain": "               region    center_city_ua   center_city_en         region_alt  \\\n0             АР Крим       Сімферополь       Simferopol               Крим   \n1           Вінницька           Вінниця        Vinnytsia         Вінниччина   \n2           Волинська             Луцьк            Lutsk             Волинь   \n3    Дніпропетровська            Дніпро           Dnipro   Дніпропетровщина   \n4            Донецька           Донецьк          Donetsk          Донеччина   \n5         Житомирська           Житомир         Zhytomyr        Житомирщина   \n6        Закарпатська           Ужгород         Uzhgorod         Закарпаття   \n7          Запорізька         Запоріжжя       Zaporozhye          Запоріжжя   \n8   Івано-Франківська  Івано-Франківськ  Ivano-Frankivsk  Івано-Франківщина   \n9            Київська              Київ             Kyiv           Київщина   \n10     Кіровоградська     Кропивницький    Kropyvnytskyi     Кіровоградщина   \n11          Луганська          Луганськ          Luhansk          Луганщина   \n12          Львівська             Львів             Lviv          Львівщина   \n13       Миколаївська          Миколаїв         Mykolaiv       Миколаївщина   \n14            Одеська             Одеса            Odesa            Одещина   \n15         Полтавська           Полтава          Poltava         Полтавщина   \n16         Рівненська             Рівне            Rivne         Рівненщина   \n17            Сумська              Суми             Sumy            Сумщина   \n18      Тернопільська         Тернопіль         Ternopil      Тернопільщина   \n19         Харківська            Харків          Kharkiv         Харківщина   \n20         Херсонська            Херсон          Kherson         Херсонщина   \n21        Хмельницька      Хмельницький     Khmelnytskyi       Хмельниччина   \n22          Черкаська           Черкаси         Cherkasy          Черкащина   \n23        Чернівецька          Чернівці       Chernivtsi           Буковина   \n24       Чернігівська          Чернігів        Chernihiv       Чернігівщина   \n\n    region_id  \n0           1  \n1           2  \n2           3  \n3           4  \n4           5  \n5           6  \n6           7  \n7           8  \n8           9  \n9          10  \n10         11  \n11         12  \n12         13  \n13         14  \n14         15  \n15         16  \n16         17  \n17         18  \n18         19  \n19         20  \n20         21  \n21         22  \n22         23  \n23         24  \n24         25  ",
      "text/html": "<div>\n<style scoped>\n    .dataframe tbody tr th:only-of-type {\n        vertical-align: middle;\n    }\n\n    .dataframe tbody tr th {\n        vertical-align: top;\n    }\n\n    .dataframe thead th {\n        text-align: right;\n    }\n</style>\n<table border=\"1\" class=\"dataframe\">\n  <thead>\n    <tr style=\"text-align: right;\">\n      <th></th>\n      <th>region</th>\n      <th>center_city_ua</th>\n      <th>center_city_en</th>\n      <th>region_alt</th>\n      <th>region_id</th>\n    </tr>\n  </thead>\n  <tbody>\n    <tr>\n      <th>0</th>\n      <td>АР Крим</td>\n      <td>Сімферополь</td>\n      <td>Simferopol</td>\n      <td>Крим</td>\n      <td>1</td>\n    </tr>\n    <tr>\n      <th>1</th>\n      <td>Вінницька</td>\n      <td>Вінниця</td>\n      <td>Vinnytsia</td>\n      <td>Вінниччина</td>\n      <td>2</td>\n    </tr>\n    <tr>\n      <th>2</th>\n      <td>Волинська</td>\n      <td>Луцьк</td>\n      <td>Lutsk</td>\n      <td>Волинь</td>\n      <td>3</td>\n    </tr>\n    <tr>\n      <th>3</th>\n      <td>Дніпропетровська</td>\n      <td>Дніпро</td>\n      <td>Dnipro</td>\n      <td>Дніпропетровщина</td>\n      <td>4</td>\n    </tr>\n    <tr>\n      <th>4</th>\n      <td>Донецька</td>\n      <td>Донецьк</td>\n      <td>Donetsk</td>\n      <td>Донеччина</td>\n      <td>5</td>\n    </tr>\n    <tr>\n      <th>5</th>\n      <td>Житомирська</td>\n      <td>Житомир</td>\n      <td>Zhytomyr</td>\n      <td>Житомирщина</td>\n      <td>6</td>\n    </tr>\n    <tr>\n      <th>6</th>\n      <td>Закарпатська</td>\n      <td>Ужгород</td>\n      <td>Uzhgorod</td>\n      <td>Закарпаття</td>\n      <td>7</td>\n    </tr>\n    <tr>\n      <th>7</th>\n      <td>Запорізька</td>\n      <td>Запоріжжя</td>\n      <td>Zaporozhye</td>\n      <td>Запоріжжя</td>\n      <td>8</td>\n    </tr>\n    <tr>\n      <th>8</th>\n      <td>Івано-Франківська</td>\n      <td>Івано-Франківськ</td>\n      <td>Ivano-Frankivsk</td>\n      <td>Івано-Франківщина</td>\n      <td>9</td>\n    </tr>\n    <tr>\n      <th>9</th>\n      <td>Київська</td>\n      <td>Київ</td>\n      <td>Kyiv</td>\n      <td>Київщина</td>\n      <td>10</td>\n    </tr>\n    <tr>\n      <th>10</th>\n      <td>Кіровоградська</td>\n      <td>Кропивницький</td>\n      <td>Kropyvnytskyi</td>\n      <td>Кіровоградщина</td>\n      <td>11</td>\n    </tr>\n    <tr>\n      <th>11</th>\n      <td>Луганська</td>\n      <td>Луганськ</td>\n      <td>Luhansk</td>\n      <td>Луганщина</td>\n      <td>12</td>\n    </tr>\n    <tr>\n      <th>12</th>\n      <td>Львівська</td>\n      <td>Львів</td>\n      <td>Lviv</td>\n      <td>Львівщина</td>\n      <td>13</td>\n    </tr>\n    <tr>\n      <th>13</th>\n      <td>Миколаївська</td>\n      <td>Миколаїв</td>\n      <td>Mykolaiv</td>\n      <td>Миколаївщина</td>\n      <td>14</td>\n    </tr>\n    <tr>\n      <th>14</th>\n      <td>Одеська</td>\n      <td>Одеса</td>\n      <td>Odesa</td>\n      <td>Одещина</td>\n      <td>15</td>\n    </tr>\n    <tr>\n      <th>15</th>\n      <td>Полтавська</td>\n      <td>Полтава</td>\n      <td>Poltava</td>\n      <td>Полтавщина</td>\n      <td>16</td>\n    </tr>\n    <tr>\n      <th>16</th>\n      <td>Рівненська</td>\n      <td>Рівне</td>\n      <td>Rivne</td>\n      <td>Рівненщина</td>\n      <td>17</td>\n    </tr>\n    <tr>\n      <th>17</th>\n      <td>Сумська</td>\n      <td>Суми</td>\n      <td>Sumy</td>\n      <td>Сумщина</td>\n      <td>18</td>\n    </tr>\n    <tr>\n      <th>18</th>\n      <td>Тернопільська</td>\n      <td>Тернопіль</td>\n      <td>Ternopil</td>\n      <td>Тернопільщина</td>\n      <td>19</td>\n    </tr>\n    <tr>\n      <th>19</th>\n      <td>Харківська</td>\n      <td>Харків</td>\n      <td>Kharkiv</td>\n      <td>Харківщина</td>\n      <td>20</td>\n    </tr>\n    <tr>\n      <th>20</th>\n      <td>Херсонська</td>\n      <td>Херсон</td>\n      <td>Kherson</td>\n      <td>Херсонщина</td>\n      <td>21</td>\n    </tr>\n    <tr>\n      <th>21</th>\n      <td>Хмельницька</td>\n      <td>Хмельницький</td>\n      <td>Khmelnytskyi</td>\n      <td>Хмельниччина</td>\n      <td>22</td>\n    </tr>\n    <tr>\n      <th>22</th>\n      <td>Черкаська</td>\n      <td>Черкаси</td>\n      <td>Cherkasy</td>\n      <td>Черкащина</td>\n      <td>23</td>\n    </tr>\n    <tr>\n      <th>23</th>\n      <td>Чернівецька</td>\n      <td>Чернівці</td>\n      <td>Chernivtsi</td>\n      <td>Буковина</td>\n      <td>24</td>\n    </tr>\n    <tr>\n      <th>24</th>\n      <td>Чернігівська</td>\n      <td>Чернігів</td>\n      <td>Chernihiv</td>\n      <td>Чернігівщина</td>\n      <td>25</td>\n    </tr>\n  </tbody>\n</table>\n</div>"
     },
     "execution_count": 34,
     "metadata": {},
     "output_type": "execute_result"
    }
   ],
   "execution_count": 34
  },
  {
   "metadata": {
    "ExecuteTime": {
     "end_time": "2025-04-09T12:40:38.146945200Z",
     "start_time": "2025-04-09T12:40:37.826976900Z"
    }
   },
   "cell_type": "code",
   "source": [
    "weather_reg = pd.merge(weather, regions, left_on=\"city\", right_on=\"center_city_ua\")"
   ],
   "id": "9315bb1eb29fb0d3",
   "outputs": [],
   "execution_count": 35
  },
  {
   "metadata": {
    "ExecuteTime": {
     "end_time": "2025-04-09T12:40:38.246712200Z",
     "start_time": "2025-04-09T12:40:38.119022100Z"
    }
   },
   "cell_type": "code",
   "source": [
    "weather_reg.head()"
   ],
   "id": "742e36553cb6b85",
   "outputs": [
    {
     "data": {
      "text/plain": "            city_resolvedAddress day_datetime  day_datetimeEpoch  day_tempmax  \\\n0  Луцьк, Луцький район, Україна   2022-02-24         1645653600          4.9   \n1  Луцьк, Луцький район, Україна   2022-02-24         1645653600          4.9   \n2  Луцьк, Луцький район, Україна   2022-02-24         1645653600          4.9   \n3  Луцьк, Луцький район, Україна   2022-02-24         1645653600          4.9   \n4  Луцьк, Луцький район, Україна   2022-02-24         1645653600          4.9   \n\n   day_tempmin  day_temp  day_dew  day_humidity  day_precip  day_precipcover  \\\n0          0.7       2.6      0.0          83.7       0.118             4.17   \n1          0.7       2.6      0.0          83.7       0.118             4.17   \n2          0.7       2.6      0.0          83.7       0.118             4.17   \n3          0.7       2.6      0.0          83.7       0.118             4.17   \n4          0.7       2.6      0.0          83.7       0.118             4.17   \n\n   ...  hour_solarradiation  hour_solarenergy  hour_uvindex   hour_conditions  \\\n0  ...                  0.0               NaN           0.0          Overcast   \n1  ...                  0.0               NaN           0.0  Partially cloudy   \n2  ...                  NaN               NaN           NaN          Overcast   \n3  ...                  0.0               NaN           0.0          Overcast   \n4  ...                  0.0               NaN           0.0          Overcast   \n\n    city     region center_city_ua  center_city_en  region_alt  region_id  \n0  Луцьк  Волинська          Луцьк           Lutsk      Волинь          3  \n1  Луцьк  Волинська          Луцьк           Lutsk      Волинь          3  \n2  Луцьк  Волинська          Луцьк           Lutsk      Волинь          3  \n3  Луцьк  Волинська          Луцьк           Lutsk      Волинь          3  \n4  Луцьк  Волинська          Луцьк           Lutsk      Волинь          3  \n\n[5 rows x 42 columns]",
      "text/html": "<div>\n<style scoped>\n    .dataframe tbody tr th:only-of-type {\n        vertical-align: middle;\n    }\n\n    .dataframe tbody tr th {\n        vertical-align: top;\n    }\n\n    .dataframe thead th {\n        text-align: right;\n    }\n</style>\n<table border=\"1\" class=\"dataframe\">\n  <thead>\n    <tr style=\"text-align: right;\">\n      <th></th>\n      <th>city_resolvedAddress</th>\n      <th>day_datetime</th>\n      <th>day_datetimeEpoch</th>\n      <th>day_tempmax</th>\n      <th>day_tempmin</th>\n      <th>day_temp</th>\n      <th>day_dew</th>\n      <th>day_humidity</th>\n      <th>day_precip</th>\n      <th>day_precipcover</th>\n      <th>...</th>\n      <th>hour_solarradiation</th>\n      <th>hour_solarenergy</th>\n      <th>hour_uvindex</th>\n      <th>hour_conditions</th>\n      <th>city</th>\n      <th>region</th>\n      <th>center_city_ua</th>\n      <th>center_city_en</th>\n      <th>region_alt</th>\n      <th>region_id</th>\n    </tr>\n  </thead>\n  <tbody>\n    <tr>\n      <th>0</th>\n      <td>Луцьк, Луцький район, Україна</td>\n      <td>2022-02-24</td>\n      <td>1645653600</td>\n      <td>4.9</td>\n      <td>0.7</td>\n      <td>2.6</td>\n      <td>0.0</td>\n      <td>83.7</td>\n      <td>0.118</td>\n      <td>4.17</td>\n      <td>...</td>\n      <td>0.0</td>\n      <td>NaN</td>\n      <td>0.0</td>\n      <td>Overcast</td>\n      <td>Луцьк</td>\n      <td>Волинська</td>\n      <td>Луцьк</td>\n      <td>Lutsk</td>\n      <td>Волинь</td>\n      <td>3</td>\n    </tr>\n    <tr>\n      <th>1</th>\n      <td>Луцьк, Луцький район, Україна</td>\n      <td>2022-02-24</td>\n      <td>1645653600</td>\n      <td>4.9</td>\n      <td>0.7</td>\n      <td>2.6</td>\n      <td>0.0</td>\n      <td>83.7</td>\n      <td>0.118</td>\n      <td>4.17</td>\n      <td>...</td>\n      <td>0.0</td>\n      <td>NaN</td>\n      <td>0.0</td>\n      <td>Partially cloudy</td>\n      <td>Луцьк</td>\n      <td>Волинська</td>\n      <td>Луцьк</td>\n      <td>Lutsk</td>\n      <td>Волинь</td>\n      <td>3</td>\n    </tr>\n    <tr>\n      <th>2</th>\n      <td>Луцьк, Луцький район, Україна</td>\n      <td>2022-02-24</td>\n      <td>1645653600</td>\n      <td>4.9</td>\n      <td>0.7</td>\n      <td>2.6</td>\n      <td>0.0</td>\n      <td>83.7</td>\n      <td>0.118</td>\n      <td>4.17</td>\n      <td>...</td>\n      <td>NaN</td>\n      <td>NaN</td>\n      <td>NaN</td>\n      <td>Overcast</td>\n      <td>Луцьк</td>\n      <td>Волинська</td>\n      <td>Луцьк</td>\n      <td>Lutsk</td>\n      <td>Волинь</td>\n      <td>3</td>\n    </tr>\n    <tr>\n      <th>3</th>\n      <td>Луцьк, Луцький район, Україна</td>\n      <td>2022-02-24</td>\n      <td>1645653600</td>\n      <td>4.9</td>\n      <td>0.7</td>\n      <td>2.6</td>\n      <td>0.0</td>\n      <td>83.7</td>\n      <td>0.118</td>\n      <td>4.17</td>\n      <td>...</td>\n      <td>0.0</td>\n      <td>NaN</td>\n      <td>0.0</td>\n      <td>Overcast</td>\n      <td>Луцьк</td>\n      <td>Волинська</td>\n      <td>Луцьк</td>\n      <td>Lutsk</td>\n      <td>Волинь</td>\n      <td>3</td>\n    </tr>\n    <tr>\n      <th>4</th>\n      <td>Луцьк, Луцький район, Україна</td>\n      <td>2022-02-24</td>\n      <td>1645653600</td>\n      <td>4.9</td>\n      <td>0.7</td>\n      <td>2.6</td>\n      <td>0.0</td>\n      <td>83.7</td>\n      <td>0.118</td>\n      <td>4.17</td>\n      <td>...</td>\n      <td>0.0</td>\n      <td>NaN</td>\n      <td>0.0</td>\n      <td>Overcast</td>\n      <td>Луцьк</td>\n      <td>Волинська</td>\n      <td>Луцьк</td>\n      <td>Lutsk</td>\n      <td>Волинь</td>\n      <td>3</td>\n    </tr>\n  </tbody>\n</table>\n<p>5 rows × 42 columns</p>\n</div>"
     },
     "execution_count": 36,
     "metadata": {},
     "output_type": "execute_result"
    }
   ],
   "execution_count": 36
  },
  {
   "metadata": {
    "ExecuteTime": {
     "end_time": "2025-04-09T12:40:38.246712200Z",
     "start_time": "2025-04-09T12:40:38.152929400Z"
    }
   },
   "cell_type": "code",
   "source": [
    "weather_reg.shape"
   ],
   "id": "b6b1fd2df1ec3d2b",
   "outputs": [
    {
     "data": {
      "text/plain": "(608304, 42)"
     },
     "execution_count": 37,
     "metadata": {},
     "output_type": "execute_result"
    }
   ],
   "execution_count": 37
  },
  {
   "metadata": {
    "ExecuteTime": {
     "end_time": "2025-04-09T12:40:38.314869200Z",
     "start_time": "2025-04-09T12:40:38.167889600Z"
    }
   },
   "cell_type": "code",
   "source": [
    "alarms.head()"
   ],
   "id": "a78242f67e0053fc",
   "outputs": [
    {
     "data": {
      "text/plain": "          region_city  all_region               start                 end  \\\n0      Львівська обл.           1 2022-02-24 07:43:17 2022-02-24 09:52:28   \n1   Чернігівська обл.           1 2022-02-24 14:00:43 2022-02-24 17:11:43   \n2      Вінницька обл.           1 2022-02-24 15:40:42 2022-02-24 16:10:42   \n3     Харківська обл.           1 2022-02-24 20:11:47 2022-02-24 20:59:47   \n4  Тернопільська обл.           1 2022-02-25 01:59:36 2022-02-25 09:00:19   \n\n           start_hour            end_hour        date  startepoch    endepoch  \n0 2022-02-24 07:00:00 2022-02-24 10:00:00  2022-02-24  1645686000  1645696800  \n1 2022-02-24 14:00:00 2022-02-24 18:00:00  2022-02-24  1645711200  1645725600  \n2 2022-02-24 15:00:00 2022-02-24 17:00:00  2022-02-24  1645714800  1645722000  \n3 2022-02-24 20:00:00 2022-02-24 21:00:00  2022-02-24  1645732800  1645736400  \n4 2022-02-25 01:00:00 2022-02-25 10:00:00  2022-02-25  1645750800  1645783200  ",
      "text/html": "<div>\n<style scoped>\n    .dataframe tbody tr th:only-of-type {\n        vertical-align: middle;\n    }\n\n    .dataframe tbody tr th {\n        vertical-align: top;\n    }\n\n    .dataframe thead th {\n        text-align: right;\n    }\n</style>\n<table border=\"1\" class=\"dataframe\">\n  <thead>\n    <tr style=\"text-align: right;\">\n      <th></th>\n      <th>region_city</th>\n      <th>all_region</th>\n      <th>start</th>\n      <th>end</th>\n      <th>start_hour</th>\n      <th>end_hour</th>\n      <th>date</th>\n      <th>startepoch</th>\n      <th>endepoch</th>\n    </tr>\n  </thead>\n  <tbody>\n    <tr>\n      <th>0</th>\n      <td>Львівська обл.</td>\n      <td>1</td>\n      <td>2022-02-24 07:43:17</td>\n      <td>2022-02-24 09:52:28</td>\n      <td>2022-02-24 07:00:00</td>\n      <td>2022-02-24 10:00:00</td>\n      <td>2022-02-24</td>\n      <td>1645686000</td>\n      <td>1645696800</td>\n    </tr>\n    <tr>\n      <th>1</th>\n      <td>Чернігівська обл.</td>\n      <td>1</td>\n      <td>2022-02-24 14:00:43</td>\n      <td>2022-02-24 17:11:43</td>\n      <td>2022-02-24 14:00:00</td>\n      <td>2022-02-24 18:00:00</td>\n      <td>2022-02-24</td>\n      <td>1645711200</td>\n      <td>1645725600</td>\n    </tr>\n    <tr>\n      <th>2</th>\n      <td>Вінницька обл.</td>\n      <td>1</td>\n      <td>2022-02-24 15:40:42</td>\n      <td>2022-02-24 16:10:42</td>\n      <td>2022-02-24 15:00:00</td>\n      <td>2022-02-24 17:00:00</td>\n      <td>2022-02-24</td>\n      <td>1645714800</td>\n      <td>1645722000</td>\n    </tr>\n    <tr>\n      <th>3</th>\n      <td>Харківська обл.</td>\n      <td>1</td>\n      <td>2022-02-24 20:11:47</td>\n      <td>2022-02-24 20:59:47</td>\n      <td>2022-02-24 20:00:00</td>\n      <td>2022-02-24 21:00:00</td>\n      <td>2022-02-24</td>\n      <td>1645732800</td>\n      <td>1645736400</td>\n    </tr>\n    <tr>\n      <th>4</th>\n      <td>Тернопільська обл.</td>\n      <td>1</td>\n      <td>2022-02-25 01:59:36</td>\n      <td>2022-02-25 09:00:19</td>\n      <td>2022-02-25 01:00:00</td>\n      <td>2022-02-25 10:00:00</td>\n      <td>2022-02-25</td>\n      <td>1645750800</td>\n      <td>1645783200</td>\n    </tr>\n  </tbody>\n</table>\n</div>"
     },
     "execution_count": 38,
     "metadata": {},
     "output_type": "execute_result"
    }
   ],
   "execution_count": 38
  },
  {
   "metadata": {
    "ExecuteTime": {
     "end_time": "2025-04-09T12:40:38.800186600Z",
     "start_time": "2025-04-09T12:40:38.184844500Z"
    }
   },
   "cell_type": "code",
   "source": [
    "events_dict = alarms.to_dict('records')"
   ],
   "id": "809a59c7a768668b",
   "outputs": [],
   "execution_count": 39
  },
  {
   "metadata": {
    "ExecuteTime": {
     "end_time": "2025-04-09T12:40:38.801190500Z",
     "start_time": "2025-04-09T12:40:38.779005400Z"
    }
   },
   "cell_type": "code",
   "source": [
    "events_by_hour = []\n",
    "events_dict[0]"
   ],
   "id": "67d909af6b18a2fb",
   "outputs": [
    {
     "data": {
      "text/plain": "{'region_city': 'Львівська обл.',\n 'all_region': 1,\n 'start': Timestamp('2022-02-24 07:43:17'),\n 'end': Timestamp('2022-02-24 09:52:28'),\n 'start_hour': Timestamp('2022-02-24 07:00:00'),\n 'end_hour': Timestamp('2022-02-24 10:00:00'),\n 'date': datetime.date(2022, 2, 24),\n 'startepoch': 1645686000,\n 'endepoch': 1645696800}"
     },
     "execution_count": 40,
     "metadata": {},
     "output_type": "execute_result"
    }
   ],
   "execution_count": 40
  },
  {
   "metadata": {
    "ExecuteTime": {
     "end_time": "2025-04-09T12:40:44.648805800Z",
     "start_time": "2025-04-09T12:40:38.796809500Z"
    }
   },
   "cell_type": "code",
   "source": [
    "for event in events_dict:\n",
    "    for d in pd.date_range(start=event[\"start_hour\"], end=event[\"end_hour\"], freq='1h'):\n",
    "        et = event.copy()\n",
    "        et[\"hour_level_event_time\"] = d\n",
    "        events_by_hour.append(et)"
   ],
   "id": "f5e50a8200753759",
   "outputs": [],
   "execution_count": 41
  },
  {
   "metadata": {
    "ExecuteTime": {
     "end_time": "2025-04-09T12:40:45.472391900Z",
     "start_time": "2025-04-09T12:40:44.650798700Z"
    }
   },
   "cell_type": "code",
   "source": [
    "alarms = pd.DataFrame.from_dict(events_by_hour)"
   ],
   "id": "cf8efaf6c0d34d37",
   "outputs": [],
   "execution_count": 42
  },
  {
   "metadata": {
    "ExecuteTime": {
     "end_time": "2025-04-09T12:40:45.500320600Z",
     "start_time": "2025-04-09T12:40:45.474388Z"
    }
   },
   "cell_type": "code",
   "source": [
    "alarms"
   ],
   "id": "90537d709e595d49",
   "outputs": [
    {
     "data": {
      "text/plain": "              region_city  all_region               start                 end  \\\n0          Львівська обл.           1 2022-02-24 07:43:17 2022-02-24 09:52:28   \n1          Львівська обл.           1 2022-02-24 07:43:17 2022-02-24 09:52:28   \n2          Львівська обл.           1 2022-02-24 07:43:17 2022-02-24 09:52:28   \n3          Львівська обл.           1 2022-02-24 07:43:17 2022-02-24 09:52:28   \n4       Чернігівська обл.           1 2022-02-24 14:00:43 2022-02-24 17:11:43   \n...                   ...         ...                 ...                 ...   \n179403   Житомирська обл.           1 2025-03-01 23:26:07 2025-03-02 02:43:26   \n179404   Житомирська обл.           1 2025-03-01 23:26:07 2025-03-02 02:43:26   \n179405   Житомирська обл.           1 2025-03-01 23:26:07 2025-03-02 02:43:26   \n179406   Житомирська обл.           1 2025-03-01 23:26:07 2025-03-02 02:43:26   \n179407   Житомирська обл.           1 2025-03-01 23:26:07 2025-03-02 02:43:26   \n\n                start_hour            end_hour        date  startepoch  \\\n0      2022-02-24 07:00:00 2022-02-24 10:00:00  2022-02-24  1645686000   \n1      2022-02-24 07:00:00 2022-02-24 10:00:00  2022-02-24  1645686000   \n2      2022-02-24 07:00:00 2022-02-24 10:00:00  2022-02-24  1645686000   \n3      2022-02-24 07:00:00 2022-02-24 10:00:00  2022-02-24  1645686000   \n4      2022-02-24 14:00:00 2022-02-24 18:00:00  2022-02-24  1645711200   \n...                    ...                 ...         ...         ...   \n179403 2025-03-01 23:00:00 2025-03-02 03:00:00  2025-03-01  1740870000   \n179404 2025-03-01 23:00:00 2025-03-02 03:00:00  2025-03-01  1740870000   \n179405 2025-03-01 23:00:00 2025-03-02 03:00:00  2025-03-01  1740870000   \n179406 2025-03-01 23:00:00 2025-03-02 03:00:00  2025-03-01  1740870000   \n179407 2025-03-01 23:00:00 2025-03-02 03:00:00  2025-03-01  1740870000   \n\n          endepoch hour_level_event_time  \n0       1645696800   2022-02-24 07:00:00  \n1       1645696800   2022-02-24 08:00:00  \n2       1645696800   2022-02-24 09:00:00  \n3       1645696800   2022-02-24 10:00:00  \n4       1645725600   2022-02-24 14:00:00  \n...            ...                   ...  \n179403  1740884400   2025-03-01 23:00:00  \n179404  1740884400   2025-03-02 00:00:00  \n179405  1740884400   2025-03-02 01:00:00  \n179406  1740884400   2025-03-02 02:00:00  \n179407  1740884400   2025-03-02 03:00:00  \n\n[179408 rows x 10 columns]",
      "text/html": "<div>\n<style scoped>\n    .dataframe tbody tr th:only-of-type {\n        vertical-align: middle;\n    }\n\n    .dataframe tbody tr th {\n        vertical-align: top;\n    }\n\n    .dataframe thead th {\n        text-align: right;\n    }\n</style>\n<table border=\"1\" class=\"dataframe\">\n  <thead>\n    <tr style=\"text-align: right;\">\n      <th></th>\n      <th>region_city</th>\n      <th>all_region</th>\n      <th>start</th>\n      <th>end</th>\n      <th>start_hour</th>\n      <th>end_hour</th>\n      <th>date</th>\n      <th>startepoch</th>\n      <th>endepoch</th>\n      <th>hour_level_event_time</th>\n    </tr>\n  </thead>\n  <tbody>\n    <tr>\n      <th>0</th>\n      <td>Львівська обл.</td>\n      <td>1</td>\n      <td>2022-02-24 07:43:17</td>\n      <td>2022-02-24 09:52:28</td>\n      <td>2022-02-24 07:00:00</td>\n      <td>2022-02-24 10:00:00</td>\n      <td>2022-02-24</td>\n      <td>1645686000</td>\n      <td>1645696800</td>\n      <td>2022-02-24 07:00:00</td>\n    </tr>\n    <tr>\n      <th>1</th>\n      <td>Львівська обл.</td>\n      <td>1</td>\n      <td>2022-02-24 07:43:17</td>\n      <td>2022-02-24 09:52:28</td>\n      <td>2022-02-24 07:00:00</td>\n      <td>2022-02-24 10:00:00</td>\n      <td>2022-02-24</td>\n      <td>1645686000</td>\n      <td>1645696800</td>\n      <td>2022-02-24 08:00:00</td>\n    </tr>\n    <tr>\n      <th>2</th>\n      <td>Львівська обл.</td>\n      <td>1</td>\n      <td>2022-02-24 07:43:17</td>\n      <td>2022-02-24 09:52:28</td>\n      <td>2022-02-24 07:00:00</td>\n      <td>2022-02-24 10:00:00</td>\n      <td>2022-02-24</td>\n      <td>1645686000</td>\n      <td>1645696800</td>\n      <td>2022-02-24 09:00:00</td>\n    </tr>\n    <tr>\n      <th>3</th>\n      <td>Львівська обл.</td>\n      <td>1</td>\n      <td>2022-02-24 07:43:17</td>\n      <td>2022-02-24 09:52:28</td>\n      <td>2022-02-24 07:00:00</td>\n      <td>2022-02-24 10:00:00</td>\n      <td>2022-02-24</td>\n      <td>1645686000</td>\n      <td>1645696800</td>\n      <td>2022-02-24 10:00:00</td>\n    </tr>\n    <tr>\n      <th>4</th>\n      <td>Чернігівська обл.</td>\n      <td>1</td>\n      <td>2022-02-24 14:00:43</td>\n      <td>2022-02-24 17:11:43</td>\n      <td>2022-02-24 14:00:00</td>\n      <td>2022-02-24 18:00:00</td>\n      <td>2022-02-24</td>\n      <td>1645711200</td>\n      <td>1645725600</td>\n      <td>2022-02-24 14:00:00</td>\n    </tr>\n    <tr>\n      <th>...</th>\n      <td>...</td>\n      <td>...</td>\n      <td>...</td>\n      <td>...</td>\n      <td>...</td>\n      <td>...</td>\n      <td>...</td>\n      <td>...</td>\n      <td>...</td>\n      <td>...</td>\n    </tr>\n    <tr>\n      <th>179403</th>\n      <td>Житомирська обл.</td>\n      <td>1</td>\n      <td>2025-03-01 23:26:07</td>\n      <td>2025-03-02 02:43:26</td>\n      <td>2025-03-01 23:00:00</td>\n      <td>2025-03-02 03:00:00</td>\n      <td>2025-03-01</td>\n      <td>1740870000</td>\n      <td>1740884400</td>\n      <td>2025-03-01 23:00:00</td>\n    </tr>\n    <tr>\n      <th>179404</th>\n      <td>Житомирська обл.</td>\n      <td>1</td>\n      <td>2025-03-01 23:26:07</td>\n      <td>2025-03-02 02:43:26</td>\n      <td>2025-03-01 23:00:00</td>\n      <td>2025-03-02 03:00:00</td>\n      <td>2025-03-01</td>\n      <td>1740870000</td>\n      <td>1740884400</td>\n      <td>2025-03-02 00:00:00</td>\n    </tr>\n    <tr>\n      <th>179405</th>\n      <td>Житомирська обл.</td>\n      <td>1</td>\n      <td>2025-03-01 23:26:07</td>\n      <td>2025-03-02 02:43:26</td>\n      <td>2025-03-01 23:00:00</td>\n      <td>2025-03-02 03:00:00</td>\n      <td>2025-03-01</td>\n      <td>1740870000</td>\n      <td>1740884400</td>\n      <td>2025-03-02 01:00:00</td>\n    </tr>\n    <tr>\n      <th>179406</th>\n      <td>Житомирська обл.</td>\n      <td>1</td>\n      <td>2025-03-01 23:26:07</td>\n      <td>2025-03-02 02:43:26</td>\n      <td>2025-03-01 23:00:00</td>\n      <td>2025-03-02 03:00:00</td>\n      <td>2025-03-01</td>\n      <td>1740870000</td>\n      <td>1740884400</td>\n      <td>2025-03-02 02:00:00</td>\n    </tr>\n    <tr>\n      <th>179407</th>\n      <td>Житомирська обл.</td>\n      <td>1</td>\n      <td>2025-03-01 23:26:07</td>\n      <td>2025-03-02 02:43:26</td>\n      <td>2025-03-01 23:00:00</td>\n      <td>2025-03-02 03:00:00</td>\n      <td>2025-03-01</td>\n      <td>1740870000</td>\n      <td>1740884400</td>\n      <td>2025-03-02 03:00:00</td>\n    </tr>\n  </tbody>\n</table>\n<p>179408 rows × 10 columns</p>\n</div>"
     },
     "execution_count": 43,
     "metadata": {},
     "output_type": "execute_result"
    }
   ],
   "execution_count": 43
  },
  {
   "metadata": {
    "ExecuteTime": {
     "end_time": "2025-04-09T12:40:46.049134200Z",
     "start_time": "2025-04-09T12:40:45.496329200Z"
    }
   },
   "cell_type": "code",
   "source": [
    "alarms[\"hourlevelepoch\"] = alarms[\"hour_level_event_time\"].apply(lambda x: int(x.timestamp()))"
   ],
   "id": "93bc037b28aea900",
   "outputs": [],
   "execution_count": 44
  },
  {
   "metadata": {
    "ExecuteTime": {
     "end_time": "2025-04-09T12:40:46.060915900Z",
     "start_time": "2025-04-09T12:40:46.046142200Z"
    }
   },
   "cell_type": "code",
   "source": [
    "alarms.shape"
   ],
   "id": "5b9d69feed4f83e6",
   "outputs": [
    {
     "data": {
      "text/plain": "(179408, 11)"
     },
     "execution_count": 45,
     "metadata": {},
     "output_type": "execute_result"
    }
   ],
   "execution_count": 45
  },
  {
   "metadata": {
    "ExecuteTime": {
     "end_time": "2025-04-09T12:40:46.144163400Z",
     "start_time": "2025-04-09T12:40:46.069433100Z"
    }
   },
   "cell_type": "code",
   "source": [
    "alarms.head(15)"
   ],
   "id": "535f391f755999ab",
   "outputs": [
    {
     "data": {
      "text/plain": "           region_city  all_region               start                 end  \\\n0       Львівська обл.           1 2022-02-24 07:43:17 2022-02-24 09:52:28   \n1       Львівська обл.           1 2022-02-24 07:43:17 2022-02-24 09:52:28   \n2       Львівська обл.           1 2022-02-24 07:43:17 2022-02-24 09:52:28   \n3       Львівська обл.           1 2022-02-24 07:43:17 2022-02-24 09:52:28   \n4    Чернігівська обл.           1 2022-02-24 14:00:43 2022-02-24 17:11:43   \n5    Чернігівська обл.           1 2022-02-24 14:00:43 2022-02-24 17:11:43   \n6    Чернігівська обл.           1 2022-02-24 14:00:43 2022-02-24 17:11:43   \n7    Чернігівська обл.           1 2022-02-24 14:00:43 2022-02-24 17:11:43   \n8    Чернігівська обл.           1 2022-02-24 14:00:43 2022-02-24 17:11:43   \n9       Вінницька обл.           1 2022-02-24 15:40:42 2022-02-24 16:10:42   \n10      Вінницька обл.           1 2022-02-24 15:40:42 2022-02-24 16:10:42   \n11      Вінницька обл.           1 2022-02-24 15:40:42 2022-02-24 16:10:42   \n12     Харківська обл.           1 2022-02-24 20:11:47 2022-02-24 20:59:47   \n13     Харківська обл.           1 2022-02-24 20:11:47 2022-02-24 20:59:47   \n14  Тернопільська обл.           1 2022-02-25 01:59:36 2022-02-25 09:00:19   \n\n            start_hour            end_hour        date  startepoch  \\\n0  2022-02-24 07:00:00 2022-02-24 10:00:00  2022-02-24  1645686000   \n1  2022-02-24 07:00:00 2022-02-24 10:00:00  2022-02-24  1645686000   \n2  2022-02-24 07:00:00 2022-02-24 10:00:00  2022-02-24  1645686000   \n3  2022-02-24 07:00:00 2022-02-24 10:00:00  2022-02-24  1645686000   \n4  2022-02-24 14:00:00 2022-02-24 18:00:00  2022-02-24  1645711200   \n5  2022-02-24 14:00:00 2022-02-24 18:00:00  2022-02-24  1645711200   \n6  2022-02-24 14:00:00 2022-02-24 18:00:00  2022-02-24  1645711200   \n7  2022-02-24 14:00:00 2022-02-24 18:00:00  2022-02-24  1645711200   \n8  2022-02-24 14:00:00 2022-02-24 18:00:00  2022-02-24  1645711200   \n9  2022-02-24 15:00:00 2022-02-24 17:00:00  2022-02-24  1645714800   \n10 2022-02-24 15:00:00 2022-02-24 17:00:00  2022-02-24  1645714800   \n11 2022-02-24 15:00:00 2022-02-24 17:00:00  2022-02-24  1645714800   \n12 2022-02-24 20:00:00 2022-02-24 21:00:00  2022-02-24  1645732800   \n13 2022-02-24 20:00:00 2022-02-24 21:00:00  2022-02-24  1645732800   \n14 2022-02-25 01:00:00 2022-02-25 10:00:00  2022-02-25  1645750800   \n\n      endepoch hour_level_event_time  hourlevelepoch  \n0   1645696800   2022-02-24 07:00:00      1645686000  \n1   1645696800   2022-02-24 08:00:00      1645689600  \n2   1645696800   2022-02-24 09:00:00      1645693200  \n3   1645696800   2022-02-24 10:00:00      1645696800  \n4   1645725600   2022-02-24 14:00:00      1645711200  \n5   1645725600   2022-02-24 15:00:00      1645714800  \n6   1645725600   2022-02-24 16:00:00      1645718400  \n7   1645725600   2022-02-24 17:00:00      1645722000  \n8   1645725600   2022-02-24 18:00:00      1645725600  \n9   1645722000   2022-02-24 15:00:00      1645714800  \n10  1645722000   2022-02-24 16:00:00      1645718400  \n11  1645722000   2022-02-24 17:00:00      1645722000  \n12  1645736400   2022-02-24 20:00:00      1645732800  \n13  1645736400   2022-02-24 21:00:00      1645736400  \n14  1645783200   2022-02-25 01:00:00      1645750800  ",
      "text/html": "<div>\n<style scoped>\n    .dataframe tbody tr th:only-of-type {\n        vertical-align: middle;\n    }\n\n    .dataframe tbody tr th {\n        vertical-align: top;\n    }\n\n    .dataframe thead th {\n        text-align: right;\n    }\n</style>\n<table border=\"1\" class=\"dataframe\">\n  <thead>\n    <tr style=\"text-align: right;\">\n      <th></th>\n      <th>region_city</th>\n      <th>all_region</th>\n      <th>start</th>\n      <th>end</th>\n      <th>start_hour</th>\n      <th>end_hour</th>\n      <th>date</th>\n      <th>startepoch</th>\n      <th>endepoch</th>\n      <th>hour_level_event_time</th>\n      <th>hourlevelepoch</th>\n    </tr>\n  </thead>\n  <tbody>\n    <tr>\n      <th>0</th>\n      <td>Львівська обл.</td>\n      <td>1</td>\n      <td>2022-02-24 07:43:17</td>\n      <td>2022-02-24 09:52:28</td>\n      <td>2022-02-24 07:00:00</td>\n      <td>2022-02-24 10:00:00</td>\n      <td>2022-02-24</td>\n      <td>1645686000</td>\n      <td>1645696800</td>\n      <td>2022-02-24 07:00:00</td>\n      <td>1645686000</td>\n    </tr>\n    <tr>\n      <th>1</th>\n      <td>Львівська обл.</td>\n      <td>1</td>\n      <td>2022-02-24 07:43:17</td>\n      <td>2022-02-24 09:52:28</td>\n      <td>2022-02-24 07:00:00</td>\n      <td>2022-02-24 10:00:00</td>\n      <td>2022-02-24</td>\n      <td>1645686000</td>\n      <td>1645696800</td>\n      <td>2022-02-24 08:00:00</td>\n      <td>1645689600</td>\n    </tr>\n    <tr>\n      <th>2</th>\n      <td>Львівська обл.</td>\n      <td>1</td>\n      <td>2022-02-24 07:43:17</td>\n      <td>2022-02-24 09:52:28</td>\n      <td>2022-02-24 07:00:00</td>\n      <td>2022-02-24 10:00:00</td>\n      <td>2022-02-24</td>\n      <td>1645686000</td>\n      <td>1645696800</td>\n      <td>2022-02-24 09:00:00</td>\n      <td>1645693200</td>\n    </tr>\n    <tr>\n      <th>3</th>\n      <td>Львівська обл.</td>\n      <td>1</td>\n      <td>2022-02-24 07:43:17</td>\n      <td>2022-02-24 09:52:28</td>\n      <td>2022-02-24 07:00:00</td>\n      <td>2022-02-24 10:00:00</td>\n      <td>2022-02-24</td>\n      <td>1645686000</td>\n      <td>1645696800</td>\n      <td>2022-02-24 10:00:00</td>\n      <td>1645696800</td>\n    </tr>\n    <tr>\n      <th>4</th>\n      <td>Чернігівська обл.</td>\n      <td>1</td>\n      <td>2022-02-24 14:00:43</td>\n      <td>2022-02-24 17:11:43</td>\n      <td>2022-02-24 14:00:00</td>\n      <td>2022-02-24 18:00:00</td>\n      <td>2022-02-24</td>\n      <td>1645711200</td>\n      <td>1645725600</td>\n      <td>2022-02-24 14:00:00</td>\n      <td>1645711200</td>\n    </tr>\n    <tr>\n      <th>5</th>\n      <td>Чернігівська обл.</td>\n      <td>1</td>\n      <td>2022-02-24 14:00:43</td>\n      <td>2022-02-24 17:11:43</td>\n      <td>2022-02-24 14:00:00</td>\n      <td>2022-02-24 18:00:00</td>\n      <td>2022-02-24</td>\n      <td>1645711200</td>\n      <td>1645725600</td>\n      <td>2022-02-24 15:00:00</td>\n      <td>1645714800</td>\n    </tr>\n    <tr>\n      <th>6</th>\n      <td>Чернігівська обл.</td>\n      <td>1</td>\n      <td>2022-02-24 14:00:43</td>\n      <td>2022-02-24 17:11:43</td>\n      <td>2022-02-24 14:00:00</td>\n      <td>2022-02-24 18:00:00</td>\n      <td>2022-02-24</td>\n      <td>1645711200</td>\n      <td>1645725600</td>\n      <td>2022-02-24 16:00:00</td>\n      <td>1645718400</td>\n    </tr>\n    <tr>\n      <th>7</th>\n      <td>Чернігівська обл.</td>\n      <td>1</td>\n      <td>2022-02-24 14:00:43</td>\n      <td>2022-02-24 17:11:43</td>\n      <td>2022-02-24 14:00:00</td>\n      <td>2022-02-24 18:00:00</td>\n      <td>2022-02-24</td>\n      <td>1645711200</td>\n      <td>1645725600</td>\n      <td>2022-02-24 17:00:00</td>\n      <td>1645722000</td>\n    </tr>\n    <tr>\n      <th>8</th>\n      <td>Чернігівська обл.</td>\n      <td>1</td>\n      <td>2022-02-24 14:00:43</td>\n      <td>2022-02-24 17:11:43</td>\n      <td>2022-02-24 14:00:00</td>\n      <td>2022-02-24 18:00:00</td>\n      <td>2022-02-24</td>\n      <td>1645711200</td>\n      <td>1645725600</td>\n      <td>2022-02-24 18:00:00</td>\n      <td>1645725600</td>\n    </tr>\n    <tr>\n      <th>9</th>\n      <td>Вінницька обл.</td>\n      <td>1</td>\n      <td>2022-02-24 15:40:42</td>\n      <td>2022-02-24 16:10:42</td>\n      <td>2022-02-24 15:00:00</td>\n      <td>2022-02-24 17:00:00</td>\n      <td>2022-02-24</td>\n      <td>1645714800</td>\n      <td>1645722000</td>\n      <td>2022-02-24 15:00:00</td>\n      <td>1645714800</td>\n    </tr>\n    <tr>\n      <th>10</th>\n      <td>Вінницька обл.</td>\n      <td>1</td>\n      <td>2022-02-24 15:40:42</td>\n      <td>2022-02-24 16:10:42</td>\n      <td>2022-02-24 15:00:00</td>\n      <td>2022-02-24 17:00:00</td>\n      <td>2022-02-24</td>\n      <td>1645714800</td>\n      <td>1645722000</td>\n      <td>2022-02-24 16:00:00</td>\n      <td>1645718400</td>\n    </tr>\n    <tr>\n      <th>11</th>\n      <td>Вінницька обл.</td>\n      <td>1</td>\n      <td>2022-02-24 15:40:42</td>\n      <td>2022-02-24 16:10:42</td>\n      <td>2022-02-24 15:00:00</td>\n      <td>2022-02-24 17:00:00</td>\n      <td>2022-02-24</td>\n      <td>1645714800</td>\n      <td>1645722000</td>\n      <td>2022-02-24 17:00:00</td>\n      <td>1645722000</td>\n    </tr>\n    <tr>\n      <th>12</th>\n      <td>Харківська обл.</td>\n      <td>1</td>\n      <td>2022-02-24 20:11:47</td>\n      <td>2022-02-24 20:59:47</td>\n      <td>2022-02-24 20:00:00</td>\n      <td>2022-02-24 21:00:00</td>\n      <td>2022-02-24</td>\n      <td>1645732800</td>\n      <td>1645736400</td>\n      <td>2022-02-24 20:00:00</td>\n      <td>1645732800</td>\n    </tr>\n    <tr>\n      <th>13</th>\n      <td>Харківська обл.</td>\n      <td>1</td>\n      <td>2022-02-24 20:11:47</td>\n      <td>2022-02-24 20:59:47</td>\n      <td>2022-02-24 20:00:00</td>\n      <td>2022-02-24 21:00:00</td>\n      <td>2022-02-24</td>\n      <td>1645732800</td>\n      <td>1645736400</td>\n      <td>2022-02-24 21:00:00</td>\n      <td>1645736400</td>\n    </tr>\n    <tr>\n      <th>14</th>\n      <td>Тернопільська обл.</td>\n      <td>1</td>\n      <td>2022-02-25 01:59:36</td>\n      <td>2022-02-25 09:00:19</td>\n      <td>2022-02-25 01:00:00</td>\n      <td>2022-02-25 10:00:00</td>\n      <td>2022-02-25</td>\n      <td>1645750800</td>\n      <td>1645783200</td>\n      <td>2022-02-25 01:00:00</td>\n      <td>1645750800</td>\n    </tr>\n  </tbody>\n</table>\n</div>"
     },
     "execution_count": 46,
     "metadata": {},
     "output_type": "execute_result"
    }
   ],
   "execution_count": 46
  },
  {
   "metadata": {
    "ExecuteTime": {
     "end_time": "2025-04-09T12:40:46.276954500Z",
     "start_time": "2025-04-09T12:40:46.092315500Z"
    }
   },
   "cell_type": "code",
   "source": [
    "alarms['region_city'] = alarms['region_city'].str.replace(' обл.', '', regex=False)\n",
    "mapping = dict(zip(regions['region'], regions['region_alt']))\n",
    "alarms['region_title'] = alarms['region_city'].map(mapping)"
   ],
   "id": "2a7e356d059e4437",
   "outputs": [],
   "execution_count": 47
  },
  {
   "metadata": {
    "ExecuteTime": {
     "end_time": "2025-04-09T12:40:46.329850300Z",
     "start_time": "2025-04-09T12:40:46.215106Z"
    }
   },
   "cell_type": "code",
   "source": [
    "alarms"
   ],
   "id": "c2f79b5979d14152",
   "outputs": [
    {
     "data": {
      "text/plain": "         region_city  all_region               start                 end  \\\n0          Львівська           1 2022-02-24 07:43:17 2022-02-24 09:52:28   \n1          Львівська           1 2022-02-24 07:43:17 2022-02-24 09:52:28   \n2          Львівська           1 2022-02-24 07:43:17 2022-02-24 09:52:28   \n3          Львівська           1 2022-02-24 07:43:17 2022-02-24 09:52:28   \n4       Чернігівська           1 2022-02-24 14:00:43 2022-02-24 17:11:43   \n...              ...         ...                 ...                 ...   \n179403   Житомирська           1 2025-03-01 23:26:07 2025-03-02 02:43:26   \n179404   Житомирська           1 2025-03-01 23:26:07 2025-03-02 02:43:26   \n179405   Житомирська           1 2025-03-01 23:26:07 2025-03-02 02:43:26   \n179406   Житомирська           1 2025-03-01 23:26:07 2025-03-02 02:43:26   \n179407   Житомирська           1 2025-03-01 23:26:07 2025-03-02 02:43:26   \n\n                start_hour            end_hour        date  startepoch  \\\n0      2022-02-24 07:00:00 2022-02-24 10:00:00  2022-02-24  1645686000   \n1      2022-02-24 07:00:00 2022-02-24 10:00:00  2022-02-24  1645686000   \n2      2022-02-24 07:00:00 2022-02-24 10:00:00  2022-02-24  1645686000   \n3      2022-02-24 07:00:00 2022-02-24 10:00:00  2022-02-24  1645686000   \n4      2022-02-24 14:00:00 2022-02-24 18:00:00  2022-02-24  1645711200   \n...                    ...                 ...         ...         ...   \n179403 2025-03-01 23:00:00 2025-03-02 03:00:00  2025-03-01  1740870000   \n179404 2025-03-01 23:00:00 2025-03-02 03:00:00  2025-03-01  1740870000   \n179405 2025-03-01 23:00:00 2025-03-02 03:00:00  2025-03-01  1740870000   \n179406 2025-03-01 23:00:00 2025-03-02 03:00:00  2025-03-01  1740870000   \n179407 2025-03-01 23:00:00 2025-03-02 03:00:00  2025-03-01  1740870000   \n\n          endepoch hour_level_event_time  hourlevelepoch  region_title  \n0       1645696800   2022-02-24 07:00:00      1645686000     Львівщина  \n1       1645696800   2022-02-24 08:00:00      1645689600     Львівщина  \n2       1645696800   2022-02-24 09:00:00      1645693200     Львівщина  \n3       1645696800   2022-02-24 10:00:00      1645696800     Львівщина  \n4       1645725600   2022-02-24 14:00:00      1645711200  Чернігівщина  \n...            ...                   ...             ...           ...  \n179403  1740884400   2025-03-01 23:00:00      1740870000   Житомирщина  \n179404  1740884400   2025-03-02 00:00:00      1740873600   Житомирщина  \n179405  1740884400   2025-03-02 01:00:00      1740877200   Житомирщина  \n179406  1740884400   2025-03-02 02:00:00      1740880800   Житомирщина  \n179407  1740884400   2025-03-02 03:00:00      1740884400   Житомирщина  \n\n[179408 rows x 12 columns]",
      "text/html": "<div>\n<style scoped>\n    .dataframe tbody tr th:only-of-type {\n        vertical-align: middle;\n    }\n\n    .dataframe tbody tr th {\n        vertical-align: top;\n    }\n\n    .dataframe thead th {\n        text-align: right;\n    }\n</style>\n<table border=\"1\" class=\"dataframe\">\n  <thead>\n    <tr style=\"text-align: right;\">\n      <th></th>\n      <th>region_city</th>\n      <th>all_region</th>\n      <th>start</th>\n      <th>end</th>\n      <th>start_hour</th>\n      <th>end_hour</th>\n      <th>date</th>\n      <th>startepoch</th>\n      <th>endepoch</th>\n      <th>hour_level_event_time</th>\n      <th>hourlevelepoch</th>\n      <th>region_title</th>\n    </tr>\n  </thead>\n  <tbody>\n    <tr>\n      <th>0</th>\n      <td>Львівська</td>\n      <td>1</td>\n      <td>2022-02-24 07:43:17</td>\n      <td>2022-02-24 09:52:28</td>\n      <td>2022-02-24 07:00:00</td>\n      <td>2022-02-24 10:00:00</td>\n      <td>2022-02-24</td>\n      <td>1645686000</td>\n      <td>1645696800</td>\n      <td>2022-02-24 07:00:00</td>\n      <td>1645686000</td>\n      <td>Львівщина</td>\n    </tr>\n    <tr>\n      <th>1</th>\n      <td>Львівська</td>\n      <td>1</td>\n      <td>2022-02-24 07:43:17</td>\n      <td>2022-02-24 09:52:28</td>\n      <td>2022-02-24 07:00:00</td>\n      <td>2022-02-24 10:00:00</td>\n      <td>2022-02-24</td>\n      <td>1645686000</td>\n      <td>1645696800</td>\n      <td>2022-02-24 08:00:00</td>\n      <td>1645689600</td>\n      <td>Львівщина</td>\n    </tr>\n    <tr>\n      <th>2</th>\n      <td>Львівська</td>\n      <td>1</td>\n      <td>2022-02-24 07:43:17</td>\n      <td>2022-02-24 09:52:28</td>\n      <td>2022-02-24 07:00:00</td>\n      <td>2022-02-24 10:00:00</td>\n      <td>2022-02-24</td>\n      <td>1645686000</td>\n      <td>1645696800</td>\n      <td>2022-02-24 09:00:00</td>\n      <td>1645693200</td>\n      <td>Львівщина</td>\n    </tr>\n    <tr>\n      <th>3</th>\n      <td>Львівська</td>\n      <td>1</td>\n      <td>2022-02-24 07:43:17</td>\n      <td>2022-02-24 09:52:28</td>\n      <td>2022-02-24 07:00:00</td>\n      <td>2022-02-24 10:00:00</td>\n      <td>2022-02-24</td>\n      <td>1645686000</td>\n      <td>1645696800</td>\n      <td>2022-02-24 10:00:00</td>\n      <td>1645696800</td>\n      <td>Львівщина</td>\n    </tr>\n    <tr>\n      <th>4</th>\n      <td>Чернігівська</td>\n      <td>1</td>\n      <td>2022-02-24 14:00:43</td>\n      <td>2022-02-24 17:11:43</td>\n      <td>2022-02-24 14:00:00</td>\n      <td>2022-02-24 18:00:00</td>\n      <td>2022-02-24</td>\n      <td>1645711200</td>\n      <td>1645725600</td>\n      <td>2022-02-24 14:00:00</td>\n      <td>1645711200</td>\n      <td>Чернігівщина</td>\n    </tr>\n    <tr>\n      <th>...</th>\n      <td>...</td>\n      <td>...</td>\n      <td>...</td>\n      <td>...</td>\n      <td>...</td>\n      <td>...</td>\n      <td>...</td>\n      <td>...</td>\n      <td>...</td>\n      <td>...</td>\n      <td>...</td>\n      <td>...</td>\n    </tr>\n    <tr>\n      <th>179403</th>\n      <td>Житомирська</td>\n      <td>1</td>\n      <td>2025-03-01 23:26:07</td>\n      <td>2025-03-02 02:43:26</td>\n      <td>2025-03-01 23:00:00</td>\n      <td>2025-03-02 03:00:00</td>\n      <td>2025-03-01</td>\n      <td>1740870000</td>\n      <td>1740884400</td>\n      <td>2025-03-01 23:00:00</td>\n      <td>1740870000</td>\n      <td>Житомирщина</td>\n    </tr>\n    <tr>\n      <th>179404</th>\n      <td>Житомирська</td>\n      <td>1</td>\n      <td>2025-03-01 23:26:07</td>\n      <td>2025-03-02 02:43:26</td>\n      <td>2025-03-01 23:00:00</td>\n      <td>2025-03-02 03:00:00</td>\n      <td>2025-03-01</td>\n      <td>1740870000</td>\n      <td>1740884400</td>\n      <td>2025-03-02 00:00:00</td>\n      <td>1740873600</td>\n      <td>Житомирщина</td>\n    </tr>\n    <tr>\n      <th>179405</th>\n      <td>Житомирська</td>\n      <td>1</td>\n      <td>2025-03-01 23:26:07</td>\n      <td>2025-03-02 02:43:26</td>\n      <td>2025-03-01 23:00:00</td>\n      <td>2025-03-02 03:00:00</td>\n      <td>2025-03-01</td>\n      <td>1740870000</td>\n      <td>1740884400</td>\n      <td>2025-03-02 01:00:00</td>\n      <td>1740877200</td>\n      <td>Житомирщина</td>\n    </tr>\n    <tr>\n      <th>179406</th>\n      <td>Житомирська</td>\n      <td>1</td>\n      <td>2025-03-01 23:26:07</td>\n      <td>2025-03-02 02:43:26</td>\n      <td>2025-03-01 23:00:00</td>\n      <td>2025-03-02 03:00:00</td>\n      <td>2025-03-01</td>\n      <td>1740870000</td>\n      <td>1740884400</td>\n      <td>2025-03-02 02:00:00</td>\n      <td>1740880800</td>\n      <td>Житомирщина</td>\n    </tr>\n    <tr>\n      <th>179407</th>\n      <td>Житомирська</td>\n      <td>1</td>\n      <td>2025-03-01 23:26:07</td>\n      <td>2025-03-02 02:43:26</td>\n      <td>2025-03-01 23:00:00</td>\n      <td>2025-03-02 03:00:00</td>\n      <td>2025-03-01</td>\n      <td>1740870000</td>\n      <td>1740884400</td>\n      <td>2025-03-02 03:00:00</td>\n      <td>1740884400</td>\n      <td>Житомирщина</td>\n    </tr>\n  </tbody>\n</table>\n<p>179408 rows × 12 columns</p>\n</div>"
     },
     "execution_count": 48,
     "metadata": {},
     "output_type": "execute_result"
    }
   ],
   "execution_count": 48
  },
  {
   "metadata": {
    "ExecuteTime": {
     "end_time": "2025-04-09T12:40:46.440765800Z",
     "start_time": "2025-04-09T12:40:46.247020900Z"
    }
   },
   "cell_type": "code",
   "source": [
    "alarms_copy = alarms.copy().add_prefix(\"event_\")"
   ],
   "id": "973cc012171de17a",
   "outputs": [],
   "execution_count": 49
  },
  {
   "metadata": {
    "ExecuteTime": {
     "end_time": "2025-04-09T12:40:48.390731600Z",
     "start_time": "2025-04-09T12:40:46.340821900Z"
    }
   },
   "cell_type": "code",
   "source": [
    "weather_copy = weather_reg.merge(alarms_copy,\n",
    "                                 how=\"left\",\n",
    "                                 left_on=[\"region_alt\", \"hour_datetimeEpoch\"],\n",
    "                                 right_on=[\"event_region_title\", \"event_hourlevelepoch\"])"
   ],
   "id": "d3206262502f749e",
   "outputs": [],
   "execution_count": 50
  },
  {
   "metadata": {
    "ExecuteTime": {
     "end_time": "2025-04-09T12:40:48.422743400Z",
     "start_time": "2025-04-09T12:40:48.389733900Z"
    }
   },
   "cell_type": "code",
   "source": [
    "weather_copy.shape"
   ],
   "id": "cb3cf172bccdfe06",
   "outputs": [
    {
     "data": {
      "text/plain": "(629555, 54)"
     },
     "execution_count": 51,
     "metadata": {},
     "output_type": "execute_result"
    }
   ],
   "execution_count": 51
  },
  {
   "metadata": {
    "ExecuteTime": {
     "end_time": "2025-04-09T12:40:48.479652200Z",
     "start_time": "2025-04-09T12:40:48.407242300Z"
    }
   },
   "cell_type": "code",
   "source": [
    "weather_copy.head()"
   ],
   "id": "52d97c1c1356cf0a",
   "outputs": [
    {
     "data": {
      "text/plain": "            city_resolvedAddress day_datetime  day_datetimeEpoch  day_tempmax  \\\n0  Луцьк, Луцький район, Україна   2022-02-24         1645653600          4.9   \n1  Луцьк, Луцький район, Україна   2022-02-24         1645653600          4.9   \n2  Луцьк, Луцький район, Україна   2022-02-24         1645653600          4.9   \n3  Луцьк, Луцький район, Україна   2022-02-24         1645653600          4.9   \n4  Луцьк, Луцький район, Україна   2022-02-24         1645653600          4.9   \n\n   day_tempmin  day_temp  day_dew  day_humidity  day_precip  day_precipcover  \\\n0          0.7       2.6      0.0          83.7       0.118             4.17   \n1          0.7       2.6      0.0          83.7       0.118             4.17   \n2          0.7       2.6      0.0          83.7       0.118             4.17   \n3          0.7       2.6      0.0          83.7       0.118             4.17   \n4          0.7       2.6      0.0          83.7       0.118             4.17   \n\n   ...  event_start  event_end  event_start_hour event_end_hour event_date  \\\n0  ...          NaT        NaT               NaT            NaT        NaN   \n1  ...          NaT        NaT               NaT            NaT        NaN   \n2  ...          NaT        NaT               NaT            NaT        NaN   \n3  ...          NaT        NaT               NaT            NaT        NaN   \n4  ...          NaT        NaT               NaT            NaT        NaN   \n\n   event_startepoch event_endepoch  event_hour_level_event_time  \\\n0               NaN            NaN                          NaT   \n1               NaN            NaN                          NaT   \n2               NaN            NaN                          NaT   \n3               NaN            NaN                          NaT   \n4               NaN            NaN                          NaT   \n\n   event_hourlevelepoch  event_region_title  \n0                   NaN                 NaN  \n1                   NaN                 NaN  \n2                   NaN                 NaN  \n3                   NaN                 NaN  \n4                   NaN                 NaN  \n\n[5 rows x 54 columns]",
      "text/html": "<div>\n<style scoped>\n    .dataframe tbody tr th:only-of-type {\n        vertical-align: middle;\n    }\n\n    .dataframe tbody tr th {\n        vertical-align: top;\n    }\n\n    .dataframe thead th {\n        text-align: right;\n    }\n</style>\n<table border=\"1\" class=\"dataframe\">\n  <thead>\n    <tr style=\"text-align: right;\">\n      <th></th>\n      <th>city_resolvedAddress</th>\n      <th>day_datetime</th>\n      <th>day_datetimeEpoch</th>\n      <th>day_tempmax</th>\n      <th>day_tempmin</th>\n      <th>day_temp</th>\n      <th>day_dew</th>\n      <th>day_humidity</th>\n      <th>day_precip</th>\n      <th>day_precipcover</th>\n      <th>...</th>\n      <th>event_start</th>\n      <th>event_end</th>\n      <th>event_start_hour</th>\n      <th>event_end_hour</th>\n      <th>event_date</th>\n      <th>event_startepoch</th>\n      <th>event_endepoch</th>\n      <th>event_hour_level_event_time</th>\n      <th>event_hourlevelepoch</th>\n      <th>event_region_title</th>\n    </tr>\n  </thead>\n  <tbody>\n    <tr>\n      <th>0</th>\n      <td>Луцьк, Луцький район, Україна</td>\n      <td>2022-02-24</td>\n      <td>1645653600</td>\n      <td>4.9</td>\n      <td>0.7</td>\n      <td>2.6</td>\n      <td>0.0</td>\n      <td>83.7</td>\n      <td>0.118</td>\n      <td>4.17</td>\n      <td>...</td>\n      <td>NaT</td>\n      <td>NaT</td>\n      <td>NaT</td>\n      <td>NaT</td>\n      <td>NaN</td>\n      <td>NaN</td>\n      <td>NaN</td>\n      <td>NaT</td>\n      <td>NaN</td>\n      <td>NaN</td>\n    </tr>\n    <tr>\n      <th>1</th>\n      <td>Луцьк, Луцький район, Україна</td>\n      <td>2022-02-24</td>\n      <td>1645653600</td>\n      <td>4.9</td>\n      <td>0.7</td>\n      <td>2.6</td>\n      <td>0.0</td>\n      <td>83.7</td>\n      <td>0.118</td>\n      <td>4.17</td>\n      <td>...</td>\n      <td>NaT</td>\n      <td>NaT</td>\n      <td>NaT</td>\n      <td>NaT</td>\n      <td>NaN</td>\n      <td>NaN</td>\n      <td>NaN</td>\n      <td>NaT</td>\n      <td>NaN</td>\n      <td>NaN</td>\n    </tr>\n    <tr>\n      <th>2</th>\n      <td>Луцьк, Луцький район, Україна</td>\n      <td>2022-02-24</td>\n      <td>1645653600</td>\n      <td>4.9</td>\n      <td>0.7</td>\n      <td>2.6</td>\n      <td>0.0</td>\n      <td>83.7</td>\n      <td>0.118</td>\n      <td>4.17</td>\n      <td>...</td>\n      <td>NaT</td>\n      <td>NaT</td>\n      <td>NaT</td>\n      <td>NaT</td>\n      <td>NaN</td>\n      <td>NaN</td>\n      <td>NaN</td>\n      <td>NaT</td>\n      <td>NaN</td>\n      <td>NaN</td>\n    </tr>\n    <tr>\n      <th>3</th>\n      <td>Луцьк, Луцький район, Україна</td>\n      <td>2022-02-24</td>\n      <td>1645653600</td>\n      <td>4.9</td>\n      <td>0.7</td>\n      <td>2.6</td>\n      <td>0.0</td>\n      <td>83.7</td>\n      <td>0.118</td>\n      <td>4.17</td>\n      <td>...</td>\n      <td>NaT</td>\n      <td>NaT</td>\n      <td>NaT</td>\n      <td>NaT</td>\n      <td>NaN</td>\n      <td>NaN</td>\n      <td>NaN</td>\n      <td>NaT</td>\n      <td>NaN</td>\n      <td>NaN</td>\n    </tr>\n    <tr>\n      <th>4</th>\n      <td>Луцьк, Луцький район, Україна</td>\n      <td>2022-02-24</td>\n      <td>1645653600</td>\n      <td>4.9</td>\n      <td>0.7</td>\n      <td>2.6</td>\n      <td>0.0</td>\n      <td>83.7</td>\n      <td>0.118</td>\n      <td>4.17</td>\n      <td>...</td>\n      <td>NaT</td>\n      <td>NaT</td>\n      <td>NaT</td>\n      <td>NaT</td>\n      <td>NaN</td>\n      <td>NaN</td>\n      <td>NaN</td>\n      <td>NaT</td>\n      <td>NaN</td>\n      <td>NaN</td>\n    </tr>\n  </tbody>\n</table>\n<p>5 rows × 54 columns</p>\n</div>"
     },
     "execution_count": 52,
     "metadata": {},
     "output_type": "execute_result"
    }
   ],
   "execution_count": 52
  },
  {
   "metadata": {
    "ExecuteTime": {
     "end_time": "2025-04-09T12:41:08.543073400Z",
     "start_time": "2025-04-09T12:40:48.437046500Z"
    }
   },
   "cell_type": "code",
   "source": [
    "weather_copy.to_csv(\"final_dataset.csv\", index=False)"
   ],
   "id": "7152f3f9272925e8",
   "outputs": [],
   "execution_count": 53
  },
  {
   "metadata": {
    "ExecuteTime": {
     "end_time": "2025-04-09T12:41:08.599921Z",
     "start_time": "2025-04-09T12:41:08.542075Z"
    }
   },
   "cell_type": "code",
   "source": [
    "weather_copy.head()"
   ],
   "id": "512e7ca0d1e04810",
   "outputs": [
    {
     "data": {
      "text/plain": "            city_resolvedAddress day_datetime  day_datetimeEpoch  day_tempmax  \\\n0  Луцьк, Луцький район, Україна   2022-02-24         1645653600          4.9   \n1  Луцьк, Луцький район, Україна   2022-02-24         1645653600          4.9   \n2  Луцьк, Луцький район, Україна   2022-02-24         1645653600          4.9   \n3  Луцьк, Луцький район, Україна   2022-02-24         1645653600          4.9   \n4  Луцьк, Луцький район, Україна   2022-02-24         1645653600          4.9   \n\n   day_tempmin  day_temp  day_dew  day_humidity  day_precip  day_precipcover  \\\n0          0.7       2.6      0.0          83.7       0.118             4.17   \n1          0.7       2.6      0.0          83.7       0.118             4.17   \n2          0.7       2.6      0.0          83.7       0.118             4.17   \n3          0.7       2.6      0.0          83.7       0.118             4.17   \n4          0.7       2.6      0.0          83.7       0.118             4.17   \n\n   ...  event_start  event_end  event_start_hour event_end_hour event_date  \\\n0  ...          NaT        NaT               NaT            NaT        NaN   \n1  ...          NaT        NaT               NaT            NaT        NaN   \n2  ...          NaT        NaT               NaT            NaT        NaN   \n3  ...          NaT        NaT               NaT            NaT        NaN   \n4  ...          NaT        NaT               NaT            NaT        NaN   \n\n   event_startepoch event_endepoch  event_hour_level_event_time  \\\n0               NaN            NaN                          NaT   \n1               NaN            NaN                          NaT   \n2               NaN            NaN                          NaT   \n3               NaN            NaN                          NaT   \n4               NaN            NaN                          NaT   \n\n   event_hourlevelepoch  event_region_title  \n0                   NaN                 NaN  \n1                   NaN                 NaN  \n2                   NaN                 NaN  \n3                   NaN                 NaN  \n4                   NaN                 NaN  \n\n[5 rows x 54 columns]",
      "text/html": "<div>\n<style scoped>\n    .dataframe tbody tr th:only-of-type {\n        vertical-align: middle;\n    }\n\n    .dataframe tbody tr th {\n        vertical-align: top;\n    }\n\n    .dataframe thead th {\n        text-align: right;\n    }\n</style>\n<table border=\"1\" class=\"dataframe\">\n  <thead>\n    <tr style=\"text-align: right;\">\n      <th></th>\n      <th>city_resolvedAddress</th>\n      <th>day_datetime</th>\n      <th>day_datetimeEpoch</th>\n      <th>day_tempmax</th>\n      <th>day_tempmin</th>\n      <th>day_temp</th>\n      <th>day_dew</th>\n      <th>day_humidity</th>\n      <th>day_precip</th>\n      <th>day_precipcover</th>\n      <th>...</th>\n      <th>event_start</th>\n      <th>event_end</th>\n      <th>event_start_hour</th>\n      <th>event_end_hour</th>\n      <th>event_date</th>\n      <th>event_startepoch</th>\n      <th>event_endepoch</th>\n      <th>event_hour_level_event_time</th>\n      <th>event_hourlevelepoch</th>\n      <th>event_region_title</th>\n    </tr>\n  </thead>\n  <tbody>\n    <tr>\n      <th>0</th>\n      <td>Луцьк, Луцький район, Україна</td>\n      <td>2022-02-24</td>\n      <td>1645653600</td>\n      <td>4.9</td>\n      <td>0.7</td>\n      <td>2.6</td>\n      <td>0.0</td>\n      <td>83.7</td>\n      <td>0.118</td>\n      <td>4.17</td>\n      <td>...</td>\n      <td>NaT</td>\n      <td>NaT</td>\n      <td>NaT</td>\n      <td>NaT</td>\n      <td>NaN</td>\n      <td>NaN</td>\n      <td>NaN</td>\n      <td>NaT</td>\n      <td>NaN</td>\n      <td>NaN</td>\n    </tr>\n    <tr>\n      <th>1</th>\n      <td>Луцьк, Луцький район, Україна</td>\n      <td>2022-02-24</td>\n      <td>1645653600</td>\n      <td>4.9</td>\n      <td>0.7</td>\n      <td>2.6</td>\n      <td>0.0</td>\n      <td>83.7</td>\n      <td>0.118</td>\n      <td>4.17</td>\n      <td>...</td>\n      <td>NaT</td>\n      <td>NaT</td>\n      <td>NaT</td>\n      <td>NaT</td>\n      <td>NaN</td>\n      <td>NaN</td>\n      <td>NaN</td>\n      <td>NaT</td>\n      <td>NaN</td>\n      <td>NaN</td>\n    </tr>\n    <tr>\n      <th>2</th>\n      <td>Луцьк, Луцький район, Україна</td>\n      <td>2022-02-24</td>\n      <td>1645653600</td>\n      <td>4.9</td>\n      <td>0.7</td>\n      <td>2.6</td>\n      <td>0.0</td>\n      <td>83.7</td>\n      <td>0.118</td>\n      <td>4.17</td>\n      <td>...</td>\n      <td>NaT</td>\n      <td>NaT</td>\n      <td>NaT</td>\n      <td>NaT</td>\n      <td>NaN</td>\n      <td>NaN</td>\n      <td>NaN</td>\n      <td>NaT</td>\n      <td>NaN</td>\n      <td>NaN</td>\n    </tr>\n    <tr>\n      <th>3</th>\n      <td>Луцьк, Луцький район, Україна</td>\n      <td>2022-02-24</td>\n      <td>1645653600</td>\n      <td>4.9</td>\n      <td>0.7</td>\n      <td>2.6</td>\n      <td>0.0</td>\n      <td>83.7</td>\n      <td>0.118</td>\n      <td>4.17</td>\n      <td>...</td>\n      <td>NaT</td>\n      <td>NaT</td>\n      <td>NaT</td>\n      <td>NaT</td>\n      <td>NaN</td>\n      <td>NaN</td>\n      <td>NaN</td>\n      <td>NaT</td>\n      <td>NaN</td>\n      <td>NaN</td>\n    </tr>\n    <tr>\n      <th>4</th>\n      <td>Луцьк, Луцький район, Україна</td>\n      <td>2022-02-24</td>\n      <td>1645653600</td>\n      <td>4.9</td>\n      <td>0.7</td>\n      <td>2.6</td>\n      <td>0.0</td>\n      <td>83.7</td>\n      <td>0.118</td>\n      <td>4.17</td>\n      <td>...</td>\n      <td>NaT</td>\n      <td>NaT</td>\n      <td>NaT</td>\n      <td>NaT</td>\n      <td>NaN</td>\n      <td>NaN</td>\n      <td>NaN</td>\n      <td>NaT</td>\n      <td>NaN</td>\n      <td>NaN</td>\n    </tr>\n  </tbody>\n</table>\n<p>5 rows × 54 columns</p>\n</div>"
     },
     "execution_count": 54,
     "metadata": {},
     "output_type": "execute_result"
    }
   ],
   "execution_count": 54
  },
  {
   "metadata": {
    "ExecuteTime": {
     "end_time": "2025-04-09T12:41:08.754295Z",
     "start_time": "2025-04-09T12:41:08.571997400Z"
    }
   },
   "cell_type": "code",
   "source": [
    "weather_copy[\"city_resolvedAddress\"].value_counts()"
   ],
   "id": "3d0de2a23fb342dc",
   "outputs": [
    {
     "data": {
      "text/plain": "city_resolvedAddress\nДонецьк, Україна                        29966\nХарків, Україна                         29741\nЗапоріжжя, Україна                      29301\nДніпро, Україна                         28827\nСуми, Україна                           27952\nПолтава, Україна                        27797\nХерсон, Україна                         27539\nМиколаїв, Україна                       27487\nКропивницький, Україна                  27340\nЧернігів, Україна                       27034\nЧеркаси, Україна                        26977\nОдеса, Україна                          26906\nКиїв, Україна                           26852\nЖитомир, Україна                        26792\nВінниця, Україна                        26726\nХмельницька область, Україна            26579\nЛуцьк, Луцький район, Україна           26566\nРівне, Україна                          26559\nТернопіль, Україна                      26539\nЛьвів, Україна                          26523\nІвано-Франківськ, Україна               26520\nЧернівці, Україна                       26517\nУжгород, Ужгородський район, Україна    26515\nName: count, dtype: int64"
     },
     "execution_count": 55,
     "metadata": {},
     "output_type": "execute_result"
    }
   ],
   "execution_count": 55
  },
  {
   "metadata": {},
   "cell_type": "markdown",
   "source": [
    "Щоб перевірити треба подивитися кількість тривог більше 1 години, і порівняти"
   ],
   "id": "a4c45a11a0fc32c2"
  },
  {
   "metadata": {
    "ExecuteTime": {
     "end_time": "2025-04-09T12:41:44.358098800Z",
     "start_time": "2025-04-09T12:41:44.261125100Z"
    }
   },
   "cell_type": "code",
   "outputs": [
    {
     "data": {
      "text/plain": "            city_resolvedAddress day_datetime  day_datetimeEpoch  day_tempmax  \\\n0  Луцьк, Луцький район, Україна   2022-02-24         1645653600          4.9   \n1  Луцьк, Луцький район, Україна   2022-02-24         1645653600          4.9   \n2  Луцьк, Луцький район, Україна   2022-02-24         1645653600          4.9   \n3  Луцьк, Луцький район, Україна   2022-02-24         1645653600          4.9   \n4  Луцьк, Луцький район, Україна   2022-02-24         1645653600          4.9   \n\n   day_tempmin  day_temp  day_dew  day_humidity  day_precip  day_precipcover  \\\n0          0.7       2.6      0.0          83.7       0.118             4.17   \n1          0.7       2.6      0.0          83.7       0.118             4.17   \n2          0.7       2.6      0.0          83.7       0.118             4.17   \n3          0.7       2.6      0.0          83.7       0.118             4.17   \n4          0.7       2.6      0.0          83.7       0.118             4.17   \n\n   ...  event_start  event_end  event_start_hour event_end_hour event_date  \\\n0  ...          NaT        NaT               NaT            NaT        NaN   \n1  ...          NaT        NaT               NaT            NaT        NaN   \n2  ...          NaT        NaT               NaT            NaT        NaN   \n3  ...          NaT        NaT               NaT            NaT        NaN   \n4  ...          NaT        NaT               NaT            NaT        NaN   \n\n   event_startepoch event_endepoch  event_hour_level_event_time  \\\n0               NaN            NaN                          NaT   \n1               NaN            NaN                          NaT   \n2               NaN            NaN                          NaT   \n3               NaN            NaN                          NaT   \n4               NaN            NaN                          NaT   \n\n   event_hourlevelepoch  event_region_title  \n0                   NaN                 NaN  \n1                   NaN                 NaN  \n2                   NaN                 NaN  \n3                   NaN                 NaN  \n4                   NaN                 NaN  \n\n[5 rows x 54 columns]",
      "text/html": "<div>\n<style scoped>\n    .dataframe tbody tr th:only-of-type {\n        vertical-align: middle;\n    }\n\n    .dataframe tbody tr th {\n        vertical-align: top;\n    }\n\n    .dataframe thead th {\n        text-align: right;\n    }\n</style>\n<table border=\"1\" class=\"dataframe\">\n  <thead>\n    <tr style=\"text-align: right;\">\n      <th></th>\n      <th>city_resolvedAddress</th>\n      <th>day_datetime</th>\n      <th>day_datetimeEpoch</th>\n      <th>day_tempmax</th>\n      <th>day_tempmin</th>\n      <th>day_temp</th>\n      <th>day_dew</th>\n      <th>day_humidity</th>\n      <th>day_precip</th>\n      <th>day_precipcover</th>\n      <th>...</th>\n      <th>event_start</th>\n      <th>event_end</th>\n      <th>event_start_hour</th>\n      <th>event_end_hour</th>\n      <th>event_date</th>\n      <th>event_startepoch</th>\n      <th>event_endepoch</th>\n      <th>event_hour_level_event_time</th>\n      <th>event_hourlevelepoch</th>\n      <th>event_region_title</th>\n    </tr>\n  </thead>\n  <tbody>\n    <tr>\n      <th>0</th>\n      <td>Луцьк, Луцький район, Україна</td>\n      <td>2022-02-24</td>\n      <td>1645653600</td>\n      <td>4.9</td>\n      <td>0.7</td>\n      <td>2.6</td>\n      <td>0.0</td>\n      <td>83.7</td>\n      <td>0.118</td>\n      <td>4.17</td>\n      <td>...</td>\n      <td>NaT</td>\n      <td>NaT</td>\n      <td>NaT</td>\n      <td>NaT</td>\n      <td>NaN</td>\n      <td>NaN</td>\n      <td>NaN</td>\n      <td>NaT</td>\n      <td>NaN</td>\n      <td>NaN</td>\n    </tr>\n    <tr>\n      <th>1</th>\n      <td>Луцьк, Луцький район, Україна</td>\n      <td>2022-02-24</td>\n      <td>1645653600</td>\n      <td>4.9</td>\n      <td>0.7</td>\n      <td>2.6</td>\n      <td>0.0</td>\n      <td>83.7</td>\n      <td>0.118</td>\n      <td>4.17</td>\n      <td>...</td>\n      <td>NaT</td>\n      <td>NaT</td>\n      <td>NaT</td>\n      <td>NaT</td>\n      <td>NaN</td>\n      <td>NaN</td>\n      <td>NaN</td>\n      <td>NaT</td>\n      <td>NaN</td>\n      <td>NaN</td>\n    </tr>\n    <tr>\n      <th>2</th>\n      <td>Луцьк, Луцький район, Україна</td>\n      <td>2022-02-24</td>\n      <td>1645653600</td>\n      <td>4.9</td>\n      <td>0.7</td>\n      <td>2.6</td>\n      <td>0.0</td>\n      <td>83.7</td>\n      <td>0.118</td>\n      <td>4.17</td>\n      <td>...</td>\n      <td>NaT</td>\n      <td>NaT</td>\n      <td>NaT</td>\n      <td>NaT</td>\n      <td>NaN</td>\n      <td>NaN</td>\n      <td>NaN</td>\n      <td>NaT</td>\n      <td>NaN</td>\n      <td>NaN</td>\n    </tr>\n    <tr>\n      <th>3</th>\n      <td>Луцьк, Луцький район, Україна</td>\n      <td>2022-02-24</td>\n      <td>1645653600</td>\n      <td>4.9</td>\n      <td>0.7</td>\n      <td>2.6</td>\n      <td>0.0</td>\n      <td>83.7</td>\n      <td>0.118</td>\n      <td>4.17</td>\n      <td>...</td>\n      <td>NaT</td>\n      <td>NaT</td>\n      <td>NaT</td>\n      <td>NaT</td>\n      <td>NaN</td>\n      <td>NaN</td>\n      <td>NaN</td>\n      <td>NaT</td>\n      <td>NaN</td>\n      <td>NaN</td>\n    </tr>\n    <tr>\n      <th>4</th>\n      <td>Луцьк, Луцький район, Україна</td>\n      <td>2022-02-24</td>\n      <td>1645653600</td>\n      <td>4.9</td>\n      <td>0.7</td>\n      <td>2.6</td>\n      <td>0.0</td>\n      <td>83.7</td>\n      <td>0.118</td>\n      <td>4.17</td>\n      <td>...</td>\n      <td>NaT</td>\n      <td>NaT</td>\n      <td>NaT</td>\n      <td>NaT</td>\n      <td>NaN</td>\n      <td>NaN</td>\n      <td>NaN</td>\n      <td>NaT</td>\n      <td>NaN</td>\n      <td>NaN</td>\n    </tr>\n  </tbody>\n</table>\n<p>5 rows × 54 columns</p>\n</div>"
     },
     "execution_count": 56,
     "metadata": {},
     "output_type": "execute_result"
    }
   ],
   "execution_count": 56,
   "source": [
    "weather_copy.head()"
   ],
   "id": "d9470064ed3973d6"
  },
  {
   "cell_type": "code",
   "execution_count": 57,
   "outputs": [],
   "source": [
    "isw_df = pd.read_csv('data_analysis/isw_matrix_with_dates.csv')"
   ],
   "metadata": {
    "collapsed": false,
    "ExecuteTime": {
     "end_time": "2025-04-09T13:25:29.899769400Z",
     "start_time": "2025-04-09T13:25:24.596342300Z"
    }
   },
   "id": "bc21d8d056b0b2b8"
  },
  {
   "cell_type": "code",
   "execution_count": 59,
   "outputs": [
    {
     "data": {
      "text/plain": "   ability  able  access  accused  achieve  acknowledged  across  action  \\\n0      0.0   0.0     0.0      0.0      0.0           0.0     0.0     0.0   \n1      0.0   0.0     0.0      0.0      0.0           0.0     0.0     0.0   \n2      0.0   0.0     0.0      0.0      0.0           0.0     0.0     0.0   \n3      0.0   0.0     0.0      0.0      0.0           0.0     0.0     0.0   \n4      0.0   0.0     0.0      0.0      0.0           0.0     0.0     0.0   \n\n   active  actor  ...  year  yet  yevgeny  york  youth  zaporizhzhia  \\\n0     0.0    0.0  ...   0.0  0.0      0.0   0.0    0.0           0.0   \n1     0.0    0.0  ...   0.0  0.0      0.0   0.0    0.0           0.0   \n2     0.0    0.0  ...   0.0  0.0      0.0   0.0    0.0           0.0   \n3     0.0    0.0  ...   0.0  0.0      0.0   0.0    0.0           0.0   \n4     0.0    0.0  ...   0.0  0.0      0.0   0.0    0.0           0.0   \n\n   zelensky  znpp  zone         day_datetime  \n0       0.0   0.0   0.0  2022-02-25 00:00:00  \n1       0.0   0.0   0.0  2022-02-25 01:00:00  \n2       0.0   0.0   0.0  2022-02-25 02:00:00  \n3       0.0   0.0   0.0  2022-02-25 03:00:00  \n4       0.0   0.0   0.0  2022-02-25 04:00:00  \n\n[5 rows x 1001 columns]",
      "text/html": "<div>\n<style scoped>\n    .dataframe tbody tr th:only-of-type {\n        vertical-align: middle;\n    }\n\n    .dataframe tbody tr th {\n        vertical-align: top;\n    }\n\n    .dataframe thead th {\n        text-align: right;\n    }\n</style>\n<table border=\"1\" class=\"dataframe\">\n  <thead>\n    <tr style=\"text-align: right;\">\n      <th></th>\n      <th>ability</th>\n      <th>able</th>\n      <th>access</th>\n      <th>accused</th>\n      <th>achieve</th>\n      <th>acknowledged</th>\n      <th>across</th>\n      <th>action</th>\n      <th>active</th>\n      <th>actor</th>\n      <th>...</th>\n      <th>year</th>\n      <th>yet</th>\n      <th>yevgeny</th>\n      <th>york</th>\n      <th>youth</th>\n      <th>zaporizhzhia</th>\n      <th>zelensky</th>\n      <th>znpp</th>\n      <th>zone</th>\n      <th>day_datetime</th>\n    </tr>\n  </thead>\n  <tbody>\n    <tr>\n      <th>0</th>\n      <td>0.0</td>\n      <td>0.0</td>\n      <td>0.0</td>\n      <td>0.0</td>\n      <td>0.0</td>\n      <td>0.0</td>\n      <td>0.0</td>\n      <td>0.0</td>\n      <td>0.0</td>\n      <td>0.0</td>\n      <td>...</td>\n      <td>0.0</td>\n      <td>0.0</td>\n      <td>0.0</td>\n      <td>0.0</td>\n      <td>0.0</td>\n      <td>0.0</td>\n      <td>0.0</td>\n      <td>0.0</td>\n      <td>0.0</td>\n      <td>2022-02-25 00:00:00</td>\n    </tr>\n    <tr>\n      <th>1</th>\n      <td>0.0</td>\n      <td>0.0</td>\n      <td>0.0</td>\n      <td>0.0</td>\n      <td>0.0</td>\n      <td>0.0</td>\n      <td>0.0</td>\n      <td>0.0</td>\n      <td>0.0</td>\n      <td>0.0</td>\n      <td>...</td>\n      <td>0.0</td>\n      <td>0.0</td>\n      <td>0.0</td>\n      <td>0.0</td>\n      <td>0.0</td>\n      <td>0.0</td>\n      <td>0.0</td>\n      <td>0.0</td>\n      <td>0.0</td>\n      <td>2022-02-25 01:00:00</td>\n    </tr>\n    <tr>\n      <th>2</th>\n      <td>0.0</td>\n      <td>0.0</td>\n      <td>0.0</td>\n      <td>0.0</td>\n      <td>0.0</td>\n      <td>0.0</td>\n      <td>0.0</td>\n      <td>0.0</td>\n      <td>0.0</td>\n      <td>0.0</td>\n      <td>...</td>\n      <td>0.0</td>\n      <td>0.0</td>\n      <td>0.0</td>\n      <td>0.0</td>\n      <td>0.0</td>\n      <td>0.0</td>\n      <td>0.0</td>\n      <td>0.0</td>\n      <td>0.0</td>\n      <td>2022-02-25 02:00:00</td>\n    </tr>\n    <tr>\n      <th>3</th>\n      <td>0.0</td>\n      <td>0.0</td>\n      <td>0.0</td>\n      <td>0.0</td>\n      <td>0.0</td>\n      <td>0.0</td>\n      <td>0.0</td>\n      <td>0.0</td>\n      <td>0.0</td>\n      <td>0.0</td>\n      <td>...</td>\n      <td>0.0</td>\n      <td>0.0</td>\n      <td>0.0</td>\n      <td>0.0</td>\n      <td>0.0</td>\n      <td>0.0</td>\n      <td>0.0</td>\n      <td>0.0</td>\n      <td>0.0</td>\n      <td>2022-02-25 03:00:00</td>\n    </tr>\n    <tr>\n      <th>4</th>\n      <td>0.0</td>\n      <td>0.0</td>\n      <td>0.0</td>\n      <td>0.0</td>\n      <td>0.0</td>\n      <td>0.0</td>\n      <td>0.0</td>\n      <td>0.0</td>\n      <td>0.0</td>\n      <td>0.0</td>\n      <td>...</td>\n      <td>0.0</td>\n      <td>0.0</td>\n      <td>0.0</td>\n      <td>0.0</td>\n      <td>0.0</td>\n      <td>0.0</td>\n      <td>0.0</td>\n      <td>0.0</td>\n      <td>0.0</td>\n      <td>2022-02-25 04:00:00</td>\n    </tr>\n  </tbody>\n</table>\n<p>5 rows × 1001 columns</p>\n</div>"
     },
     "execution_count": 59,
     "metadata": {},
     "output_type": "execute_result"
    }
   ],
   "source": [
    "isw_df.head()"
   ],
   "metadata": {
    "collapsed": false,
    "ExecuteTime": {
     "end_time": "2025-04-09T13:43:08.461803900Z",
     "start_time": "2025-04-09T13:43:08.347816100Z"
    }
   },
   "id": "4f445053e35f7f59"
  },
  {
   "cell_type": "code",
   "execution_count": 61,
   "outputs": [],
   "source": [
    "weather_copy['datetime'] = pd.to_datetime(\n",
    "    weather_copy['day_datetime'].astype(str) + ' ' + weather_copy['hour_datetime'].astype(str),\n",
    "    format='%Y-%m-%d %H:%M:%S'\n",
    ")"
   ],
   "metadata": {
    "collapsed": false,
    "ExecuteTime": {
     "end_time": "2025-04-09T13:47:32.342104400Z",
     "start_time": "2025-04-09T13:47:30.986831400Z"
    }
   },
   "id": "bac31a1e71927f45"
  },
  {
   "cell_type": "code",
   "execution_count": 62,
   "outputs": [
    {
     "data": {
      "text/plain": "            city_resolvedAddress day_datetime  day_datetimeEpoch  day_tempmax  \\\n0  Луцьк, Луцький район, Україна   2022-02-24         1645653600          4.9   \n1  Луцьк, Луцький район, Україна   2022-02-24         1645653600          4.9   \n2  Луцьк, Луцький район, Україна   2022-02-24         1645653600          4.9   \n3  Луцьк, Луцький район, Україна   2022-02-24         1645653600          4.9   \n4  Луцьк, Луцький район, Україна   2022-02-24         1645653600          4.9   \n\n   day_tempmin  day_temp  day_dew  day_humidity  day_precip  day_precipcover  \\\n0          0.7       2.6      0.0          83.7       0.118             4.17   \n1          0.7       2.6      0.0          83.7       0.118             4.17   \n2          0.7       2.6      0.0          83.7       0.118             4.17   \n3          0.7       2.6      0.0          83.7       0.118             4.17   \n4          0.7       2.6      0.0          83.7       0.118             4.17   \n\n   ...  event_end  event_start_hour  event_end_hour event_date  \\\n0  ...        NaT               NaT             NaT        NaN   \n1  ...        NaT               NaT             NaT        NaN   \n2  ...        NaT               NaT             NaT        NaN   \n3  ...        NaT               NaT             NaT        NaN   \n4  ...        NaT               NaT             NaT        NaN   \n\n  event_startepoch  event_endepoch event_hour_level_event_time  \\\n0              NaN             NaN                         NaT   \n1              NaN             NaN                         NaT   \n2              NaN             NaN                         NaT   \n3              NaN             NaN                         NaT   \n4              NaN             NaN                         NaT   \n\n   event_hourlevelepoch  event_region_title            datetime  \n0                   NaN                 NaN 2022-02-24 00:00:00  \n1                   NaN                 NaN 2022-02-24 01:00:00  \n2                   NaN                 NaN 2022-02-24 02:00:00  \n3                   NaN                 NaN 2022-02-24 03:00:00  \n4                   NaN                 NaN 2022-02-24 04:00:00  \n\n[5 rows x 55 columns]",
      "text/html": "<div>\n<style scoped>\n    .dataframe tbody tr th:only-of-type {\n        vertical-align: middle;\n    }\n\n    .dataframe tbody tr th {\n        vertical-align: top;\n    }\n\n    .dataframe thead th {\n        text-align: right;\n    }\n</style>\n<table border=\"1\" class=\"dataframe\">\n  <thead>\n    <tr style=\"text-align: right;\">\n      <th></th>\n      <th>city_resolvedAddress</th>\n      <th>day_datetime</th>\n      <th>day_datetimeEpoch</th>\n      <th>day_tempmax</th>\n      <th>day_tempmin</th>\n      <th>day_temp</th>\n      <th>day_dew</th>\n      <th>day_humidity</th>\n      <th>day_precip</th>\n      <th>day_precipcover</th>\n      <th>...</th>\n      <th>event_end</th>\n      <th>event_start_hour</th>\n      <th>event_end_hour</th>\n      <th>event_date</th>\n      <th>event_startepoch</th>\n      <th>event_endepoch</th>\n      <th>event_hour_level_event_time</th>\n      <th>event_hourlevelepoch</th>\n      <th>event_region_title</th>\n      <th>datetime</th>\n    </tr>\n  </thead>\n  <tbody>\n    <tr>\n      <th>0</th>\n      <td>Луцьк, Луцький район, Україна</td>\n      <td>2022-02-24</td>\n      <td>1645653600</td>\n      <td>4.9</td>\n      <td>0.7</td>\n      <td>2.6</td>\n      <td>0.0</td>\n      <td>83.7</td>\n      <td>0.118</td>\n      <td>4.17</td>\n      <td>...</td>\n      <td>NaT</td>\n      <td>NaT</td>\n      <td>NaT</td>\n      <td>NaN</td>\n      <td>NaN</td>\n      <td>NaN</td>\n      <td>NaT</td>\n      <td>NaN</td>\n      <td>NaN</td>\n      <td>2022-02-24 00:00:00</td>\n    </tr>\n    <tr>\n      <th>1</th>\n      <td>Луцьк, Луцький район, Україна</td>\n      <td>2022-02-24</td>\n      <td>1645653600</td>\n      <td>4.9</td>\n      <td>0.7</td>\n      <td>2.6</td>\n      <td>0.0</td>\n      <td>83.7</td>\n      <td>0.118</td>\n      <td>4.17</td>\n      <td>...</td>\n      <td>NaT</td>\n      <td>NaT</td>\n      <td>NaT</td>\n      <td>NaN</td>\n      <td>NaN</td>\n      <td>NaN</td>\n      <td>NaT</td>\n      <td>NaN</td>\n      <td>NaN</td>\n      <td>2022-02-24 01:00:00</td>\n    </tr>\n    <tr>\n      <th>2</th>\n      <td>Луцьк, Луцький район, Україна</td>\n      <td>2022-02-24</td>\n      <td>1645653600</td>\n      <td>4.9</td>\n      <td>0.7</td>\n      <td>2.6</td>\n      <td>0.0</td>\n      <td>83.7</td>\n      <td>0.118</td>\n      <td>4.17</td>\n      <td>...</td>\n      <td>NaT</td>\n      <td>NaT</td>\n      <td>NaT</td>\n      <td>NaN</td>\n      <td>NaN</td>\n      <td>NaN</td>\n      <td>NaT</td>\n      <td>NaN</td>\n      <td>NaN</td>\n      <td>2022-02-24 02:00:00</td>\n    </tr>\n    <tr>\n      <th>3</th>\n      <td>Луцьк, Луцький район, Україна</td>\n      <td>2022-02-24</td>\n      <td>1645653600</td>\n      <td>4.9</td>\n      <td>0.7</td>\n      <td>2.6</td>\n      <td>0.0</td>\n      <td>83.7</td>\n      <td>0.118</td>\n      <td>4.17</td>\n      <td>...</td>\n      <td>NaT</td>\n      <td>NaT</td>\n      <td>NaT</td>\n      <td>NaN</td>\n      <td>NaN</td>\n      <td>NaN</td>\n      <td>NaT</td>\n      <td>NaN</td>\n      <td>NaN</td>\n      <td>2022-02-24 03:00:00</td>\n    </tr>\n    <tr>\n      <th>4</th>\n      <td>Луцьк, Луцький район, Україна</td>\n      <td>2022-02-24</td>\n      <td>1645653600</td>\n      <td>4.9</td>\n      <td>0.7</td>\n      <td>2.6</td>\n      <td>0.0</td>\n      <td>83.7</td>\n      <td>0.118</td>\n      <td>4.17</td>\n      <td>...</td>\n      <td>NaT</td>\n      <td>NaT</td>\n      <td>NaT</td>\n      <td>NaN</td>\n      <td>NaN</td>\n      <td>NaN</td>\n      <td>NaT</td>\n      <td>NaN</td>\n      <td>NaN</td>\n      <td>2022-02-24 04:00:00</td>\n    </tr>\n  </tbody>\n</table>\n<p>5 rows × 55 columns</p>\n</div>"
     },
     "execution_count": 62,
     "metadata": {},
     "output_type": "execute_result"
    }
   ],
   "source": [
    "weather_copy.head()"
   ],
   "metadata": {
    "collapsed": false,
    "ExecuteTime": {
     "end_time": "2025-04-09T13:47:57.904156800Z",
     "start_time": "2025-04-09T13:47:57.844007Z"
    }
   },
   "id": "be8e6a0ddf1920ca"
  },
  {
   "cell_type": "code",
   "execution_count": 63,
   "outputs": [
    {
     "ename": "ValueError",
     "evalue": "You are trying to merge on datetime64[ns] and object columns for key 'day_datetime'. If you wish to proceed you should use pd.concat",
     "output_type": "error",
     "traceback": [
      "\u001B[1;31m---------------------------------------------------------------------------\u001B[0m",
      "\u001B[1;31mValueError\u001B[0m                                Traceback (most recent call last)",
      "Cell \u001B[1;32mIn[63], line 1\u001B[0m\n\u001B[1;32m----> 1\u001B[0m final_merged \u001B[38;5;241m=\u001B[39m \u001B[43mweather_copy\u001B[49m\u001B[38;5;241;43m.\u001B[39;49m\u001B[43mmerge\u001B[49m\u001B[43m(\u001B[49m\u001B[43misw_df\u001B[49m\u001B[43m,\u001B[49m\n\u001B[0;32m      2\u001B[0m \u001B[43m                                 \u001B[49m\u001B[43mhow\u001B[49m\u001B[38;5;241;43m=\u001B[39;49m\u001B[38;5;124;43m\"\u001B[39;49m\u001B[38;5;124;43mleft\u001B[39;49m\u001B[38;5;124;43m\"\u001B[39;49m\u001B[43m,\u001B[49m\n\u001B[0;32m      3\u001B[0m \u001B[43m                                 \u001B[49m\u001B[43mleft_on\u001B[49m\u001B[38;5;241;43m=\u001B[39;49m\u001B[43m[\u001B[49m\u001B[38;5;124;43m\"\u001B[39;49m\u001B[38;5;124;43mday_datetime\u001B[39;49m\u001B[38;5;124;43m\"\u001B[39;49m\u001B[43m]\u001B[49m\u001B[43m,\u001B[49m\n\u001B[0;32m      4\u001B[0m \u001B[43m                                 \u001B[49m\u001B[43mright_on\u001B[49m\u001B[38;5;241;43m=\u001B[39;49m\u001B[43m[\u001B[49m\u001B[38;5;124;43m\"\u001B[39;49m\u001B[38;5;124;43mday_datetime\u001B[39;49m\u001B[38;5;124;43m\"\u001B[39;49m\u001B[43m]\u001B[49m\u001B[43m)\u001B[49m\n",
      "File \u001B[1;32m~\\PycharmProjects\\python_for_ds_v1\\venv\\lib\\site-packages\\pandas\\core\\frame.py:10832\u001B[0m, in \u001B[0;36mDataFrame.merge\u001B[1;34m(self, right, how, on, left_on, right_on, left_index, right_index, sort, suffixes, copy, indicator, validate)\u001B[0m\n\u001B[0;32m  10813\u001B[0m \u001B[38;5;129m@Substitution\u001B[39m(\u001B[38;5;124m\"\u001B[39m\u001B[38;5;124m\"\u001B[39m)\n\u001B[0;32m  10814\u001B[0m \u001B[38;5;129m@Appender\u001B[39m(_merge_doc, indents\u001B[38;5;241m=\u001B[39m\u001B[38;5;241m2\u001B[39m)\n\u001B[0;32m  10815\u001B[0m \u001B[38;5;28;01mdef\u001B[39;00m\u001B[38;5;250m \u001B[39m\u001B[38;5;21mmerge\u001B[39m(\n\u001B[1;32m   (...)\u001B[0m\n\u001B[0;32m  10828\u001B[0m     validate: MergeValidate \u001B[38;5;241m|\u001B[39m \u001B[38;5;28;01mNone\u001B[39;00m \u001B[38;5;241m=\u001B[39m \u001B[38;5;28;01mNone\u001B[39;00m,\n\u001B[0;32m  10829\u001B[0m ) \u001B[38;5;241m-\u001B[39m\u001B[38;5;241m>\u001B[39m DataFrame:\n\u001B[0;32m  10830\u001B[0m     \u001B[38;5;28;01mfrom\u001B[39;00m\u001B[38;5;250m \u001B[39m\u001B[38;5;21;01mpandas\u001B[39;00m\u001B[38;5;21;01m.\u001B[39;00m\u001B[38;5;21;01mcore\u001B[39;00m\u001B[38;5;21;01m.\u001B[39;00m\u001B[38;5;21;01mreshape\u001B[39;00m\u001B[38;5;21;01m.\u001B[39;00m\u001B[38;5;21;01mmerge\u001B[39;00m\u001B[38;5;250m \u001B[39m\u001B[38;5;28;01mimport\u001B[39;00m merge\n\u001B[1;32m> 10832\u001B[0m     \u001B[38;5;28;01mreturn\u001B[39;00m \u001B[43mmerge\u001B[49m\u001B[43m(\u001B[49m\n\u001B[0;32m  10833\u001B[0m \u001B[43m        \u001B[49m\u001B[38;5;28;43mself\u001B[39;49m\u001B[43m,\u001B[49m\n\u001B[0;32m  10834\u001B[0m \u001B[43m        \u001B[49m\u001B[43mright\u001B[49m\u001B[43m,\u001B[49m\n\u001B[0;32m  10835\u001B[0m \u001B[43m        \u001B[49m\u001B[43mhow\u001B[49m\u001B[38;5;241;43m=\u001B[39;49m\u001B[43mhow\u001B[49m\u001B[43m,\u001B[49m\n\u001B[0;32m  10836\u001B[0m \u001B[43m        \u001B[49m\u001B[43mon\u001B[49m\u001B[38;5;241;43m=\u001B[39;49m\u001B[43mon\u001B[49m\u001B[43m,\u001B[49m\n\u001B[0;32m  10837\u001B[0m \u001B[43m        \u001B[49m\u001B[43mleft_on\u001B[49m\u001B[38;5;241;43m=\u001B[39;49m\u001B[43mleft_on\u001B[49m\u001B[43m,\u001B[49m\n\u001B[0;32m  10838\u001B[0m \u001B[43m        \u001B[49m\u001B[43mright_on\u001B[49m\u001B[38;5;241;43m=\u001B[39;49m\u001B[43mright_on\u001B[49m\u001B[43m,\u001B[49m\n\u001B[0;32m  10839\u001B[0m \u001B[43m        \u001B[49m\u001B[43mleft_index\u001B[49m\u001B[38;5;241;43m=\u001B[39;49m\u001B[43mleft_index\u001B[49m\u001B[43m,\u001B[49m\n\u001B[0;32m  10840\u001B[0m \u001B[43m        \u001B[49m\u001B[43mright_index\u001B[49m\u001B[38;5;241;43m=\u001B[39;49m\u001B[43mright_index\u001B[49m\u001B[43m,\u001B[49m\n\u001B[0;32m  10841\u001B[0m \u001B[43m        \u001B[49m\u001B[43msort\u001B[49m\u001B[38;5;241;43m=\u001B[39;49m\u001B[43msort\u001B[49m\u001B[43m,\u001B[49m\n\u001B[0;32m  10842\u001B[0m \u001B[43m        \u001B[49m\u001B[43msuffixes\u001B[49m\u001B[38;5;241;43m=\u001B[39;49m\u001B[43msuffixes\u001B[49m\u001B[43m,\u001B[49m\n\u001B[0;32m  10843\u001B[0m \u001B[43m        \u001B[49m\u001B[43mcopy\u001B[49m\u001B[38;5;241;43m=\u001B[39;49m\u001B[43mcopy\u001B[49m\u001B[43m,\u001B[49m\n\u001B[0;32m  10844\u001B[0m \u001B[43m        \u001B[49m\u001B[43mindicator\u001B[49m\u001B[38;5;241;43m=\u001B[39;49m\u001B[43mindicator\u001B[49m\u001B[43m,\u001B[49m\n\u001B[0;32m  10845\u001B[0m \u001B[43m        \u001B[49m\u001B[43mvalidate\u001B[49m\u001B[38;5;241;43m=\u001B[39;49m\u001B[43mvalidate\u001B[49m\u001B[43m,\u001B[49m\n\u001B[0;32m  10846\u001B[0m \u001B[43m    \u001B[49m\u001B[43m)\u001B[49m\n",
      "File \u001B[1;32m~\\PycharmProjects\\python_for_ds_v1\\venv\\lib\\site-packages\\pandas\\core\\reshape\\merge.py:170\u001B[0m, in \u001B[0;36mmerge\u001B[1;34m(left, right, how, on, left_on, right_on, left_index, right_index, sort, suffixes, copy, indicator, validate)\u001B[0m\n\u001B[0;32m    155\u001B[0m     \u001B[38;5;28;01mreturn\u001B[39;00m _cross_merge(\n\u001B[0;32m    156\u001B[0m         left_df,\n\u001B[0;32m    157\u001B[0m         right_df,\n\u001B[1;32m   (...)\u001B[0m\n\u001B[0;32m    167\u001B[0m         copy\u001B[38;5;241m=\u001B[39mcopy,\n\u001B[0;32m    168\u001B[0m     )\n\u001B[0;32m    169\u001B[0m \u001B[38;5;28;01melse\u001B[39;00m:\n\u001B[1;32m--> 170\u001B[0m     op \u001B[38;5;241m=\u001B[39m \u001B[43m_MergeOperation\u001B[49m\u001B[43m(\u001B[49m\n\u001B[0;32m    171\u001B[0m \u001B[43m        \u001B[49m\u001B[43mleft_df\u001B[49m\u001B[43m,\u001B[49m\n\u001B[0;32m    172\u001B[0m \u001B[43m        \u001B[49m\u001B[43mright_df\u001B[49m\u001B[43m,\u001B[49m\n\u001B[0;32m    173\u001B[0m \u001B[43m        \u001B[49m\u001B[43mhow\u001B[49m\u001B[38;5;241;43m=\u001B[39;49m\u001B[43mhow\u001B[49m\u001B[43m,\u001B[49m\n\u001B[0;32m    174\u001B[0m \u001B[43m        \u001B[49m\u001B[43mon\u001B[49m\u001B[38;5;241;43m=\u001B[39;49m\u001B[43mon\u001B[49m\u001B[43m,\u001B[49m\n\u001B[0;32m    175\u001B[0m \u001B[43m        \u001B[49m\u001B[43mleft_on\u001B[49m\u001B[38;5;241;43m=\u001B[39;49m\u001B[43mleft_on\u001B[49m\u001B[43m,\u001B[49m\n\u001B[0;32m    176\u001B[0m \u001B[43m        \u001B[49m\u001B[43mright_on\u001B[49m\u001B[38;5;241;43m=\u001B[39;49m\u001B[43mright_on\u001B[49m\u001B[43m,\u001B[49m\n\u001B[0;32m    177\u001B[0m \u001B[43m        \u001B[49m\u001B[43mleft_index\u001B[49m\u001B[38;5;241;43m=\u001B[39;49m\u001B[43mleft_index\u001B[49m\u001B[43m,\u001B[49m\n\u001B[0;32m    178\u001B[0m \u001B[43m        \u001B[49m\u001B[43mright_index\u001B[49m\u001B[38;5;241;43m=\u001B[39;49m\u001B[43mright_index\u001B[49m\u001B[43m,\u001B[49m\n\u001B[0;32m    179\u001B[0m \u001B[43m        \u001B[49m\u001B[43msort\u001B[49m\u001B[38;5;241;43m=\u001B[39;49m\u001B[43msort\u001B[49m\u001B[43m,\u001B[49m\n\u001B[0;32m    180\u001B[0m \u001B[43m        \u001B[49m\u001B[43msuffixes\u001B[49m\u001B[38;5;241;43m=\u001B[39;49m\u001B[43msuffixes\u001B[49m\u001B[43m,\u001B[49m\n\u001B[0;32m    181\u001B[0m \u001B[43m        \u001B[49m\u001B[43mindicator\u001B[49m\u001B[38;5;241;43m=\u001B[39;49m\u001B[43mindicator\u001B[49m\u001B[43m,\u001B[49m\n\u001B[0;32m    182\u001B[0m \u001B[43m        \u001B[49m\u001B[43mvalidate\u001B[49m\u001B[38;5;241;43m=\u001B[39;49m\u001B[43mvalidate\u001B[49m\u001B[43m,\u001B[49m\n\u001B[0;32m    183\u001B[0m \u001B[43m    \u001B[49m\u001B[43m)\u001B[49m\n\u001B[0;32m    184\u001B[0m     \u001B[38;5;28;01mreturn\u001B[39;00m op\u001B[38;5;241m.\u001B[39mget_result(copy\u001B[38;5;241m=\u001B[39mcopy)\n",
      "File \u001B[1;32m~\\PycharmProjects\\python_for_ds_v1\\venv\\lib\\site-packages\\pandas\\core\\reshape\\merge.py:807\u001B[0m, in \u001B[0;36m_MergeOperation.__init__\u001B[1;34m(self, left, right, how, on, left_on, right_on, left_index, right_index, sort, suffixes, indicator, validate)\u001B[0m\n\u001B[0;32m    803\u001B[0m \u001B[38;5;28mself\u001B[39m\u001B[38;5;241m.\u001B[39m_validate_tolerance(\u001B[38;5;28mself\u001B[39m\u001B[38;5;241m.\u001B[39mleft_join_keys)\n\u001B[0;32m    805\u001B[0m \u001B[38;5;66;03m# validate the merge keys dtypes. We may need to coerce\u001B[39;00m\n\u001B[0;32m    806\u001B[0m \u001B[38;5;66;03m# to avoid incompatible dtypes\u001B[39;00m\n\u001B[1;32m--> 807\u001B[0m \u001B[38;5;28;43mself\u001B[39;49m\u001B[38;5;241;43m.\u001B[39;49m\u001B[43m_maybe_coerce_merge_keys\u001B[49m\u001B[43m(\u001B[49m\u001B[43m)\u001B[49m\n\u001B[0;32m    809\u001B[0m \u001B[38;5;66;03m# If argument passed to validate,\u001B[39;00m\n\u001B[0;32m    810\u001B[0m \u001B[38;5;66;03m# check if columns specified as unique\u001B[39;00m\n\u001B[0;32m    811\u001B[0m \u001B[38;5;66;03m# are in fact unique.\u001B[39;00m\n\u001B[0;32m    812\u001B[0m \u001B[38;5;28;01mif\u001B[39;00m validate \u001B[38;5;129;01mis\u001B[39;00m \u001B[38;5;129;01mnot\u001B[39;00m \u001B[38;5;28;01mNone\u001B[39;00m:\n",
      "File \u001B[1;32m~\\PycharmProjects\\python_for_ds_v1\\venv\\lib\\site-packages\\pandas\\core\\reshape\\merge.py:1512\u001B[0m, in \u001B[0;36m_MergeOperation._maybe_coerce_merge_keys\u001B[1;34m(self)\u001B[0m\n\u001B[0;32m   1510\u001B[0m \u001B[38;5;66;03m# datetimelikes must match exactly\u001B[39;00m\n\u001B[0;32m   1511\u001B[0m \u001B[38;5;28;01melif\u001B[39;00m needs_i8_conversion(lk\u001B[38;5;241m.\u001B[39mdtype) \u001B[38;5;129;01mand\u001B[39;00m \u001B[38;5;129;01mnot\u001B[39;00m needs_i8_conversion(rk\u001B[38;5;241m.\u001B[39mdtype):\n\u001B[1;32m-> 1512\u001B[0m     \u001B[38;5;28;01mraise\u001B[39;00m \u001B[38;5;167;01mValueError\u001B[39;00m(msg)\n\u001B[0;32m   1513\u001B[0m \u001B[38;5;28;01melif\u001B[39;00m \u001B[38;5;129;01mnot\u001B[39;00m needs_i8_conversion(lk\u001B[38;5;241m.\u001B[39mdtype) \u001B[38;5;129;01mand\u001B[39;00m needs_i8_conversion(rk\u001B[38;5;241m.\u001B[39mdtype):\n\u001B[0;32m   1514\u001B[0m     \u001B[38;5;28;01mraise\u001B[39;00m \u001B[38;5;167;01mValueError\u001B[39;00m(msg)\n",
      "\u001B[1;31mValueError\u001B[0m: You are trying to merge on datetime64[ns] and object columns for key 'day_datetime'. If you wish to proceed you should use pd.concat"
     ]
    }
   ],
   "source": [
    "final_merged = weather_copy.merge(isw_df,\n",
    "                                 how=\"left\",\n",
    "                                 left_on=[\"day_datetime\"],\n",
    "                                 right_on=[\"day_datetime\"])"
   ],
   "metadata": {
    "collapsed": false,
    "ExecuteTime": {
     "end_time": "2025-04-09T13:48:04.929422700Z",
     "start_time": "2025-04-09T13:48:04.536059100Z"
    }
   },
   "id": "f19d7233466ce340"
  },
  {
   "cell_type": "code",
   "execution_count": 67,
   "outputs": [
    {
     "name": "stderr",
     "output_type": "stream",
     "text": [
      "C:\\Users\\Администратор\\AppData\\Local\\Temp\\ipykernel_1636\\498186737.py:3: FutureWarning: 'H' is deprecated and will be removed in a future version, please use 'h' instead.\n",
      "  weather_copy['merge_date'] = weather_copy['day_datetime'].dt.floor('H')\n",
      "C:\\Users\\Администратор\\AppData\\Local\\Temp\\ipykernel_1636\\498186737.py:4: FutureWarning: 'H' is deprecated and will be removed in a future version, please use 'h' instead.\n",
      "  isw_df['merge_date'] = isw_df['datetime_column'].dt.floor('H')\n"
     ]
    }
   ],
   "source": [
    "weather_copy['day_datetime'] = pd.to_datetime(weather_copy['day_datetime'])\n",
    "isw_df['datetime_column'] = pd.to_datetime(isw_df['day_datetime']) \n",
    "weather_copy['merge_date'] = weather_copy['day_datetime'].dt.floor('H')\n",
    "isw_df['merge_date'] = isw_df['datetime_column'].dt.floor('H')\n",
    "\n"
   ],
   "metadata": {
    "collapsed": false,
    "ExecuteTime": {
     "end_time": "2025-04-09T13:51:42.962681Z",
     "start_time": "2025-04-09T13:51:42.827799100Z"
    }
   },
   "id": "87c845e8b8e98ba1"
  },
  {
   "cell_type": "code",
   "execution_count": 1,
   "outputs": [
    {
     "ename": "NameError",
     "evalue": "name 'weather_copy' is not defined",
     "output_type": "error",
     "traceback": [
      "\u001B[1;31m---------------------------------------------------------------------------\u001B[0m",
      "\u001B[1;31mNameError\u001B[0m                                 Traceback (most recent call last)",
      "Cell \u001B[1;32mIn[1], line 1\u001B[0m\n\u001B[1;32m----> 1\u001B[0m final_merged \u001B[38;5;241m=\u001B[39m \u001B[43mweather_copy\u001B[49m\u001B[38;5;241m.\u001B[39mmerge(isw_df,\n\u001B[0;32m      2\u001B[0m                                   how\u001B[38;5;241m=\u001B[39m\u001B[38;5;124m\"\u001B[39m\u001B[38;5;124mleft\u001B[39m\u001B[38;5;124m\"\u001B[39m,\n\u001B[0;32m      3\u001B[0m                                   left_on\u001B[38;5;241m=\u001B[39m[\u001B[38;5;124m'\u001B[39m\u001B[38;5;124mmerge_date\u001B[39m\u001B[38;5;124m'\u001B[39m],\n\u001B[0;32m      4\u001B[0m                                   right_on\u001B[38;5;241m=\u001B[39m[\u001B[38;5;124m'\u001B[39m\u001B[38;5;124mmerge_date\u001B[39m\u001B[38;5;124m'\u001B[39m])\n",
      "\u001B[1;31mNameError\u001B[0m: name 'weather_copy' is not defined"
     ]
    }
   ],
   "source": [
    "final_merged = weather_copy.merge(isw_df,\n",
    "                                  how=\"left\",\n",
    "                                  left_on=['merge_date'],\n",
    "                                  right_on=['merge_date'])\n",
    "\n",
    "\n"
   ],
   "metadata": {
    "collapsed": false,
    "ExecuteTime": {
     "end_time": "2025-04-09T13:56:16.569087500Z",
     "start_time": "2025-04-09T13:56:16.089190200Z"
    }
   },
   "id": "dc1dc1897d962219"
  },
  {
   "cell_type": "code",
   "execution_count": null,
   "outputs": [],
   "source": [],
   "metadata": {
    "collapsed": false
   },
   "id": "873afeab4fdfa1b6"
  }
 ],
 "metadata": {
  "kernelspec": {
   "display_name": "Python 3",
   "language": "python",
   "name": "python3"
  },
  "language_info": {
   "codemirror_mode": {
    "name": "ipython",
    "version": 2
   },
   "file_extension": ".py",
   "mimetype": "text/x-python",
   "name": "python",
   "nbconvert_exporter": "python",
   "pygments_lexer": "ipython2",
   "version": "2.7.6"
  }
 },
 "nbformat": 4,
 "nbformat_minor": 5
}
